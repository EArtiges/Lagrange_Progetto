{
 "cells": [
  {
   "cell_type": "code",
   "execution_count": 41,
   "metadata": {},
   "outputs": [],
   "source": [
    "import matplotlib.pyplot as plt\n",
    "import numpy as np"
   ]
  },
  {
   "cell_type": "code",
   "execution_count": 42,
   "metadata": {},
   "outputs": [
    {
     "data": {
      "text/plain": [
       "{1, 2, 3, 4, 5, 7, 10, 14, 17, 19, 20, 26}"
      ]
     },
     "execution_count": 42,
     "metadata": {},
     "output_type": "execute_result"
    }
   ],
   "source": [
    "F = open('termvectors_sampling_5topics.txt','r')\n",
    "#F = open('termvectors_sampling.txt','r')\n",
    "all_tv=[]\n",
    "for lines in F:\n",
    "    try:\n",
    "        if (lines[2]=='[' and lines[3]=='u'):\n",
    "            T=lines.split(', ')\n",
    "            T[0]= T[0][4:]\n",
    "            T[-1]= T[-1][:-3]\n",
    "            main_words=[t.replace(\"u'\",\"\") for t in T[0:3]]\n",
    "            main_words=[t.replace(\"'\",\"\") for t in main_words]\n",
    "            all_tv.append(set(main_words))\n",
    "        elif (lines[0]=='[' and lines[1]=='u'):\n",
    "            T=lines.split(', ')\n",
    "            T[0]= T[0][3:]\n",
    "            T[-1]= T[-1][:-3]\n",
    "            main_words=[t.replace(\"u'\",\"\") for t in T[0:3]]\n",
    "            main_words=[t.replace(\"'\",\"\") for t in main_words]\n",
    "            all_tv.append(set(main_words))\n",
    "    except IndexError:\n",
    "        pass\n",
    "F.close()\n",
    "\n",
    "termvectors_all=list(np.copy(all_tv))\n",
    "set_topics=[]\n",
    "occurences=[]\n",
    "while all_tv:\n",
    "    topic=all_tv.pop(0)\n",
    "    if topic in set_topics:\n",
    "        occurences[set_topics.index(topic)]+=1\n",
    "    else:\n",
    "        occurences.append(1)\n",
    "        set_topics.append(topic)\n",
    "set(occurences)\n"
   ]
  },
  {
   "cell_type": "code",
   "execution_count": 43,
   "metadata": {},
   "outputs": [
    {
     "data": {
      "image/png": "[encoded data removed]",
      "text/plain": [
       "<Figure size 432x288 with 1 Axes>"
      ]
     },
     "metadata": {
      "needs_background": "light"
     },
     "output_type": "display_data"
    },
    {
     "name": "stdout",
     "output_type": "stream",
     "text": [
      "19 set(['summer', 'happy', 'smil'])\n",
      "17 set(['art', 'artissim', 'contemporaryart'])\n",
      "14 set(['beautiful', 'happy', 'smil'])\n",
      "10 set(['natal', 'christmas', 'christmastre'])\n",
      "26 set(['natal', 'christmas', 'xmas'])\n",
      "20 set(['beautiful', 'summer', 'smil'])\n",
      "7 set(['piemont', 'art', 'torino\\\\xe8lamiacitt'])\n"
     ]
    }
   ],
   "source": [
    "plt.figure()\n",
    "plt.hist(occurences, bins=[i for i in xrange(max(occurences)+1)])\n",
    "plt.xlabel('Occurences in 40 runs')\n",
    "plt.xticks([i for i in xrange(max(occurences))])\n",
    "plt.ylabel('Number of term vectors occuring x times')\n",
    "plt.savefig('termvectors_sampling_5topics_hist.pdf')\n",
    "plt.show()\n",
    "\n",
    "for s in set_topics:\n",
    "    if occurences[set_topics.index(s)]>6:\n",
    "        print occurences[set_topics.index(s)], s\n"
   ]
  },
  {
   "cell_type": "code",
   "execution_count": 44,
   "metadata": {},
   "outputs": [
    {
     "data": {
      "text/plain": [
       "[[26, {'christmas', 'natal', 'xmas'}],\n",
       " [20, {'beautiful', 'smil', 'summer'}],\n",
       " [19, {'happy', 'smil', 'summer'}],\n",
       " [17, {'art', 'artissim', 'contemporaryart'}],\n",
       " [14, {'beautiful', 'happy', 'smil'}],\n",
       " [10, {'christmas', 'christmastre', 'natal'}],\n",
       " [7, {'art', 'piemont', 'torino\\\\xe8lamiacitt'}],\n",
       " [5, {'art', 'night', 'piemont'}],\n",
       " [5, {'bestoftheday', 'happy', 'smil'}],\n",
       " [4, {'night', 'piemont', 'torino\\\\xe8lamiacitt'}]]"
      ]
     },
     "execution_count": 44,
     "metadata": {},
     "output_type": "execute_result"
    }
   ],
   "source": [
    "# Find the 10 most common topics in the sample.\n",
    "common_topics=[]\n",
    "occurences_sorted=sorted(occurences)[::-1]\n",
    "while(True):\n",
    "    o=occurences_sorted.pop(0)\n",
    "    top=set_topics.pop(occurences.index(o))\n",
    "    common_topics.append([o, top])\n",
    "    occurences.pop(occurences.index(o))\n",
    "    if len(common_topics)==10:\n",
    "        break\n",
    "common_topics\n",
    "# common_topics keeps track of the 10 most common term vectors in the sampled NTF version."
   ]
  },
  {
   "cell_type": "code",
   "execution_count": 38,
   "metadata": {},
   "outputs": [
    {
     "name": "stdout",
     "output_type": "stream",
     "text": [
      "beautiful 45\n",
      "summer 56\n",
      "art 43\n",
      "bell 9\n",
      "bestoftheday 11\n",
      "smil 77\n",
      "artissim 20\n",
      "christmas 43\n",
      "happy 50\n",
      "sempr 15\n",
      "contemporaryart 17\n",
      "christmastre 10\n",
      "torino\\xe8lamiacitt 22\n",
      "natal 42\n",
      "mol 11\n",
      "piemont 34\n",
      "night 24\n",
      "xmas 26\n"
     ]
    }
   ],
   "source": [
    "# Find the most degenerate words.\n",
    "words_occ=dict()\n",
    "for top in all_tv:\n",
    "    for word in top:\n",
    "        if word in words_occ.keys():\n",
    "            words_occ[word]+=1\n",
    "        else:\n",
    "            words_occ[word]=1\n",
    "for key in words_occ.keys():\n",
    "    if words_occ[key]>5:\n",
    "        print key, words_occ[key]"
   ]
  },
  {
   "cell_type": "code",
   "execution_count": 95,
   "metadata": {},
   "outputs": [
    {
     "data": {
      "text/plain": [
       "{1, 2, 3, 4, 5, 6, 7, 9, 10, 15}"
      ]
     },
     "execution_count": 95,
     "metadata": {},
     "output_type": "execute_result"
    }
   ],
   "source": [
    "all_tv=[]\n",
    "n_topics=5\n",
    "F=open('NMF_Topics_Def_5topics','r')\n",
    "#F=open('NMF_Topics_Def','r')\n",
    "for lines in F:\n",
    "    if lines[0]=='[' and lines[1]=='u':\n",
    "        T=lines.split(', ')\n",
    "        T[0]= T[0][3:]\n",
    "        T[-1]= T[-1][:-3]\n",
    "        main_words=[t.replace(\"u'\",\"\") for t in T[0:3]]\n",
    "        main_words=[t.replace(\"'\",\"\") for t in main_words]\n",
    "        #all_tv is a list of all the term vectors.\n",
    "        all_tv.append(set(main_words))     \n",
    "set_topics=[]\n",
    "occurences=[]\n",
    "\n",
    "monthly=[]\n",
    "NMF_TV=[]\n",
    "for i in xrange(len(all_tv)):\n",
    "    monthly.append(all_tv[i])\n",
    "    if (i+1)%n_topics==0:\n",
    "        NMF_TV.append(monthly)\n",
    "        monthly=[]\n",
    "all_tv2=np.copy(all_tv)\n",
    "while all_tv:\n",
    "    # Count the occurences for every term vectors(reduced to its 3 leading words)\n",
    "    topic=all_tv.pop(0)\n",
    "    if topic in set_topics:\n",
    "        occurences[set_topics.index(topic)]+=1\n",
    "    else:\n",
    "        occurences.append(1)\n",
    "        set_topics.append(topic)\n",
    "set(occurences)"
   ]
  },
  {
   "cell_type": "code",
   "execution_count": 96,
   "metadata": {},
   "outputs": [],
   "source": [
    "#Look for the most degenerate words\n",
    "words_occ=dict()\n",
    "for top in list(all_tv2):\n",
    "    for word in top:\n",
    "        if word in words_occ.keys():\n",
    "            words_occ[word]+=1\n",
    "        else:\n",
    "            words_occ[word]=1\n",
    "            \n",
    "words_deg=[]\n",
    "for key in words_occ.keys():\n",
    "    if words_occ[key]>5:\n",
    "        words_deg.append([key, words_occ[key]])\n",
    "from operator import itemgetter\n",
    "sorted(words_deg,key=itemgetter(1))[::-1]"
   ]
  },
  {
   "cell_type": "code",
   "execution_count": 97,
   "metadata": {},
   "outputs": [
    {
     "data": {
      "text/plain": [
       "[['natur', 40],\n",
       " ['smil', 35],\n",
       " ['dinner', 35],\n",
       " ['music', 33],\n",
       " ['fashion', 31],\n",
       " ['sush', 31],\n",
       " ['night', 27],\n",
       " ['sempr', 27],\n",
       " ['tatto', 24],\n",
       " ['gym', 24],\n",
       " ['ink', 23],\n",
       " ['sky', 23],\n",
       " ['fitness', 22],\n",
       " ['party', 21],\n",
       " ['iphones', 21],\n",
       " ['happy', 20],\n",
       " ['piemont', 19],\n",
       " ['bestoftheday', 19],\n",
       " ['summer', 19],\n",
       " ['architectur', 18],\n",
       " ['pizz', 18],\n",
       " ['cut', 17],\n",
       " ['workout', 16],\n",
       " ['beautiful', 16],\n",
       " ['po', 16],\n",
       " ['giorn', 15],\n",
       " ['graz', 15],\n",
       " ['yummy', 15],\n",
       " ['buon', 14],\n",
       " ['sun', 14],\n",
       " ['autumn', 13],\n",
       " ['concert', 13],\n",
       " ['liv', 11],\n",
       " ['spring', 11],\n",
       " ['amic', 10],\n",
       " ['art', 10],\n",
       " ['inked', 10],\n",
       " ['winter', 9],\n",
       " ['bell', 9],\n",
       " ['day', 9],\n",
       " ['natal', 9],\n",
       " ['sunset', 8],\n",
       " ['snow', 8],\n",
       " ['piazz', 8],\n",
       " ['parc', 8],\n",
       " ['autunn', 8],\n",
       " ['girl', 8],\n",
       " ['torino\\\\xe8lamiacitt', 8],\n",
       " ['superg', 7],\n",
       " ['iphon', 7],\n",
       " ['christmas', 7],\n",
       " ['new', 7],\n",
       " ['tattoos', 7],\n",
       " ['photography', 7],\n",
       " ['prim', 7],\n",
       " ['self', 6],\n",
       " ['cas', 6],\n",
       " ['eat', 6],\n",
       " ['training', 6],\n",
       " ['good', 6],\n",
       " ['ciel', 6]]"
      ]
     },
     "execution_count": 97,
     "metadata": {},
     "output_type": "execute_result"
    }
   ],
   "source": []
  },
  {
   "cell_type": "code",
   "execution_count": 98,
   "metadata": {},
   "outputs": [],
   "source": [
    "Ratio=[]\n",
    "for nmf in NMF_TV:\n",
    "    monthly_ratio=0\n",
    "    for n in nmf:\n",
    "        if n in [e[1] for e in common_topics]:\n",
    "            monthly_ratio+=1\n",
    "    Ratio.append(monthly_ratio)"
   ]
  },
  {
   "cell_type": "code",
   "execution_count": 100,
   "metadata": {},
   "outputs": [
    {
     "data": {
      "image/png": "[encoded data removed]",
      "text/plain": [
       "<Figure size 432x288 with 1 Axes>"
      ]
     },
     "metadata": {
      "needs_background": "light"
     },
     "output_type": "display_data"
    },
    {
     "data": {
      "image/png": "[encoded data removed]",
      "text/plain": [
       "<Figure size 432x288 with 1 Axes>"
      ]
     },
     "metadata": {
      "needs_background": "light"
     },
     "output_type": "display_data"
    },
    {
     "name": "stdout",
     "output_type": "stream",
     "text": [
      "4 set(['river', 'murazz', 'po'])\n",
      "6 set(['liv', 'music', 'concert'])\n",
      "5 set(['autumn', 'autunn', 'natur'])\n",
      "4 set(['cut', 'fashion', 'smil'])\n",
      "5 set(['natur', 'piemont', 'architectur'])\n",
      "15 set(['gym', 'workout', 'fitness'])\n",
      "9 set(['sush', 'dinner', 'pizz'])\n",
      "5 set(['tatuagg', 'tatto', 'ink'])\n",
      "5 set(['training', 'gym', 'fitness'])\n",
      "5 set(['graz', 'music', 'sempr'])\n",
      "7 set(['tattoos', 'tatto', 'ink'])\n",
      "10 set(['inked', 'tatto', 'ink'])\n"
     ]
    }
   ],
   "source": [
    "plt.figure()\n",
    "plt.hist(occurences, bins=[i for i in xrange(max(occurences)+1)])\n",
    "plt.xlabel('Occurences in 40 runs')\n",
    "plt.xticks([i for i in xrange(max(occurences))])\n",
    "plt.ylabel('Number of term vectors occuring x times')\n",
    "plt.savefig('termvectors_NMFnoMon_5topics_hist.pdf')\n",
    "plt.show()\n",
    "\n",
    "plt.figure()\n",
    "plt.scatter([i for i in xrange(len(NMF_TV))],Ratio)\n",
    "plt.ylabel('Common topics with sampled NTF')\n",
    "plt.xlabel('absolute month')\n",
    "plt.savefig('termvectors_common_NMFnoMon_sample.pdf')\n",
    "plt.show()\n",
    "plt.close()\n",
    "\n",
    "for s in set_topics:\n",
    "    if occurences[set_topics.index(s)]>3:\n",
    "        print occurences[set_topics.index(s)], s"
   ]
  },
  {
   "cell_type": "code",
   "execution_count": 101,
   "metadata": {},
   "outputs": [
    {
     "data": {
      "image/png": "[encoded data removed]",
      "text/plain": [
       "<Figure size 432x288 with 1 Axes>"
      ]
     },
     "metadata": {
      "needs_background": "light"
     },
     "output_type": "display_data"
    }
   ],
   "source": [
    "Ratio=[]\n",
    "for i in xrange(len(NMF_TV)-1):\n",
    "    monthly_ratio=0\n",
    "    for n in NMF_TV[i]:\n",
    "        if n in NMF_TV[i+1]:\n",
    "            monthly_ratio+=.2\n",
    "    Ratio.append(monthly_ratio)\n",
    "    \n",
    "plt.figure()\n",
    "plt.scatter([i for i in xrange(len(NMF_TV)-1)],Ratio)\n",
    "plt.xlabel('absolute month')\n",
    "plt.ylabel('normalized autocorrelation')\n",
    "plt.savefig('NMFnoMon_5topics_autocorrelation.pdf')\n",
    "plt.show()"
   ]
  },
  {
   "cell_type": "code",
   "execution_count": 102,
   "metadata": {},
   "outputs": [
    {
     "data": {
      "text/plain": [
       "[[15, {'fitness', 'gym', 'workout'}],\n",
       " [10, {'ink', 'inked', 'tatto'}],\n",
       " [9, {'dinner', 'pizz', 'sush'}],\n",
       " [7, {'ink', 'tatto', 'tattoos'}],\n",
       " [6, {'concert', 'liv', 'music'}],\n",
       " [5, {'autumn', 'autunn', 'natur'}],\n",
       " [5, {'architectur', 'natur', 'piemont'}],\n",
       " [5, {'ink', 'tatto', 'tatuagg'}],\n",
       " [5, {'fitness', 'gym', 'training'}],\n",
       " [5, {'graz', 'music', 'sempr'}]]"
      ]
     },
     "execution_count": 102,
     "metadata": {},
     "output_type": "execute_result"
    }
   ],
   "source": [
    "# Find the 10 most common topics in the sample.\n",
    "common_topics_nmf=[]\n",
    "occurences_sorted=sorted(occurences)[::-1]\n",
    "while(True):\n",
    "    o=occurences_sorted.pop(0)\n",
    "    top=set_topics.pop(occurences.index(o))\n",
    "    common_topics_nmf.append([o, top])\n",
    "    occurences.pop(occurences.index(o))\n",
    "    if len(common_topics_nmf)==10:\n",
    "        break\n",
    "common_topics_nmf\n",
    "# common_topics keeps track of the 10 most common term vectors in the sampled NTF version."
   ]
  },
  {
   "cell_type": "code",
   "execution_count": 103,
   "metadata": {},
   "outputs": [
    {
     "data": {
      "text/plain": [
       "{1, 2, 3, 4, 5, 7, 8, 10, 16}"
      ]
     },
     "execution_count": 103,
     "metadata": {},
     "output_type": "execute_result"
    }
   ],
   "source": [
    "all_tv=[]\n",
    "F=open('NMF_Topics_Def_Mon_5topics','r')\n",
    "n_topics=5\n",
    "#F=open('NMF_Topics_Def_Mon','r')\n",
    "for lines in F:\n",
    "    if lines[0]=='[' and lines[1]=='u':\n",
    "        T=lines.split(', ')\n",
    "        T[0]= T[0][3:]\n",
    "        T[-1]= T[-1][:-3]\n",
    "        main_words=[t.replace(\"u'\",\"\") for t in T[0:3]]\n",
    "        main_words=[t.replace(\"'\",\"\") for t in main_words]\n",
    "        all_tv.append(set(main_words))\n",
    "set_topics=[]\n",
    "occurences=[]\n",
    "\n",
    "monthly=[]\n",
    "NMF_TV_Mon=[]\n",
    "for i in xrange(len(all_tv)):\n",
    "    monthly.append(all_tv[i])\n",
    "    if (i+1)%n_topics==0:\n",
    "        NMF_TV_Mon.append(monthly)\n",
    "        monthly=[]\n",
    "\n",
    "while all_tv:\n",
    "    topic=all_tv.pop(0)\n",
    "    if topic in set_topics:\n",
    "        occurences[set_topics.index(topic)]+=1\n",
    "    else:\n",
    "        occurences.append(1)\n",
    "        set_topics.append(topic)\n",
    "set(occurences)\n"
   ]
  },
  {
   "cell_type": "code",
   "execution_count": 105,
   "metadata": {},
   "outputs": [
    {
     "data": {
      "image/png": "[encoded data removed]",
      "text/plain": [
       "<Figure size 432x288 with 1 Axes>"
      ]
     },
     "metadata": {
      "needs_background": "light"
     },
     "output_type": "display_data"
    },
    {
     "data": {
      "image/png": "[encoded data removed]",
      "text/plain": [
       "<Figure size 432x288 with 1 Axes>"
      ]
     },
     "metadata": {
      "needs_background": "light"
     },
     "output_type": "display_data"
    },
    {
     "name": "stdout",
     "output_type": "stream",
     "text": [
      "16 set(['gym', 'workout', 'fitness'])\n",
      "8 set(['piemont', 'torino\\\\xe8lamiacitt', 'architectur'])\n",
      "4 set(['sush', 'yummy', 'pizz'])\n",
      "5 set(['tatuagg', 'tatto', 'ink'])\n",
      "4 set(['party', 'cut', 'happy'])\n",
      "8 set(['tattoos', 'tatto', 'ink'])\n",
      "7 set(['training', 'gym', 'fitness'])\n",
      "10 set(['inked', 'tatto', 'ink'])\n"
     ]
    }
   ],
   "source": [
    "Ratio=[]\n",
    "for nmf in NMF_TV_Mon:\n",
    "    monthly_ratio=0\n",
    "    for n in nmf:\n",
    "        if n in [e[1] for e in common_topics]:\n",
    "            monthly_ratio+=1\n",
    "    Ratio.append(monthly_ratio)\n",
    "\n",
    "plt.figure()\n",
    "plt.hist(occurences, bins=[i for i in xrange(max(occurences)+1)])\n",
    "plt.xlabel('Occurences in 40 runs')\n",
    "plt.xticks([i for i in xrange(max(occurences))])\n",
    "plt.ylabel('Number of term vectors occuring x times')\n",
    "plt.savefig('termvectors_NMF_5topics_hist.pdf')\n",
    "plt.show()\n",
    "\n",
    "plt.figure()\n",
    "plt.scatter([i for i in xrange(len(NMF_TV_Mon))],Ratio)\n",
    "plt.ylabel('Common topics with sampled NTF')\n",
    "plt.xlabel('absolute month')\n",
    "plt.savefig('termvectors_common_NMF_sample.pdf')\n",
    "plt.show()\n",
    "plt.close()\n",
    "\n",
    "for s in set_topics:\n",
    "    if occurences[set_topics.index(s)]>3:\n",
    "        print occurences[set_topics.index(s)], s"
   ]
  },
  {
   "cell_type": "code",
   "execution_count": 106,
   "metadata": {},
   "outputs": [
    {
     "data": {
      "text/plain": [
       "[[16, {'fitness', 'gym', 'workout'}],\n",
       " [10, {'ink', 'inked', 'tatto'}],\n",
       " [8, {'architectur', 'piemont', 'torino\\\\xe8lamiacitt'}],\n",
       " [8, {'ink', 'tatto', 'tattoos'}],\n",
       " [7, {'fitness', 'gym', 'training'}],\n",
       " [5, {'ink', 'tatto', 'tatuagg'}],\n",
       " [4, {'pizz', 'sush', 'yummy'}],\n",
       " [4, {'cut', 'happy', 'party'}],\n",
       " [3, {'bestoftheday', 'iphon', 'iphones'}],\n",
       " [3, {'murazz', 'po', 'river'}]]"
      ]
     },
     "execution_count": 106,
     "metadata": {},
     "output_type": "execute_result"
    }
   ],
   "source": [
    "# Find the 10 most common topics in the sample.\n",
    "common_topics_nmf_mon=[]\n",
    "occurences_sorted=sorted(occurences)[::-1]\n",
    "while(True):\n",
    "    o=occurences_sorted.pop(0)\n",
    "    top=set_topics.pop(occurences.index(o))\n",
    "    common_topics_nmf_mon.append([o, top])\n",
    "    occurences.pop(occurences.index(o))\n",
    "    if len(common_topics_nmf_mon)==10:\n",
    "        break\n",
    "common_topics_nmf_mon\n",
    "# common_topics keeps track of the 10 most common term vectors in the sampled NTF version."
   ]
  },
  {
   "cell_type": "code",
   "execution_count": 113,
   "metadata": {},
   "outputs": [
    {
     "data": {
      "image/png": "[encoded data removed]",
      "text/plain": [
       "<Figure size 432x288 with 1 Axes>"
      ]
     },
     "metadata": {
      "needs_background": "light"
     },
     "output_type": "display_data"
    }
   ],
   "source": [
    "Ratio=[]\n",
    "for i in xrange(len(NMF_TV)):\n",
    "    monthly_ratio=0\n",
    "    for n in NMF_TV[i]:\n",
    "        if n in NMF_TV_Mon[i]:\n",
    "            monthly_ratio+=.2\n",
    "    Ratio.append(monthly_ratio)\n",
    "    \n",
    "plt.figure()\n",
    "plt.scatter([i for i in xrange(len(NMF_TV))],Ratio)\n",
    "plt.xlabel('absolute month')\n",
    "plt.ylabel('NMFs correlation')\n",
    "plt.savefig('NMF_NMFnoMon_correlation.pdf')\n",
    "plt.show()"
   ]
  },
  {
   "cell_type": "code",
   "execution_count": 116,
   "metadata": {},
   "outputs": [
    {
     "data": {
      "image/png": "[encoded data removed]",
      "text/plain": [
       "<Figure size 432x288 with 1 Axes>"
      ]
     },
     "metadata": {
      "needs_background": "light"
     },
     "output_type": "display_data"
    }
   ],
   "source": [
    "Ratio=[]\n",
    "for i in xrange(len(NMF_TV_Mon)-1):\n",
    "    monthly_ratio=0\n",
    "    for n in NMF_TV_Mon[i]:\n",
    "        if n in NMF_TV_Mon[i+1]:\n",
    "            monthly_ratio+=.2\n",
    "    Ratio.append(monthly_ratio)\n",
    "    \n",
    "plt.figure()\n",
    "plt.scatter([i for i in xrange(len(NMF_TV_Mon)-1)],Ratio)\n",
    "plt.xlabel('absolute month')\n",
    "plt.ylabel('normalized autocorrelation')\n",
    "plt.savefig('NMF_5topics_autocorrelation.pdf')\n",
    "plt.show()"
   ]
  },
  {
   "cell_type": "code",
   "execution_count": 118,
   "metadata": {},
   "outputs": [
    {
     "data": {
      "text/plain": [
       "[['happy', 27],\n",
       " ['sush', 24],\n",
       " ['giorn', 21],\n",
       " ['party', 19],\n",
       " ['piemont', 18],\n",
       " ['summer', 18],\n",
       " ['art', 17],\n",
       " ['bell', 17],\n",
       " ['bestoftheday', 17],\n",
       " ['graz', 16],\n",
       " ['po', 16],\n",
       " ['sun', 16],\n",
       " ['amic', 15],\n",
       " ['iphones', 15],\n",
       " ['yummy', 15],\n",
       " ['cut', 15],\n",
       " ['buon', 14],\n",
       " ['architectur', 14],\n",
       " ['autumn', 13],\n",
       " ['superg', 12],\n",
       " ['sunset', 12],\n",
       " ['girl', 11],\n",
       " ['valentin', 11],\n",
       " ['mol', 11],\n",
       " ['prim', 11],\n",
       " ['winter', 10],\n",
       " ['pizz', 10],\n",
       " ['spring', 10],\n",
       " ['day', 10],\n",
       " ['photography', 10],\n",
       " ['snow', 9],\n",
       " ['self', 9],\n",
       " ['parc', 9],\n",
       " ['iphon', 9],\n",
       " ['concert', 9],\n",
       " ['torino\\\\xe8lamiacitt', 8],\n",
       " ['fun', 8],\n",
       " ['amazing', 8],\n",
       " ['natal', 8],\n",
       " ['liv', 8],\n",
       " ['cas', 7],\n",
       " ['piazz', 7],\n",
       " ['basil', 7],\n",
       " ['christmas', 7],\n",
       " ['city', 7],\n",
       " ['relax', 7],\n",
       " ['autunn', 7],\n",
       " ['delicious', 6],\n",
       " ['lunc', 6],\n",
       " ['style', 6],\n",
       " ['new', 6],\n",
       " ['primaver', 6],\n",
       " ['halloween', 6],\n",
       " ['cen', 6],\n",
       " ['ciel', 6]]"
      ]
     },
     "execution_count": 118,
     "metadata": {},
     "output_type": "execute_result"
    }
   ],
   "source": [
    "#Find the most degenerate words\n",
    "words_occ=dict()\n",
    "for top in set_topics:\n",
    "    for word in top:\n",
    "        if word in words_occ.keys():\n",
    "            words_occ[word]+=1\n",
    "        else:\n",
    "            words_occ[word]=1\n",
    "words_deg=[]\n",
    "for key in words_occ.keys():\n",
    "    if words_occ[key]>5:\n",
    "        words_deg.append([key, words_occ[key]])\n",
    "from operator import itemgetter\n",
    "sorted(words_deg,key=itemgetter(1))[::-1]"
   ]
  },
  {
   "cell_type": "code",
   "execution_count": 120,
   "metadata": {},
   "outputs": [
    {
     "ename": "OSError",
     "evalue": "[Errno 2] No such file or directory: 'trials'",
     "output_type": "error",
     "traceback": [
      "\u001b[0;31m---------------------------------------------------------------------\u001b[0m",
      "\u001b[0;31mOSError\u001b[0m                             Traceback (most recent call last)",
      "\u001b[0;32m<ipython-input-120-5ad77d11f8c0>\u001b[0m in \u001b[0;36m<module>\u001b[0;34m()\u001b[0m\n\u001b[1;32m      1\u001b[0m \u001b[0;32mimport\u001b[0m \u001b[0mos\u001b[0m\u001b[0;34m\u001b[0m\u001b[0m\n\u001b[0;32m----> 2\u001b[0;31m \u001b[0mos\u001b[0m\u001b[0;34m.\u001b[0m\u001b[0mchdir\u001b[0m\u001b[0;34m(\u001b[0m\u001b[0;34m'trials'\u001b[0m\u001b[0;34m)\u001b[0m\u001b[0;34m\u001b[0m\u001b[0m\n\u001b[0m",
      "\u001b[0;31mOSError\u001b[0m: [Errno 2] No such file or directory: 'trials'"
     ]
    }
   ],
   "source": [
    "import os\n",
    "os.chdir('trials')"
   ]
  },
  {
   "cell_type": "code",
   "execution_count": 121,
   "metadata": {},
   "outputs": [],
   "source": [
    "os.chdir('0')"
   ]
  },
  {
   "cell_type": "code",
   "execution_count": 131,
   "metadata": {},
   "outputs": [],
   "source": [
    "TV=open('Term_Topics.txt','r')"
   ]
  },
  {
   "cell_type": "code",
   "execution_count": 132,
   "metadata": {},
   "outputs": [],
   "source": [
    "Topics=TV.readlines()"
   ]
  },
  {
   "cell_type": "code",
   "execution_count": 141,
   "metadata": {},
   "outputs": [
    {
     "data": {
      "text/plain": [
       "\"0 [(u'pizz', 11.244176282146991), (u'dinner', 8.55167229399898), (u'yummy', 5.867320250004431), (u'cen', 5.015241883204096), (u'food', 4.918227832949334), (u'cak', 4.844887871342432), (u'delicious', 4.657626965707279), (u'sweet', 4.548279073221288)]\\n\""
      ]
     },
     "execution_count": 141,
     "metadata": {},
     "output_type": "execute_result"
    }
   ],
   "source": [
    "Topics[0]"
   ]
  },
  {
   "cell_type": "code",
   "execution_count": 147,
   "metadata": {},
   "outputs": [],
   "source": [
    "term_vectors=[]\n",
    "for t in Topics:\n",
    "    e=[]\n",
    "    for i in xrange(8):\n",
    "        e.append(t.split(' ')[2*i+1].split(\"'\")[1])\n",
    "    term_vectors.append(e) "
   ]
  },
  {
   "cell_type": "code",
   "execution_count": 160,
   "metadata": {},
   "outputs": [],
   "source": [
    "for i in range(0,19):\n",
    "    os.chdir(str(i))\n",
    "    TV=open('Term_Topics.txt','r')\n",
    "    Topics=TV.readlines()\n",
    "    term_vectors=[]\n",
    "    for t in Topics:\n",
    "        e=[]\n",
    "        for i in xrange(8):\n",
    "            e.append(t.split(' ')[2*i+1].split(\"'\")[1])\n",
    "        term_vectors.append(e) \n",
    "    os.chdir('..')\n",
    "    Glob=open('Term_Topics_glob.txt','a+')\n",
    "    for vector in term_vectors:\n",
    "        for term in vector:\n",
    "            Glob.write(term+' ')\n",
    "        Glob.write('\\n')"
   ]
  },
  {
   "cell_type": "code",
   "execution_count": 169,
   "metadata": {},
   "outputs": [],
   "source": [
    "F = open('Term_Topics_glob.txt','r')\n",
    "#F = open('termvectors_sampling.txt','r')\n",
    "all_tv=[]\n",
    "for lines in F:\n",
    "    T=lines.split(' ')\n",
    "    main_words=[t.replace(\"'\",\"\") for t in main_words]\n",
    "    all_tv.append(set(main_words))\n",
    "F.close()"
   ]
  },
  {
   "cell_type": "code",
   "execution_count": 177,
   "metadata": {},
   "outputs": [
    {
     "data": {
      "text/plain": [
       "{1, 2, 3, 5, 6, 7, 8, 9, 12, 14, 18}"
      ]
     },
     "execution_count": 177,
     "metadata": {},
     "output_type": "execute_result"
    }
   ],
   "source": [
    "F = open('Term_Topics_glob.txt','r')\n",
    "#F = open('termvectors_sampling.txt','r')\n",
    "all_tv=[]\n",
    "for lines in F:\n",
    "    T=lines.split(' ')\n",
    "    all_tv.append(T)\n",
    "F.close()\n",
    "\n",
    "termvectors_all=list(np.copy(all_tv))\n",
    "set_topics=[]\n",
    "occurences=[]\n",
    "\n",
    "all_tv3=list(np.copy(all_tv))\n",
    "while all_tv:\n",
    "    topic=all_tv.pop(0)\n",
    "    if topic in set_topics:\n",
    "        occurences[set_topics.index(topic)]+=1\n",
    "    else:\n",
    "        occurences.append(1)\n",
    "        set_topics.append(topic)\n",
    "set(occurences)\n"
   ]
  },
  {
   "cell_type": "code",
   "execution_count": 173,
   "metadata": {
    "collapsed": true
   },
   "outputs": [
    {
     "data": {
      "image/png": "[encoded data removed]",
      "text/plain": [
       "<Figure size 432x288 with 1 Axes>"
      ]
     },
     "metadata": {
      "needs_background": "light"
     },
     "output_type": "display_data"
    },
    {
     "name": "stdout",
     "output_type": "stream",
     "text": [
      "14 ['juventus', 'finoallafin', 'juv', 'forzajuv', 'football', 'serie', 'bianconer', 'championsleagu', '\\n']\n",
      "9 ['gym', 'fitness', 'workout', 'training', 'palestr', 'allen', 'sport', 'motivation', '\\n']\n",
      "12 ['murazz', 'po', 'river', 'granmadr', 'montedeicappuccin', 'night', 'fium', 'sunset', '\\n']\n",
      "8 ['eataly', 'gallery', 'fiat', 'pizz', 'past', 'lunc', 'win', 'cib', '\\n']\n",
      "18 ['tatto', 'ink', 'inked', 'tattoos', 'tatuagg', 'traditionaltatto', 'tattooed', 'art', '\\n']\n",
      "9 ['superg', 'basil', 'panoram', 'piemont', 'natur', 'landscap', 'view', 'sunset', '\\n']\n",
      "7 ['gym', 'fitness', 'workout', 'training', 'palestr', 'sport', 'allen', 'motivation', '\\n']\n"
     ]
    }
   ],
   "source": [
    "plt.figure()\n",
    "plt.hist(occurences, bins=[i for i in xrange(max(occurences)+1)])\n",
    "plt.xlabel('Occurences in 40 runs')\n",
    "plt.xticks([i for i in xrange(max(occurences))])\n",
    "plt.ylabel('Number of term vectors occuring x times')\n",
    "plt.savefig('termvectors_NTF_15topics_hist.pdf')\n",
    "plt.show()\n",
    "\n",
    "for s in set_topics:\n",
    "    if occurences[set_topics.index(s)]>6:\n",
    "        print occurences[set_topics.index(s)], s\n"
   ]
  },
  {
   "cell_type": "code",
   "execution_count": 174,
   "metadata": {
    "collapsed": true
   },
   "outputs": [
    {
     "data": {
      "text/plain": [
       "[[18,\n",
       "  ['tatto',\n",
       "   'ink',\n",
       "   'inked',\n",
       "   'tattoos',\n",
       "   'tatuagg',\n",
       "   'traditionaltatto',\n",
       "   'tattooed',\n",
       "   'art',\n",
       "   '\\n']],\n",
       " [14,\n",
       "  ['juventus',\n",
       "   'finoallafin',\n",
       "   'juv',\n",
       "   'forzajuv',\n",
       "   'football',\n",
       "   'serie',\n",
       "   'bianconer',\n",
       "   'championsleagu',\n",
       "   '\\n']],\n",
       " [12,\n",
       "  ['murazz',\n",
       "   'po',\n",
       "   'river',\n",
       "   'granmadr',\n",
       "   'montedeicappuccin',\n",
       "   'night',\n",
       "   'fium',\n",
       "   'sunset',\n",
       "   '\\n']],\n",
       " [9,\n",
       "  ['gym',\n",
       "   'fitness',\n",
       "   'workout',\n",
       "   'training',\n",
       "   'palestr',\n",
       "   'allen',\n",
       "   'sport',\n",
       "   'motivation',\n",
       "   '\\n']],\n",
       " [9,\n",
       "  ['superg',\n",
       "   'basil',\n",
       "   'panoram',\n",
       "   'piemont',\n",
       "   'natur',\n",
       "   'landscap',\n",
       "   'view',\n",
       "   'sunset',\n",
       "   '\\n']],\n",
       " [8,\n",
       "  ['eataly', 'gallery', 'fiat', 'pizz', 'past', 'lunc', 'win', 'cib', '\\n']],\n",
       " [7,\n",
       "  ['gym',\n",
       "   'fitness',\n",
       "   'workout',\n",
       "   'training',\n",
       "   'palestr',\n",
       "   'sport',\n",
       "   'allen',\n",
       "   'motivation',\n",
       "   '\\n']],\n",
       " [6,\n",
       "  ['pol',\n",
       "   'laure',\n",
       "   'university',\n",
       "   'graduation',\n",
       "   'design',\n",
       "   'stud',\n",
       "   'univers',\n",
       "   'day',\n",
       "   '\\n']],\n",
       " [5,\n",
       "  ['architectur',\n",
       "   'art',\n",
       "   'piemont',\n",
       "   'torino\\\\xe8lamiacitt',\n",
       "   'city',\n",
       "   'volgotorin',\n",
       "   'photography',\n",
       "   'beautiful',\n",
       "   '\\n']],\n",
       " [3,\n",
       "  ['sush', 'dinner', 'relax', 'lunc', 'cen', 'happy', 'buon', 'yummy', '\\n']]]"
      ]
     },
     "execution_count": 174,
     "metadata": {},
     "output_type": "execute_result"
    }
   ],
   "source": [
    "# Find the 10 most common topics in the sample.\n",
    "common_topics=[]\n",
    "occurences_sorted=sorted(occurences)[::-1]\n",
    "while(True):\n",
    "    o=occurences_sorted.pop(0)\n",
    "    top=set_topics.pop(occurences.index(o))\n",
    "    common_topics.append([o, top])\n",
    "    occurences.pop(occurences.index(o))\n",
    "    if len(common_topics)==10:\n",
    "        break\n",
    "common_topics\n",
    "# common_topics keeps track of the 10 most common term vectors in the sampled NTF version."
   ]
  },
  {
   "cell_type": "code",
   "execution_count": 180,
   "metadata": {
    "collapsed": true
   },
   "outputs": [
    {
     "data": {
      "text/plain": [
       "[['\\n', 271],\n",
       " ['', 221],\n",
       " ['night', 54],\n",
       " ['piemont', 44],\n",
       " ['art', 43],\n",
       " ['sunset', 42],\n",
       " ['natur', 42],\n",
       " ['beautiful', 40],\n",
       " ['happy', 37],\n",
       " ['city', 33],\n",
       " ['pizz', 33],\n",
       " ['dinner', 31],\n",
       " ['lunc', 30],\n",
       " ['cen', 28],\n",
       " ['smil', 27],\n",
       " ['music', 27],\n",
       " ['sky', 25],\n",
       " ['relax', 24],\n",
       " ['po', 24],\n",
       " ['yummy', 24],\n",
       " ['landscap', 21],\n",
       " ['architectur', 21],\n",
       " ['amic', 20],\n",
       " ['party', 20],\n",
       " ['parc', 20],\n",
       " ['fiat', 20],\n",
       " ['sun', 19],\n",
       " ['park', 19],\n",
       " ['liv', 19],\n",
       " ['tatuagg', 18],\n",
       " ['panoram', 18],\n",
       " ['palestr', 18],\n",
       " ['allen', 18],\n",
       " ['photography', 18],\n",
       " ['fashion', 18],\n",
       " ['motivation', 18],\n",
       " ['sush', 18],\n",
       " ['design', 18],\n",
       " ['piazz', 18],\n",
       " ['gym', 18],\n",
       " ['basil', 18],\n",
       " ['traditionaltatto', 18],\n",
       " ['training', 18],\n",
       " ['tattoos', 18],\n",
       " ['ink', 18],\n",
       " ['concert', 18],\n",
       " ['superg', 18],\n",
       " ['tatto', 18],\n",
       " ['sport', 18],\n",
       " ['inked', 18],\n",
       " ['view', 18],\n",
       " ['fitness', 18],\n",
       " ['shopping', 18],\n",
       " ['workout', 18],\n",
       " ['tattooed', 18],\n",
       " ['autumn', 17],\n",
       " ['juventus', 17],\n",
       " ['delicious', 17],\n",
       " ['giorn', 17],\n",
       " ['river', 17],\n",
       " ['torino\\\\xe8lamiacitt', 17],\n",
       " ['rock', 17],\n",
       " ['sempr', 17],\n",
       " ['style', 17],\n",
       " ['football', 16],\n",
       " ['quand', 16],\n",
       " ['volgotorin', 16],\n",
       " ['juv', 16],\n",
       " ['spaz', 16],\n",
       " ['granmadr', 16],\n",
       " ['finoallafin', 16],\n",
       " ['forzajuv', 16],\n",
       " ['summer', 16],\n",
       " ['bianconer', 15],\n",
       " ['serie', 15],\n",
       " ['montedeicappuccin', 15],\n",
       " ['pol', 15],\n",
       " ['fium', 15],\n",
       " ['via', 15],\n",
       " ['championsleagu', 15],\n",
       " ['murazz', 15],\n",
       " ['graz', 15],\n",
       " ['bestoftheday', 15],\n",
       " ['iphones', 15],\n",
       " ['green', 14],\n",
       " ['bell', 14],\n",
       " ['day', 14],\n",
       " ['eataly', 13],\n",
       " ['danc', 13],\n",
       " ['buon', 13],\n",
       " ['cos', 13],\n",
       " ['outfit', 13],\n",
       " ['vit', 13],\n",
       " ['gallery', 12],\n",
       " ['past', 12],\n",
       " ['win', 12],\n",
       " ['club', 11],\n",
       " ['sweet', 11],\n",
       " ['food', 11],\n",
       " ['nuov', 11],\n",
       " ['eat', 10],\n",
       " ['univers', 10],\n",
       " ['graduation', 10],\n",
       " ['stud', 10],\n",
       " ['university', 10],\n",
       " ['ser', 10],\n",
       " ['shoes', 10],\n",
       " ['laure', 10],\n",
       " ['shop', 10],\n",
       " ['hair', 9],\n",
       " [\"'\\\\n']],\\n\", 9],\n",
       " ['cib', 9],\n",
       " ['muse', 9],\n",
       " ['fun', 9],\n",
       " ['museum', 8],\n",
       " ['festival', 8],\n",
       " ['contemporaryart', 8],\n",
       " ['cut', 8],\n",
       " ['tour', 7],\n",
       " ['livemusic', 7],\n",
       " ['prim', 7],\n",
       " ['disc', 6]]"
      ]
     },
     "execution_count": 180,
     "metadata": {},
     "output_type": "execute_result"
    }
   ],
   "source": [
    "#Find the most degenerate words\n",
    "words_occ=dict()\n",
    "for top in all_tv3:\n",
    "    for word in top:\n",
    "        if word in words_occ.keys():\n",
    "            words_occ[word]+=1\n",
    "        else:\n",
    "            words_occ[word]=1\n",
    "words_deg=[]\n",
    "for key in words_occ.keys():\n",
    "    if words_occ[key]>5:\n",
    "        words_deg.append([key, words_occ[key]])\n",
    "from operator import itemgetter\n",
    "sorted(words_deg,key=itemgetter(1))[::-1]"
   ]
  },
  {
   "cell_type": "code",
   "execution_count": null,
   "metadata": {},
   "outputs": [],
   "source": []
  },
  {
   "cell_type": "code",
   "execution_count": null,
   "metadata": {},
   "outputs": [],
   "source": []
  }
 ],
 "metadata": {
  "kernelspec": {
   "display_name": "Python [conda env:jupyG]",
   "language": "python",
   "name": "conda-env-jupyG-py"
  },
  "language_info": {
   "codemirror_mode": {
    "name": "ipython",
    "version": 2
   },
   "file_extension": ".py",
   "mimetype": "text/x-python",
   "name": "python",
   "nbconvert_exporter": "python",
   "pygments_lexer": "ipython2",
   "version": "2.7.15"
  }
 },
 "nbformat": 4,
 "nbformat_minor": 2
}
