{
 "cells": [
  {
   "cell_type": "markdown",
   "metadata": {},
   "source": [
    "https://it.mathworks.com/help/matlab/matlab_external/call-user-script-and-function-from-python.html\n",
    "\n",
    "https://it.mathworks.com/help/matlab/matlab_external/call-matlab-functions-from-python.html\n",
    "\n",
    "https://it.mathworks.com/help/matlab/matlab_external/install-the-matlab-engine-for-python.html"
   ]
  },
  {
   "cell_type": "code",
   "execution_count": 7,
   "metadata": {},
   "outputs": [],
   "source": [
    "import sys\n",
    "sys.path.append(\"/usr/local/lib/python2.7/dist-packages/matlab\")\n",
    "#sys.path.append(\"/opt/anaconda/miniconda3/lib/python3.6/site-packages/matlab\")\n",
    "import matlab\n",
    "from matlab import engine"
   ]
  },
  {
   "cell_type": "code",
   "execution_count": 9,
   "metadata": {},
   "outputs": [],
   "source": [
    "eng=engine.start_matlab()\n",
    "#V=eng.tensor_matlab(path)\n",
    "#list_cc=eng.CC_matlab(V,R_f,nb_s)"
   ]
  },
  {
   "cell_type": "code",
   "execution_count": 11,
   "metadata": {},
   "outputs": [],
   "source": [
    "def CC_matlab(df_classified,vectorizer_new=None,n_features=1000,R_f=50, nb_s=5, path='CC_matlab/'):\n",
    "    \"\"\"returns the list of n_topics, their mean core consistencies and their variances.\"\"\"\n",
    "    import sys\n",
    "    sys.path.append(\"/usr/local/lib/python2.7/dist-packages/matlab\")\n",
    "    #sys.path.append(\"/opt/anaconda/miniconda3/lib/python3.6/site-packages/matlab\")\n",
    "    import matlab\n",
    "    from matlab import engine\n",
    "    eng=matlab.engine.start_matlab()\n",
    "    # Feed the vectorizer with all the words in the dataset. Counts is the tweet/term matrix.\n",
    "    # fit_transform: fit first (build the features list with the relevant words)\n",
    "    # then transform: build the tweet/term matrix with the relevant tokens.\n",
    "    if not vectorizer_new:\n",
    "        print 'No vectorizer defined. Returning None'\n",
    "        return None\n",
    "    name_matlab='CC_matlab/Matr{}_'.format(n_features)\n",
    "    snapshots=df_classified.columns.tolist()[0:-1]        \n",
    "    #For every snapshot taken\n",
    "    ct=0\n",
    "    for month in snapshots[start:stop]:\n",
    "        ct+=1\n",
    "        This_Month=df_classified[month].tolist()\n",
    "        # Learn the vocabulary dictionary and return term-document matrix.\n",
    "        counts = vectorizer_new.transform(This_Month)\n",
    "        #Transform a count matrix to a normalized tf-idf representation. \n",
    "        #(i.e terms with frequencies too hi or lo are removed)\n",
    "        # Weights are indexed by (postID, term): weight\n",
    "        tfidf = TfidfTransformer().fit_transform(counts)\n",
    "        savemat(name_matlab+str(ct), {'tfidf':tfidf})\n",
    "    V=eng.tensor_matlab(name_matlab)\n",
    "    list_idn,list_meancc,list_varcc=eng.CC_matlab(V,R_f,nb_s,nargout=3)\n",
    "    #A,B,C \n",
    "    return V,list_idn,list_meancc,list_varcc\n",
    "\n",
    "def NTF_matlab(V,R):\n",
    "    \"\"\"returns the NTF factorization with R topics from a TF-IDF vector V built by matlab.\"\"\"\n",
    "    import sys\n",
    "    sys.path.append(\"/usr/local/lib/python2.7/dist-packages/matlab\")\n",
    "    #sys.path.append(\"/opt/anaconda/miniconda3/lib/python3.6/site-packages/matlab\")\n",
    "    import matlab\n",
    "    from matlab import engine\n",
    "    eng=matlab.engine.start_matlab()\n",
    "    Xapprox_ks,A,B,C=eng.NTF_matlab(V,R,nargout=4)\n",
    "    return Xapprox_ks,A,B,C"
   ]
  },
  {
   "cell_type": "code",
   "execution_count": null,
   "metadata": {},
   "outputs": [],
   "source": []
  }
 ],
 "metadata": {
  "kernelspec": {
   "display_name": "Python 2",
   "language": "python",
   "name": "python2"
  },
  "language_info": {
   "codemirror_mode": {
    "name": "ipython",
    "version": 2
   },
   "file_extension": ".py",
   "mimetype": "text/x-python",
   "name": "python",
   "nbconvert_exporter": "python",
   "pygments_lexer": "ipython2",
   "version": "2.7.15rc1"
  }
 },
 "nbformat": 4,
 "nbformat_minor": 2
}
