{
 "cells": [
  {
   "cell_type": "code",
   "execution_count": 12,
   "metadata": {},
   "outputs": [
    {
     "name": "stderr",
     "output_type": "stream",
     "text": [
      "[nltk_data] Downloading package punkt to /home/eartiges/nltk_data...\n",
      "[nltk_data]   Package punkt is already up-to-date!\n"
     ]
    }
   ],
   "source": [
    "import pickle\n",
    "import numpy as np\n",
    "import Instaplot as IP\n",
    "import Instalib as IL\n",
    "import matplotlib.pyplot as plt"
   ]
  },
  {
   "cell_type": "code",
   "execution_count": 4,
   "metadata": {},
   "outputs": [
    {
     "name": "stdout",
     "output_type": "stream",
     "text": [
      "otsu threshold 0.05614643737846956\n"
     ]
    }
   ],
   "source": [
    "A=pickle.load(open('todo/torinojazzfestival/pickle/A.pkl','r'))\n",
    "C=pickle.load(open('todo/torinojazzfestival/pickle/C.pkl','r'))\n",
    "Grid=pickle.load(open('todo/torinojazzfestival/pickle/Grid.pkl','r'))\n",
    "TermVectors=open('todo/torinojazzfestival/TermVectors.txt', 'r').readlines()\n",
    "tjf=7\n",
    "TJF_vec=A.T[tjf]\n",
    "neighbourhoods, relevant_bins_by_ngh=IP.relevant_bins_to_ngbh(TJF_vec, Grid)"
   ]
  },
  {
   "cell_type": "code",
   "execution_count": 5,
   "metadata": {},
   "outputs": [],
   "source": [
    "def neighbourhood_relative_dynamics(row, C):\n",
    "    C_Q=C*row\n",
    "    C_Q=C_Q.T\n",
    "    \n",
    "    C_Q_Norm=[]\n",
    "    for i in range(C_Q.T.shape[0]):\n",
    "        C_row=C_Q.T[i]\n",
    "        N=np.sqrt(sum([r**2 for r in C_row]))\n",
    "        if not N==0:\n",
    "            C_row=[r/N for r in C_row]\n",
    "        C_Q_Norm.append(C_row)\n",
    "    return np.array(C_Q_Norm).T\n",
    "\n",
    "C_Q1_Norm=neighbourhood_relative_dynamics(A[252],C)"
   ]
  },
  {
   "cell_type": "code",
   "execution_count": 8,
   "metadata": {},
   "outputs": [
    {
     "data": {
      "image/png": "[encoded data removed]",
      "text/plain": [
       "<Figure size 720x288 with 1 Axes>"
      ]
     },
     "metadata": {
      "needs_background": "light"
     },
     "output_type": "display_data"
    },
    {
     "data": {
      "image/png": "[encoded data removed]",
      "text/plain": [
       "<Figure size 720x288 with 1 Axes>"
      ]
     },
     "metadata": {
      "needs_background": "light"
     },
     "output_type": "display_data"
    }
   ],
   "source": [
    "#General Topics Dynamics\n",
    "n_topics=8\n",
    "plt.figure(figsize=(10,4))\n",
    "plt.pcolormesh([c for c in C.T])#, cmap=plt.cm.Greys)\n",
    "plt.xlim(0,len(C.T[0]))\n",
    "#plt.savefig('Topic_dynamic.pdf')\n",
    "plt.yticks(np.arange(n_topics)+0.5, np.arange(0,n_topics));\n",
    "#plt.xticks(flags[start:stop])\n",
    "plt.show()\n",
    "\n",
    "#Neighbourhood relative Topics Dynamics\n",
    "plt.figure(figsize=(10,4))\n",
    "plt.pcolormesh([c for c in C_Q1_Norm])#, cmap=plt.cm.Greys)\n",
    "plt.xlim(0,len(C_Q1_Norm[0]))\n",
    "#plt.savefig('Topic_dynamic.pdf')\n",
    "plt.yticks(np.arange(n_topics)+0.5, np.arange(0,n_topics));\n",
    "#plt.xticks(flags[start:stop])\n",
    "plt.show()"
   ]
  },
  {
   "cell_type": "code",
   "execution_count": 9,
   "metadata": {},
   "outputs": [],
   "source": [
    "import json\n",
    "\n",
    "data = {'topics':{}, 'bbox':{}, 'grid':{}, 'activity':{},\n",
    "}\n",
    "\n",
    "topics={}\n",
    "TermVectors=open('todo/torinojazzfestival/TermVectors.txt', 'r').readlines()\n",
    "TermVectors=[t[3:-1].split(' ')[0:3] for t in TermVectors]\n",
    "for i,t in enumerate(TermVectors):\n",
    "    topics[str(i)]=[w[2:-2] for w in t]\n",
    "data['topics'] = topics\n",
    "\n",
    "lats=sorted(set([s[0] for s in Grid]))\n",
    "lons=sorted(set([s[1] for s in Grid]))\n",
    "data['bbox']=[min(lons),min(lats),max(lons),max(lats)]\n",
    "\n",
    "def grid_to_index(Grid):\n",
    "    lats=sorted(set([s[0] for s in Grid]))\n",
    "    lons=sorted(set([s[1] for s in Grid]))\n",
    "    size=[len(lats), len(lons)]\n",
    "    grid2=[(lats.index(s[0]),lons.index(s[1])) for s in Grid]\n",
    "    return size, [s[0]*size[0]+s[1] for s in grid2]\n",
    "\n",
    "size,indices = grid_to_index(Grid)\n",
    "data['grid']=size"
   ]
  },
  {
   "cell_type": "code",
   "execution_count": 10,
   "metadata": {},
   "outputs": [],
   "source": [
    "#convert coordinates to index: nrows*ncol+ncol\n",
    "coords_indices= [d[1] for d in relevant_bins_by_ngh.values()]"
   ]
  },
  {
   "cell_type": "code",
   "execution_count": 13,
   "metadata": {},
   "outputs": [],
   "source": [
    "timestamps=[]\n",
    "for i in range(len(C_Q1_Norm.T)):\n",
    "    s=IL.abs_to_yearmonth(i,[i for i in range(2010,2018)])\n",
    "    s=s.timestamp()\n",
    "    timestamps.append(s)"
   ]
  },
  {
   "cell_type": "code",
   "execution_count": 14,
   "metadata": {},
   "outputs": [],
   "source": [
    "coords_bins=grid_to_index(Grid)[1]\n",
    "\n",
    "activity={}\n",
    "\n",
    "all_neighbourhoods=[neighbourhood_relative_dynamics(A[ic], C) for ic in range(len(coords_bins))]\n",
    "\n",
    "for i,t in enumerate(timestamps):\n",
    "    #For each timestep\n",
    "    for ic, index in enumerate(coords_bins):\n",
    "        #For each coordinates, take the corresponding \n",
    "        topics_intensities=all_neighbourhoods[ic].T[i]\n",
    "        #topics_int = [1,2,3,4,5] intensities at time t\n",
    "        local_dict={}\n",
    "        for to,tp in enumerate(topics_intensities):\n",
    "            local_dict[str(to)]=tp\n",
    "        try:\n",
    "            activity[str(int(t))][str(index)]=local_dict\n",
    "        except KeyError:\n",
    "            activity[str(int(t))]={str(index):local_dict}\n",
    "data['activity']=activity"
   ]
  },
  {
   "cell_type": "code",
   "execution_count": 15,
   "metadata": {},
   "outputs": [
    {
     "data": {
      "text/plain": [
       "[7.576453909502152, 45.00449999999999, 7.767617590986647, 45.1395]"
      ]
     },
     "execution_count": 15,
     "metadata": {},
     "output_type": "execute_result"
    }
   ],
   "source": [
    "data['bbox']"
   ]
  },
  {
   "cell_type": "code",
   "execution_count": 16,
   "metadata": {},
   "outputs": [
    {
     "data": {
      "text/plain": [
       "[31, 31]"
      ]
     },
     "execution_count": 16,
     "metadata": {},
     "output_type": "execute_result"
    }
   ],
   "source": [
    "data['grid']"
   ]
  },
  {
   "cell_type": "code",
   "execution_count": 18,
   "metadata": {},
   "outputs": [
    {
     "data": {
      "text/plain": [
       "{'0': ['tff', 'torinofilmfestival', 'film'],\n",
       " '1': ['music', 'festival', 'liv'],\n",
       " '2': ['torinojazzfestival', 'jazz', 'festival'],\n",
       " '3': ['reloadmusicfestival', 'festival', 'rmf'],\n",
       " '4': ['festival', 'film', 'cinem'],\n",
       " '5': ['festival', 'techn', 'kapp'],\n",
       " '6': ['festival', 'music', 'movement'],\n",
       " '7': ['gruvillag', 'gruvillagefestival', 'music']}"
      ]
     },
     "execution_count": 18,
     "metadata": {},
     "output_type": "execute_result"
    }
   ],
   "source": [
    "data['topics']"
   ]
  },
  {
   "cell_type": "code",
   "execution_count": null,
   "metadata": {},
   "outputs": [],
   "source": [
    "json.dump(data,open('JSON_Torino_seed_festival.json', 'wb'))\n",
    "#data=json.load(open('try1.json', 'rb'))"
   ]
  }
 ],
 "metadata": {
  "kernelspec": {
   "display_name": "Python 2",
   "language": "python",
   "name": "python2"
  },
  "language_info": {
   "codemirror_mode": {
    "name": "ipython",
    "version": 2
   },
   "file_extension": ".py",
   "mimetype": "text/x-python",
   "name": "python",
   "nbconvert_exporter": "python",
   "pygments_lexer": "ipython2",
   "version": "2.7.15rc1"
  }
 },
 "nbformat": 4,
 "nbformat_minor": 2
}
