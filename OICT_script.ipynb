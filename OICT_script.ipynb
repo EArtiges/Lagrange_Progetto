{
 "cells": [
  {
   "cell_type": "code",
   "execution_count": 2,
   "metadata": {},
   "outputs": [],
   "source": [
    "import requests\n",
    "import time\n",
    "from bs4 import BeautifulSoup\n",
    "from six.moves import urllib\n",
    "import wget"
   ]
  },
  {
   "cell_type": "code",
   "execution_count": 3,
   "metadata": {},
   "outputs": [],
   "source": [
    "url = 'http://www.oict.polito.it/microzone_e_valori'\n",
    "response = requests.get(url)"
   ]
  },
  {
   "cell_type": "code",
   "execution_count": 4,
   "metadata": {},
   "outputs": [],
   "source": [
    "soup = BeautifulSoup(response.text, \"html.parser\")"
   ]
  },
  {
   "cell_type": "code",
   "execution_count": 5,
   "metadata": {
    "collapsed": true
   },
   "outputs": [
    {
     "name": "stdout",
     "output_type": "stream",
     "text": [
      "<a href=\"/microzone_e_valori/cosa_sono_le_microzone\" title=\"Cosa sono le Microzone\"><img alt=\"#\" height=\"8\" src=\"/design/oict/images/segnalino_r.gif\" width=\"8\"/> Cosa sono le Microzone</a>\n",
      "<a href=\"/microzone_e_valori/guida_schede_valori\" title=\"Guida Schede Valori\"><img alt=\"#\" height=\"8\" src=\"/design/oict/images/segnalino_r.gif\" width=\"8\"/> Guida Schede Valori</a>\n",
      "<a href=\"/microzone_e_valori/cosa_sono_le_microzone\" title=\"Cosa sono le Microzone\">Cosa sono le Microzone</a>\n",
      "<a href=\"/microzone_e_valori/guida_schede_valori\" title=\"Guida Schede Valori\">Guida Schede Valori</a>\n",
      "<a href=\"/microzone_e_valori/01_roma\">\n",
      "01. Roma</a>\n",
      "<a href=\"/microzone_e_valori/02_carlo_emanuele_ii\">\n",
      "02. Carlo Emanuele II</a>\n",
      "<a href=\"/microzone_e_valori/03_solferino\">\n",
      "03. Solferino</a>\n",
      "<a href=\"/microzone_e_valori/04_vinzaglio\">\n",
      "04. Vinzaglio</a>\n",
      "<a href=\"/microzone_e_valori/05_garibaldi\">\n",
      "05. Garibaldi</a>\n",
      "<a href=\"/microzone_e_valori/06_castello\">\n",
      "06. Castello</a>\n",
      "<a href=\"/microzone_e_valori/07_vanchiglia\">\n",
      "07. Vanchiglia</a>\n",
      "<a href=\"/microzone_e_valori/08_rocca\">\n",
      "08. Rocca</a>\n",
      "<a href=\"/microzone_e_valori/09_valentino\">\n",
      "09. Valentino</a>\n",
      "<a href=\"/microzone_e_valori/10_san_salvario\">\n",
      "10. San Salvario</a>\n",
      "<a href=\"/microzone_e_valori/11_dante\">\n",
      "11. Dante</a>\n",
      "<a href=\"/microzone_e_valori/12_san_secondo\">\n",
      "12. San Secondo</a>\n",
      "<a href=\"/microzone_e_valori/13_stati_uniti\">\n",
      "13. Stati Uniti</a>\n",
      "<a href=\"/microzone_e_valori/14_galileo_ferraris\">\n",
      "14. Galileo Ferraris</a>\n",
      "<a href=\"/microzone_e_valori/15_de_gasperi\">\n",
      "15. De Gasperi</a>\n",
      "<a href=\"/microzone_e_valori/16_duca_d_aosta\">\n",
      "16. Duca D'Aosta</a>\n",
      "<a href=\"/microzone_e_valori/17_spina_2_politecnico\">\n",
      "17. Spina 2 - Politecnico</a>\n",
      "<a href=\"/microzone_e_valori/18_duchessa_jolanda\">\n",
      "18. Duchessa Jolanda</a>\n",
      "<a href=\"/microzone_e_valori/19_san_donato\">\n",
      "19. San Donato</a>\n",
      "<a href=\"/microzone_e_valori/20_porta_palazzo\">\n",
      "20. Porta Palazzo</a>\n",
      "<a href=\"/microzone_e_valori/21_palermo\">\n",
      "21. Palermo</a>\n",
      "<a href=\"/microzone_e_valori/22_michelotti\">\n",
      "22. Michelotti</a>\n",
      "<a href=\"/microzone_e_valori/23_crimea\">\n",
      "23. Crimea</a>\n",
      "<a href=\"/microzone_e_valori/24_collina\">\n",
      "24. Collina</a>\n",
      "<a href=\"/microzone_e_valori/25_zara\">\n",
      "25. Zara</a>\n",
      "<a href=\"/microzone_e_valori/26_carducci\">\n",
      "26. Carducci</a>\n",
      "<a href=\"/microzone_e_valori/27_unita_d_italia\">\n",
      "27. Unità d'Italia</a>\n",
      "<a href=\"/microzone_e_valori/28_lingotto\">\n",
      "28. Lingotto</a>\n",
      "<a href=\"/microzone_e_valori/29_santa_rita_mirafiori\">\n",
      "29. Santa Rita - Mirafiori</a>\n",
      "<a href=\"/microzone_e_valori/30_mirafiori_sud\">\n",
      "30. Mirafiori Sud</a>\n",
      "<a href=\"/microzone_e_valori/31_san_paolo\">\n",
      "31. San Paolo</a>\n",
      "<a href=\"/microzone_e_valori/32_pozzo_strada\">\n",
      "32. Pozzo Strada</a>\n",
      "<a href=\"/microzone_e_valori/33_aereonautica_parella\">\n",
      "33. Aereonautica / Parella</a>\n",
      "<a href=\"/microzone_e_valori/34_spina_3_eurotorino\">\n",
      "34. Spina 3 - Eurotorino</a>\n",
      "<a href=\"/microzone_e_valori/35_madonna_di_campagna\">\n",
      "35. Madonna di Campagna</a>\n",
      "<a href=\"/microzone_e_valori/36_spina_4_docks_dora\">\n",
      "36. Spina 4 - Docks Dora</a>\n",
      "<a href=\"/microzone_e_valori/37_rebaudengo\">\n",
      "37. Rebaudengo</a>\n",
      "<a href=\"/microzone_e_valori/38_corona_nord_ovest\">\n",
      "38. Corona Nord Ovest</a>\n",
      "<a href=\"/microzone_e_valori/39_spina_1_marmolada\">\n",
      "39. Spina 1 - Marmolada</a>\n",
      "<a href=\"/microzone_e_valori/40_barca_bertolla\">\n",
      "40. Barca Bertolla</a>\n"
     ]
    }
   ],
   "source": [
    "for a in soup.findAll('a'):\n",
    "    if 'href=\"/microzone_e_valori/' in str(a):\n",
    "        print str(a)"
   ]
  },
  {
   "cell_type": "code",
   "execution_count": 6,
   "metadata": {},
   "outputs": [],
   "source": [
    "interests=[a for a in soup.findAll('a') if 'href=\"/microzone_e_valori/' in str(a)][4:]"
   ]
  },
  {
   "cell_type": "code",
   "execution_count": 7,
   "metadata": {},
   "outputs": [],
   "source": [
    "interests=[i['href'] for i in interests]"
   ]
  },
  {
   "cell_type": "code",
   "execution_count": 8,
   "metadata": {
    "collapsed": true
   },
   "outputs": [
    {
     "name": "stdout",
     "output_type": "stream",
     "text": [
      "http://www.oict.polito.it/microzone_e_valori/01_roma\n",
      "http://www.oict.polito.it/microzone_e_valori/02_carlo_emanuele_ii\n",
      "http://www.oict.polito.it/microzone_e_valori/03_solferino\n",
      "http://www.oict.polito.it/microzone_e_valori/04_vinzaglio\n",
      "http://www.oict.polito.it/microzone_e_valori/05_garibaldi\n",
      "http://www.oict.polito.it/microzone_e_valori/06_castello\n",
      "http://www.oict.polito.it/microzone_e_valori/07_vanchiglia\n",
      "http://www.oict.polito.it/microzone_e_valori/08_rocca\n",
      "http://www.oict.polito.it/microzone_e_valori/09_valentino\n",
      "http://www.oict.polito.it/microzone_e_valori/10_san_salvario\n",
      "http://www.oict.polito.it/microzone_e_valori/11_dante\n",
      "http://www.oict.polito.it/microzone_e_valori/12_san_secondo\n",
      "http://www.oict.polito.it/microzone_e_valori/13_stati_uniti\n",
      "http://www.oict.polito.it/microzone_e_valori/14_galileo_ferraris\n",
      "http://www.oict.polito.it/microzone_e_valori/15_de_gasperi\n",
      "http://www.oict.polito.it/microzone_e_valori/16_duca_d_aosta\n",
      "http://www.oict.polito.it/microzone_e_valori/17_spina_2_politecnico\n",
      "http://www.oict.polito.it/microzone_e_valori/18_duchessa_jolanda\n",
      "http://www.oict.polito.it/microzone_e_valori/19_san_donato\n",
      "http://www.oict.polito.it/microzone_e_valori/20_porta_palazzo\n",
      "http://www.oict.polito.it/microzone_e_valori/21_palermo\n",
      "http://www.oict.polito.it/microzone_e_valori/22_michelotti\n",
      "http://www.oict.polito.it/microzone_e_valori/23_crimea\n",
      "http://www.oict.polito.it/microzone_e_valori/24_collina\n",
      "http://www.oict.polito.it/microzone_e_valori/25_zara\n",
      "http://www.oict.polito.it/microzone_e_valori/26_carducci\n",
      "http://www.oict.polito.it/microzone_e_valori/27_unita_d_italia\n",
      "http://www.oict.polito.it/microzone_e_valori/28_lingotto\n",
      "http://www.oict.polito.it/microzone_e_valori/29_santa_rita_mirafiori\n",
      "http://www.oict.polito.it/microzone_e_valori/30_mirafiori_sud\n",
      "http://www.oict.polito.it/microzone_e_valori/31_san_paolo\n",
      "http://www.oict.polito.it/microzone_e_valori/32_pozzo_strada\n",
      "http://www.oict.polito.it/microzone_e_valori/33_aereonautica_parella\n",
      "http://www.oict.polito.it/microzone_e_valori/34_spina_3_eurotorino\n",
      "http://www.oict.polito.it/microzone_e_valori/35_madonna_di_campagna\n",
      "http://www.oict.polito.it/microzone_e_valori/36_spina_4_docks_dora\n",
      "http://www.oict.polito.it/microzone_e_valori/37_rebaudengo\n",
      "http://www.oict.polito.it/microzone_e_valori/38_corona_nord_ovest\n",
      "http://www.oict.polito.it/microzone_e_valori/39_spina_1_marmolada\n",
      "http://www.oict.polito.it/microzone_e_valori/40_barca_bertolla\n"
     ]
    }
   ],
   "source": [
    "for i in interests:\n",
    "    print 'http://www.oict.polito.it'+i"
   ]
  },
  {
   "cell_type": "code",
   "execution_count": 13,
   "metadata": {
    "collapsed": true
   },
   "outputs": [
    {
     "name": "stdout",
     "output_type": "stream",
     "text": [
      "Microzona_01.pdf\n",
      "Microzona_02.pdf\n",
      "Microzona_03.pdf\n",
      "Microzona_04.pdf\n",
      "Microzona_05.pdf\n",
      "Microzona_06.pdf\n",
      "Microzona_07.pdf\n",
      "Microzona_08.pdf\n",
      "Microzona_09.pdf\n",
      "Microzona_10.pdf\n",
      "Microzona_11.pdf\n",
      "Microzona_12.pdf\n",
      "Microzona_13.pdf\n",
      "Microzona_14.pdf\n",
      "Microzona_15.pdf\n"
     ]
    },
    {
     "ename": "KeyboardInterrupt",
     "evalue": "",
     "output_type": "error",
     "traceback": [
      "\u001b[0;31m---------------------------------------------------------------------------\u001b[0m",
      "\u001b[0;31mKeyboardInterrupt\u001b[0m                         Traceback (most recent call last)",
      "\u001b[0;32m<ipython-input-13-edda97226cbd>\u001b[0m in \u001b[0;36m<module>\u001b[0;34m()\u001b[0m\n\u001b[1;32m      1\u001b[0m \u001b[0;32mfor\u001b[0m \u001b[0mi\u001b[0m \u001b[0;32min\u001b[0m \u001b[0minterests\u001b[0m\u001b[0;34m:\u001b[0m\u001b[0;34m\u001b[0m\u001b[0m\n\u001b[1;32m      2\u001b[0m     \u001b[0mnew_url\u001b[0m\u001b[0;34m=\u001b[0m\u001b[0;34m'http://www.oict.polito.it'\u001b[0m\u001b[0;34m+\u001b[0m\u001b[0mi\u001b[0m\u001b[0;34m\u001b[0m\u001b[0m\n\u001b[0;32m----> 3\u001b[0;31m     \u001b[0mresponse\u001b[0m \u001b[0;34m=\u001b[0m \u001b[0mrequests\u001b[0m\u001b[0;34m.\u001b[0m\u001b[0mget\u001b[0m\u001b[0;34m(\u001b[0m\u001b[0mnew_url\u001b[0m\u001b[0;34m)\u001b[0m\u001b[0;34m\u001b[0m\u001b[0m\n\u001b[0m\u001b[1;32m      4\u001b[0m     \u001b[0msoup2\u001b[0m \u001b[0;34m=\u001b[0m \u001b[0mBeautifulSoup\u001b[0m\u001b[0;34m(\u001b[0m\u001b[0mresponse\u001b[0m\u001b[0;34m.\u001b[0m\u001b[0mtext\u001b[0m\u001b[0;34m,\u001b[0m \u001b[0;34m\"html.parser\"\u001b[0m\u001b[0;34m)\u001b[0m\u001b[0;34m\u001b[0m\u001b[0m\n\u001b[1;32m      5\u001b[0m     \u001b[0mpdf\u001b[0m \u001b[0;34m=\u001b[0m \u001b[0;34m[\u001b[0m\u001b[0mstr\u001b[0m\u001b[0;34m(\u001b[0m\u001b[0ms\u001b[0m\u001b[0;34m[\u001b[0m\u001b[0;34m'href'\u001b[0m\u001b[0;34m]\u001b[0m\u001b[0;34m)\u001b[0m \u001b[0;32mfor\u001b[0m \u001b[0ms\u001b[0m \u001b[0;32min\u001b[0m \u001b[0msoup2\u001b[0m\u001b[0;34m.\u001b[0m\u001b[0mfindAll\u001b[0m\u001b[0;34m(\u001b[0m\u001b[0;34m'a'\u001b[0m\u001b[0;34m)\u001b[0m \u001b[0;32mif\u001b[0m \u001b[0;34m'Scarica la scheda valori'\u001b[0m \u001b[0;32min\u001b[0m \u001b[0mstr\u001b[0m\u001b[0;34m(\u001b[0m\u001b[0ms\u001b[0m\u001b[0;34m)\u001b[0m\u001b[0;34m]\u001b[0m\u001b[0;34m[\u001b[0m\u001b[0;36m0\u001b[0m\u001b[0;34m]\u001b[0m\u001b[0;34m\u001b[0m\u001b[0m\n",
      "\u001b[0;32m/home/eartiges/.local/lib/python2.7/site-packages/requests/api.pyc\u001b[0m in \u001b[0;36mget\u001b[0;34m(url, params, **kwargs)\u001b[0m\n\u001b[1;32m     73\u001b[0m \u001b[0;34m\u001b[0m\u001b[0m\n\u001b[1;32m     74\u001b[0m     \u001b[0mkwargs\u001b[0m\u001b[0;34m.\u001b[0m\u001b[0msetdefault\u001b[0m\u001b[0;34m(\u001b[0m\u001b[0;34m'allow_redirects'\u001b[0m\u001b[0;34m,\u001b[0m \u001b[0mTrue\u001b[0m\u001b[0;34m)\u001b[0m\u001b[0;34m\u001b[0m\u001b[0m\n\u001b[0;32m---> 75\u001b[0;31m     \u001b[0;32mreturn\u001b[0m \u001b[0mrequest\u001b[0m\u001b[0;34m(\u001b[0m\u001b[0;34m'get'\u001b[0m\u001b[0;34m,\u001b[0m \u001b[0murl\u001b[0m\u001b[0;34m,\u001b[0m \u001b[0mparams\u001b[0m\u001b[0;34m=\u001b[0m\u001b[0mparams\u001b[0m\u001b[0;34m,\u001b[0m \u001b[0;34m**\u001b[0m\u001b[0mkwargs\u001b[0m\u001b[0;34m)\u001b[0m\u001b[0;34m\u001b[0m\u001b[0m\n\u001b[0m\u001b[1;32m     76\u001b[0m \u001b[0;34m\u001b[0m\u001b[0m\n\u001b[1;32m     77\u001b[0m \u001b[0;34m\u001b[0m\u001b[0m\n",
      "\u001b[0;32m/home/eartiges/.local/lib/python2.7/site-packages/requests/api.pyc\u001b[0m in \u001b[0;36mrequest\u001b[0;34m(method, url, **kwargs)\u001b[0m\n\u001b[1;32m     58\u001b[0m     \u001b[0;31m# cases, and look like a memory leak in others.\u001b[0m\u001b[0;34m\u001b[0m\u001b[0;34m\u001b[0m\u001b[0m\n\u001b[1;32m     59\u001b[0m     \u001b[0;32mwith\u001b[0m \u001b[0msessions\u001b[0m\u001b[0;34m.\u001b[0m\u001b[0mSession\u001b[0m\u001b[0;34m(\u001b[0m\u001b[0;34m)\u001b[0m \u001b[0;32mas\u001b[0m \u001b[0msession\u001b[0m\u001b[0;34m:\u001b[0m\u001b[0;34m\u001b[0m\u001b[0m\n\u001b[0;32m---> 60\u001b[0;31m         \u001b[0;32mreturn\u001b[0m \u001b[0msession\u001b[0m\u001b[0;34m.\u001b[0m\u001b[0mrequest\u001b[0m\u001b[0;34m(\u001b[0m\u001b[0mmethod\u001b[0m\u001b[0;34m=\u001b[0m\u001b[0mmethod\u001b[0m\u001b[0;34m,\u001b[0m \u001b[0murl\u001b[0m\u001b[0;34m=\u001b[0m\u001b[0murl\u001b[0m\u001b[0;34m,\u001b[0m \u001b[0;34m**\u001b[0m\u001b[0mkwargs\u001b[0m\u001b[0;34m)\u001b[0m\u001b[0;34m\u001b[0m\u001b[0m\n\u001b[0m\u001b[1;32m     61\u001b[0m \u001b[0;34m\u001b[0m\u001b[0m\n\u001b[1;32m     62\u001b[0m \u001b[0;34m\u001b[0m\u001b[0m\n",
      "\u001b[0;32m/home/eartiges/.local/lib/python2.7/site-packages/requests/sessions.pyc\u001b[0m in \u001b[0;36mrequest\u001b[0;34m(self, method, url, params, data, headers, cookies, files, auth, timeout, allow_redirects, proxies, hooks, stream, verify, cert, json)\u001b[0m\n\u001b[1;32m    531\u001b[0m         }\n\u001b[1;32m    532\u001b[0m         \u001b[0msend_kwargs\u001b[0m\u001b[0;34m.\u001b[0m\u001b[0mupdate\u001b[0m\u001b[0;34m(\u001b[0m\u001b[0msettings\u001b[0m\u001b[0;34m)\u001b[0m\u001b[0;34m\u001b[0m\u001b[0m\n\u001b[0;32m--> 533\u001b[0;31m         \u001b[0mresp\u001b[0m \u001b[0;34m=\u001b[0m \u001b[0mself\u001b[0m\u001b[0;34m.\u001b[0m\u001b[0msend\u001b[0m\u001b[0;34m(\u001b[0m\u001b[0mprep\u001b[0m\u001b[0;34m,\u001b[0m \u001b[0;34m**\u001b[0m\u001b[0msend_kwargs\u001b[0m\u001b[0;34m)\u001b[0m\u001b[0;34m\u001b[0m\u001b[0m\n\u001b[0m\u001b[1;32m    534\u001b[0m \u001b[0;34m\u001b[0m\u001b[0m\n\u001b[1;32m    535\u001b[0m         \u001b[0;32mreturn\u001b[0m \u001b[0mresp\u001b[0m\u001b[0;34m\u001b[0m\u001b[0m\n",
      "\u001b[0;32m/home/eartiges/.local/lib/python2.7/site-packages/requests/sessions.pyc\u001b[0m in \u001b[0;36msend\u001b[0;34m(self, request, **kwargs)\u001b[0m\n\u001b[1;32m    644\u001b[0m \u001b[0;34m\u001b[0m\u001b[0m\n\u001b[1;32m    645\u001b[0m         \u001b[0;31m# Send the request\u001b[0m\u001b[0;34m\u001b[0m\u001b[0;34m\u001b[0m\u001b[0m\n\u001b[0;32m--> 646\u001b[0;31m         \u001b[0mr\u001b[0m \u001b[0;34m=\u001b[0m \u001b[0madapter\u001b[0m\u001b[0;34m.\u001b[0m\u001b[0msend\u001b[0m\u001b[0;34m(\u001b[0m\u001b[0mrequest\u001b[0m\u001b[0;34m,\u001b[0m \u001b[0;34m**\u001b[0m\u001b[0mkwargs\u001b[0m\u001b[0;34m)\u001b[0m\u001b[0;34m\u001b[0m\u001b[0m\n\u001b[0m\u001b[1;32m    647\u001b[0m \u001b[0;34m\u001b[0m\u001b[0m\n\u001b[1;32m    648\u001b[0m         \u001b[0;31m# Total elapsed time of the request (approximately)\u001b[0m\u001b[0;34m\u001b[0m\u001b[0;34m\u001b[0m\u001b[0m\n",
      "\u001b[0;32m/home/eartiges/.local/lib/python2.7/site-packages/requests/adapters.pyc\u001b[0m in \u001b[0;36msend\u001b[0;34m(self, request, stream, timeout, verify, cert, proxies)\u001b[0m\n\u001b[1;32m    447\u001b[0m                     \u001b[0mdecode_content\u001b[0m\u001b[0;34m=\u001b[0m\u001b[0mFalse\u001b[0m\u001b[0;34m,\u001b[0m\u001b[0;34m\u001b[0m\u001b[0m\n\u001b[1;32m    448\u001b[0m                     \u001b[0mretries\u001b[0m\u001b[0;34m=\u001b[0m\u001b[0mself\u001b[0m\u001b[0;34m.\u001b[0m\u001b[0mmax_retries\u001b[0m\u001b[0;34m,\u001b[0m\u001b[0;34m\u001b[0m\u001b[0m\n\u001b[0;32m--> 449\u001b[0;31m                     \u001b[0mtimeout\u001b[0m\u001b[0;34m=\u001b[0m\u001b[0mtimeout\u001b[0m\u001b[0;34m\u001b[0m\u001b[0m\n\u001b[0m\u001b[1;32m    450\u001b[0m                 )\n\u001b[1;32m    451\u001b[0m \u001b[0;34m\u001b[0m\u001b[0m\n",
      "\u001b[0;32m/home/eartiges/.local/lib/python2.7/site-packages/urllib3/connectionpool.pyc\u001b[0m in \u001b[0;36murlopen\u001b[0;34m(self, method, url, body, headers, retries, redirect, assert_same_host, timeout, pool_timeout, release_conn, chunked, body_pos, **response_kw)\u001b[0m\n\u001b[1;32m    598\u001b[0m                                                   \u001b[0mtimeout\u001b[0m\u001b[0;34m=\u001b[0m\u001b[0mtimeout_obj\u001b[0m\u001b[0;34m,\u001b[0m\u001b[0;34m\u001b[0m\u001b[0m\n\u001b[1;32m    599\u001b[0m                                                   \u001b[0mbody\u001b[0m\u001b[0;34m=\u001b[0m\u001b[0mbody\u001b[0m\u001b[0;34m,\u001b[0m \u001b[0mheaders\u001b[0m\u001b[0;34m=\u001b[0m\u001b[0mheaders\u001b[0m\u001b[0;34m,\u001b[0m\u001b[0;34m\u001b[0m\u001b[0m\n\u001b[0;32m--> 600\u001b[0;31m                                                   chunked=chunked)\n\u001b[0m\u001b[1;32m    601\u001b[0m \u001b[0;34m\u001b[0m\u001b[0m\n\u001b[1;32m    602\u001b[0m             \u001b[0;31m# If we're going to release the connection in ``finally:``, then\u001b[0m\u001b[0;34m\u001b[0m\u001b[0;34m\u001b[0m\u001b[0m\n",
      "\u001b[0;32m/home/eartiges/.local/lib/python2.7/site-packages/urllib3/connectionpool.pyc\u001b[0m in \u001b[0;36m_make_request\u001b[0;34m(self, conn, method, url, timeout, chunked, **httplib_request_kw)\u001b[0m\n\u001b[1;32m    375\u001b[0m         \u001b[0;32mtry\u001b[0m\u001b[0;34m:\u001b[0m\u001b[0;34m\u001b[0m\u001b[0m\n\u001b[1;32m    376\u001b[0m             \u001b[0;32mtry\u001b[0m\u001b[0;34m:\u001b[0m  \u001b[0;31m# Python 2.7, use buffering of HTTP responses\u001b[0m\u001b[0;34m\u001b[0m\u001b[0m\n\u001b[0;32m--> 377\u001b[0;31m                 \u001b[0mhttplib_response\u001b[0m \u001b[0;34m=\u001b[0m \u001b[0mconn\u001b[0m\u001b[0;34m.\u001b[0m\u001b[0mgetresponse\u001b[0m\u001b[0;34m(\u001b[0m\u001b[0mbuffering\u001b[0m\u001b[0;34m=\u001b[0m\u001b[0mTrue\u001b[0m\u001b[0;34m)\u001b[0m\u001b[0;34m\u001b[0m\u001b[0m\n\u001b[0m\u001b[1;32m    378\u001b[0m             \u001b[0;32mexcept\u001b[0m \u001b[0mTypeError\u001b[0m\u001b[0;34m:\u001b[0m  \u001b[0;31m# Python 3\u001b[0m\u001b[0;34m\u001b[0m\u001b[0m\n\u001b[1;32m    379\u001b[0m                 \u001b[0;32mtry\u001b[0m\u001b[0;34m:\u001b[0m\u001b[0;34m\u001b[0m\u001b[0m\n",
      "\u001b[0;32m/usr/lib/python2.7/httplib.pyc\u001b[0m in \u001b[0;36mgetresponse\u001b[0;34m(self, buffering)\u001b[0m\n\u001b[1;32m   1119\u001b[0m \u001b[0;34m\u001b[0m\u001b[0m\n\u001b[1;32m   1120\u001b[0m         \u001b[0;32mtry\u001b[0m\u001b[0;34m:\u001b[0m\u001b[0;34m\u001b[0m\u001b[0m\n\u001b[0;32m-> 1121\u001b[0;31m             \u001b[0mresponse\u001b[0m\u001b[0;34m.\u001b[0m\u001b[0mbegin\u001b[0m\u001b[0;34m(\u001b[0m\u001b[0;34m)\u001b[0m\u001b[0;34m\u001b[0m\u001b[0m\n\u001b[0m\u001b[1;32m   1122\u001b[0m             \u001b[0;32massert\u001b[0m \u001b[0mresponse\u001b[0m\u001b[0;34m.\u001b[0m\u001b[0mwill_close\u001b[0m \u001b[0;34m!=\u001b[0m \u001b[0m_UNKNOWN\u001b[0m\u001b[0;34m\u001b[0m\u001b[0m\n\u001b[1;32m   1123\u001b[0m             \u001b[0mself\u001b[0m\u001b[0;34m.\u001b[0m\u001b[0m__state\u001b[0m \u001b[0;34m=\u001b[0m \u001b[0m_CS_IDLE\u001b[0m\u001b[0;34m\u001b[0m\u001b[0m\n",
      "\u001b[0;32m/usr/lib/python2.7/httplib.pyc\u001b[0m in \u001b[0;36mbegin\u001b[0;34m(self)\u001b[0m\n\u001b[1;32m    436\u001b[0m         \u001b[0;31m# read until we get a non-100 response\u001b[0m\u001b[0;34m\u001b[0m\u001b[0;34m\u001b[0m\u001b[0m\n\u001b[1;32m    437\u001b[0m         \u001b[0;32mwhile\u001b[0m \u001b[0mTrue\u001b[0m\u001b[0;34m:\u001b[0m\u001b[0;34m\u001b[0m\u001b[0m\n\u001b[0;32m--> 438\u001b[0;31m             \u001b[0mversion\u001b[0m\u001b[0;34m,\u001b[0m \u001b[0mstatus\u001b[0m\u001b[0;34m,\u001b[0m \u001b[0mreason\u001b[0m \u001b[0;34m=\u001b[0m \u001b[0mself\u001b[0m\u001b[0;34m.\u001b[0m\u001b[0m_read_status\u001b[0m\u001b[0;34m(\u001b[0m\u001b[0;34m)\u001b[0m\u001b[0;34m\u001b[0m\u001b[0m\n\u001b[0m\u001b[1;32m    439\u001b[0m             \u001b[0;32mif\u001b[0m \u001b[0mstatus\u001b[0m \u001b[0;34m!=\u001b[0m \u001b[0mCONTINUE\u001b[0m\u001b[0;34m:\u001b[0m\u001b[0;34m\u001b[0m\u001b[0m\n\u001b[1;32m    440\u001b[0m                 \u001b[0;32mbreak\u001b[0m\u001b[0;34m\u001b[0m\u001b[0m\n",
      "\u001b[0;32m/usr/lib/python2.7/httplib.pyc\u001b[0m in \u001b[0;36m_read_status\u001b[0;34m(self)\u001b[0m\n\u001b[1;32m    392\u001b[0m     \u001b[0;32mdef\u001b[0m \u001b[0m_read_status\u001b[0m\u001b[0;34m(\u001b[0m\u001b[0mself\u001b[0m\u001b[0;34m)\u001b[0m\u001b[0;34m:\u001b[0m\u001b[0;34m\u001b[0m\u001b[0m\n\u001b[1;32m    393\u001b[0m         \u001b[0;31m# Initialize with Simple-Response defaults\u001b[0m\u001b[0;34m\u001b[0m\u001b[0;34m\u001b[0m\u001b[0m\n\u001b[0;32m--> 394\u001b[0;31m         \u001b[0mline\u001b[0m \u001b[0;34m=\u001b[0m \u001b[0mself\u001b[0m\u001b[0;34m.\u001b[0m\u001b[0mfp\u001b[0m\u001b[0;34m.\u001b[0m\u001b[0mreadline\u001b[0m\u001b[0;34m(\u001b[0m\u001b[0m_MAXLINE\u001b[0m \u001b[0;34m+\u001b[0m \u001b[0;36m1\u001b[0m\u001b[0;34m)\u001b[0m\u001b[0;34m\u001b[0m\u001b[0m\n\u001b[0m\u001b[1;32m    395\u001b[0m         \u001b[0;32mif\u001b[0m \u001b[0mlen\u001b[0m\u001b[0;34m(\u001b[0m\u001b[0mline\u001b[0m\u001b[0;34m)\u001b[0m \u001b[0;34m>\u001b[0m \u001b[0m_MAXLINE\u001b[0m\u001b[0;34m:\u001b[0m\u001b[0;34m\u001b[0m\u001b[0m\n\u001b[1;32m    396\u001b[0m             \u001b[0;32mraise\u001b[0m \u001b[0mLineTooLong\u001b[0m\u001b[0;34m(\u001b[0m\u001b[0;34m\"header line\"\u001b[0m\u001b[0;34m)\u001b[0m\u001b[0;34m\u001b[0m\u001b[0m\n",
      "\u001b[0;32m/usr/lib/python2.7/socket.pyc\u001b[0m in \u001b[0;36mreadline\u001b[0;34m(self, size)\u001b[0m\n\u001b[1;32m    478\u001b[0m             \u001b[0;32mwhile\u001b[0m \u001b[0mTrue\u001b[0m\u001b[0;34m:\u001b[0m\u001b[0;34m\u001b[0m\u001b[0m\n\u001b[1;32m    479\u001b[0m                 \u001b[0;32mtry\u001b[0m\u001b[0;34m:\u001b[0m\u001b[0;34m\u001b[0m\u001b[0m\n\u001b[0;32m--> 480\u001b[0;31m                     \u001b[0mdata\u001b[0m \u001b[0;34m=\u001b[0m \u001b[0mself\u001b[0m\u001b[0;34m.\u001b[0m\u001b[0m_sock\u001b[0m\u001b[0;34m.\u001b[0m\u001b[0mrecv\u001b[0m\u001b[0;34m(\u001b[0m\u001b[0mself\u001b[0m\u001b[0;34m.\u001b[0m\u001b[0m_rbufsize\u001b[0m\u001b[0;34m)\u001b[0m\u001b[0;34m\u001b[0m\u001b[0m\n\u001b[0m\u001b[1;32m    481\u001b[0m                 \u001b[0;32mexcept\u001b[0m \u001b[0merror\u001b[0m\u001b[0;34m,\u001b[0m \u001b[0me\u001b[0m\u001b[0;34m:\u001b[0m\u001b[0;34m\u001b[0m\u001b[0m\n\u001b[1;32m    482\u001b[0m                     \u001b[0;32mif\u001b[0m \u001b[0me\u001b[0m\u001b[0;34m.\u001b[0m\u001b[0margs\u001b[0m\u001b[0;34m[\u001b[0m\u001b[0;36m0\u001b[0m\u001b[0;34m]\u001b[0m \u001b[0;34m==\u001b[0m \u001b[0mEINTR\u001b[0m\u001b[0;34m:\u001b[0m\u001b[0;34m\u001b[0m\u001b[0m\n",
      "\u001b[0;31mKeyboardInterrupt\u001b[0m: "
     ]
    }
   ],
   "source": [
    "for i in interests:\n",
    "    new_url='http://www.oict.polito.it'+i\n",
    "    response = requests.get(new_url)\n",
    "    soup2 = BeautifulSoup(response.text, \"html.parser\")\n",
    "    pdf = [str(s['href']) for s in soup2.findAll('a') if 'Scarica la scheda valori' in str(s)][0]\n",
    "    print pdf.split('/')[-1]"
   ]
  },
  {
   "cell_type": "code",
   "execution_count": 18,
   "metadata": {},
   "outputs": [
    {
     "name": "stdout",
     "output_type": "stream",
     "text": [
      "http://www.oict.polito.it/content/download/74/295/version/43/file/Microzona_01.pdf\n",
      "http://www.oict.polito.it/content/download/75/304/version/33/file/Microzona_02.pdf\n",
      "http://www.oict.polito.it/content/download/91/395/version/28/file/Microzona_03.pdf\n",
      "http://www.oict.polito.it/content/download/92/404/version/26/file/Microzona_04.pdf\n",
      "http://www.oict.polito.it/content/download/93/413/version/27/file/Microzona_05.pdf\n",
      "http://www.oict.polito.it/content/download/94/422/version/31/file/Microzona_06.pdf\n",
      "http://www.oict.polito.it/content/download/95/431/version/25/file/Microzona_07.pdf\n",
      "http://www.oict.polito.it/content/download/96/440/version/27/file/Microzona_08.pdf\n",
      "http://www.oict.polito.it/content/download/97/449/version/25/file/Microzona_09.pdf\n",
      "http://www.oict.polito.it/content/download/98/458/version/29/file/Microzona_10.pdf\n",
      "http://www.oict.polito.it/content/download/99/467/version/25/file/Microzona_11.pdf\n",
      "http://www.oict.polito.it/content/download/100/476/version/28/file/Microzona_12.pdf\n",
      "http://www.oict.polito.it/content/download/101/485/version/26/file/Microzona_13.pdf\n",
      "http://www.oict.polito.it/content/download/102/494/version/28/file/Microzona_14.pdf\n",
      "http://www.oict.polito.it/content/download/103/503/version/26/file/Microzona_15.pdf\n",
      "http://www.oict.polito.it/content/download/104/512/version/27/file/Microzona_16.pdf\n",
      "http://www.oict.polito.it/content/download/105/521/version/25/file/Microzona_17.pdf\n",
      "http://www.oict.polito.it/content/download/106/530/version/25/file/Microzona_18.pdf\n",
      "http://www.oict.polito.it/content/download/107/539/version/26/file/Microzona_19.pdf\n",
      "http://www.oict.polito.it/content/download/109/551/version/25/file/Microzona_20.pdf\n",
      "http://www.oict.polito.it/content/download/110/560/version/25/file/Microzona_21.pdf\n",
      "http://www.oict.polito.it/content/download/111/569/version/25/file/Microzona_22.pdf\n",
      "http://www.oict.polito.it/content/download/112/578/version/27/file/Microzona_23.pdf\n",
      "http://www.oict.polito.it/content/download/113/587/version/25/file/Microzona_24.pdf\n",
      "http://www.oict.polito.it/content/download/114/596/version/25/file/Microzona_25.pdf\n",
      "http://www.oict.polito.it/content/download/115/605/version/26/file/Microzona_26.pdf\n",
      "http://www.oict.polito.it/content/download/116/614/version/26/file/Microzona_27.pdf\n",
      "http://www.oict.polito.it/content/download/118/629/version/26/file/Microzona_28.pdf\n",
      "http://www.oict.polito.it/content/download/119/638/version/25/file/Microzona_29.pdf\n",
      "http://www.oict.polito.it/content/download/120/647/version/26/file/Microzona_30.pdf\n",
      "http://www.oict.polito.it/content/download/121/656/version/25/file/Microzona_31.pdf\n",
      "http://www.oict.polito.it/content/download/122/665/version/26/file/Microzona_32.pdf\n",
      "http://www.oict.polito.it/content/download/123/674/version/25/file/Microzona_33.pdf\n",
      "http://www.oict.polito.it/content/download/124/683/version/27/file/Microzona_34.pdf\n",
      "http://www.oict.polito.it/content/download/125/692/version/28/file/Microzona_35.pdf\n",
      "http://www.oict.polito.it/content/download/126/701/version/26/file/Microzona_36.pdf\n",
      "http://www.oict.polito.it/content/download/127/710/version/26/file/Microzona_37.pdf\n",
      "http://www.oict.polito.it/content/download/128/719/version/28/file/Microzona_38.pdf\n",
      "http://www.oict.polito.it/content/download/129/728/version/26/file/Microzona_39.pdf\n",
      "http://www.oict.polito.it/content/download/130/737/version/25/file/Microzona_40.pdf\n"
     ]
    }
   ],
   "source": [
    "for i in interests:\n",
    "    new_url='http://www.oict.polito.it'+i\n",
    "    response = requests.get(new_url)\n",
    "    soup2 = BeautifulSoup(response.text, \"html.parser\")\n",
    "    pdf = [str(s['href']) for s in soup2.findAll('a') if 'Scarica la scheda valori' in str(s)][0]\n",
    "    print 'http://www.oict.polito.it'+str(pdf)\n",
    "    wget.download('http://www.oict.polito.it'+str(pdf), 'OICT/'+pdf.split('/')[-1]) "
   ]
  },
  {
   "cell_type": "code",
   "execution_count": 50,
   "metadata": {},
   "outputs": [],
   "source": [
    "soup2 = BeautifulSoup(response.text, \"html.parser\")"
   ]
  },
  {
   "cell_type": "code",
   "execution_count": 55,
   "metadata": {},
   "outputs": [
    {
     "data": {
      "text/plain": [
       "u'/content/download/74/295/version/43/file/Microzona_01.pdf'"
      ]
     },
     "execution_count": 55,
     "metadata": {},
     "output_type": "execute_result"
    }
   ],
   "source": [
    "[s['href'] for s in soup2.findAll('a') if s['title']=='Scarica la scheda valori'][0]"
   ]
  },
  {
   "cell_type": "code",
   "execution_count": null,
   "metadata": {},
   "outputs": [],
   "source": []
  }
 ],
 "metadata": {
  "kernelspec": {
   "display_name": "Python 2",
   "language": "python",
   "name": "python2"
  },
  "language_info": {
   "codemirror_mode": {
    "name": "ipython",
    "version": 2
   },
   "file_extension": ".py",
   "mimetype": "text/x-python",
   "name": "python",
   "nbconvert_exporter": "python",
   "pygments_lexer": "ipython2",
   "version": "2.7.15rc1"
  }
 },
 "nbformat": 4,
 "nbformat_minor": 2
}
