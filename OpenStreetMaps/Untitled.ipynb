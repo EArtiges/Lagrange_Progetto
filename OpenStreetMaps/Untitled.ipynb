{
 "cells": [
  {
   "cell_type": "code",
   "execution_count": 125,
   "metadata": {},
   "outputs": [],
   "source": [
    "import sys\n",
    "sys.path.append('/home/eartiges/miniconda2/lib/python2.7/site-packages')\n",
    "import ogr\n",
    "import gdal\n",
    "\n",
    "osm = ogr.Open('map')\n",
    "# Grab available layers in file\n",
    "nLayerCount = osm.GetLayerCount()\n",
    "nameList = []\n",
    "thereIsDataInLayer = True\n",
    "\n",
    "pubs = []"
   ]
  },
  {
   "cell_type": "code",
   "execution_count": 2,
   "metadata": {},
   "outputs": [],
   "source": [
    "while thereIsDataInLayer:\n",
    "\n",
    "    thereIsDataInLayer = False\n",
    "\n",
    "    # Cycle through available layers\n",
    "    for iLayer in xrange(nLayerCount):\n",
    "\n",
    "        lyr=osm.GetLayer(iLayer)\n",
    "\n",
    "        # Get first feature from layer\n",
    "        feat = lyr.GetNextFeature()\n",
    "\n",
    "        while (feat is not None):\n",
    "\n",
    "            thereIsDataInLayer = True\n",
    "\n",
    "             #Do something with feature, in this case store them in a list\n",
    "            try:\n",
    "                if feat.GetField(\"highway\") != None:\n",
    "                    name = feat.GetField(\"name\")\n",
    "                    if name != None and name not in nameList: # only streets that have a name and are not yet in the list\n",
    "                        nameList.append(name)\n",
    "            except KeyError:\n",
    "                pass\n",
    "             #The destroy method is necessary for interleaved reading\n",
    "            feat.Destroy()\n",
    "\n",
    "            feat = lyr.GetNextFeature()\n",
    "        break"
   ]
  },
  {
   "cell_type": "code",
   "execution_count": 128,
   "metadata": {},
   "outputs": [],
   "source": [
    "lyr=osm.GetLayer(1)"
   ]
  },
  {
   "cell_type": "code",
   "execution_count": 129,
   "metadata": {},
   "outputs": [
    {
     "name": "stdout",
     "output_type": "stream",
     "text": [
      "no more data\n"
     ]
    }
   ],
   "source": [
    "while(True):\n",
    "    feat = lyr.GetNextFeature()\n",
    "    if feat is not None:\n",
    "        if 'address' in feat.keys():\n",
    "            if feat.items()['address']:\n",
    "                break\n",
    "    else:\n",
    "        print('no more data')\n",
    "        break"
   ]
  },
  {
   "cell_type": "code",
   "execution_count": 144,
   "metadata": {
    "collapsed": true
   },
   "outputs": [
    {
     "ename": "TypeError",
     "evalue": "DataSource_GetLayerByName() takes exactly 2 arguments (1 given)",
     "output_type": "error",
     "traceback": [
      "\u001b[0;31m---------------------------------------------------------------------------\u001b[0m",
      "\u001b[0;31mTypeError\u001b[0m                                 Traceback (most recent call last)",
      "\u001b[0;32m<ipython-input-144-14381ade3d5d>\u001b[0m in \u001b[0;36m<module>\u001b[0;34m()\u001b[0m\n\u001b[0;32m----> 1\u001b[0;31m \u001b[0mosm\u001b[0m\u001b[0;34m.\u001b[0m\u001b[0mGetLayerByName\u001b[0m\u001b[0;34m(\u001b[0m\u001b[0;34m)\u001b[0m\u001b[0;34m\u001b[0m\u001b[0m\n\u001b[0m",
      "\u001b[0;32m/home/eartiges/miniconda2/lib/python2.7/site-packages/osgeo/ogr.pyc\u001b[0m in \u001b[0;36mGetLayerByName\u001b[0;34m(self, *args)\u001b[0m\n\u001b[1;32m   1003\u001b[0m         \u001b[0moccurs\u001b[0m\u001b[0;34m.\u001b[0m\u001b[0;34m\u001b[0m\u001b[0m\n\u001b[1;32m   1004\u001b[0m         \"\"\"\n\u001b[0;32m-> 1005\u001b[0;31m         \u001b[0;32mreturn\u001b[0m \u001b[0m_ogr\u001b[0m\u001b[0;34m.\u001b[0m\u001b[0mDataSource_GetLayerByName\u001b[0m\u001b[0;34m(\u001b[0m\u001b[0mself\u001b[0m\u001b[0;34m,\u001b[0m \u001b[0;34m*\u001b[0m\u001b[0margs\u001b[0m\u001b[0;34m)\u001b[0m\u001b[0;34m\u001b[0m\u001b[0m\n\u001b[0m\u001b[1;32m   1006\u001b[0m \u001b[0;34m\u001b[0m\u001b[0m\n\u001b[1;32m   1007\u001b[0m \u001b[0;34m\u001b[0m\u001b[0m\n",
      "\u001b[0;31mTypeError\u001b[0m: DataSource_GetLayerByName() takes exactly 2 arguments (1 given)"
     ]
    }
   ],
   "source": [
    "osm.GetLayerByName()"
   ]
  },
  {
   "cell_type": "code",
   "execution_count": 117,
   "metadata": {
    "collapsed": true
   },
   "outputs": [
    {
     "ename": "AttributeError",
     "evalue": "'NoneType' object has no attribute 'items'",
     "output_type": "error",
     "traceback": [
      "\u001b[0;31m---------------------------------------------------------------------------\u001b[0m",
      "\u001b[0;31mAttributeError\u001b[0m                            Traceback (most recent call last)",
      "\u001b[0;32m<ipython-input-117-87665ebbe0e0>\u001b[0m in \u001b[0;36m<module>\u001b[0;34m()\u001b[0m\n\u001b[0;32m----> 1\u001b[0;31m \u001b[0mfeat\u001b[0m\u001b[0;34m.\u001b[0m\u001b[0mitems\u001b[0m\u001b[0;34m(\u001b[0m\u001b[0;34m)\u001b[0m\u001b[0;34m\u001b[0m\u001b[0m\n\u001b[0m",
      "\u001b[0;31mAttributeError\u001b[0m: 'NoneType' object has no attribute 'items'"
     ]
    }
   ],
   "source": [
    "feat.items()"
   ]
  },
  {
   "cell_type": "code",
   "execution_count": 86,
   "metadata": {},
   "outputs": [
    {
     "data": {
      "text/plain": [
       "'{\"geometry\": {\"type\": \"Point\", \"coordinates\": [7.6658891, 45.0583373]}, \"type\": \"Feature\", \"properties\": {\"other_tags\": \"\\\\\"traffic_signals\\\\\"=>\\\\\"signal\\\\\"\", \"name\": null, \"barrier\": null, \"osm_id\": \"13929782\", \"man_made\": null, \"place\": null, \"address\": null, \"ref\": null, \"highway\": \"traffic_signals\", \"is_in\": null}, \"id\": 13929782}'"
      ]
     },
     "execution_count": 86,
     "metadata": {},
     "output_type": "execute_result"
    }
   ],
   "source": [
    "feat.ExportToJson()"
   ]
  },
  {
   "cell_type": "code",
   "execution_count": 60,
   "metadata": {
    "collapsed": true
   },
   "outputs": [
    {
     "ename": "KeyError",
     "evalue": "'Illegal field requested in GetField()'",
     "output_type": "error",
     "traceback": [
      "\u001b[0;31m---------------------------------------------------------------------------\u001b[0m",
      "\u001b[0;31mKeyError\u001b[0m                                  Traceback (most recent call last)",
      "\u001b[0;32m<ipython-input-60-445cbf54fdc7>\u001b[0m in \u001b[0;36m<module>\u001b[0;34m()\u001b[0m\n\u001b[0;32m----> 1\u001b[0;31m \u001b[0mfeat\u001b[0m\u001b[0;34m.\u001b[0m\u001b[0mGetField\u001b[0m\u001b[0;34m(\u001b[0m\u001b[0;34m'type'\u001b[0m\u001b[0;34m)\u001b[0m\u001b[0;34m\u001b[0m\u001b[0m\n\u001b[0m",
      "\u001b[0;32m/home/eartiges/miniconda2/lib/python2.7/site-packages/osgeo/ogr.pyc\u001b[0m in \u001b[0;36mGetField\u001b[0;34m(self, fld_index)\u001b[0m\n\u001b[1;32m   4725\u001b[0m             \u001b[0mfld_index\u001b[0m \u001b[0;34m=\u001b[0m \u001b[0mself\u001b[0m\u001b[0;34m.\u001b[0m\u001b[0mGetFieldIndex\u001b[0m\u001b[0;34m(\u001b[0m\u001b[0mfld_index\u001b[0m\u001b[0;34m)\u001b[0m\u001b[0;34m\u001b[0m\u001b[0m\n\u001b[1;32m   4726\u001b[0m         \u001b[0;32mif\u001b[0m \u001b[0;34m(\u001b[0m\u001b[0mfld_index\u001b[0m \u001b[0;34m<\u001b[0m \u001b[0;36m0\u001b[0m\u001b[0;34m)\u001b[0m \u001b[0;32mor\u001b[0m \u001b[0;34m(\u001b[0m\u001b[0mfld_index\u001b[0m \u001b[0;34m>\u001b[0m \u001b[0mself\u001b[0m\u001b[0;34m.\u001b[0m\u001b[0mGetFieldCount\u001b[0m\u001b[0;34m(\u001b[0m\u001b[0;34m)\u001b[0m\u001b[0;34m)\u001b[0m\u001b[0;34m:\u001b[0m\u001b[0;34m\u001b[0m\u001b[0m\n\u001b[0;32m-> 4727\u001b[0;31m             \u001b[0;32mraise\u001b[0m \u001b[0mKeyError\u001b[0m\u001b[0;34m(\u001b[0m\u001b[0;34m\"Illegal field requested in GetField()\"\u001b[0m\u001b[0;34m)\u001b[0m\u001b[0;34m\u001b[0m\u001b[0m\n\u001b[0m\u001b[1;32m   4728\u001b[0m         \u001b[0;32mif\u001b[0m \u001b[0;32mnot\u001b[0m \u001b[0;34m(\u001b[0m\u001b[0mself\u001b[0m\u001b[0;34m.\u001b[0m\u001b[0mIsFieldSet\u001b[0m\u001b[0;34m(\u001b[0m\u001b[0mfld_index\u001b[0m\u001b[0;34m)\u001b[0m\u001b[0;34m)\u001b[0m \u001b[0;32mor\u001b[0m \u001b[0mself\u001b[0m\u001b[0;34m.\u001b[0m\u001b[0mIsFieldNull\u001b[0m\u001b[0;34m(\u001b[0m\u001b[0mfld_index\u001b[0m\u001b[0;34m)\u001b[0m\u001b[0;34m:\u001b[0m\u001b[0;34m\u001b[0m\u001b[0m\n\u001b[1;32m   4729\u001b[0m             \u001b[0;32mreturn\u001b[0m \u001b[0mNone\u001b[0m\u001b[0;34m\u001b[0m\u001b[0m\n",
      "\u001b[0;31mKeyError\u001b[0m: 'Illegal field requested in GetField()'"
     ]
    }
   ],
   "source": [
    "feat.GetField('type')"
   ]
  },
  {
   "cell_type": "code",
   "execution_count": 32,
   "metadata": {
    "collapsed": true
   },
   "outputs": [
    {
     "data": {
      "text/plain": [
       "{'admin_level': '8',\n",
       " 'aeroway': None,\n",
       " 'amenity': None,\n",
       " 'barrier': None,\n",
       " 'boundary': 'administrative',\n",
       " 'building': None,\n",
       " 'craft': None,\n",
       " 'geological': None,\n",
       " 'historic': None,\n",
       " 'land_area': None,\n",
       " 'landuse': None,\n",
       " 'leisure': None,\n",
       " 'man_made': None,\n",
       " 'military': None,\n",
       " 'name': 'Nichelino',\n",
       " 'natural': None,\n",
       " 'office': None,\n",
       " 'osm_id': '43921',\n",
       " 'osm_way_id': None,\n",
       " 'other_tags': '\"ref:ISTAT\"=>\"001164\",\"ref:catasto\"=>\"F889\",\"wikidata\"=>\"Q9498\",\"wikipedia\"=>\"it:Nichelino\"',\n",
       " 'place': None,\n",
       " 'shop': None,\n",
       " 'sport': None,\n",
       " 'tourism': None,\n",
       " 'type': 'boundary'}"
      ]
     },
     "execution_count": 32,
     "metadata": {},
     "output_type": "execute_result"
    }
   ],
   "source": [
    "feat.items()"
   ]
  },
  {
   "cell_type": "code",
   "execution_count": null,
   "metadata": {},
   "outputs": [],
   "source": [
    "f=open('street_names.txt','w')\n",
    "for s in nameList:\n",
    "    f.write(s+' \\n')\n",
    "f.close()"
   ]
  }
 ],
 "metadata": {
  "kernelspec": {
   "display_name": "Python 2",
   "language": "python",
   "name": "python2"
  },
  "language_info": {
   "codemirror_mode": {
    "name": "ipython",
    "version": 2
   },
   "file_extension": ".py",
   "mimetype": "text/x-python",
   "name": "python",
   "nbconvert_exporter": "python",
   "pygments_lexer": "ipython2",
   "version": "2.7.15rc1"
  }
 },
 "nbformat": 4,
 "nbformat_minor": 2
}
