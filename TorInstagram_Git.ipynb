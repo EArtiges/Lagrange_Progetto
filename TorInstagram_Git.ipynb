{
 "cells": [
  {
   "cell_type": "code",
   "execution_count": 1,
   "metadata": {},
   "outputs": [],
   "source": [
    "import shelve\n",
    "import gdbm\n",
    "mod = __import__('gdbm')\n",
    "import dumbdbm\n",
    "import pandas as pd\n",
    "from sklearn.feature_extraction import text\n",
    "from sklearn.feature_extraction.text import TfidfTransformer\n",
    "from sklearn import datasets, decomposition\n",
    "import numpy as np\n",
    "import gc\n",
    "from datetime import datetime\n",
    "import datetime as dt\n",
    "#datetime.strptime('2016-03-29','%Y-%d-%m')\n",
    "import dateparser\n",
    "from ipykernel import kernelapp as app\n",
    "import csv\n",
    "import matplotlib.pyplot as plt\n",
    "import matplotlib.dates as mdates\n",
    "from operator import itemgetter\n",
    "import folium\n",
    "from folium.plugins import HeatMap\n",
    "import Instalib as IL\n",
    "import math\n",
    "import re\n",
    "import string\n",
    "import emoji\n",
    "import pickle\n",
    "import scipy.io\n",
    "from sklearn.feature_extraction.text import CountVectorizer\n",
    "import nltk.stem\n",
    "import sktensor\n",
    "import geopy.distance\n",
    "from itertools import groupby\n",
    "import ncp"
   ]
  },
  {
   "cell_type": "markdown",
   "metadata": {},
   "source": [
    "### "
   ]
  },
  {
   "cell_type": "markdown",
   "metadata": {},
   "source": [
    "# Open the file and have a first look"
   ]
  },
  {
   "cell_type": "markdown",
   "metadata": {},
   "source": [
    "Read the data and concatenate in a single DataFrame file, basic file format for pandas. It's a 2-D object, tabular file with labeled rows and columns, built from a dictionary or such. \n",
    "\n",
    "More info about it here: https://pandas.pydata.org/pandas-docs/stable/10min.html\n",
    "\n",
    "Make our life easier by matching the Torino labels with the Marseille ones and convert strings to datetime"
   ]
  },
  {
   "cell_type": "code",
   "execution_count": null,
   "metadata": {},
   "outputs": [],
   "source": [
    "df_new=pd.read_csv('/data/marcoq/instagram/torino/torino_posts.csv',lineterminator='\\n')\n",
    "df_new=df_new.rename(columns = {'caption':'text','taken_at_timestamp':'date'})\n",
    "df_new.head()"
   ]
  },
  {
   "cell_type": "code",
   "execution_count": null,
   "metadata": {},
   "outputs": [],
   "source": [
    "list_dates, Histo = IL.N_posts(df_new, debug=False)\n",
    "Npostslog=[np.log10(H) for H in Histo]\n",
    "Nposts=[H for H in Histo]"
   ]
  },
  {
   "cell_type": "code",
   "execution_count": null,
   "metadata": {},
   "outputs": [],
   "source": [
    "plt.figure()\n",
    "plt.scatter(list_dates, Npostslog)\n",
    "plt.xticks(list_dates[0::15])\n",
    "plt.ylabel(r'$log_{10}$(#posts)')\n",
    "plt.xlabel('Timeline')\n",
    "plt.title(r'$log_{10}$ of the amount of insta posts per months')\n",
    "#plt.savefig('Torino_logN.pdf')\n",
    "plt.show()\n",
    "plt.figure()\n",
    "plt.scatter(list_dates, Nposts)\n",
    "plt.xticks(list_dates[0::15])\n",
    "plt.ylabel('#posts)')\n",
    "plt.xlabel('Timeline')\n",
    "plt.title('Absolute amount of insta posts per months')\n",
    "#plt.savefig('Torino_N.pdf')\n",
    "plt.show()"
   ]
  },
  {
   "cell_type": "code",
   "execution_count": null,
   "metadata": {},
   "outputs": [],
   "source": [
    "df_location_all=pd.read_csv('/data/marcoq/instagram/torino/torino_locations.csv', lineterminator='\\n')"
   ]
  },
  {
   "cell_type": "code",
   "execution_count": null,
   "metadata": {},
   "outputs": [],
   "source": [
    "df_location_all=df_location_all.rename(columns = {'latitude':'lat','longitude':'lon', 'location_id':'id'})\n",
    "df_location_all.head()"
   ]
  },
  {
   "cell_type": "code",
   "execution_count": null,
   "metadata": {},
   "outputs": [],
   "source": [
    "#remember zip:\n",
    "zip([1,2,3],['a','b','c'])\n",
    "#it's a function."
   ]
  },
  {
   "cell_type": "code",
   "execution_count": null,
   "metadata": {},
   "outputs": [],
   "source": [
    "#make a new column 'coord' indexing (lat,lon) for each post\n",
    "df_location_all['coord'] = list(zip(df_location_all.lat,df_location_all.lon))\n",
    "df_location_all.head()"
   ]
  },
  {
   "cell_type": "code",
   "execution_count": null,
   "metadata": {
    "scrolled": true
   },
   "outputs": [],
   "source": [
    "TbyCoord=IL.time_coord(df_location_all, df_new)"
   ]
  },
  {
   "cell_type": "code",
   "execution_count": null,
   "metadata": {},
   "outputs": [],
   "source": [
    "#Global time heatmap\n",
    "Coordinates=list(df_location_all.coord)\n",
    "x = [C[0] for C in Coordinates]\n",
    "y = [C[1] for C in Coordinates]\n",
    "\n",
    "heatmap, xedges, yedges = np.histogram2d(x, y, bins=1000)\n",
    "extent = [xedges[0], xedges[-1], yedges[0], yedges[-1]]\n",
    "\n",
    "hmap = folium.Map(location=[np.mean(x), np.mean(y)], zoom_start=10, )\n",
    "\n",
    "hm_wide = HeatMap( list(zip(x, y, heatmap)),\n",
    "                   min_opacity=0.2,\n",
    "                   max_val=max(Nposts),\n",
    "                   radius=17, blur=15, \n",
    "                   max_zoom=1, \n",
    "                 )\n",
    "hmap.add_child(hm_wide)\n",
    "#hmap.save('Heatmaps/heatmap_global.html')"
   ]
  },
  {
   "cell_type": "code",
   "execution_count": null,
   "metadata": {},
   "outputs": [],
   "source": [
    "#Heatmap per year\n",
    "for year in range(2010,2019,1):\n",
    "    Coordinates=[]\n",
    "    for t in TbyCoord:\n",
    "        if t[0][0:4]==str(year):\n",
    "            Coordinates.append(t[1])\n",
    "    x = [C[0] for C in Coordinates]\n",
    "    y = [C[1] for C in Coordinates]\n",
    "\n",
    "    heatmap, xedges, yedges = np.histogram2d(x, y, bins=1000)\n",
    "    extent = [xedges[0], xedges[-1], yedges[0], yedges[-1]]\n",
    "    hmap = folium.Map(location=[np.mean(x), np.mean(y)], zoom_start=14, )\n",
    "\n",
    "    hm_wide = HeatMap( list(zip(x, y, heatmap)),\n",
    "                   min_opacity=0.2,\n",
    "                   max_val=max(Nposts),\n",
    "                   radius=17, blur=15, \n",
    "                   max_zoom=1, \n",
    "                 )\n",
    "    hmap.add_child(hm_wide)\n",
    "    #hmap.save('heatmap'+str(year)+'.html')"
   ]
  },
  {
   "cell_type": "markdown",
   "metadata": {},
   "source": [
    "# Let's refine the DataFrame"
   ]
  },
  {
   "cell_type": "code",
   "execution_count": 11,
   "metadata": {},
   "outputs": [],
   "source": [
    "#link postID with its location\n",
    "dict_id_coord= dict(zip(df_location_all.id,df_location_all.coord))\n",
    "dict_id_name= dict(zip(df_location_all.id,df_location_all.name))\n",
    "dict_coord_name= dict(zip(df_location_all.coord,df_location_all.name))"
   ]
  },
  {
   "cell_type": "markdown",
   "metadata": {},
   "source": [
    "series.map() matches corresponding entries from two different series files. This is what x.map(y) does:"
   ]
  },
  {
   "cell_type": "code",
   "execution_count": null,
   "metadata": {},
   "outputs": [],
   "source": [
    "x = pd.Series([1,2,3], index=['one', 'two', 'three'])\n",
    "x"
   ]
  },
  {
   "cell_type": "code",
   "execution_count": null,
   "metadata": {},
   "outputs": [],
   "source": [
    "y = pd.Series(['foo', 'bar', 'baz'], index=[1,2,3])\n",
    "y"
   ]
  },
  {
   "cell_type": "code",
   "execution_count": null,
   "metadata": {},
   "outputs": [],
   "source": [
    "x.map(y)"
   ]
  },
  {
   "cell_type": "code",
   "execution_count": 12,
   "metadata": {
    "collapsed": true
   },
   "outputs": [
    {
     "data": {
      "text/html": [
       "<div>\n",
       "<style scoped>\n",
       "    .dataframe tbody tr th:only-of-type {\n",
       "        vertical-align: middle;\n",
       "    }\n",
       "\n",
       "    .dataframe tbody tr th {\n",
       "        vertical-align: top;\n",
       "    }\n",
       "\n",
       "    .dataframe thead th {\n",
       "        text-align: right;\n",
       "    }\n",
       "</style>\n",
       "<table border=\"1\" class=\"dataframe\">\n",
       "  <thead>\n",
       "    <tr style=\"text-align: right;\">\n",
       "      <th></th>\n",
       "      <th>date</th>\n",
       "      <th>text</th>\n",
       "      <th>coords</th>\n",
       "      <th>name</th>\n",
       "      <th>lat</th>\n",
       "      <th>lon</th>\n",
       "    </tr>\n",
       "  </thead>\n",
       "  <tbody>\n",
       "    <tr>\n",
       "      <th>0</th>\n",
       "      <td>2017-11-14 16:20:42</td>\n",
       "      <td>After great week to home of my Friend this sac...</td>\n",
       "      <td>(45.07227, 7.69301)</td>\n",
       "      <td>WB Tattoos Art Gallery</td>\n",
       "      <td>45.07227</td>\n",
       "      <td>7.69301</td>\n",
       "    </tr>\n",
       "    <tr>\n",
       "      <th>1</th>\n",
       "      <td>2017-10-31 16:10:00</td>\n",
       "      <td>Fisrt Flower of my new style.. thanx Teresa.. ...</td>\n",
       "      <td>(45.07227, 7.69301)</td>\n",
       "      <td>WB Tattoos Art Gallery</td>\n",
       "      <td>45.07227</td>\n",
       "      <td>7.69301</td>\n",
       "    </tr>\n",
       "    <tr>\n",
       "      <th>2</th>\n",
       "      <td>2017-10-16 15:22:37</td>\n",
       "      <td>This for new roses!! Thanx Simone!!#walterbian...</td>\n",
       "      <td>(45.07227, 7.69301)</td>\n",
       "      <td>WB Tattoos Art Gallery</td>\n",
       "      <td>45.07227</td>\n",
       "      <td>7.69301</td>\n",
       "    </tr>\n",
       "    <tr>\n",
       "      <th>3</th>\n",
       "      <td>2017-10-05 15:40:03</td>\n",
       "      <td>New skull !! #walterbianco_wb #wbtattooartgall...</td>\n",
       "      <td>(45.07227, 7.69301)</td>\n",
       "      <td>WB Tattoos Art Gallery</td>\n",
       "      <td>45.07227</td>\n",
       "      <td>7.69301</td>\n",
       "    </tr>\n",
       "    <tr>\n",
       "      <th>4</th>\n",
       "      <td>2017-10-03 16:13:43</td>\n",
       "      <td>Paint  acrilic biomech on sale  40cm X 30 cm o...</td>\n",
       "      <td>(45.07227, 7.69301)</td>\n",
       "      <td>WB Tattoos Art Gallery</td>\n",
       "      <td>45.07227</td>\n",
       "      <td>7.69301</td>\n",
       "    </tr>\n",
       "  </tbody>\n",
       "</table>\n",
       "</div>"
      ],
      "text/plain": [
       "                  date                                               text  \\\n",
       "0  2017-11-14 16:20:42  After great week to home of my Friend this sac...   \n",
       "1  2017-10-31 16:10:00  Fisrt Flower of my new style.. thanx Teresa.. ...   \n",
       "2  2017-10-16 15:22:37  This for new roses!! Thanx Simone!!#walterbian...   \n",
       "3  2017-10-05 15:40:03  New skull !! #walterbianco_wb #wbtattooartgall...   \n",
       "4  2017-10-03 16:13:43  Paint  acrilic biomech on sale  40cm X 30 cm o...   \n",
       "\n",
       "                coords                    name       lat      lon  \n",
       "0  (45.07227, 7.69301)  WB Tattoos Art Gallery  45.07227  7.69301  \n",
       "1  (45.07227, 7.69301)  WB Tattoos Art Gallery  45.07227  7.69301  \n",
       "2  (45.07227, 7.69301)  WB Tattoos Art Gallery  45.07227  7.69301  \n",
       "3  (45.07227, 7.69301)  WB Tattoos Art Gallery  45.07227  7.69301  \n",
       "4  (45.07227, 7.69301)  WB Tattoos Art Gallery  45.07227  7.69301  "
      ]
     },
     "execution_count": 12,
     "metadata": {},
     "output_type": "execute_result"
    }
   ],
   "source": [
    "#Adding a column 'coords' by mapping the coordinates to their location_id:\n",
    "df_new['coords'] = df_new['location_id'].map(dict_id_coord)\n",
    "df_new['name'] = df_new['location_id'].map(dict_id_name)\n",
    "\n",
    "#Create lat and lon columns by reading coords\n",
    "# Look here: https://pythonhow.com/accessing-dataframe-columns-rows-and-cells/\n",
    "df_new['lat']=[e[0] for e in df_new.loc[:,'coords']]\n",
    "df_new['lon']=[e[1] for e in df_new.loc[:,'coords']]\n",
    "\n",
    "# Drop duplicates\n",
    "df_new.drop_duplicates(keep='first')\n",
    "df_new.drop('location_id',axis=1,inplace=True)\n",
    "df_new.head()"
   ]
  },
  {
   "cell_type": "code",
   "execution_count": 13,
   "metadata": {},
   "outputs": [],
   "source": [
    "#needs to be done at the end for compatibility reasons\n",
    "# learn how to parse time here: https://www.tutorialspoint.com/python/time_strptime.htm\n",
    "\n",
    "df_new['date']=[datetime.strptime(t,'%Y-%m-%d %H:%M:%S') for t in list(df_new['date'])]"
   ]
  },
  {
   "cell_type": "code",
   "execution_count": null,
   "metadata": {},
   "outputs": [],
   "source": [
    "df_new.dtypes"
   ]
  },
  {
   "cell_type": "markdown",
   "metadata": {},
   "source": [
    "### Checkpoint 1"
   ]
  },
  {
   "cell_type": "code",
   "execution_count": 14,
   "metadata": {},
   "outputs": [],
   "source": [
    "#pickle.dump(df_new, open('df_new_chkpt1.pkl', 'wb'))"
   ]
  },
  {
   "cell_type": "markdown",
   "metadata": {},
   "source": [
    "Build the frame and the grid. $$x_{min/max}=longitude_{min/max}$$ and conversely for y and latitude."
   ]
  },
  {
   "cell_type": "code",
   "execution_count": 15,
   "metadata": {},
   "outputs": [],
   "source": [
    "\n",
    "# Attention problème d'arrondi lors du passage de Coord à (lat,lon)\n",
    "\n",
    "lat1=min(df_new.lat)\n",
    "lat2=max(df_new.lat)\n",
    "lon1=min(df_new.lon)\n",
    "lon2=max(df_new.lon)"
   ]
  },
  {
   "cell_type": "code",
   "execution_count": 16,
   "metadata": {},
   "outputs": [],
   "source": [
    "# Generate the grid\n",
    "step_m=0.5\n",
    "step_lon=step_m/(40000*math.cos((lat1+lat2)*math.pi/360)/360)\n",
    "step_lat=step_m/(40000./360.)"
   ]
  },
  {
   "cell_type": "code",
   "execution_count": 17,
   "metadata": {},
   "outputs": [
    {
     "name": "stdout",
     "output_type": "stream",
     "text": [
      "(31.00000000000114, 31.000000000000007)\n"
     ]
    }
   ],
   "source": [
    "# Define the repartition functions...\n",
    "to_bin_lon = lambda x: np.floor(x / step_lon) * step_lon\n",
    "to_bin_lat = lambda x: np.floor(x / step_lat) * step_lat\n",
    "#... and distribute the points to the grid\n",
    "df_new[\"latbin\"] = df_new.lat.map(to_bin_lat)\n",
    "df_new[\"lonbin\"] = df_new.lon.map(to_bin_lon)\n",
    "#Form the bins\n",
    "#groups = df_new.groupby([\"latbin\", \"lonbin\"])\n",
    "#compute the number of rows and columns\n",
    "number_lats=(max(df_new['latbin'])-min(df_new['latbin']))/step_lat+1\n",
    "number_lon=(max(df_new['lonbin'])-min(df_new['lonbin']))/step_lon+1\n",
    "print (number_lats, number_lon)"
   ]
  },
  {
   "cell_type": "markdown",
   "metadata": {},
   "source": [
    "### Checkpoint 2"
   ]
  },
  {
   "cell_type": "code",
   "execution_count": 18,
   "metadata": {},
   "outputs": [],
   "source": [
    "#pickle.dump(df_new, open('df_new_chkpt2.pkl', 'wb'))\n",
    "#df_new=pd.read_pickle('df_new_chkpt2.pkl')"
   ]
  },
  {
   "cell_type": "markdown",
   "metadata": {},
   "source": [
    "# Time to clean the text\n",
    "\n",
    "But first make a copy before we do anything stupid"
   ]
  },
  {
   "cell_type": "code",
   "execution_count": 19,
   "metadata": {},
   "outputs": [],
   "source": [
    "df_new_save=df_new.copy()\n",
    "#df_new=df_new_save.copy()"
   ]
  },
  {
   "cell_type": "code",
   "execution_count": 20,
   "metadata": {
    "collapsed": true
   },
   "outputs": [
    {
     "name": "stdout",
     "output_type": "stream",
     "text": [
      "purple 🤖 tenete d’occhio la playlist dei singoli ufficiali. la trovate su Spotify come “Mixed By Luca Pain”. tanto rap, trap e pop in arrivo. • link in bio per scoprire gli artisti che stanno uscendo con nuova musica e ascoltare i miei mix migliori • MBLP • direct per prenotare una rec sessionin studio • #studiodiregistrazione #mic #purple #microfono #registrazione #musica #lamusica #rap #dischi #album #artistatwork #artista #torino #turin #torinoèlamiacittà #torinocity  #passione #lavoro #ognigiorno #supreme #trap #xxxtentacion #liluzivert #lilpump #drop #music #radio #sogno #palco\n"
     ]
    }
   ],
   "source": [
    "#Purge all the newline characters\n",
    "df_new['text']=df_new.text.replace('\\n',' ',regex=True)\n",
    "print df_new['text'][22].decode('utf-8')"
   ]
  },
  {
   "cell_type": "markdown",
   "metadata": {},
   "source": [
    "This methods works only on unicode text. So we need to use the function x.decode('utf-8') to convert all strings in the 'text' field to unicode objects."
   ]
  },
  {
   "cell_type": "code",
   "execution_count": 21,
   "metadata": {
    "collapsed": true
   },
   "outputs": [
    {
     "name": "stdout",
     "output_type": "stream",
     "text": [
      "purple 🤖\n"
     ]
    }
   ],
   "source": [
    "text_0=df_new['text'][22][0:11].decode('utf-8')\n",
    "print text_0"
   ]
  },
  {
   "cell_type": "code",
   "execution_count": 22,
   "metadata": {
    "collapsed": true
   },
   "outputs": [
    {
     "name": "stdout",
     "output_type": "stream",
     "text": [
      "This dog 😂\n",
      "This dog \n",
      "This dog \\U0001f602\n",
      "This dog \\U0001f602\n",
      "\n",
      " but some emojis still pass through... \n",
      "\n",
      "purple 🤖\n",
      "purple 🤖\n",
      "purple 🤖\n",
      "purple 🤖\n"
     ]
    }
   ],
   "source": [
    "emoji_pattern = re.compile(\"[\"\n",
    "        u\"\\U0001F600-\\U0001F64F\"  # emoticons\n",
    "        u\"\\U0001F300-\\U0001F5FF\"  # symbols & pictographs\n",
    "        u\"\\U0001F680-\\U0001F6FF\"  # transport & map symbols\n",
    "        u\"\\U0001F1E0-\\U0001F1FF\"  # flags (iOS)\n",
    "                           \"]+\", flags=re.UNICODE)\n",
    "#df_new['text_new2'] = df_new['text_new2'].map(lambda x: emoji_pattern.sub(r'', x))\n",
    "       \n",
    "#It works on unicode but not on a string:\n",
    "    \n",
    "text = u'This dog \\U0001f602'\n",
    "print(text) # with emoji\n",
    "print(emoji_pattern.sub(r'', text)) # no emoji\n",
    "\n",
    "text = 'This dog \\U0001f602'\n",
    "print(text) # with emoji\n",
    "print(emoji_pattern.sub(r'', text)) # no emoji\n",
    "\n",
    "print '\\n but some emojis still pass through... \\n'\n",
    "\n",
    "text=text_0\n",
    "print(text) # with emoji\n",
    "print(emoji_pattern.sub(r'', text)) # no emoji\n",
    "\n",
    "print(text) # with emoji\n",
    "print(emoji_pattern.sub(r'', text)) # no emoji\n"
   ]
  },
  {
   "cell_type": "markdown",
   "metadata": {},
   "source": [
    "Another way to deal with emoji would be to de-emojize them. They would then count as words, that can either be removed\n",
    "since they have the very peculiar following form :grinning_face: \n",
    "\n",
    "The difficulty here is identifying emojis in a text. Their classification is hard to decypher"
   ]
  },
  {
   "cell_type": "code",
   "execution_count": 23,
   "metadata": {
    "collapsed": true
   },
   "outputs": [
    {
     "name": "stdout",
     "output_type": "stream",
     "text": [
      "purple 🤖\n",
      "purple :robot_face:\n"
     ]
    }
   ],
   "source": [
    "print(text) # with emoji\n",
    "print emoji.demojize(text) # no emoji"
   ]
  },
  {
   "cell_type": "code",
   "execution_count": 24,
   "metadata": {},
   "outputs": [],
   "source": [
    "#Remove all blank fields and encode everything in utf-8 if it is not already the case\n",
    "df_new=df_new[df_new['text'].notnull()]\n",
    "if not type(df_new['text'][0])==unicode:\n",
    "    df_new['text']=df_new['text'].map(lambda x: x.decode('utf-8'))"
   ]
  },
  {
   "cell_type": "code",
   "execution_count": null,
   "metadata": {},
   "outputs": [],
   "source": [
    "#This works but it takes forever\n",
    "\n",
    "def rem_emj(unicode_string,keys):\n",
    "    \"\"\"Removes words found in keys from unicode_string.\n",
    "    \n",
    "    Works to remove emojis by setting keys to emoji.unicode_codes.UNICODE_EMOJI.keys()\"\"\"\n",
    "    ret=u''\n",
    "    for i in unicode_string:\n",
    "        if not i in keys:\n",
    "            ret+=i\n",
    "    return ret"
   ]
  },
  {
   "cell_type": "code",
   "execution_count": 25,
   "metadata": {},
   "outputs": [],
   "source": [
    "#remove emojis? some of them still pass through\n",
    "#re.sub(a,b,string) = remplace le premier a par b dans string et renvoie string. \n",
    "#Si a n'est pas dans string, renvoie string.\n",
    "keys=emoji.unicode_codes.UNICODE_EMOJI.keys()\n",
    "df_new['text_new'] = df_new['text'].map(lambda x: emoji_pattern.sub(r'', x))\n",
    "#df_new['text_new'] = df_new['text'].map(lambda x: rem_emj(x,keys)) "
   ]
  },
  {
   "cell_type": "code",
   "execution_count": 26,
   "metadata": {},
   "outputs": [],
   "source": [
    "#remove hyperlinks\n",
    "df_new['text_new'] = df_new['text_new'].map(lambda x: re.sub(r'http\\S+', '', x))"
   ]
  },
  {
   "cell_type": "code",
   "execution_count": 27,
   "metadata": {},
   "outputs": [],
   "source": [
    "#remove quotes\n",
    "df_new['text_new'] = df_new['text_new'].map(lambda x: re.sub(r'&amp;quot;|&amp;amp', ' ', x))"
   ]
  },
  {
   "cell_type": "code",
   "execution_count": 28,
   "metadata": {},
   "outputs": [],
   "source": [
    "#Remove tags\n",
    "df_new['text_new'] = df_new['text_new'].map(lambda x: re.sub(r'@[a-zA-Z0-9]*', '', x))"
   ]
  },
  {
   "cell_type": "code",
   "execution_count": 29,
   "metadata": {},
   "outputs": [],
   "source": [
    "#Remove tickers\n",
    "df_new['text_new']= df_new['text_new'].map(lambda x: re.sub(r'\\$[a-zA-Z0-9]*', '', x))"
   ]
  },
  {
   "cell_type": "code",
   "execution_count": 30,
   "metadata": {},
   "outputs": [],
   "source": [
    "#Remove numbers\n",
    "df_new['text_new']=df_new['text_new'].map(lambda x:  re.sub(r'[0-9]*','',x))"
   ]
  },
  {
   "cell_type": "code",
   "execution_count": 31,
   "metadata": {},
   "outputs": [],
   "source": [
    "#Remove #\n",
    "df_new['text_new']=df_new['text_new'].map(lambda x:  re.sub(r'#*','',x))"
   ]
  },
  {
   "cell_type": "code",
   "execution_count": 32,
   "metadata": {},
   "outputs": [],
   "source": [
    "#Remove punctuation\n",
    "df_new.text_new = [filter(lambda x: x not in string.punctuation,tweet) for tweet in df_new.text_new]"
   ]
  },
  {
   "cell_type": "code",
   "execution_count": 33,
   "metadata": {
    "collapsed": true
   },
   "outputs": [
    {
     "data": {
      "text/html": [
       "<div>\n",
       "<style scoped>\n",
       "    .dataframe tbody tr th:only-of-type {\n",
       "        vertical-align: middle;\n",
       "    }\n",
       "\n",
       "    .dataframe tbody tr th {\n",
       "        vertical-align: top;\n",
       "    }\n",
       "\n",
       "    .dataframe thead th {\n",
       "        text-align: right;\n",
       "    }\n",
       "</style>\n",
       "<table border=\"1\" class=\"dataframe\">\n",
       "  <thead>\n",
       "    <tr style=\"text-align: right;\">\n",
       "      <th></th>\n",
       "      <th>date</th>\n",
       "      <th>text</th>\n",
       "      <th>coords</th>\n",
       "      <th>name</th>\n",
       "      <th>lat</th>\n",
       "      <th>lon</th>\n",
       "      <th>latbin</th>\n",
       "      <th>lonbin</th>\n",
       "      <th>text_new</th>\n",
       "    </tr>\n",
       "  </thead>\n",
       "  <tbody>\n",
       "    <tr>\n",
       "      <th>0</th>\n",
       "      <td>2017-11-14 16:20:42</td>\n",
       "      <td>After great week to home of my Friend this sac...</td>\n",
       "      <td>(45.07227, 7.69301)</td>\n",
       "      <td>WB Tattoos Art Gallery</td>\n",
       "      <td>45.07227</td>\n",
       "      <td>7.69301</td>\n",
       "      <td>45.072</td>\n",
       "      <td>7.691152</td>\n",
       "      <td>After great week to home of my Friend this sac...</td>\n",
       "    </tr>\n",
       "    <tr>\n",
       "      <th>1</th>\n",
       "      <td>2017-10-31 16:10:00</td>\n",
       "      <td>Fisrt Flower of my new style.. thanx Teresa.. ...</td>\n",
       "      <td>(45.07227, 7.69301)</td>\n",
       "      <td>WB Tattoos Art Gallery</td>\n",
       "      <td>45.07227</td>\n",
       "      <td>7.69301</td>\n",
       "      <td>45.072</td>\n",
       "      <td>7.691152</td>\n",
       "      <td>Fisrt Flower of my new style thanx Teresa than...</td>\n",
       "    </tr>\n",
       "    <tr>\n",
       "      <th>2</th>\n",
       "      <td>2017-10-16 15:22:37</td>\n",
       "      <td>This for new roses!! Thanx Simone!!#walterbian...</td>\n",
       "      <td>(45.07227, 7.69301)</td>\n",
       "      <td>WB Tattoos Art Gallery</td>\n",
       "      <td>45.07227</td>\n",
       "      <td>7.69301</td>\n",
       "      <td>45.072</td>\n",
       "      <td>7.691152</td>\n",
       "      <td>This for new roses Thanx Simonewalterbiancowb ...</td>\n",
       "    </tr>\n",
       "    <tr>\n",
       "      <th>3</th>\n",
       "      <td>2017-10-05 15:40:03</td>\n",
       "      <td>New skull !! #walterbianco_wb #wbtattooartgall...</td>\n",
       "      <td>(45.07227, 7.69301)</td>\n",
       "      <td>WB Tattoos Art Gallery</td>\n",
       "      <td>45.07227</td>\n",
       "      <td>7.69301</td>\n",
       "      <td>45.072</td>\n",
       "      <td>7.691152</td>\n",
       "      <td>New skull  walterbiancowb wbtattooartgallery w...</td>\n",
       "    </tr>\n",
       "    <tr>\n",
       "      <th>4</th>\n",
       "      <td>2017-10-03 16:13:43</td>\n",
       "      <td>Paint  acrilic biomech on sale  40cm X 30 cm o...</td>\n",
       "      <td>(45.07227, 7.69301)</td>\n",
       "      <td>WB Tattoos Art Gallery</td>\n",
       "      <td>45.07227</td>\n",
       "      <td>7.69301</td>\n",
       "      <td>45.072</td>\n",
       "      <td>7.691152</td>\n",
       "      <td>Paint  acrilic biomech on sale  cm X  cm origi...</td>\n",
       "    </tr>\n",
       "    <tr>\n",
       "      <th>5</th>\n",
       "      <td>2017-09-28 13:52:45</td>\n",
       "      <td>Ready for this cover sleeve, after 15 years go...</td>\n",
       "      <td>(45.07227, 7.69301)</td>\n",
       "      <td>WB Tattoos Art Gallery</td>\n",
       "      <td>45.07227</td>\n",
       "      <td>7.69301</td>\n",
       "      <td>45.072</td>\n",
       "      <td>7.691152</td>\n",
       "      <td>Ready for this cover sleeve after  years go to...</td>\n",
       "    </tr>\n",
       "    <tr>\n",
       "      <th>6</th>\n",
       "      <td>2017-09-23 16:23:30</td>\n",
       "      <td>Little speed scketch for this biomech#walterbi...</td>\n",
       "      <td>(45.07227, 7.69301)</td>\n",
       "      <td>WB Tattoos Art Gallery</td>\n",
       "      <td>45.07227</td>\n",
       "      <td>7.69301</td>\n",
       "      <td>45.072</td>\n",
       "      <td>7.691152</td>\n",
       "      <td>Little speed scketch for this biomechwalterbia...</td>\n",
       "    </tr>\n",
       "    <tr>\n",
       "      <th>7</th>\n",
       "      <td>2017-09-20 12:41:30</td>\n",
       "      <td>Yes after Time, now this sleeve whit genoma an...</td>\n",
       "      <td>(45.07227, 7.69301)</td>\n",
       "      <td>WB Tattoos Art Gallery</td>\n",
       "      <td>45.07227</td>\n",
       "      <td>7.69301</td>\n",
       "      <td>45.072</td>\n",
       "      <td>7.691152</td>\n",
       "      <td>Yes after Time now this sleeve whit genoma and...</td>\n",
       "    </tr>\n",
       "    <tr>\n",
       "      <th>8</th>\n",
       "      <td>2017-09-16 19:26:29</td>\n",
       "      <td>#tatooo#wbtattoos#liontatoo#art#happiness #fin...</td>\n",
       "      <td>(45.07227, 7.69301)</td>\n",
       "      <td>WB Tattoos Art Gallery</td>\n",
       "      <td>45.07227</td>\n",
       "      <td>7.69301</td>\n",
       "      <td>45.072</td>\n",
       "      <td>7.691152</td>\n",
       "      <td>tatooowbtattoosliontatooarthappiness finalment...</td>\n",
       "    </tr>\n",
       "    <tr>\n",
       "      <th>9</th>\n",
       "      <td>2017-09-09 14:14:29</td>\n",
       "      <td>Si comincia!! #stencil#tattoo#tattoos#wb#wbtat...</td>\n",
       "      <td>(45.07227, 7.69301)</td>\n",
       "      <td>WB Tattoos Art Gallery</td>\n",
       "      <td>45.07227</td>\n",
       "      <td>7.69301</td>\n",
       "      <td>45.072</td>\n",
       "      <td>7.691152</td>\n",
       "      <td>Si comincia stenciltattootattooswbwbtattooswbt...</td>\n",
       "    </tr>\n",
       "  </tbody>\n",
       "</table>\n",
       "</div>"
      ],
      "text/plain": [
       "                 date                                               text  \\\n",
       "0 2017-11-14 16:20:42  After great week to home of my Friend this sac...   \n",
       "1 2017-10-31 16:10:00  Fisrt Flower of my new style.. thanx Teresa.. ...   \n",
       "2 2017-10-16 15:22:37  This for new roses!! Thanx Simone!!#walterbian...   \n",
       "3 2017-10-05 15:40:03  New skull !! #walterbianco_wb #wbtattooartgall...   \n",
       "4 2017-10-03 16:13:43  Paint  acrilic biomech on sale  40cm X 30 cm o...   \n",
       "5 2017-09-28 13:52:45  Ready for this cover sleeve, after 15 years go...   \n",
       "6 2017-09-23 16:23:30  Little speed scketch for this biomech#walterbi...   \n",
       "7 2017-09-20 12:41:30  Yes after Time, now this sleeve whit genoma an...   \n",
       "8 2017-09-16 19:26:29  #tatooo#wbtattoos#liontatoo#art#happiness #fin...   \n",
       "9 2017-09-09 14:14:29  Si comincia!! #stencil#tattoo#tattoos#wb#wbtat...   \n",
       "\n",
       "                coords                    name       lat      lon  latbin  \\\n",
       "0  (45.07227, 7.69301)  WB Tattoos Art Gallery  45.07227  7.69301  45.072   \n",
       "1  (45.07227, 7.69301)  WB Tattoos Art Gallery  45.07227  7.69301  45.072   \n",
       "2  (45.07227, 7.69301)  WB Tattoos Art Gallery  45.07227  7.69301  45.072   \n",
       "3  (45.07227, 7.69301)  WB Tattoos Art Gallery  45.07227  7.69301  45.072   \n",
       "4  (45.07227, 7.69301)  WB Tattoos Art Gallery  45.07227  7.69301  45.072   \n",
       "5  (45.07227, 7.69301)  WB Tattoos Art Gallery  45.07227  7.69301  45.072   \n",
       "6  (45.07227, 7.69301)  WB Tattoos Art Gallery  45.07227  7.69301  45.072   \n",
       "7  (45.07227, 7.69301)  WB Tattoos Art Gallery  45.07227  7.69301  45.072   \n",
       "8  (45.07227, 7.69301)  WB Tattoos Art Gallery  45.07227  7.69301  45.072   \n",
       "9  (45.07227, 7.69301)  WB Tattoos Art Gallery  45.07227  7.69301  45.072   \n",
       "\n",
       "     lonbin                                           text_new  \n",
       "0  7.691152  After great week to home of my Friend this sac...  \n",
       "1  7.691152  Fisrt Flower of my new style thanx Teresa than...  \n",
       "2  7.691152  This for new roses Thanx Simonewalterbiancowb ...  \n",
       "3  7.691152  New skull  walterbiancowb wbtattooartgallery w...  \n",
       "4  7.691152  Paint  acrilic biomech on sale  cm X  cm origi...  \n",
       "5  7.691152  Ready for this cover sleeve after  years go to...  \n",
       "6  7.691152  Little speed scketch for this biomechwalterbia...  \n",
       "7  7.691152  Yes after Time now this sleeve whit genoma and...  \n",
       "8  7.691152  tatooowbtattoosliontatooarthappiness finalment...  \n",
       "9  7.691152  Si comincia stenciltattootattooswbwbtattooswbt...  "
      ]
     },
     "execution_count": 33,
     "metadata": {},
     "output_type": "execute_result"
    }
   ],
   "source": [
    "df_new.head(10)"
   ]
  },
  {
   "cell_type": "code",
   "execution_count": 34,
   "metadata": {},
   "outputs": [],
   "source": [
    "#encoding back in strings\n",
    "df_new['text_new'] = df_new['text_new'].map(lambda x: x.encode('utf-8'))"
   ]
  },
  {
   "cell_type": "code",
   "execution_count": 35,
   "metadata": {
    "collapsed": true
   },
   "outputs": [
    {
     "data": {
      "text/html": [
       "<div>\n",
       "<style scoped>\n",
       "    .dataframe tbody tr th:only-of-type {\n",
       "        vertical-align: middle;\n",
       "    }\n",
       "\n",
       "    .dataframe tbody tr th {\n",
       "        vertical-align: top;\n",
       "    }\n",
       "\n",
       "    .dataframe thead th {\n",
       "        text-align: right;\n",
       "    }\n",
       "</style>\n",
       "<table border=\"1\" class=\"dataframe\">\n",
       "  <thead>\n",
       "    <tr style=\"text-align: right;\">\n",
       "      <th></th>\n",
       "      <th>date</th>\n",
       "      <th>lat</th>\n",
       "      <th>lon</th>\n",
       "      <th>latbin</th>\n",
       "      <th>lonbin</th>\n",
       "      <th>coords</th>\n",
       "      <th>text</th>\n",
       "      <th>name</th>\n",
       "      <th>coordsbin</th>\n",
       "    </tr>\n",
       "  </thead>\n",
       "  <tbody>\n",
       "    <tr>\n",
       "      <th>0</th>\n",
       "      <td>2017-11-14 16:20:42</td>\n",
       "      <td>45.07227</td>\n",
       "      <td>7.69301</td>\n",
       "      <td>45.072</td>\n",
       "      <td>7.691152</td>\n",
       "      <td>(45.07227, 7.69301)</td>\n",
       "      <td>After great week to home of my Friend this sac...</td>\n",
       "      <td>WB Tattoos Art Gallery</td>\n",
       "      <td>(45.072, 7.69115211839)</td>\n",
       "    </tr>\n",
       "    <tr>\n",
       "      <th>1</th>\n",
       "      <td>2017-10-31 16:10:00</td>\n",
       "      <td>45.07227</td>\n",
       "      <td>7.69301</td>\n",
       "      <td>45.072</td>\n",
       "      <td>7.691152</td>\n",
       "      <td>(45.07227, 7.69301)</td>\n",
       "      <td>Fisrt Flower of my new style thanx Teresa than...</td>\n",
       "      <td>WB Tattoos Art Gallery</td>\n",
       "      <td>(45.072, 7.69115211839)</td>\n",
       "    </tr>\n",
       "    <tr>\n",
       "      <th>2</th>\n",
       "      <td>2017-10-16 15:22:37</td>\n",
       "      <td>45.07227</td>\n",
       "      <td>7.69301</td>\n",
       "      <td>45.072</td>\n",
       "      <td>7.691152</td>\n",
       "      <td>(45.07227, 7.69301)</td>\n",
       "      <td>This for new roses Thanx Simonewalterbiancowb ...</td>\n",
       "      <td>WB Tattoos Art Gallery</td>\n",
       "      <td>(45.072, 7.69115211839)</td>\n",
       "    </tr>\n",
       "    <tr>\n",
       "      <th>3</th>\n",
       "      <td>2017-10-05 15:40:03</td>\n",
       "      <td>45.07227</td>\n",
       "      <td>7.69301</td>\n",
       "      <td>45.072</td>\n",
       "      <td>7.691152</td>\n",
       "      <td>(45.07227, 7.69301)</td>\n",
       "      <td>New skull  walterbiancowb wbtattooartgallery w...</td>\n",
       "      <td>WB Tattoos Art Gallery</td>\n",
       "      <td>(45.072, 7.69115211839)</td>\n",
       "    </tr>\n",
       "    <tr>\n",
       "      <th>4</th>\n",
       "      <td>2017-10-03 16:13:43</td>\n",
       "      <td>45.07227</td>\n",
       "      <td>7.69301</td>\n",
       "      <td>45.072</td>\n",
       "      <td>7.691152</td>\n",
       "      <td>(45.07227, 7.69301)</td>\n",
       "      <td>Paint  acrilic biomech on sale  cm X  cm origi...</td>\n",
       "      <td>WB Tattoos Art Gallery</td>\n",
       "      <td>(45.072, 7.69115211839)</td>\n",
       "    </tr>\n",
       "  </tbody>\n",
       "</table>\n",
       "</div>"
      ],
      "text/plain": [
       "                 date       lat      lon  latbin    lonbin  \\\n",
       "0 2017-11-14 16:20:42  45.07227  7.69301  45.072  7.691152   \n",
       "1 2017-10-31 16:10:00  45.07227  7.69301  45.072  7.691152   \n",
       "2 2017-10-16 15:22:37  45.07227  7.69301  45.072  7.691152   \n",
       "3 2017-10-05 15:40:03  45.07227  7.69301  45.072  7.691152   \n",
       "4 2017-10-03 16:13:43  45.07227  7.69301  45.072  7.691152   \n",
       "\n",
       "                coords                                               text  \\\n",
       "0  (45.07227, 7.69301)  After great week to home of my Friend this sac...   \n",
       "1  (45.07227, 7.69301)  Fisrt Flower of my new style thanx Teresa than...   \n",
       "2  (45.07227, 7.69301)  This for new roses Thanx Simonewalterbiancowb ...   \n",
       "3  (45.07227, 7.69301)  New skull  walterbiancowb wbtattooartgallery w...   \n",
       "4  (45.07227, 7.69301)  Paint  acrilic biomech on sale  cm X  cm origi...   \n",
       "\n",
       "                     name                coordsbin  \n",
       "0  WB Tattoos Art Gallery  (45.072, 7.69115211839)  \n",
       "1  WB Tattoos Art Gallery  (45.072, 7.69115211839)  \n",
       "2  WB Tattoos Art Gallery  (45.072, 7.69115211839)  \n",
       "3  WB Tattoos Art Gallery  (45.072, 7.69115211839)  \n",
       "4  WB Tattoos Art Gallery  (45.072, 7.69115211839)  "
      ]
     },
     "execution_count": 35,
     "metadata": {},
     "output_type": "execute_result"
    }
   ],
   "source": [
    "df_new=df_new[df_new['text_new'].notnull()]\n",
    "df_new=df_new[['date','lat','lon','latbin','lonbin','coords','text_new','name']]\n",
    "df_new=df_new.rename(columns = {'text_new':'text'})\n",
    "df_new['coordsbin'] = list(zip(df_new.latbin,df_new.lonbin))\n",
    "df_new.head()"
   ]
  },
  {
   "cell_type": "markdown",
   "metadata": {},
   "source": [
    "### Checkpoint 3"
   ]
  },
  {
   "cell_type": "code",
   "execution_count": 60,
   "metadata": {
    "scrolled": true
   },
   "outputs": [],
   "source": [
    "#And pickle it\n",
    "#df_new.to_pickle('df_new_chkpt3.pkl')\n",
    "#df_new=pd.read_pickle('df_new_chkpt3.pkl')"
   ]
  },
  {
   "cell_type": "code",
   "execution_count": null,
   "metadata": {},
   "outputs": [],
   "source": [
    "if False:\n",
    "    #In case I'm not loading this since the beginning\n",
    "    lat1=min(df_new.lat)\n",
    "    lat2=max(df_new.lat)\n",
    "    lon1=min(df_new.lon)\n",
    "    lon2=max(df_new.lon)\n",
    "    step_m=0.5\n",
    "    step_lon=step_m/(40000*math.cos((lat1+lat2)*math.pi/360)/360)\n",
    "    step_lat=step_m/(40000./360.)\n",
    "    # Define the repartition functions...\n",
    "    to_bin_lon = lambda x: np.floor(x / step_lon) * step_lon\n",
    "    to_bin_lat = lambda x: np.floor(x / step_lat) * step_lat\n",
    "    #compute the number of rows and columns\n",
    "    number_lats=(max(df_new['latbin'])-min(df_new['latbin']))/step_lat+1\n",
    "    number_lon=(max(df_new['lonbin'])-min(df_new['lonbin']))/step_lon+1\n",
    "    print (number_lats, number_lon)`\n",
    "    df_new.head()"
   ]
  },
  {
   "cell_type": "code",
   "execution_count": 49,
   "metadata": {},
   "outputs": [],
   "source": [
    "dict_coord_name= dict(zip(df_new.coords,df_new.name))\n",
    "dict_name_coord= dict(zip(df_new.name,df_new.coords))"
   ]
  },
  {
   "cell_type": "markdown",
   "metadata": {},
   "source": [
    "Learn about how groupby does not returns a dataframe but only groups the data IN ORDER TO APPLY SOME FUNCTION to it here: https://pandas.pydata.org/pandas-docs/stable/groupby.html"
   ]
  },
  {
   "cell_type": "code",
   "execution_count": 37,
   "metadata": {},
   "outputs": [
    {
     "name": "stdout",
     "output_type": "stream",
     "text": [
      "BEFORE BINNING:\n",
      "392706  degenerate datapoints in the dataset.\n",
      "19 % of degenerate data\n",
      "AFTER BINNING:\n",
      "281375  degenerate datapoints in the dataset.\n",
      "13 % of degenerate data\n"
     ]
    }
   ],
   "source": [
    "temp_df=df_new.copy()\n",
    "# Let's make a list of coordinates associated to each place and store them in a pd.Series\n",
    "A=temp_df.groupby('name')['coords'].apply(lambda x : x.tolist())\n",
    "B=temp_df.groupby('coords')['name'].apply(lambda x : x.tolist())\n",
    "# Idem but with the bins associated to each place\n",
    "Abin=temp_df.groupby('name')['coordsbin'].apply(lambda x : x.tolist())\n",
    "Bbin=temp_df.groupby('coordsbin')['name'].apply(lambda x : x.tolist())\n",
    "\n",
    "# A is a pd.Series with the place names for indices and the coordinates for values.\n",
    "# B is the opposite pd.Series.\n",
    "\n",
    "# Abin and Bbin are the same but using the coordinates of the bin associated to each place.\n",
    "\n",
    "degenerate_datapoints=0\n",
    "Degenerate_loc=[]\n",
    "Degenerate_names=[]\n",
    "Degenerate_freq=[]\n",
    "# For every place in A\n",
    "for a in A.index:\n",
    "    # if we have more than one coordinate for this place\n",
    "    if len(set(A[a])) != 1:\n",
    "        degenerate_datapoints+=len(A[a])\n",
    "        #Store the place name, coordinates and relative frequencies in 3 lists of lists.\n",
    "        Degenerate_loc.append(list(set(A[a])))\n",
    "        Degenerate_names.append(a)\n",
    "        Degenerate_freq.append([(key,len(list(group))) for key, group in groupby(A[a])])\n",
    "print 'BEFORE BINNING:'\n",
    "print degenerate_datapoints, ' degenerate datapoints in the dataset.'\n",
    "print 100*degenerate_datapoints/df_new.shape[0], '% of degenerate data'\n",
    "\n",
    "degenerate_datapoints=0\n",
    "Degenerate_locbin=[]\n",
    "Degenerate_namesbin=[]\n",
    "# For every place in A\n",
    "for a in Abin.index:\n",
    "    # if we have more than one bin for this place\n",
    "    if len(set(Abin[a])) != 1:\n",
    "        #Store the place name and bin 2 lists of lists.\n",
    "        degenerate_datapoints+=len(Abin[a])\n",
    "        Degenerate_locbin.append(list(set(Abin[a])))\n",
    "        Degenerate_namesbin.append(a)\n",
    "print 'AFTER BINNING:'\n",
    "print degenerate_datapoints, ' degenerate datapoints in the dataset.'\n",
    "print 100*degenerate_datapoints/df_new.shape[0], '% of degenerate data'\n",
    "\n",
    "# Binning the values does not help: The coordinates associated to some places are too far\n",
    "# away from each other to be coarsegrained. How come such different locations could be\n",
    "# associated with the same place? \n",
    "# Some of those are restaurants or supermarkets chains. Some others have only episodic \n",
    "# locations that don't fit the usual one."
   ]
  },
  {
   "cell_type": "code",
   "execution_count": 39,
   "metadata": {},
   "outputs": [],
   "source": [
    "# Now compute the pairwise distance to have an idea of the area associated to those places.\n",
    "distances=[]\n",
    "Degloc_copy=np.copy(Degenerate_loc)\n",
    "for d in Degloc_copy:\n",
    "    dist_d=[]\n",
    "    e=list(np.copy(d))\n",
    "    while e:\n",
    "        #take the first point as reference to compute its distance to the other ones\n",
    "        ref=e.pop()\n",
    "        for point in e:\n",
    "            try:\n",
    "                dist_d.append(geopy.distance.distance(ref,point).km)\n",
    "            except IndexError:\n",
    "                pass\n",
    "    distances.append(dist_d)\n",
    "    \n",
    "Deg_names_dist=list(zip(Degenerate_names,distances))"
   ]
  },
  {
   "cell_type": "code",
   "execution_count": 40,
   "metadata": {},
   "outputs": [],
   "source": [
    "# Find the relative frequencies of the different locations associated to each degenerated place\n",
    "Resp_freq=[[i[1] for i in e] for e in Degenerate_freq]\n",
    "Resp_freq=[[float(i)/sum(e) for i in e] for e in Resp_freq]\n",
    "# zip(Resp_freq,distances)"
   ]
  },
  {
   "cell_type": "code",
   "execution_count": 41,
   "metadata": {},
   "outputs": [
    {
     "name": "stdout",
     "output_type": "stream",
     "text": [
      "The diagonal of the grid unit cell is typically  0.708205755171  km.\n",
      "60  places have typical pairwise distances bigger than this distance.\n"
     ]
    }
   ],
   "source": [
    "bin_dist=geopy.distance.distance((45.108768700000006, 7.6410829),(45.108768700000006+step_lat,step_lon+ 7.6410829)).km\n",
    "print 'The diagonal of the grid unit cell is typically ',bin_dist,' km.'\n",
    "print len([d for d in distances if np.mean(d)>bin_dist]), ' places have typical pairwise distances bigger than this distance.'"
   ]
  },
  {
   "cell_type": "code",
   "execution_count": 42,
   "metadata": {
    "collapsed": true
   },
   "outputs": [
    {
     "name": "stdout",
     "output_type": "stream",
     "text": [
      "Allianz Stadium Curva Sud [(45.108768700000006, 7.6410829), (45.0667, 7.7)] 6.585742316054901\n",
      "Collina Di Torino [(45.01228384, 7.73264413), (45.05392, 7.69915)] 5.326974771248154\n",
      "Fujiyama Ristorante Giapponese [(45.05757, 7.67733), (45.06785, 7.7128)] 3.0182175479128475\n",
      "Giancarlo [(45.0572133, 7.646631299999999), (45.06507, 7.69822)] 4.156030885963382\n",
      "Murazzi [(45.0667, 7.7), (45.0727356263, 7.668650234099999)] 2.558327502560891\n",
      "Piazza Castello [(45.0707768953, 7.685123252), (45.078579336400004, 7.636950966000001)] 3.891139696332791\n",
      "Torino [(45.072768865, 7.6702275208), (45.0667859, 7.6921288), (45.0606489, 7.692784700000001), (45.0932508, 7.679447), (45.0692678024, 7.6836709345)] 1.9761068437941698\n",
      "[(45.0229, 7.64843), (45.03464, 7.66833)]\n",
      "[(45.074122521199996, 7.6996772548), (45.07411, 7.69999)]\n"
     ]
    }
   ],
   "source": [
    "# List of the degenerated places with their relative frequencies, names \n",
    "# and typical pairwisedistance.\n",
    "\n",
    "C=zip(Resp_freq,Degenerate_names,distances)\n",
    "for c in C:\n",
    "    # If one coordinate has a frequency much higher than the others\n",
    "    if max(c[0])>.95:\n",
    "        # And if the average pairwise distance is bigger than a threshold\n",
    "        if np.mean(c[2])>1:\n",
    "            print c[1], Degenerate_loc[Degenerate_names.index(c[1])], np.mean(c[2])\n",
    "# How to access coordinates of one of those places:\n",
    "print Degenerate_loc[Degenerate_names.index('Dallatte')]\n",
    "print Degenerate_loc[Degenerate_names.index('Campus Luigi Einaudi')]"
   ]
  },
  {
   "cell_type": "code",
   "execution_count": 43,
   "metadata": {
    "collapsed": true
   },
   "outputs": [
    {
     "name": "stdout",
     "output_type": "stream",
     "text": [
      "Allianz Stadium Curva Sud [(45.108768700000006, 7.6410829), (45.0667, 7.7)] 6.585742316054901\n",
      "America Graffiti [(45.110009999999996, 7.64554), (45.06393, 7.68537)] 6.00480307112087\n",
      "Carrefour Italia [(45.053509000000005, 7.651069099999999), (45.0069299, 7.62398), (45.05775, 7.6609300000000005), (45.0661842149, 7.630446405700001), (45.1013008938, 7.591435110499999)] 5.435169209717322\n",
      "Corso Unione Sovietica [(45.02952, 7.673710000000001), (45.0193414, 7.580773799999999)] 7.411441188400042\n",
      "CrossFit Torino [(45.1123749, 7.649830199999999), (45.05529, 7.67195)] 6.578736349502036\n",
      "Decathlon Italia [(45.0520544416, 7.618884911), (45.06277, 7.6803300000000005), (45.13783, 7.73198)] 9.102324892765276\n",
      "Juventus Stadium [(45.109594444399995, 7.6412472222000005), (45.109334999999994, 7.6408), (45.06969, 7.70493), (45.109594, 7.641247), (45.109444, 7.641111)] 2.693562550056063\n",
      "McDonald's [(45.0548799529, 7.6125512430999995), (45.1216382361, 7.741509873099999)] 12.574301866161916\n",
      "MediaWorld [(45.03164, 7.66683), (45.1002, 7.69915)] 8.033216131235843\n",
      "Old Wild West [(45.0625, 7.679530000000001), (45.0875537249, 7.6679736901), (45.057033285699994, 7.612398292999999), (45.0284119, 7.6006198000000005)] 5.471456968545795\n",
      "Orange Palestre [(45.13487, 7.76647), (45.0819832, 7.6274125), (45.05679, 7.63618), (45.106306200000006, 7.6717604999999995), (45.02332, 7.64187), (45.07315, 7.59437), (45.051368100000005, 7.674502599999999)] 7.401963794416996\n",
      "Piazza Vittorio [(45.0656709269, 7.694339735900001), (45.0842413402, 7.7304701552), (45.031975566999996, 7.641117013300001), (45.067788565200004, 7.6411835748)] 5.6165391807626746\n",
      "Roadhouse Restaurant [(45.136500051300004, 7.735783920199999), (45.03953, 7.670030000000001)] 11.955423425264282\n",
      "The Space Cinema [(45.021464, 7.5940199999999995), (45.087484, 7.668498)] 9.394179242702142\n",
      "Torino Outlet Village [(45.1286831, 7.7387352), (45.1283825815, 7.738920751799999), (45.12713, 7.73675), (45.1282905189, 7.737927824600001), (45.1293588491, 7.7399493185), (45.127674299999995, 7.7368213), (45.12844986020001, 7.7387754400999995), (45.126941598900004, 7.7364778519), (45.1282231627, 7.7373918365), (45.0667, 7.7)] 1.6137330525419373\n",
      "Torino Piazza San Carlo [(45.0994206605, 7.698440323400001), (45.0681641279, 7.6828902086), (45.020185678100006, 7.6654116407)] 6.123958570619454\n",
      "Wiener Haus [(45.10054, 7.648460000000001), (45.03164, 7.66683)] 7.792546605747063\n",
      "17 places above this distance threshold in a list of  121\n"
     ]
    }
   ],
   "source": [
    "# How many places have associated coordinates further apart than an arbitrary threshold t?\n",
    "# What are those places and what are their locations?\n",
    "\n",
    "t=6 #threshold in km\n",
    "ct=0\n",
    "for d in Deg_names_dist:\n",
    "    if any( e>t for e in d[1]):\n",
    "        ct+=1\n",
    "        print d[0], Degenerate_loc[Deg_names_dist.index(d)],np.mean(d[1])\n",
    "print ct,'places above this distance threshold in a list of ', len(Deg_names_dist)"
   ]
  },
  {
   "cell_type": "code",
   "execution_count": 44,
   "metadata": {},
   "outputs": [],
   "source": [
    "# All locations associated with a degenerated place\n",
    "Degloc_all=[]\n",
    "for p in Degloc_copy:\n",
    "    for d in p:\n",
    "        Degloc_all.append(d)"
   ]
  },
  {
   "cell_type": "code",
   "execution_count": null,
   "metadata": {},
   "outputs": [],
   "source": [
    "# Link the locations associated to a place in particular to visualise what it means.\n",
    "m = folium.Map(location=[np.mean([c[0] for c in Degloc_all]),np.mean([c[1] for c in Degloc_all])], zoom_start=12)\n",
    "#for p in Degloc_all:\n",
    " #   folium.Marker(p).add_to(m)\n",
    "for p in Degloc_copy:\n",
    "    p.append(p[0])\n",
    "    folium.PolyLine(locations=p).add_to(m)\n",
    "m\n",
    "#m.save('places_hiN.html')"
   ]
  },
  {
   "cell_type": "code",
   "execution_count": 46,
   "metadata": {
    "collapsed": true
   },
   "outputs": [
    {
     "data": {
      "image/png": "[encoded data removed]",
      "text/plain": [
       "<Figure size 432x288 with 1 Axes>"
      ]
     },
     "metadata": {
      "needs_background": "light"
     },
     "output_type": "display_data"
    }
   ],
   "source": [
    "# Plot the N_posts for each place as a function of their earliest occurence in the dataset. \n",
    "temp_df=df_new.copy()\n",
    "# group data by name, then compute the size of each group and store that in a dict\n",
    "dict_places_n=temp_df.groupby('name').count()['text'].to_dict()\n",
    "# Same but instead of the size compute the minimum date in each group (earliest occurence)\n",
    "dict_places_fdate=temp_df.groupby('name').apply(lambda x : x['date'].min()).to_dict()\n",
    "\n",
    "N_fdate=[]\n",
    "for k in dict_places_n.keys():\n",
    "    N_fdate.append((dict_places_n[k],dict_places_fdate[k],k))\n",
    "    \n",
    "plt.figure()\n",
    "plt.scatter([n[1] for n in N_fdate],[n[0] for n in N_fdate])\n",
    "plt.xlabel('date of first apparition')\n",
    "plt.ylabel(r'$N_{occurences}$')\n",
    "#plt.savefig('N_data_first_apparition.pdf')\n",
    "plt.show()"
   ]
  },
  {
   "cell_type": "code",
   "execution_count": 50,
   "metadata": {},
   "outputs": [
    {
     "data": {
      "text/plain": [
       "[('GAM Torino', 4120, (45.06498, 7.66972)),\n",
       " ('Palazzo Madama, Turin', 4584, (45.07094444, 7.68577778)),\n",
       " ('Piano35 lounge bar', 4464, (45.0695625, 7.6630226)),\n",
       " ('Torino Outlet Village', 2761, (45.126941598900004, 7.7364778519)),\n",
       " ('EDIT - Torino', 1658, (45.0811, 7.6775899999999995)),\n",
       " (\"Museo Nazionale dell'Automobile\", 1713, (45.031681, 7.674175)),\n",
       " ('MILK Torino', 3515, (45.05529, 7.67195)),\n",
       " ('Museo Nazionale del Cinema di Torino', 6163, (45.0690467, 7.6930523))]"
      ]
     },
     "execution_count": 50,
     "metadata": {},
     "output_type": "execute_result"
    }
   ],
   "source": [
    "Outliers=[]\n",
    "# Who are the outliers of the two last years (The places with a number of posts too high)\n",
    "# But not extremely high.\n",
    "for n in N_fdate:\n",
    "    if n[1].year>=2016:\n",
    "        if n[0]>=2000 and n [0]<10000:\n",
    "            Outliers.append((n[2],n[0]))\n",
    "    if n[1].year>=2017:\n",
    "        if n[0]>=1500 and n [0]<2000:\n",
    "            Outliers.append((n[2],n[0]))\n",
    "Outliers=[(e[0], e[1], dict_name_coord[e[0]]) for e in Outliers]\n",
    "Outliers"
   ]
  },
  {
   "cell_type": "code",
   "execution_count": 51,
   "metadata": {},
   "outputs": [],
   "source": [
    "Places_to_get=[]\n",
    "# How to access the points which are out of the general tendency (monuments, etc. ?)\n",
    "for k in dict_places_n.keys():\n",
    "    if dict_places_n[k]>10000:\n",
    "        Places_to_get.append([dict_name_coord[k],dict_places_n[k]])\n",
    "\n",
    "#Places_to_get is a list of [(lat,lon), N_post] for the places with a unusually high N_post."
   ]
  },
  {
   "cell_type": "code",
   "execution_count": 52,
   "metadata": {},
   "outputs": [
    {
     "name": "stdout",
     "output_type": "stream",
     "text": [
      "Allianz Stadium 45010\n"
     ]
    },
    {
     "data": {
      "image/png": "[encoded data removed]",
      "text/plain": [
       "<Figure size 432x288 with 1 Axes>"
      ]
     },
     "metadata": {
      "needs_background": "light"
     },
     "output_type": "display_data"
    },
    {
     "name": "stdout",
     "output_type": "stream",
     "text": [
      "Venaria Reale 25080\n"
     ]
    },
    {
     "data": {
      "image/png": "[encoded data removed]",
      "text/plain": [
       "<Figure size 432x288 with 1 Axes>"
      ]
     },
     "metadata": {
      "needs_background": "light"
     },
     "output_type": "display_data"
    },
    {
     "name": "stdout",
     "output_type": "stream",
     "text": [
      "Lingotto Fiere - Torino 21362\n"
     ]
    },
    {
     "data": {
      "image/png": "[encoded data removed]",
      "text/plain": [
       "<Figure size 432x288 with 1 Axes>"
      ]
     },
     "metadata": {
      "needs_background": "light"
     },
     "output_type": "display_data"
    },
    {
     "name": "stdout",
     "output_type": "stream",
     "text": [
      "Piazza Castello 52850\n"
     ]
    },
    {
     "data": {
      "image/png": "[encoded data removed]",
      "text/plain": [
       "<Figure size 432x288 with 1 Axes>"
      ]
     },
     "metadata": {
      "needs_background": "light"
     },
     "output_type": "display_data"
    },
    {
     "name": "stdout",
     "output_type": "stream",
     "text": [
      "Piazza Vittorio Veneto 33802\n"
     ]
    },
    {
     "data": {
      "image/png": "[encoded data removed]",
      "text/plain": [
       "<Figure size 432x288 with 1 Axes>"
      ]
     },
     "metadata": {
      "needs_background": "light"
     },
     "output_type": "display_data"
    },
    {
     "name": "stdout",
     "output_type": "stream",
     "text": [
      "Torino Centro 58361\n"
     ]
    },
    {
     "data": {
      "image/png": "[encoded data removed]",
      "text/plain": [
       "<Figure size 432x288 with 1 Axes>"
      ]
     },
     "metadata": {
      "needs_background": "light"
     },
     "output_type": "display_data"
    },
    {
     "name": "stdout",
     "output_type": "stream",
     "text": [
      "Museo Egizio, Torino 24014\n"
     ]
    },
    {
     "data": {
      "image/png": "[encoded data removed]",
      "text/plain": [
       "<Figure size 432x288 with 1 Axes>"
      ]
     },
     "metadata": {
      "needs_background": "light"
     },
     "output_type": "display_data"
    },
    {
     "name": "stdout",
     "output_type": "stream",
     "text": [
      "Piazza San Carlo 43854\n"
     ]
    },
    {
     "data": {
      "image/png": "[encoded data removed]",
      "text/plain": [
       "<Figure size 432x288 with 1 Axes>"
      ]
     },
     "metadata": {
      "needs_background": "light"
     },
     "output_type": "display_data"
    },
    {
     "name": "stdout",
     "output_type": "stream",
     "text": [
      "Politecnico di Torino 12603\n"
     ]
    },
    {
     "data": {
      "image/png": "[encoded data removed]",
      "text/plain": [
       "<Figure size 432x288 with 1 Axes>"
      ]
     },
     "metadata": {
      "needs_background": "light"
     },
     "output_type": "display_data"
    },
    {
     "name": "stdout",
     "output_type": "stream",
     "text": [
      "Settimo Torinese 17180\n"
     ]
    },
    {
     "data": {
      "image/png": "[encoded data removed]",
      "text/plain": [
       "<Figure size 432x288 with 1 Axes>"
      ]
     },
     "metadata": {
      "needs_background": "light"
     },
     "output_type": "display_data"
    },
    {
     "name": "stdout",
     "output_type": "stream",
     "text": [
      "Pala Alpitour 42589\n"
     ]
    },
    {
     "data": {
      "image/png": "[encoded data removed]",
      "text/plain": [
       "<Figure size 432x288 with 1 Axes>"
      ]
     },
     "metadata": {
      "needs_background": "light"
     },
     "output_type": "display_data"
    },
    {
     "name": "stdout",
     "output_type": "stream",
     "text": [
      "Mole Antonelliana 43888\n"
     ]
    },
    {
     "data": {
      "image/png": "[encoded data removed]",
      "text/plain": [
       "<Figure size 432x288 with 1 Axes>"
      ]
     },
     "metadata": {
      "needs_background": "light"
     },
     "output_type": "display_data"
    },
    {
     "name": "stdout",
     "output_type": "stream",
     "text": [
      "Murazzi del Po 15590\n"
     ]
    },
    {
     "data": {
      "image/png": "[encoded data removed]",
      "text/plain": [
       "<Figure size 432x288 with 1 Axes>"
      ]
     },
     "metadata": {
      "needs_background": "light"
     },
     "output_type": "display_data"
    },
    {
     "name": "stdout",
     "output_type": "stream",
     "text": [
      "Juventus Stadium 11781\n"
     ]
    },
    {
     "data": {
      "image/png": "[encoded data removed]",
      "text/plain": [
       "<Figure size 432x288 with 1 Axes>"
      ]
     },
     "metadata": {
      "needs_background": "light"
     },
     "output_type": "display_data"
    },
    {
     "name": "stdout",
     "output_type": "stream",
     "text": [
      "Parco del Valentino 50117\n"
     ]
    },
    {
     "data": {
      "image/png": "[encoded data removed]",
      "text/plain": [
       "<Figure size 432x288 with 1 Axes>"
      ]
     },
     "metadata": {
      "needs_background": "light"
     },
     "output_type": "display_data"
    },
    {
     "name": "stdout",
     "output_type": "stream",
     "text": [
      "Regina Margherita, Piemonte, Italy 12190\n"
     ]
    },
    {
     "data": {
      "image/png": "[encoded data removed]",
      "text/plain": [
       "<Figure size 432x288 with 1 Axes>"
      ]
     },
     "metadata": {
      "needs_background": "light"
     },
     "output_type": "display_data"
    },
    {
     "name": "stdout",
     "output_type": "stream",
     "text": [
      "Reggia Di Venaria 18482\n"
     ]
    },
    {
     "data": {
      "image/png": "[encoded data removed]",
      "text/plain": [
       "<Figure size 432x288 with 1 Axes>"
      ]
     },
     "metadata": {
      "needs_background": "light"
     },
     "output_type": "display_data"
    },
    {
     "name": "stdout",
     "output_type": "stream",
     "text": [
      "Torino, Italy 20728\n"
     ]
    },
    {
     "data": {
      "image/png": "[encoded data removed]",
      "text/plain": [
       "<Figure size 432x288 with 1 Axes>"
      ]
     },
     "metadata": {
      "needs_background": "light"
     },
     "output_type": "display_data"
    },
    {
     "name": "stdout",
     "output_type": "stream",
     "text": [
      "Stadio Grande Torino - Olimpico 10873\n"
     ]
    },
    {
     "data": {
      "image/png": "[encoded data removed]",
      "text/plain": [
       "<Figure size 432x288 with 1 Axes>"
      ]
     },
     "metadata": {
      "needs_background": "light"
     },
     "output_type": "display_data"
    },
    {
     "name": "stdout",
     "output_type": "stream",
     "text": [
      "Stadio Olimpico 11371\n"
     ]
    },
    {
     "data": {
      "image/png": "[encoded data removed]",
      "text/plain": [
       "<Figure size 432x288 with 1 Axes>"
      ]
     },
     "metadata": {
      "needs_background": "light"
     },
     "output_type": "display_data"
    },
    {
     "name": "stdout",
     "output_type": "stream",
     "text": [
      "Torino Porta Nuova 20742\n"
     ]
    },
    {
     "data": {
      "image/png": "[encoded data removed]",
      "text/plain": [
       "<Figure size 432x288 with 1 Axes>"
      ]
     },
     "metadata": {
      "needs_background": "light"
     },
     "output_type": "display_data"
    },
    {
     "name": "stdout",
     "output_type": "stream",
     "text": [
      "Monte dei Cappuccini 23452\n"
     ]
    },
    {
     "data": {
      "image/png": "[encoded data removed]",
      "text/plain": [
       "<Figure size 432x288 with 1 Axes>"
      ]
     },
     "metadata": {
      "needs_background": "light"
     },
     "output_type": "display_data"
    },
    {
     "name": "stdout",
     "output_type": "stream",
     "text": [
      "Superga, Piemonte, Italy 11741\n"
     ]
    },
    {
     "data": {
      "image/png": "[encoded data removed]",
      "text/plain": [
       "<Figure size 432x288 with 1 Axes>"
      ]
     },
     "metadata": {
      "needs_background": "light"
     },
     "output_type": "display_data"
    }
   ],
   "source": [
    "# There would be more elegant way to do it, probably.\n",
    "# using groupby('name').resample().count().plot() ?\n",
    "\n",
    "time_series=df_new.copy()\n",
    "# let's plot the time series for each of those \"places to get\".\n",
    "time_series[\"date\"] = time_series[\"date\"].astype(\"datetime64\")\n",
    "\n",
    "for p in Places_to_get:\n",
    "    #PlaceName is the name of the place\n",
    "    PlaceName= dict_coord_name[p[0]]\n",
    "    print PlaceName, p[1]\n",
    "    # Keep only the data where the field name matches PlaceName\n",
    "    time_series=df_new.loc[df_new['name'] == PlaceName]\n",
    "    time_series.set_index('date', drop=False, inplace=True)\n",
    "    #Resample data on a monthly 'M' frequency and plot it with matplotlib\n",
    "    ax = time_series.text.resample('M').count().plot(x_compat=True)\n",
    "    #The hashtag Torino Centro lasts for only a year, it is not enough to have a tick every 6 moths\n",
    "    if Places_to_get.index(p)==0:\n",
    "    # elsewhere data spans over several years, so a tick in Jan and one in Jul is enough.\n",
    "        ax.xaxis.set_major_locator(mdates.MonthLocator())\n",
    "    else:\n",
    "        ax.xaxis.set_major_locator(mdates.MonthLocator(bymonth=[1,7]))\n",
    "    ax.xaxis.set_label('timeline')\n",
    "    ax.yaxis.set_label(r'N_{occurences}')\n",
    "    ax.set_title(PlaceName)\n",
    "    #plt.savefig('TimeSeriesPopPlaces/'+PlaceName.replace(' ', '_')+'.pdf')\n",
    "    plt.show()"
   ]
  },
  {
   "cell_type": "code",
   "execution_count": null,
   "metadata": {},
   "outputs": [],
   "source": [
    "# Where are the places that gather so much posts, on a map?\n",
    "m = folium.Map(location=[np.mean([c[0][0] for c in Places_to_get]),np.mean([c[0][1] for c in Places_to_get])], zoom_start=12)\n",
    "for p in Places_to_get:\n",
    "    folium.Marker(p[0]).add_to(m)\n",
    "m\n",
    "#m.save('places_hiN.html')"
   ]
  },
  {
   "cell_type": "code",
   "execution_count": 53,
   "metadata": {
    "collapsed": true
   },
   "outputs": [
    {
     "name": "stdout",
     "output_type": "stream",
     "text": [
      "How many spots? 5819\n"
     ]
    },
    {
     "data": {
      "text/html": [
       "<div>\n",
       "<style scoped>\n",
       "    .dataframe tbody tr th:only-of-type {\n",
       "        vertical-align: middle;\n",
       "    }\n",
       "\n",
       "    .dataframe tbody tr th {\n",
       "        vertical-align: top;\n",
       "    }\n",
       "\n",
       "    .dataframe thead th {\n",
       "        text-align: right;\n",
       "    }\n",
       "</style>\n",
       "<table border=\"1\" class=\"dataframe\">\n",
       "  <thead>\n",
       "    <tr style=\"text-align: right;\">\n",
       "      <th></th>\n",
       "      <th>latbin</th>\n",
       "      <th>lonbin</th>\n",
       "      <th>coords</th>\n",
       "    </tr>\n",
       "  </thead>\n",
       "  <tbody>\n",
       "    <tr>\n",
       "      <th>0</th>\n",
       "      <td>45.0720</td>\n",
       "      <td>7.691152</td>\n",
       "      <td>(45.07227, 7.69301)</td>\n",
       "    </tr>\n",
       "    <tr>\n",
       "      <th>14</th>\n",
       "      <td>45.1305</td>\n",
       "      <td>7.627431</td>\n",
       "      <td>(45.1335721884, 7.631136775)</td>\n",
       "    </tr>\n",
       "    <tr>\n",
       "      <th>21</th>\n",
       "      <td>45.0810</td>\n",
       "      <td>7.659292</td>\n",
       "      <td>(45.081999413, 7.6618255282)</td>\n",
       "    </tr>\n",
       "    <tr>\n",
       "      <th>43</th>\n",
       "      <td>45.0630</td>\n",
       "      <td>7.678408</td>\n",
       "      <td>(45.06378, 7.68174)</td>\n",
       "    </tr>\n",
       "    <tr>\n",
       "      <th>78</th>\n",
       "      <td>45.0585</td>\n",
       "      <td>7.672036</td>\n",
       "      <td>(45.0611, 7.67603)</td>\n",
       "    </tr>\n",
       "  </tbody>\n",
       "</table>\n",
       "</div>"
      ],
      "text/plain": [
       "     latbin    lonbin                        coords\n",
       "0   45.0720  7.691152           (45.07227, 7.69301)\n",
       "14  45.1305  7.627431  (45.1335721884, 7.631136775)\n",
       "21  45.0810  7.659292  (45.081999413, 7.6618255282)\n",
       "43  45.0630  7.678408           (45.06378, 7.68174)\n",
       "78  45.0585  7.672036            (45.0611, 7.67603)"
      ]
     },
     "execution_count": 53,
     "metadata": {},
     "output_type": "execute_result"
    }
   ],
   "source": [
    "# Hotspot = coordinates associated with several posts.\n",
    "# How many different hotspots do we have? \n",
    "df_new_index_cells=df_new.copy()\n",
    "# group the posts by coordinates and agglomerate the text in each of them\n",
    "df_new_index_cells['text'] = df_new_index_cells.groupby(['coords'])['text'].transform(lambda x: ','.join(x))\n",
    "# Keep only one occurence for each hotspot\n",
    "df_new_nodup_cells=df_new_index_cells[['latbin','lonbin','coords']].drop_duplicates()\n",
    "print 'How many spots?', df_new_nodup_cells.shape[0]\n",
    "df_new_nodup_cells.head()"
   ]
  },
  {
   "cell_type": "code",
   "execution_count": 54,
   "metadata": {
    "scrolled": true
   },
   "outputs": [
    {
     "data": {
      "text/html": [
       "<div>\n",
       "<style scoped>\n",
       "    .dataframe tbody tr th:only-of-type {\n",
       "        vertical-align: middle;\n",
       "    }\n",
       "\n",
       "    .dataframe tbody tr th {\n",
       "        vertical-align: top;\n",
       "    }\n",
       "\n",
       "    .dataframe thead th {\n",
       "        text-align: right;\n",
       "    }\n",
       "</style>\n",
       "<table border=\"1\" class=\"dataframe\">\n",
       "  <thead>\n",
       "    <tr style=\"text-align: right;\">\n",
       "      <th></th>\n",
       "      <th>latbin</th>\n",
       "      <th>lonbin</th>\n",
       "      <th>coords</th>\n",
       "      <th>row</th>\n",
       "      <th>column</th>\n",
       "      <th>(r,c)</th>\n",
       "      <th>n</th>\n",
       "    </tr>\n",
       "  </thead>\n",
       "  <tbody>\n",
       "    <tr>\n",
       "      <th>0</th>\n",
       "      <td>45.0720</td>\n",
       "      <td>7.691152</td>\n",
       "      <td>(45.07227, 7.69301)</td>\n",
       "      <td>12.0</td>\n",
       "      <td>15.0</td>\n",
       "      <td>(12.0, 15.0)</td>\n",
       "      <td>387.0</td>\n",
       "    </tr>\n",
       "    <tr>\n",
       "      <th>14</th>\n",
       "      <td>45.1305</td>\n",
       "      <td>7.627431</td>\n",
       "      <td>(45.1335721884, 7.631136775)</td>\n",
       "      <td>22.0</td>\n",
       "      <td>28.0</td>\n",
       "      <td>(22.0, 28.0)</td>\n",
       "      <td>710.0</td>\n",
       "    </tr>\n",
       "    <tr>\n",
       "      <th>21</th>\n",
       "      <td>45.0810</td>\n",
       "      <td>7.659292</td>\n",
       "      <td>(45.081999413, 7.6618255282)</td>\n",
       "      <td>17.0</td>\n",
       "      <td>17.0</td>\n",
       "      <td>(17.0, 17.0)</td>\n",
       "      <td>544.0</td>\n",
       "    </tr>\n",
       "    <tr>\n",
       "      <th>43</th>\n",
       "      <td>45.0630</td>\n",
       "      <td>7.678408</td>\n",
       "      <td>(45.06378, 7.68174)</td>\n",
       "      <td>14.0</td>\n",
       "      <td>13.0</td>\n",
       "      <td>(14.0, 13.0)</td>\n",
       "      <td>447.0</td>\n",
       "    </tr>\n",
       "    <tr>\n",
       "      <th>78</th>\n",
       "      <td>45.0585</td>\n",
       "      <td>7.672036</td>\n",
       "      <td>(45.0611, 7.67603)</td>\n",
       "      <td>15.0</td>\n",
       "      <td>12.0</td>\n",
       "      <td>(15.0, 12.0)</td>\n",
       "      <td>477.0</td>\n",
       "    </tr>\n",
       "  </tbody>\n",
       "</table>\n",
       "</div>"
      ],
      "text/plain": [
       "     latbin    lonbin                        coords   row  column  \\\n",
       "0   45.0720  7.691152           (45.07227, 7.69301)  12.0    15.0   \n",
       "14  45.1305  7.627431  (45.1335721884, 7.631136775)  22.0    28.0   \n",
       "21  45.0810  7.659292  (45.081999413, 7.6618255282)  17.0    17.0   \n",
       "43  45.0630  7.678408           (45.06378, 7.68174)  14.0    13.0   \n",
       "78  45.0585  7.672036            (45.0611, 7.67603)  15.0    12.0   \n",
       "\n",
       "           (r,c)      n  \n",
       "0   (12.0, 15.0)  387.0  \n",
       "14  (22.0, 28.0)  710.0  \n",
       "21  (17.0, 17.0)  544.0  \n",
       "43  (14.0, 13.0)  447.0  \n",
       "78  (15.0, 12.0)  477.0  "
      ]
     },
     "execution_count": 54,
     "metadata": {},
     "output_type": "execute_result"
    }
   ],
   "source": [
    "# Create a DataFrame with the grid coordinates of each hotspot.\n",
    "# n is the global index of each element in the grid matrix:\n",
    "# [1 2 3]\n",
    "# [4 5 6]\n",
    "# [7 8 9]\n",
    "\n",
    "df_new_nodup_cells['row']=(max(df_new_nodup_cells['lonbin'])-df_new_nodup_cells['lonbin'])/step_lon\n",
    "df_new_nodup_cells['column']=(df_new_nodup_cells['latbin']-min(df_new_nodup_cells['latbin']))/step_lat\n",
    "df_new_nodup_cells['(r,c)'] = list(zip(df_new_nodup_cells['row'],df_new_nodup_cells['column']))\n",
    "df_new_nodup_cells['n'] = (df_new_nodup_cells['row'])*number_lats+df_new_nodup_cells['column']\n",
    "df_new_nodup_cells.head()"
   ]
  },
  {
   "cell_type": "code",
   "execution_count": 55,
   "metadata": {},
   "outputs": [],
   "source": [
    "#And index it by coordinates\n",
    "df_new_nodup2_cells=df_new_nodup_cells.copy()\n",
    "df_new_nodup2_cells=df_new_nodup2_cells.set_index(['coords'])"
   ]
  },
  {
   "cell_type": "code",
   "execution_count": 56,
   "metadata": {
    "collapsed": true
   },
   "outputs": [
    {
     "name": "stderr",
     "output_type": "stream",
     "text": [
      "/home/eartiges/miniconda3/envs/jupyG/lib/python2.7/site-packages/ipykernel_launcher.py:3: SettingWithCopyWarning: \n",
      "A value is trying to be set on a copy of a slice from a DataFrame.\n",
      "Try using .loc[row_indexer,col_indexer] = value instead\n",
      "\n",
      "See the caveats in the documentation: http://pandas.pydata.org/pandas-docs/stable/indexing.html#indexing-view-versus-copy\n",
      "  This is separate from the ipykernel package so we can avoid doing imports until\n",
      "/home/eartiges/miniconda3/envs/jupyG/lib/python2.7/site-packages/ipykernel_launcher.py:4: SettingWithCopyWarning: \n",
      "A value is trying to be set on a copy of a slice from a DataFrame.\n",
      "Try using .loc[row_indexer,col_indexer] = value instead\n",
      "\n",
      "See the caveats in the documentation: http://pandas.pydata.org/pandas-docs/stable/indexing.html#indexing-view-versus-copy\n",
      "  after removing the cwd from sys.path.\n",
      "/home/eartiges/miniconda3/envs/jupyG/lib/python2.7/site-packages/ipykernel_launcher.py:6: SettingWithCopyWarning: \n",
      "A value is trying to be set on a copy of a slice from a DataFrame.\n",
      "Try using .loc[row_indexer,col_indexer] = value instead\n",
      "\n",
      "See the caveats in the documentation: http://pandas.pydata.org/pandas-docs/stable/indexing.html#indexing-view-versus-copy\n",
      "  \n"
     ]
    }
   ],
   "source": [
    "#Make an index of only the years + months and text of posts\n",
    "df_new_index=df_new[['date','text','coordsbin']]\n",
    "df_new_index['date'] = pd.to_datetime(df_new_index['date'], errors='coerce')\n",
    "df_new_index['year_month'] = list(zip(df_new_index['date'].dt.year, df_new_index['date'].dt.month)) #add a month column\n",
    "yearmin=min([y[0] for y in df_new_index.year_month.tolist()])\n",
    "df_new_index['month_abs']=[(e[0]-yearmin)*12+e[1] for e in df_new_index.year_month]"
   ]
  },
  {
   "cell_type": "code",
   "execution_count": 57,
   "metadata": {
    "collapsed": true
   },
   "outputs": [
    {
     "data": {
      "text/html": [
       "<div>\n",
       "<style scoped>\n",
       "    .dataframe tbody tr th:only-of-type {\n",
       "        vertical-align: middle;\n",
       "    }\n",
       "\n",
       "    .dataframe tbody tr th {\n",
       "        vertical-align: top;\n",
       "    }\n",
       "\n",
       "    .dataframe thead th {\n",
       "        text-align: right;\n",
       "    }\n",
       "</style>\n",
       "<table border=\"1\" class=\"dataframe\">\n",
       "  <thead>\n",
       "    <tr style=\"text-align: right;\">\n",
       "      <th></th>\n",
       "      <th>date</th>\n",
       "      <th>text</th>\n",
       "      <th>coordsbin</th>\n",
       "      <th>year_month</th>\n",
       "      <th>month_abs</th>\n",
       "    </tr>\n",
       "  </thead>\n",
       "  <tbody>\n",
       "    <tr>\n",
       "      <th>0</th>\n",
       "      <td>2017-11-14 16:20:42</td>\n",
       "      <td>After great week to home of my Friend this sac...</td>\n",
       "      <td>(45.072, 7.69115211839)</td>\n",
       "      <td>(2017, 11)</td>\n",
       "      <td>95</td>\n",
       "    </tr>\n",
       "    <tr>\n",
       "      <th>1</th>\n",
       "      <td>2017-10-31 16:10:00</td>\n",
       "      <td>Fisrt Flower of my new style thanx Teresa than...</td>\n",
       "      <td>(45.072, 7.69115211839)</td>\n",
       "      <td>(2017, 10)</td>\n",
       "      <td>94</td>\n",
       "    </tr>\n",
       "    <tr>\n",
       "      <th>2</th>\n",
       "      <td>2017-10-16 15:22:37</td>\n",
       "      <td>This for new roses Thanx Simonewalterbiancowb ...</td>\n",
       "      <td>(45.072, 7.69115211839)</td>\n",
       "      <td>(2017, 10)</td>\n",
       "      <td>94</td>\n",
       "    </tr>\n",
       "    <tr>\n",
       "      <th>3</th>\n",
       "      <td>2017-10-05 15:40:03</td>\n",
       "      <td>New skull  walterbiancowb wbtattooartgallery w...</td>\n",
       "      <td>(45.072, 7.69115211839)</td>\n",
       "      <td>(2017, 10)</td>\n",
       "      <td>94</td>\n",
       "    </tr>\n",
       "    <tr>\n",
       "      <th>4</th>\n",
       "      <td>2017-10-03 16:13:43</td>\n",
       "      <td>Paint  acrilic biomech on sale  cm X  cm origi...</td>\n",
       "      <td>(45.072, 7.69115211839)</td>\n",
       "      <td>(2017, 10)</td>\n",
       "      <td>94</td>\n",
       "    </tr>\n",
       "  </tbody>\n",
       "</table>\n",
       "</div>"
      ],
      "text/plain": [
       "                 date                                               text  \\\n",
       "0 2017-11-14 16:20:42  After great week to home of my Friend this sac...   \n",
       "1 2017-10-31 16:10:00  Fisrt Flower of my new style thanx Teresa than...   \n",
       "2 2017-10-16 15:22:37  This for new roses Thanx Simonewalterbiancowb ...   \n",
       "3 2017-10-05 15:40:03  New skull  walterbiancowb wbtattooartgallery w...   \n",
       "4 2017-10-03 16:13:43  Paint  acrilic biomech on sale  cm X  cm origi...   \n",
       "\n",
       "                 coordsbin  year_month  month_abs  \n",
       "0  (45.072, 7.69115211839)  (2017, 11)         95  \n",
       "1  (45.072, 7.69115211839)  (2017, 10)         94  \n",
       "2  (45.072, 7.69115211839)  (2017, 10)         94  \n",
       "3  (45.072, 7.69115211839)  (2017, 10)         94  \n",
       "4  (45.072, 7.69115211839)  (2017, 10)         94  "
      ]
     },
     "execution_count": 57,
     "metadata": {},
     "output_type": "execute_result"
    }
   ],
   "source": [
    "# df_new_index is a dataframe with a column month_abs that puts every\n",
    "# month on a global timeframe.\n",
    "\n",
    "df_new_index.head()"
   ]
  },
  {
   "cell_type": "markdown",
   "metadata": {},
   "source": [
    "### Checkpoint 4"
   ]
  },
  {
   "cell_type": "code",
   "execution_count": null,
   "metadata": {},
   "outputs": [],
   "source": [
    "#And pickle it\n",
    "#df_new_index.to_pickle('df_new_index_chkpt4.pkl')\n",
    "#df_new_index=pd.read_pickle('df_new_index_chkpt4.pkl')"
   ]
  },
  {
   "cell_type": "code",
   "execution_count": 58,
   "metadata": {},
   "outputs": [
    {
     "name": "stdout",
     "output_type": "stream",
     "text": [
      "[2010, 2011, 2012, 2013, 2014, 2015, 2016, 2017, 2018]\n",
      "[1, 2, 3, 4, 5, 6, 7, 8, 9, 10, 11, 12]\n"
     ]
    }
   ],
   "source": [
    "list_years=list(set([e[0] for e in df_new_index.year_month.tolist()]))\n",
    "list_months=list(set([e[1] for e in df_new_index.year_month.tolist()]))\n",
    "print sorted(list_years)\n",
    "print sorted(list_months)"
   ]
  },
  {
   "cell_type": "code",
   "execution_count": 59,
   "metadata": {
    "collapsed": true
   },
   "outputs": [
    {
     "name": "stderr",
     "output_type": "stream",
     "text": [
      "/home/eartiges/miniconda3/envs/jupyG/lib/python2.7/site-packages/ipykernel_launcher.py:12: SettingWithCopyWarning: \n",
      "A value is trying to be set on a copy of a slice from a DataFrame.\n",
      "Try using .loc[row_indexer,col_indexer] = value instead\n",
      "\n",
      "See the caveats in the documentation: http://pandas.pydata.org/pandas-docs/stable/indexing.html#indexing-view-versus-copy\n",
      "  if sys.path[0] == '':\n"
     ]
    },
    {
     "data": {
      "text/html": [
       "<div>\n",
       "<style scoped>\n",
       "    .dataframe tbody tr th:only-of-type {\n",
       "        vertical-align: middle;\n",
       "    }\n",
       "\n",
       "    .dataframe tbody tr th {\n",
       "        vertical-align: top;\n",
       "    }\n",
       "\n",
       "    .dataframe thead th {\n",
       "        text-align: right;\n",
       "    }\n",
       "</style>\n",
       "<table border=\"1\" class=\"dataframe\">\n",
       "  <thead>\n",
       "    <tr style=\"text-align: right;\">\n",
       "      <th></th>\n",
       "      <th>10</th>\n",
       "      <th>11</th>\n",
       "      <th>12</th>\n",
       "      <th>13</th>\n",
       "      <th>14</th>\n",
       "      <th>15</th>\n",
       "      <th>16</th>\n",
       "      <th>17</th>\n",
       "      <th>18</th>\n",
       "      <th>19</th>\n",
       "      <th>...</th>\n",
       "      <th>93</th>\n",
       "      <th>94</th>\n",
       "      <th>95</th>\n",
       "      <th>96</th>\n",
       "      <th>97</th>\n",
       "      <th>98</th>\n",
       "      <th>99</th>\n",
       "      <th>100</th>\n",
       "      <th>101</th>\n",
       "      <th>result</th>\n",
       "    </tr>\n",
       "    <tr>\n",
       "      <th>coordsbin</th>\n",
       "      <th></th>\n",
       "      <th></th>\n",
       "      <th></th>\n",
       "      <th></th>\n",
       "      <th></th>\n",
       "      <th></th>\n",
       "      <th></th>\n",
       "      <th></th>\n",
       "      <th></th>\n",
       "      <th></th>\n",
       "      <th></th>\n",
       "      <th></th>\n",
       "      <th></th>\n",
       "      <th></th>\n",
       "      <th></th>\n",
       "      <th></th>\n",
       "      <th></th>\n",
       "      <th></th>\n",
       "      <th></th>\n",
       "      <th></th>\n",
       "      <th></th>\n",
       "    </tr>\n",
       "  </thead>\n",
       "  <tbody>\n",
       "    <tr>\n",
       "      <th>(45.0045, 7.60194240037)</th>\n",
       "      <td></td>\n",
       "      <td></td>\n",
       "      <td></td>\n",
       "      <td></td>\n",
       "      <td></td>\n",
       "      <td></td>\n",
       "      <td></td>\n",
       "      <td></td>\n",
       "      <td></td>\n",
       "      <td></td>\n",
       "      <td>...</td>\n",
       "      <td>Quando ho scritto questo brano sognavo di camb...</td>\n",
       "      <td>Punti riflessi sulla mano  reflessologia rifle...</td>\n",
       "      <td>PORTA UN AMICOA e Noi ti Regaliamo un Trattame...</td>\n",
       "      <td></td>\n",
       "      <td></td>\n",
       "      <td></td>\n",
       "      <td></td>\n",
       "      <td></td>\n",
       "      <td></td>\n",
       "      <td>AppuntamentoFisso☀️ Secondo step  Epilazione l...</td>\n",
       "    </tr>\n",
       "    <tr>\n",
       "      <th>(45.0045, 7.62105876852)</th>\n",
       "      <td></td>\n",
       "      <td></td>\n",
       "      <td></td>\n",
       "      <td></td>\n",
       "      <td></td>\n",
       "      <td></td>\n",
       "      <td></td>\n",
       "      <td></td>\n",
       "      <td></td>\n",
       "      <td></td>\n",
       "      <td>...</td>\n",
       "      <td>❤❤,Today   minions candy carrefour minioncandy...</td>\n",
       "      <td>Finish,Laùra barbù FeG menatwork carrefour tor...</td>\n",
       "      <td>Montaggio sedute Catifa  di official per il nu...</td>\n",
       "      <td>Semplicemente leggero   ❤️ instagood instagram...</td>\n",
       "      <td>Love ❤ guscio gusciostore gusciostoreiviali iv...</td>\n",
       "      <td>nucleokids newcollection pe nucleo baby babybo...</td>\n",
       "      <td>yngychy  T shirt €  ,Viaspettiamo,Hai la mag...</td>\n",
       "      <td>Correndo ‍♀️Pausa spuntino  a lavoro ✔️ Non ci...</td>\n",
       "      <td></td>\n",
       "      <td>❤☀ mamma,secondaparte tegocalderon reaggaeton,...</td>\n",
       "    </tr>\n",
       "    <tr>\n",
       "      <th>(45.0045, 7.64654725938)</th>\n",
       "      <td></td>\n",
       "      <td></td>\n",
       "      <td></td>\n",
       "      <td></td>\n",
       "      <td></td>\n",
       "      <td></td>\n",
       "      <td></td>\n",
       "      <td></td>\n",
       "      <td></td>\n",
       "      <td></td>\n",
       "      <td>...</td>\n",
       "      <td></td>\n",
       "      <td></td>\n",
       "      <td>Thank you all º Royal Cup Torino Turin champio...</td>\n",
       "      <td></td>\n",
       "      <td></td>\n",
       "      <td></td>\n",
       "      <td></td>\n",
       "      <td></td>\n",
       "      <td></td>\n",
       "      <td>Ci abbiamo provato almeno✌️ Grandi ragazze sen...</td>\n",
       "    </tr>\n",
       "    <tr>\n",
       "      <th>(45.0045, 7.6529193821)</th>\n",
       "      <td></td>\n",
       "      <td></td>\n",
       "      <td></td>\n",
       "      <td></td>\n",
       "      <td></td>\n",
       "      <td></td>\n",
       "      <td></td>\n",
       "      <td></td>\n",
       "      <td></td>\n",
       "      <td></td>\n",
       "      <td>...</td>\n",
       "      <td>SAMMOSSCH   escaperoom SAW la quarta stanza vi...</td>\n",
       "      <td>Halloween   I LOSERSnella nostra area selfie  ...</td>\n",
       "      <td>GLI SCOPPIATI  SAW la quarta stanza è aperta ⏰...</td>\n",
       "      <td>Enigmaticamente augura a TUTTI VOI un feliciss...</td>\n",
       "      <td>I LEONI escaperoom Lipnotista minuti⏰ e tanti ...</td>\n",
       "      <td>ATLETICO GAUDENZIO escaperoom SAW Avete credut...</td>\n",
       "      <td>LE PATONE  nellIPNOTISTA La mente è il luogo d...</td>\n",
       "      <td>I VENERDÌ   escaperoom SAW Avete creduto che c...</td>\n",
       "      <td></td>\n",
       "      <td>Buon  Aliiiiii ❤️happybday happybirthday buonc...</td>\n",
       "    </tr>\n",
       "    <tr>\n",
       "      <th>(45.0045, 7.65929150481)</th>\n",
       "      <td></td>\n",
       "      <td></td>\n",
       "      <td></td>\n",
       "      <td></td>\n",
       "      <td></td>\n",
       "      <td></td>\n",
       "      <td></td>\n",
       "      <td></td>\n",
       "      <td></td>\n",
       "      <td></td>\n",
       "      <td>...</td>\n",
       "      <td></td>\n",
       "      <td></td>\n",
       "      <td>Cucciolo di Monviso</td>\n",
       "      <td>Per noi fare memoria significa prima di tutto ...</td>\n",
       "      <td>Memoria  Prima di partire per auschwitz gli st...</td>\n",
       "      <td>Hai mai sognato di scrivere cantare e registra...</td>\n",
       "      <td></td>\n",
       "      <td></td>\n",
       "      <td></td>\n",
       "      <td>Quando i colleghi ti viziano non è necessario ...</td>\n",
       "    </tr>\n",
       "  </tbody>\n",
       "</table>\n",
       "<p>5 rows × 93 columns</p>\n",
       "</div>"
      ],
      "text/plain": [
       "                         10 11 12 13 14 15 16 17 18 19  \\\n",
       "coordsbin                                                \n",
       "(45.0045, 7.60194240037)                                 \n",
       "(45.0045, 7.62105876852)                                 \n",
       "(45.0045, 7.64654725938)                                 \n",
       "(45.0045, 7.6529193821)                                  \n",
       "(45.0045, 7.65929150481)                                 \n",
       "\n",
       "                                                ...                          \\\n",
       "coordsbin                                       ...                           \n",
       "(45.0045, 7.60194240037)                        ...                           \n",
       "(45.0045, 7.62105876852)                        ...                           \n",
       "(45.0045, 7.64654725938)                        ...                           \n",
       "(45.0045, 7.6529193821)                         ...                           \n",
       "(45.0045, 7.65929150481)                        ...                           \n",
       "\n",
       "                                                                         93  \\\n",
       "coordsbin                                                                     \n",
       "(45.0045, 7.60194240037)  Quando ho scritto questo brano sognavo di camb...   \n",
       "(45.0045, 7.62105876852)  ❤❤,Today   minions candy carrefour minioncandy...   \n",
       "(45.0045, 7.64654725938)                                                      \n",
       "(45.0045, 7.6529193821)   SAMMOSSCH   escaperoom SAW la quarta stanza vi...   \n",
       "(45.0045, 7.65929150481)                                                      \n",
       "\n",
       "                                                                         94  \\\n",
       "coordsbin                                                                     \n",
       "(45.0045, 7.60194240037)  Punti riflessi sulla mano  reflessologia rifle...   \n",
       "(45.0045, 7.62105876852)  Finish,Laùra barbù FeG menatwork carrefour tor...   \n",
       "(45.0045, 7.64654725938)                                                      \n",
       "(45.0045, 7.6529193821)   Halloween   I LOSERSnella nostra area selfie  ...   \n",
       "(45.0045, 7.65929150481)                                                      \n",
       "\n",
       "                                                                         95  \\\n",
       "coordsbin                                                                     \n",
       "(45.0045, 7.60194240037)  PORTA UN AMICOA e Noi ti Regaliamo un Trattame...   \n",
       "(45.0045, 7.62105876852)  Montaggio sedute Catifa  di official per il nu...   \n",
       "(45.0045, 7.64654725938)  Thank you all º Royal Cup Torino Turin champio...   \n",
       "(45.0045, 7.6529193821)   GLI SCOPPIATI  SAW la quarta stanza è aperta ⏰...   \n",
       "(45.0045, 7.65929150481)                                Cucciolo di Monviso   \n",
       "\n",
       "                                                                         96  \\\n",
       "coordsbin                                                                     \n",
       "(45.0045, 7.60194240037)                                                      \n",
       "(45.0045, 7.62105876852)  Semplicemente leggero   ❤️ instagood instagram...   \n",
       "(45.0045, 7.64654725938)                                                      \n",
       "(45.0045, 7.6529193821)   Enigmaticamente augura a TUTTI VOI un feliciss...   \n",
       "(45.0045, 7.65929150481)  Per noi fare memoria significa prima di tutto ...   \n",
       "\n",
       "                                                                         97  \\\n",
       "coordsbin                                                                     \n",
       "(45.0045, 7.60194240037)                                                      \n",
       "(45.0045, 7.62105876852)  Love ❤ guscio gusciostore gusciostoreiviali iv...   \n",
       "(45.0045, 7.64654725938)                                                      \n",
       "(45.0045, 7.6529193821)   I LEONI escaperoom Lipnotista minuti⏰ e tanti ...   \n",
       "(45.0045, 7.65929150481)  Memoria  Prima di partire per auschwitz gli st...   \n",
       "\n",
       "                                                                         98  \\\n",
       "coordsbin                                                                     \n",
       "(45.0045, 7.60194240037)                                                      \n",
       "(45.0045, 7.62105876852)  nucleokids newcollection pe nucleo baby babybo...   \n",
       "(45.0045, 7.64654725938)                                                      \n",
       "(45.0045, 7.6529193821)   ATLETICO GAUDENZIO escaperoom SAW Avete credut...   \n",
       "(45.0045, 7.65929150481)  Hai mai sognato di scrivere cantare e registra...   \n",
       "\n",
       "                                                                         99  \\\n",
       "coordsbin                                                                     \n",
       "(45.0045, 7.60194240037)                                                      \n",
       "(45.0045, 7.62105876852)    yngychy  T shirt €  ,Viaspettiamo,Hai la mag...   \n",
       "(45.0045, 7.64654725938)                                                      \n",
       "(45.0045, 7.6529193821)   LE PATONE  nellIPNOTISTA La mente è il luogo d...   \n",
       "(45.0045, 7.65929150481)                                                      \n",
       "\n",
       "                                                                        100  \\\n",
       "coordsbin                                                                     \n",
       "(45.0045, 7.60194240037)                                                      \n",
       "(45.0045, 7.62105876852)  Correndo ‍♀️Pausa spuntino  a lavoro ✔️ Non ci...   \n",
       "(45.0045, 7.64654725938)                                                      \n",
       "(45.0045, 7.6529193821)   I VENERDÌ   escaperoom SAW Avete creduto che c...   \n",
       "(45.0045, 7.65929150481)                                                      \n",
       "\n",
       "                         101  \\\n",
       "coordsbin                      \n",
       "(45.0045, 7.60194240037)       \n",
       "(45.0045, 7.62105876852)       \n",
       "(45.0045, 7.64654725938)       \n",
       "(45.0045, 7.6529193821)        \n",
       "(45.0045, 7.65929150481)       \n",
       "\n",
       "                                                                     result  \n",
       "coordsbin                                                                    \n",
       "(45.0045, 7.60194240037)  AppuntamentoFisso☀️ Secondo step  Epilazione l...  \n",
       "(45.0045, 7.62105876852)  ❤☀ mamma,secondaparte tegocalderon reaggaeton,...  \n",
       "(45.0045, 7.64654725938)  Ci abbiamo provato almeno✌️ Grandi ragazze sen...  \n",
       "(45.0045, 7.6529193821)   Buon  Aliiiiii ❤️happybday happybirthday buonc...  \n",
       "(45.0045, 7.65929150481)  Quando i colleghi ti viziano non è necessario ...  \n",
       "\n",
       "[5 rows x 93 columns]"
      ]
     },
     "execution_count": 59,
     "metadata": {},
     "output_type": "execute_result"
    }
   ],
   "source": [
    "# My version NEW\n",
    "df_classified=pd.DataFrame()\n",
    "for month in sorted(set(df_new_index.month_abs)):\n",
    "        # Human-readable date\n",
    "        year_month=(min(list_years)+(month-month%12)/12, month%12+1)\n",
    "        #Select only the data corresponding to this month\n",
    "        df_sliced=df_new_index.loc[df_new_index['month_abs']==month]\n",
    "        gc.collect()\n",
    "        #Group the data by bin and join the text of all the posts grouped this way\n",
    "        df_sliced['text'] = df_sliced.groupby('coordsbin')['text'].transform(lambda x: ','.join(x))\n",
    "        #drop the potential duplicates\n",
    "        # Some posts, at various dates, have the same text in them. We keep only the\n",
    "        # first occurence and discard the next ones.\n",
    "        df=(df_sliced[['text','coordsbin']].drop_duplicates())\n",
    "        df.set_index('coordsbin', inplace=True)\n",
    "        df.rename(columns={\"text\": month},inplace=True)\n",
    "        df_classified=df_classified.merge(df, how='outer', left_index=True,right_index=True)\n",
    "df_classified.fillna(value='',inplace=True)\n",
    "series_list = [df_classified[c] for c in df_classified.columns[:-1]]\n",
    "# concatenate:\n",
    "df_classified['result'] = [s.strip() for s in series_list[0].str.cat(series_list[1:], sep=' ')]\n",
    "df_classified.head()"
   ]
  },
  {
   "cell_type": "markdown",
   "metadata": {},
   "source": [
    "### Checkpoint 5"
   ]
  },
  {
   "cell_type": "code",
   "execution_count": 9,
   "metadata": {},
   "outputs": [],
   "source": [
    "#And pickle it\n",
    "#df_new.to_pickle('df_new_chkpt5.pkl')\n",
    "#df_new_index.to_pickle('df_new_index_chkpt5.pkl')\n",
    "#df_classified.to_pickle('df_classified_chkpt5.pkl')\n",
    "\n",
    "#df_new=pd.read_pickle('df_new_chkpt5.pkl')\n",
    "#df_new_index=pd.read_pickle('df_new_index_chkpt5.pkl')\n",
    "#df_classified=pd.read_pickle('df_classified_chkpt5.pkl')\n"
   ]
  },
  {
   "cell_type": "code",
   "execution_count": 3,
   "metadata": {
    "collapsed": true
   },
   "outputs": [
    {
     "name": "stdout",
     "output_type": "stream",
     "text": [
      "(31.00000000000114, 31.000000000000007)\n"
     ]
    },
    {
     "name": "stderr",
     "output_type": "stream",
     "text": [
      "/home/eartiges/miniconda3/envs/jupyG/lib/python2.7/site-packages/ipykernel_launcher.py:22: SettingWithCopyWarning: \n",
      "A value is trying to be set on a copy of a slice from a DataFrame.\n",
      "Try using .loc[row_indexer,col_indexer] = value instead\n",
      "\n",
      "See the caveats in the documentation: http://pandas.pydata.org/pandas-docs/stable/indexing.html#indexing-view-versus-copy\n",
      "/home/eartiges/miniconda3/envs/jupyG/lib/python2.7/site-packages/ipykernel_launcher.py:23: SettingWithCopyWarning: \n",
      "A value is trying to be set on a copy of a slice from a DataFrame.\n",
      "Try using .loc[row_indexer,col_indexer] = value instead\n",
      "\n",
      "See the caveats in the documentation: http://pandas.pydata.org/pandas-docs/stable/indexing.html#indexing-view-versus-copy\n",
      "/home/eartiges/miniconda3/envs/jupyG/lib/python2.7/site-packages/ipykernel_launcher.py:25: SettingWithCopyWarning: \n",
      "A value is trying to be set on a copy of a slice from a DataFrame.\n",
      "Try using .loc[row_indexer,col_indexer] = value instead\n",
      "\n",
      "See the caveats in the documentation: http://pandas.pydata.org/pandas-docs/stable/indexing.html#indexing-view-versus-copy\n"
     ]
    }
   ],
   "source": [
    "if not True:\n",
    "    lat1=min(df_new.lat)\n",
    "    lat2=max(df_new.lat)\n",
    "    lon1=min(df_new.lon)\n",
    "    lon2=max(df_new.lon)\n",
    "    step_m=0.5\n",
    "    step_lon=step_m/(40000*math.cos((lat1+lat2)*math.pi/360)/360)\n",
    "    step_lat=step_m/(40000./360.)\n",
    "    to_bin_lon = lambda x: np.floor(x / step_lon) * step_lon\n",
    "    to_bin_lat = lambda x: np.floor(x / step_lat) * step_lat\n",
    "    df_new[\"latbin\"] = df_new.lat.map(to_bin_lat)\n",
    "    df_new[\"lonbin\"] = df_new.lon.map(to_bin_lon)\n",
    "    number_lats=(max(df_new['latbin'])-min(df_new['latbin']))/step_lat+1\n",
    "    number_lon=(max(df_new['lonbin'])-min(df_new['lonbin']))/step_lon+1\n",
    "    print (number_lats, number_lon)\n",
    "    Late=False\n",
    "    #Make an index of only the years + months and text of posts\n",
    "    gc.collect()\n",
    "    list_years=list(set([e.year for e in df_new.date.tolist()]))\n",
    "    list_months=list(set([e.month for e in df_new.date.tolist()]))\n",
    "    df_new_index=df_new[['date','text','coordsbin']]\n",
    "    df_new_index['date'] = pd.to_datetime(df_new_index['date'], errors='coerce')\n",
    "    df_new_index['year_month'] = list(zip(df_new_index['date'].dt.year, df_new_index['date'].dt.month)) #add a month column\n",
    "    yearmin=min([y[0] for y in df_new_index.year_month.tolist()])\n",
    "    df_new_index['month_abs']=[(e[0]-yearmin)*12+e[1] for e in df_new_index.year_month]"
   ]
  },
  {
   "cell_type": "code",
   "execution_count": 62,
   "metadata": {},
   "outputs": [],
   "source": [
    "# Let's group the data by month and count how many coordsbin we have. \n",
    "\n",
    "# Group by month:\n",
    "count_Ncells_time=df_new_index[['month_abs','coordsbin']].set_index('coordsbin').groupby('month_abs')\n",
    "# Access the dictionary of groups (groups are the keys, coords are the values):\n",
    "dict_month_Ncells=count_Ncells_time.groups\n",
    "# For each month, let's count how many cells are filled.\n",
    "list_coords_Nposts=[]\n",
    "for month in dict_month_Ncells.keys():\n",
    "    coords=dict_month_Ncells[month]\n",
    "    # We want to keep only one occurence for each cell grid.\n",
    "    list_coords_Nposts.append((month, len(set(coords))))\n"
   ]
  },
  {
   "cell_type": "code",
   "execution_count": 63,
   "metadata": {},
   "outputs": [],
   "source": [
    "def abs_to_yearmonth(month_abs):\n",
    "    year_month=str(min(list_years)+(month_abs-month_abs%12)/12)+' '+str(month_abs%12+1)\n",
    "    return pd.Timestamp(year_month)\n",
    "dates_Ncells=[abs_to_yearmonth(m[0]) for m in list_coords_Nposts]"
   ]
  },
  {
   "cell_type": "code",
   "execution_count": 64,
   "metadata": {
    "collapsed": true
   },
   "outputs": [
    {
     "name": "stderr",
     "output_type": "stream",
     "text": [
      "Instalib.py:188: SettingWithCopyWarning: \n",
      "A value is trying to be set on a copy of a slice from a DataFrame.\n",
      "Try using .loc[row_indexer,col_indexer] = value instead\n",
      "\n",
      "See the caveats in the documentation: http://pandas.pydata.org/pandas-docs/stable/indexing.html#indexing-view-versus-copy\n",
      "  df_index['date'] = pd.to_datetime(df_index['date'], errors='coerce')\n",
      "Instalib.py:189: SettingWithCopyWarning: \n",
      "A value is trying to be set on a copy of a slice from a DataFrame.\n",
      "Try using .loc[row_indexer,col_indexer] = value instead\n",
      "\n",
      "See the caveats in the documentation: http://pandas.pydata.org/pandas-docs/stable/indexing.html#indexing-view-versus-copy\n",
      "  df_index['year_month'] = list(zip(df_index['date'].dt.year, df_index['date'].dt.month))\n",
      "Instalib.py:192: SettingWithCopyWarning: \n",
      "A value is trying to be set on a copy of a slice from a DataFrame.\n",
      "Try using .loc[row_indexer,col_indexer] = value instead\n",
      "\n",
      "See the caveats in the documentation: http://pandas.pydata.org/pandas-docs/stable/indexing.html#indexing-view-versus-copy\n",
      "  df_index['month_abs']=[(e[0]-yearmin)*12+e[1] for e in df_index.year_month]\n"
     ]
    },
    {
     "data": {
      "image/png": "[encoded data removed]",
      "text/plain": [
       "<Figure size 432x288 with 1 Axes>"
      ]
     },
     "metadata": {
      "needs_background": "light"
     },
     "output_type": "display_data"
    },
    {
     "data": {
      "image/png": "[encoded data removed]",
      "text/plain": [
       "<Figure size 432x288 with 1 Axes>"
      ]
     },
     "metadata": {
      "needs_background": "light"
     },
     "output_type": "display_data"
    },
    {
     "data": {
      "image/png": "[encoded data removed]",
      "text/plain": [
       "<Figure size 432x288 with 1 Axes>"
      ]
     },
     "metadata": {
      "needs_background": "light"
     },
     "output_type": "display_data"
    },
    {
     "data": {
      "image/png": "[encoded data removed]",
      "text/plain": [
       "<Figure size 432x288 with 1 Axes>"
      ]
     },
     "metadata": {
      "needs_background": "light"
     },
     "output_type": "display_data"
    }
   ],
   "source": [
    "reload(IL)\n",
    "for gridstep in [.5,1,3,5]:\n",
    "    plt.figure()\n",
    "    dates_Ncells_1, list_coords_Nposts_1 = IL.N_cells_info(df_new,gridstep)\n",
    "    plt.plot(dates_Ncells_1,[e[1] for e in list_coords_Nposts_1])\n",
    "    plt.xlabel('Month')\n",
    "    plt.ylabel(r'$N_{cells}$ filled')\n",
    "    #plt.savefig('N_gridcells_step='+str(gridstep)+'.pdf')\n",
    "    plt.show()\n",
    "    \n",
    "    steplon=gridstep/(40000*math.cos((lat1+lat2)*math.pi/360)/360)\n",
    "    steplat=gridstep/(40000./360.)\n",
    "    \n",
    "for gridstep in [.5,1,3,5]:\n",
    "    break\n",
    "    lng=lon1\n",
    "    lonbins=[lng]\n",
    "    while lng<lon2+steplon:\n",
    "        lng+=steplon\n",
    "        lonbins.append(lng)\n",
    "\n",
    "    lat=lat1\n",
    "    latbins=[lat]\n",
    "    while lat<lat2+steplat:\n",
    "        lat+=steplat\n",
    "        latbins.append(lat)\n",
    "    \n",
    "        # Link the locations associated to a place in particular to visualise what it means.\n",
    "    m = folium.Map(location=[np.mean(latbins),np.mean(lonbins)], zoom_start=12)\n",
    "    for lng in lonbins:\n",
    "        folium.PolyLine(locations=((min(latbins),lng),(max(latbins),lng)),weight=1).add_to(m)\n",
    "    for lat in latbins:\n",
    "        folium.PolyLine(locations=((lat,min(lonbins)),(lat,max(lonbins))),weight=1).add_to(m)\n",
    "    #m.save('grid_'+str(gridstep)+'.html') "
   ]
  },
  {
   "cell_type": "markdown",
   "metadata": {},
   "source": [
    "# Term vector building by NMF"
   ]
  },
  {
   "cell_type": "markdown",
   "metadata": {},
   "source": [
    "Stemming = removing all suffixes in the word to keep only its root.\n",
    "\n",
    "This part executes NMF on time slices of the data, to have an idea of what the output might be. It generates .mat files that can be used by matlab.\n",
    "\n",
    "More about NMF here: https://scikit-learn.org/stable/modules/decomposition.html#nmf"
   ]
  },
  {
   "cell_type": "code",
   "execution_count": 4,
   "metadata": {},
   "outputs": [],
   "source": [
    "words_monuments=['parcodelvalentino','valentino','parcodora','dora','venaria',\n",
    "                 'venariareale','reggiadivenaria','reggia','reale',\n",
    "                 'mole','moleantonelliana','antonelliana','museodelcinema',\n",
    "                 'piazzavittorio','monteideicappucini','museoegizo',\n",
    "                 'palaalpitour','palazzomadama','palazzoreale',\n",
    "                'piazzacastello','piazzasancarlo','piazzavittorio',]\n",
    "words_added=['friends', 'italia','food','igers','igerstorino','cosa',\n",
    "             'cosi','sole','instagood','picoftheday','followme','instalike',\n",
    "             'likelike','focus_on','instagram','photooftheday','instadaily',\n",
    "             'torino','love','italy','turin','kappafuturfestival','kff','torinocomics',\n",
    "            'lingotto','followfollow','foodporn','instafood','foodgasm','stadium',\n",
    "             'juventusstadium','tagsforlikes','instamood','follow','madre','granmadre']\n",
    "words_filtered=list(set(['juventus', 'finoallafine', 'juventusstadium', 'juve',\n",
    "'stadium', 'forzajuve', 'football', 'serie', 'bianconero', 'championsleague','instaitaly',\n",
    "                         'solo','cosa','cosi','oggi','allianzstadium','antonelliana','followback','followers',\n",
    "'followforfollow','foodblogger','foodlover','foodpic','foodpics','foodstagram',\n",
    "'igdaily','igersitalia','igersitaly','igersoftheday','igerspiemonte','igersturin',\n",
    "'igeuropa','igitalia','igitaly','igpiemonte','igtorino','igtravel','igturin','igworldclub',\n",
    "'insta','instaart','instacool','instaday','instafashion','instafollow','instag',\n",
    "'instagramers','instagramhub','instagrammers','instaitalia','instalife','instalove',\n",
    "'instamoment','instamusic','instaphoto','instapic','instatorino','instatravel',\n",
    "'instatraveling','iphoneonly','italia','italiainunoscatto','italian','italianfood',\n",
    "'italiangirl','italianplaces','italianstyle','like','likeback','likefollow',\n",
    "'likeforfollow','likeforlik','likes','likesforlikes','likeslikes','palestro',\n",
    "'sansalvario','salonedelgusto','tag','tags','tagsforlikesapp',\n",
    "'travel','travelblogger','travelgram','traveling','travelingram','travelling',\n",
    "'travelphotography','vittorio','webstagram',u'\\u0438\\u0442\\u0430\\u043b\\u0438\\u044f',\n",
    "u'\\u043d\\u0430',u'\\u043d\\u0435',u'\\u0442\\u0443\\u0440\\u0438\\u043d',u'\\u0447\\u0442\\u043e']))"
   ]
  },
  {
   "cell_type": "code",
   "execution_count": 5,
   "metadata": {},
   "outputs": [
    {
     "name": "stderr",
     "output_type": "stream",
     "text": [
      "[nltk_data] Downloading package punkt to /home/eartiges/nltk_data...\n",
      "[nltk_data]   Package punkt is already up-to-date!\n"
     ]
    }
   ],
   "source": [
    "from nltk.corpus import stopwords\n",
    "french_stopwords = set(stopwords.words('french')) #le la les ou å pour etc.\n",
    "english_stopwords = set(stopwords.words('english'))\n",
    "italian_stopwords = set(stopwords.words('italian'))\n",
    "from nltk.stem.snowball import FrenchStemmer\n",
    "import nltk.data #\n",
    "nltk.download('punkt')\n",
    "from nltk.stem.snowball import FrenchStemmer\n",
    "monuments=False\n",
    "all_stopwords=french_stopwords.union(english_stopwords)\n",
    "all_stopwords=all_stopwords.union(italian_stopwords)\n",
    "all_stopwords=all_stopwords.union(words_added)\n",
    "all_stopwords=all_stopwords.union(words_filtered)\n",
    "if monuments:\n",
    "    all_stopzords=all_stopwords.union(words_monuments)"
   ]
  },
  {
   "cell_type": "markdown",
   "metadata": {},
   "source": [
    "More info about countvectorizer here: \n",
    "https://scikit-learn.org/stable/modules/generated/sklearn.feature_extraction.text.CountVectorizer.html\n",
    "\n",
    "And about TfIdf: \n",
    "https://scikit-learn.org/stable/modules/generated/sklearn.feature_extraction.text.TfidfTransformer.html\n",
    "\n",
    "And about NMF:\n",
    "https://scikit-learn.org/stable/modules/generated/sklearn.decomposition.NMF.html"
   ]
  },
  {
   "cell_type": "code",
   "execution_count": 6,
   "metadata": {},
   "outputs": [],
   "source": [
    "italian_stemmer = nltk.stem.SnowballStemmer('italian')\n",
    "class StemmedCountVectorizer(CountVectorizer):\n",
    "    # This class is basically a CountVectorizer class that has been enhanced with a stemmer method.\n",
    "    def build_analyzer(self):\n",
    "        #Use super to access the method build_analyzer form the class CountVectorizer.\n",
    "        analyzer = super(StemmedCountVectorizer, self).build_analyzer()\n",
    "        return lambda doc: ([italian_stemmer.stem(w) for w in analyzer(doc)])"
   ]
  },
  {
   "cell_type": "code",
   "execution_count": 10,
   "metadata": {},
   "outputs": [],
   "source": [
    "list_reviews_all=df_classified.result.tolist()"
   ]
  },
  {
   "cell_type": "code",
   "execution_count": 11,
   "metadata": {},
   "outputs": [],
   "source": [
    "n_features=1000\n",
    "#Build the vectorizer and the list of all words in the dataset\n",
    "#df_new=pd.read_pickle('Tor_instagram_2.pkl')\n",
    "vectorizer_s = StemmedCountVectorizer(max_df=0.95, max_features=n_features, analyzer=\"word\", stop_words=all_stopwords)\n",
    "while '' in list_reviews_all:\n",
    "    list_reviews_all.remove('')\n",
    "while \"\" in list_reviews_all:\n",
    "    list_reviews_all.remove(\"\")"
   ]
  },
  {
   "cell_type": "code",
   "execution_count": 12,
   "metadata": {},
   "outputs": [],
   "source": [
    "#counts = vectorizer_s.fit_transform(list_reviews_all)\n",
    "#pickle.dump(counts, open('counts.pkl','wb'))\n",
    "#pickle.dump(vectorizer_s, open('vec_s.pkl','wb'))\n",
    "#counts = pickle.load( open( 'counts.pkl', \"rb\" ) )\n",
    "#vectorizer_s = pickle.load( open( 'vec_s.pkl', \"rb\" ) )"
   ]
  },
  {
   "cell_type": "code",
   "execution_count": 20,
   "metadata": {
    "scrolled": true
   },
   "outputs": [
    {
     "name": "stdout",
     "output_type": "stream",
     "text": [
      "(2015, 1)\n",
      "(2015, 2)\n",
      "(2015, 3)\n",
      "(2015, 4)\n",
      "(2015, 5)\n",
      "(2015, 6)\n",
      "(2015, 7)\n",
      "(2015, 8)\n",
      "(2015, 9)\n",
      "(2015, 10)\n",
      "(2015, 11)\n",
      "(2015, 12)\n",
      "(2016, 1)\n",
      "(2016, 2)\n",
      "(2016, 3)\n",
      "(2016, 4)\n",
      "(2016, 5)\n",
      "(2016, 6)\n",
      "(2016, 7)\n",
      "(2016, 8)\n",
      "(2016, 9)\n",
      "(2016, 10)\n",
      "(2016, 11)\n",
      "(2016, 12)\n",
      "(2017, 1)\n",
      "(2017, 2)\n",
      "(2017, 3)\n",
      "(2017, 4)\n",
      "(2017, 5)\n",
      "(2017, 6)\n",
      "(2017, 7)\n",
      "(2017, 8)\n",
      "(2017, 9)\n",
      "(2017, 10)\n",
      "(2017, 11)\n",
      "(2017, 12)\n",
      "(2018, 1)\n",
      "(2018, 2)\n",
      "(2018, 3)\n",
      "(2018, 4)\n",
      "(2018, 5)\n",
      "(2018, 6)\n"
     ]
    }
   ],
   "source": [
    "# Feed the vectorizer with all the words in the dataset. Counts is the tweet/term matrix.\n",
    "# fit_transform: fit first (build the features list with the relevant words)\n",
    "# then transform: build the tweet/term matrix with the relevant tokens.\n",
    "\n",
    "vectorizer_new = StemmedCountVectorizer(max_df=0.95, max_features=n_features, analyzer=\"word\", stop_words=all_stopwords,vocabulary=vectorizer_s.vocabulary_) \n",
    "voc_vector={k:v for v,k in vectorizer_s.vocabulary_.iteritems()}\n",
    "voc_serie=pd.Series(voc_vector)\n",
    "\n",
    "Coord_CRS_global=[]\n",
    "Data_CRS_global=[]\n",
    "Ncells=[]\n",
    "\n",
    "if sampling:\n",
    "    start=50\n",
    "    threshold = len(df_classified[start].tolist())\n",
    "else:\n",
    "    start=0\n",
    "#For every months\n",
    "for month in sorted(set(df_new_index.month_abs))[start:]:\n",
    "    year_month=(min(list_years)+(month-month%12)/12, month%12+1)\n",
    "    print year_month\n",
    "    try:\n",
    "        # Find the vocabulary associated to each bin for the current month\n",
    "        list_reviews_rest=df_classified[month].tolist()\n",
    "        if sampling:\n",
    "            This_Month=[]\n",
    "            if threshold<len(list_reviews_rest):\n",
    "                for i in xrange(threshold):\n",
    "                    This_Month.append(np.random.choice(list_reviews_rest,1))\n",
    "            else:\n",
    "                This_Month=list_reviews_rest\n",
    "        #print len(list_reviews_rest), 'tagged cells for ', year_month\n",
    "    except KeyError:\n",
    "        print 'KeyError has occured for ', year_month\n",
    "        continue\n",
    "        \n",
    "    # Learn the vocabulary dictionary and return term-document matrix.\n",
    "    counts = vectorizer_new.transform(This_Month)\n",
    "    #Transform a count matrix to a normalized tf-idf representation. \n",
    "    #(i.e terms with frequencies too hi or lo are removed)\n",
    "    # Weights are indexed by (postID, term): weight\n",
    "    tfidf = TfidfTransformer().fit_transform(counts)\n",
    "    #print 'tfidf done:'\n",
    "    #print tfidf\n",
    "    C,D=IL.read_CRS_totensor(tfidf,n_features,int(month),10)\n",
    "    #print 'C,D'#, C,D\n",
    "    Coord_CRS_global.append(C)\n",
    "    Data_CRS_global.append(D)\n",
    "    Ncells.append(len(list_reviews_rest))"
   ]
  },
  {
   "cell_type": "code",
   "execution_count": 21,
   "metadata": {},
   "outputs": [],
   "source": [
    "triples=[]\n",
    "triples_data=[]\n",
    "#For every month in the timeline\n",
    "for i in range(0,len(Coord_CRS_global)):\n",
    "    c=Coord_CRS_global[i]\n",
    "    # For every post in this month\n",
    "    for e in c:\n",
    "        #Add the non-zero elements coordinates\n",
    "        triples.append(e)\n",
    "\n",
    "for d in Data_CRS_global:\n",
    "    for e in d:\n",
    "        triples_data.append(e)\n",
    "triples=[list(i) for i in triples]\n",
    "maxNcells=max([e[0] for e in triples])"
   ]
  },
  {
   "cell_type": "code",
   "execution_count": 22,
   "metadata": {},
   "outputs": [
    {
     "data": {
      "text/plain": [
       "((1896019,), (1896019, 3), 21756)"
      ]
     },
     "execution_count": 22,
     "metadata": {},
     "output_type": "execute_result"
    }
   ],
   "source": [
    "#How many non-zero components in the final tensor?\n",
    "np.shape(triples_data), np.shape(triples), sum(Ncells)"
   ]
  },
  {
   "cell_type": "code",
   "execution_count": 23,
   "metadata": {},
   "outputs": [],
   "source": [
    "# Build a sktensor, which is ncp friendly. The dimensions have to be\n",
    "# N_posts_total x n_features x N_months.\n",
    "# N_months = len(Nposts) e.g, or len(Coord_CRS_global)\n",
    "# N_posts_total=sum(Nposts)\n",
    "# \n",
    "X = sktensor.sptensor(tuple(list(np.asarray(triples).T)), triples_data, shape=(maxNcells+1, n_features, len(set(df_new_index.month_abs))))"
   ]
  },
  {
   "cell_type": "markdown",
   "metadata": {},
   "source": [
    "### Checkpoint"
   ]
  },
  {
   "cell_type": "code",
   "execution_count": 190,
   "metadata": {},
   "outputs": [],
   "source": [
    "# pickle.dump(X, open('X.pkl','wb'))\n",
    "#X = pickle.load( open( 'X.pkl', \"rb\" ) )\n",
    "#vectorizer_s = pickle.load( open( 'vec_s.pkl', \"rb\" ) )"
   ]
  },
  {
   "cell_type": "code",
   "execution_count": 24,
   "metadata": {},
   "outputs": [],
   "source": [
    "X_approx_ks = ncp.nonnegative_tensor_factorization(X, 15, method='anls_bpp')"
   ]
  },
  {
   "cell_type": "code",
   "execution_count": 26,
   "metadata": {},
   "outputs": [],
   "source": [
    "A = X_approx_ks.U[0]\n",
    "B = X_approx_ks.U[1]\n",
    "C = X_approx_ks.U[2]"
   ]
  },
  {
   "cell_type": "code",
   "execution_count": 27,
   "metadata": {},
   "outputs": [
    {
     "data": {
      "image/png": "[encoded data removed]",
      "text/plain": [
       "<Figure size 720x288 with 1 Axes>"
      ]
     },
     "metadata": {
      "needs_background": "light"
     },
     "output_type": "display_data"
    }
   ],
   "source": [
    "plt.figure(figsize=(10,4))\n",
    "plt.pcolormesh(B.T)#, cmap=plt.cm.Greys)\n",
    "plt.xlim(0,B.shape[0])\n",
    "plt.yticks(np.arange(B.shape[1])+0.5, np.arange(1,B.shape[1]+1))\n",
    "#plt.savefig('Topic_definition_normalized.pdf')\n",
    "plt.show()\n",
    "\n",
    "#for tvi in TermVectorsIndex:\n",
    "    #print TermVectorsIndex.index(tvi), [t for t in tvi[0:3]]\n",
    "#    print TermVectorsIndex.index(tvi), [t[0] for t in tvi[0:5]]"
   ]
  },
  {
   "cell_type": "code",
   "execution_count": 28,
   "metadata": {},
   "outputs": [],
   "source": [
    "voc_vector={k:v for v,k in vectorizer_s.vocabulary_.iteritems()}\n",
    "voc_serie=pd.Series(voc_vector)"
   ]
  },
  {
   "cell_type": "code",
   "execution_count": 29,
   "metadata": {},
   "outputs": [],
   "source": [
    "TermVectors=[]\n",
    "TermVectorsIndex=[]\n",
    "for row in B.T:\n",
    "    row=list(row)\n",
    "    row = [(r,row.index(r)) for r in sorted(row)[::-1]]\n",
    "    TermVectors.append(set([voc_vector[e[1]] for e in row]))\n",
    "    TermVectorsIndex.append([(voc_vector[e[1]],e[0]) for e in row])"
   ]
  },
  {
   "cell_type": "code",
   "execution_count": 30,
   "metadata": {},
   "outputs": [],
   "source": [
    "for i in range(0,len(TermVectorsIndex)):\n",
    "    TermVectorsIndex[i].sort(key=lambda tup:tup[1])\n",
    "    TermVectorsIndex[i]=TermVectorsIndex[i][::-1]"
   ]
  },
  {
   "cell_type": "code",
   "execution_count": 31,
   "metadata": {
    "collapsed": true
   },
   "outputs": [
    {
     "data": {
      "text/plain": [
       "(15, 1000, 2)"
      ]
     },
     "execution_count": 31,
     "metadata": {},
     "output_type": "execute_result"
    }
   ],
   "source": [
    "np.shape(TermVectorsIndex)"
   ]
  },
  {
   "cell_type": "code",
   "execution_count": 32,
   "metadata": {},
   "outputs": [
    {
     "name": "stdout",
     "output_type": "stream",
     "text": [
      "0 [u'fashion', u'shopping', u'style', u'via', u'outfit', u'nuov', u'shoes', u'shop']\n",
      "1 [u'natur', u'parc', u'park', u'sun', u'autumn', u'sunset', u'green', u'river']\n",
      "2 [u'tatto', u'ink', u'inked', u'tattoos', u'tatuagg', u'traditionaltatto', u'tattooed', u'art']\n",
      "3 [u'sempr', u'quand', u'giorn', u'vit', u'cos', u'graz', u'bell', u'prim']\n",
      "4 [u'gym', u'fitness', u'workout', u'training', u'palestr', u'sport', u'allen', u'motivation']\n",
      "5 [u'pizz', u'dinner', u'yummy', u'food', u'cen', u'delicious', u'eat', u'sweet']\n",
      "6 [u'architectur', u'piemont', u'city', u'torino\\xe8lamiacitt', u'art', u'volgotorin', u'beautiful', u'sky']\n",
      "7 [u'concert', u'music', u'liv', u'spaz', u'rock', u'livemusic', u'tour', u'band']\n",
      "8 [u'pol', u'laure', u'university', u'graduation', u'design', u'architectur', u'stud', u'univers']\n",
      "9 [u'superg', u'basil', u'panoram', u'piemont', u'natur', u'landscap', u'view', u'sunset']\n",
      "10 [u'party', u'night', u'music', u'club', u'danc', u'disc', u'dj', u'ser']\n",
      "11 [u'smil', u'summer', u'happy', u'cut', u'beautiful', u'fun', u'bestoftheday', u'girl']\n",
      "12 [u'art', u'muse', u'museum', u'fiat', u'contemporaryart', u'design', u'exhibition', u'artissim']\n",
      "13 [u'juventus', u'finoallafin', u'juv', u'forzajuv', u'football', u'serie', u'bianconer', u'dybal']\n",
      "14 [u'sush', u'dinner', u'lunc', u'relax', u'happy', u'cen', u'breakfast', u'amic']\n"
     ]
    }
   ],
   "source": [
    "[]\n",
    "for tvi in TermVectorsIndex:\n",
    "    #print TermVectorsIndex.index(tvi), [t for t in tvi[0:3]]\n",
    "    print TermVectorsIndex.index(tvi), [t[0] for t in tvi[0:8]]"
   ]
  },
  {
   "cell_type": "code",
   "execution_count": 33,
   "metadata": {},
   "outputs": [],
   "source": [
    "CommonWords=set([])\n",
    "for t in TermVectors:\n",
    "    for t_other in TermVectors:\n",
    "        if t_other!=t:\n",
    "            for term in t.union(t_other):\n",
    "                CommonWords.add(term)"
   ]
  },
  {
   "cell_type": "code",
   "execution_count": 34,
   "metadata": {
    "collapsed": true
   },
   "outputs": [
    {
     "name": "stdout",
     "output_type": "stream",
     "text": [
      "753\n",
      "0\n",
      "732\n",
      "0\n",
      "629\n",
      "0\n",
      "860\n",
      "0\n",
      "688\n",
      "0\n",
      "734\n",
      "0\n",
      "862\n",
      "0\n",
      "718\n",
      "0\n",
      "751\n",
      "0\n",
      "721\n",
      "0\n",
      "626\n",
      "0\n",
      "772\n",
      "0\n",
      "771\n",
      "0\n",
      "648\n",
      "0\n",
      "574\n",
      "0\n"
     ]
    }
   ],
   "source": [
    "for t in TermVectors:\n",
    "    T=list(t)\n",
    "    print len(t)\n",
    "    for word in t:\n",
    "        if word in CommonWords:\n",
    "            T.remove(word)\n",
    "    t=set(T)\n",
    "    print len(T)"
   ]
  },
  {
   "cell_type": "code",
   "execution_count": 35,
   "metadata": {
    "collapsed": true
   },
   "outputs": [
    {
     "name": "stdout",
     "output_type": "stream",
     "text": [
      "0 ['fashion', 'shopping', 'style', 'via', 'outfit', 'nuov', 'shoes', 'shop', 'hair', 'newcollection']\n",
      "1 ['natur', 'parc', 'park', 'sun', 'autumn', 'sunset', 'green', 'river', 'sky', 'po']\n",
      "2 ['tatto', 'ink', 'inked', 'tattoos', 'tatuagg', 'traditionaltatto', 'tattooed', 'art', 'drawing', 'black']\n",
      "3 ['sempr', 'quand', 'giorn', 'vit', 'cos', 'graz', 'bell', 'prim', 'amic', 'mai']\n",
      "4 ['gym', 'fitness', 'workout', 'training', 'palestr', 'sport', 'allen', 'motivation', 'fit', 'lifestyl']\n",
      "5 ['pizz', 'dinner', 'yummy', 'food', 'cen', 'delicious', 'eat', 'sweet', 'cak', 'restaurant']\n",
      "6 ['architectur', 'piemont', 'city', 'torino\\xc3\\xa8lamiacitt', 'art', 'volgotorin', 'beautiful', 'sky', 'view', 'volgopiemont']\n",
      "7 ['concert', 'music', 'liv', 'spaz', 'rock', 'livemusic', 'tour', 'band', 'teatr', 'show']\n",
      "8 ['pol', 'laure', 'university', 'graduation', 'design', 'architectur', 'stud', 'univers', 'day', 'vscocam']\n",
      "9 ['superg', 'basil', 'panoram', 'piemont', 'natur', 'landscap', 'view', 'sunset', 'sky', 'churc']\n",
      "10 ['party', 'night', 'music', 'club', 'danc', 'disc', 'dj', 'ser', 'techn', 'saturdaynight']\n",
      "11 ['smil', 'summer', 'happy', 'cut', 'beautiful', 'fun', 'bestoftheday', 'girl', 'amazing', 'self']\n",
      "12 ['art', 'muse', 'museum', 'fiat', 'contemporaryart', 'design', 'exhibition', 'artissim', 'mostr', 'car']\n",
      "13 ['juventus', 'finoallafin', 'juv', 'forzajuv', 'football', 'serie', 'bianconer', 'dybal', 'championsleagu', 'calc']\n",
      "14 ['sush', 'dinner', 'lunc', 'relax', 'happy', 'cen', 'breakfast', 'amic', 'yummy', 'delicious']\n"
     ]
    }
   ],
   "source": [
    "[]\n",
    "for tvi in TermVectorsIndex:\n",
    "    #print TermVectorsIndex.index(tvi), [t for t in tvi[0:3]]\n",
    "    print TermVectorsIndex.index(tvi), [t[0].encode('utf-8') for t in tvi[0:10]]"
   ]
  },
  {
   "cell_type": "code",
   "execution_count": 36,
   "metadata": {
    "collapsed": true
   },
   "outputs": [
    {
     "data": {
      "image/png": "[encoded data removed]",
      "text/plain": [
       "<Figure size 720x288 with 1 Axes>"
      ]
     },
     "metadata": {
      "needs_background": "light"
     },
     "output_type": "display_data"
    },
    {
     "name": "stdout",
     "output_type": "stream",
     "text": [
      "0 [u'fashion', u'shopping', u'style', u'via', u'outfit']\n",
      "1 [u'natur', u'parc', u'park', u'sun', u'autumn']\n",
      "2 [u'tatto', u'ink', u'inked', u'tattoos', u'tatuagg']\n",
      "3 [u'sempr', u'quand', u'giorn', u'vit', u'cos']\n",
      "4 [u'gym', u'fitness', u'workout', u'training', u'palestr']\n",
      "5 [u'pizz', u'dinner', u'yummy', u'food', u'cen']\n",
      "6 [u'architectur', u'piemont', u'city', u'torino\\xe8lamiacitt', u'art']\n",
      "7 [u'concert', u'music', u'liv', u'spaz', u'rock']\n",
      "8 [u'pol', u'laure', u'university', u'graduation', u'design']\n",
      "9 [u'superg', u'basil', u'panoram', u'piemont', u'natur']\n",
      "10 [u'party', u'night', u'music', u'club', u'danc']\n",
      "11 [u'smil', u'summer', u'happy', u'cut', u'beautiful']\n",
      "12 [u'art', u'muse', u'museum', u'fiat', u'contemporaryart']\n",
      "13 [u'juventus', u'finoallafin', u'juv', u'forzajuv', u'football']\n",
      "14 [u'sush', u'dinner', u'lunc', u'relax', u'happy']\n"
     ]
    }
   ],
   "source": [
    "plt.figure(figsize=(10,4))\n",
    "plt.pcolormesh(A.T)#, cmap=plt.cm.Greys)\n",
    "plt.xlim(0,A.shape[0])\n",
    "plt.yticks(np.arange(B.shape[1])+0.5, np.arange(1,B.shape[1]+1))\n",
    "#plt.savefig('Topic_bybin_normalized.pdf')\n",
    "plt.show()\n",
    "\n",
    "for tvi in TermVectorsIndex:\n",
    "    #print TermVectorsIndex.index(tvi), [t for t in tvi[0:3]]\n",
    "    print TermVectorsIndex.index(tvi), [t[0] for t in tvi[0:5]]"
   ]
  },
  {
   "cell_type": "code",
   "execution_count": null,
   "metadata": {},
   "outputs": [],
   "source": [
    "for index in range(0,len(A.T)):\n",
    "    row=A.T[index]\n",
    "    print 'topic',index, '[',min(row),';', max(row)*100,']'"
   ]
  },
  {
   "cell_type": "code",
   "execution_count": 88,
   "metadata": {},
   "outputs": [],
   "source": [
    "#Geographical repartition of topics\n",
    "for index in range(0,len(A.T)):\n",
    "    row=A.T[index]\n",
    "    Coordinates=list(df_classified.index)\n",
    "    x=sorted(set([Cd[0] for Cd in Coordinates]))\n",
    "    y=sorted(set([Cd[1] for Cd in Coordinates]))\n",
    "    z=[(Coordinates[i], row[i]) for i in range(0,len(row))]\n",
    "    hem=np.zeros((len(x),len(y)))\n",
    "    for e in z:\n",
    "        hem[x.index(e[0][0])][y.index(e[0][1])]=e[1]\n",
    "    hmap = folium.Map(location=[np.mean(x), np.mean(y)], zoom_start=10, )\n",
    "\n",
    "    hm_wide = HeatMap( list(zip([C[0] for C in Coordinates],[C[1] for C in Coordinates],row)),\n",
    "                       min_opacity=0,\n",
    "                           max_val=max(row),\n",
    "                       radius=15, blur=0, \n",
    "                       max_zoom=1, \n",
    "                     )\n",
    "    hmap.add_child(hm_wide)\n",
    "    hmap.save('Heatmaps/heatmap_topic'+str(index)+'_normalized.html')"
   ]
  },
  {
   "cell_type": "code",
   "execution_count": null,
   "metadata": {
    "scrolled": true
   },
   "outputs": [],
   "source": [
    "plt.figure(figsize=(10,4))\n",
    "plt.pcolormesh(C.T)#, cmap=plt.cm.Greys)\n",
    "plt.xlim(0,C.shape[0])\n",
    "#plt.savefig('Topic_dynamic.pdf')\n",
    "plt.yticks(np.arange(14)+0.5, np.arange(1,15));\n",
    "plt.show()\n",
    "for tvi in TermVectorsIndex:\n",
    "    #print TermVectorsIndex.index(tvi), [t for t in tvi[0:3]]\n",
    "    print TermVectorsIndex.index(tvi), [t[0] for t in tvi[0:5]]"
   ]
  },
  {
   "cell_type": "code",
   "execution_count": null,
   "metadata": {},
   "outputs": [],
   "source": [
    "for index in range(0, len(C.T)):\n",
    "    row=C.T[index]\n",
    "    plt.figure()\n",
    "    plt.plot([i for i in range(0,len(row))], row)\n",
    "    plt.title('relative intensity of topic '+str(index)+' in a global monthly timeline')\n",
    "    #plt.savefig('plot_topic'+str(index)+'.pdf')\n",
    "    plt.show()"
   ]
  },
  {
   "cell_type": "code",
   "execution_count": null,
   "metadata": {},
   "outputs": [],
   "source": [
    "dfa = pd.DataFrame(A).groupby(voc_serie).sum()\n",
    "#dfa = dfa[dfa.index!='teachers']"
   ]
  },
  {
   "cell_type": "code",
   "execution_count": null,
   "metadata": {},
   "outputs": [],
   "source": [
    "dfa"
   ]
  },
  {
   "cell_type": "code",
   "execution_count": null,
   "metadata": {},
   "outputs": [],
   "source": [
    "plt.figure(figsize=(10,4))\n",
    "plt.pcolormesh(C.T)#, cmap=plt.cm.Greys)\n",
    "plt.xlim(0,C.shape[0])\n",
    "plt.yticks(np.arange(14)+0.5, np.arange(1,15));"
   ]
  },
  {
   "cell_type": "code",
   "execution_count": null,
   "metadata": {},
   "outputs": [],
   "source": [
    "import scipy.io\n",
    "from sklearn.feature_extraction.text import TfidfTransformer\n",
    "from scipy.io import savemat\n",
    "n_features=1000\n",
    "n_topics=10\n",
    "\n",
    "list_reviews_all=df_new['text'].tolist()\n",
    "counts = vectorizer_s.fit_transform(list_reviews_all)\n",
    "vectorizer_new = CountVectorizer(max_df=0.95, max_features=n_features,stop_words=all_stopwords_add,vocabulary=vectorizer_s.vocabulary_)\n",
    "ct=0\n",
    "\n",
    "# For each month in the dataset, get a snapshot view of the NMF tensor:\n",
    "for month in range(1,(len(list_years)-1)*12+2,3):\n",
    "    \n",
    "    year_start=list_years[0]+ int(month/12)\n",
    "    month_start=month%12  \n",
    "    year_end=list_years[0]+ int(month+11-0.5)/12\n",
    "    month_end=1+(month+11-1)%12\n",
    "    \n",
    "    try:\n",
    "        list_reviews_rest=dataframe_collection[str(year_start) + '-' + str(month_start)]['text'].tolist()\n",
    "    except KeyError:\n",
    "        continue\n",
    "        \n",
    "    # Learn the vocabulary dictionary and return term-document matrix.\n",
    "    counts = vectorizer_new.fit_transform(list_reviews_rest)\n",
    "    \n",
    "    #Transform a count matrix to a normalized tf-idf representation. \n",
    "    #(mainly =Terms with frequencies too hi or lo are removed)\n",
    "    tfidf = TfidfTransformer().fit_transform(counts)\n",
    "    \n",
    "    #Save the data in matlab friendly format\n",
    "    savemat('Inst500Matr' + str(ct), {'tfidf':tfidf})\n",
    "    \n",
    "    \n",
    "    nmf = decomposition.NMF(n_components=n_topics)\n",
    "    \n",
    "    #We are looking for two matrices whose product approximates tfidf.\n",
    "    \n",
    "    # Learn the model (parameters etc.). I.e \"take a look at what we have\". returns nothing.\n",
    "    W = nmf.fit(tfidf)\n",
    "    \n",
    "    # dictionary (factorization matrix)\n",
    "    H = nmf.components_\n",
    "    \n",
    "    # Extracts the data and performs NMF on the tfidf-treated dataset. \n",
    "    # Returns the matrix W (the weight matrix), to be multiplied by the matrix H (dictionary) to get target tfidf.\n",
    "    X2 = nmf.fit_transform(tfidf)\n",
    "    ct=ct+1\n",
    "    feature_names = vectorizer_new.get_feature_names()\n",
    "    print month\n",
    "    for i,text_topic in enumerate(X2.T):\n",
    "        \n",
    "        # i.e -> i, [content of column i of X2]\n",
    "        # i-th topic named text_topic\n",
    "        # Why sort them backwards?\n",
    "        text_top = text_topic.argsort()[:-21:-1]\n",
    "        word_top = nmf.components_[i].argsort()[:-11:-1]\n",
    "        \n",
    "        # For each text topic in the NMF resulting list, print the weight vector and the term vector.\n",
    "        print [nmf.components_[i,k] for k in nmf.components_[i].argsort()[:-11:-1]]\n",
    "        print [\", \".join([feature_names[i] for i in word_top])]\n",
    "        \n",
    "        # print the amount of non-zero components in the weight vector\n",
    "        l=[text_topic[i] for i in text_top]\n",
    "        print np.count_nonzero(l)\n",
    "            "
   ]
  },
  {
   "cell_type": "code",
   "execution_count": null,
   "metadata": {},
   "outputs": [],
   "source": [
    ">>> import numpy as np\n",
    ">>> X = np.array([[1, 1], [2, 1], [3, 1.2], [4, 1], [5, 0.8], [6, 1]])\n",
    ">>> from sklearn.decomposition import NMF\n",
    ">>> model = NMF(n_components=2, init='random', random_state=0)\n",
    ">>> W = model.fit_transform(X)\n",
    ">>> H = model.components_"
   ]
  },
  {
   "cell_type": "code",
   "execution_count": null,
   "metadata": {},
   "outputs": [],
   "source": [
    "X"
   ]
  },
  {
   "cell_type": "code",
   "execution_count": null,
   "metadata": {},
   "outputs": [],
   "source": [
    "for i, t in enumerate(X):\n",
    "    print i,t"
   ]
  },
  {
   "cell_type": "code",
   "execution_count": null,
   "metadata": {},
   "outputs": [],
   "source": [
    "print feature_names"
   ]
  },
  {
   "cell_type": "code",
   "execution_count": null,
   "metadata": {},
   "outputs": [],
   "source": [
    "#save the feature names in a csv file\n",
    "type(feature_names)\n",
    "import io\n",
    "\n",
    "f = io.open('test_inst_Torino.csv', 'w', encoding='utf8')\n",
    "for item in feature_names:\n",
    "    print item\n",
    "    f.write(\"%s\\n\" % item)"
   ]
  },
  {
   "cell_type": "code",
   "execution_count": null,
   "metadata": {},
   "outputs": [],
   "source": [
    "#Boundaries of the map\n",
    "print (df_new['lonbin'].min()-step_lon/2., df_new['latbin'].min()-step_lat/2., df_new['lonbin'].max()+step_lon/2., df_new['latbin'].max()+step_lat/2)"
   ]
  },
  {
   "cell_type": "code",
   "execution_count": null,
   "metadata": {},
   "outputs": [],
   "source": [
    "len(df_new_nodup_cells['n'].unique())\n",
    "list_rc=df_new_nodup2_cells['n'].tolist()\n",
    "with open('n_inst500.txt', 'w') as fp:\n",
    "    fp.write('\\n'.join('%s' % x for x in list_rc))"
   ]
  },
  {
   "cell_type": "code",
   "execution_count": null,
   "metadata": {},
   "outputs": [],
   "source": [
    "list_rc"
   ]
  },
  {
   "cell_type": "code",
   "execution_count": null,
   "metadata": {},
   "outputs": [],
   "source": [
    "df_new_nodup2_cells"
   ]
  },
  {
   "cell_type": "code",
   "execution_count": null,
   "metadata": {},
   "outputs": [],
   "source": [
    "df_new_nodup2_cells.head()"
   ]
  },
  {
   "cell_type": "code",
   "execution_count": null,
   "metadata": {},
   "outputs": [],
   "source": [
    "import time\n",
    "import datetime\n",
    "list_time=[]\n",
    "for month in range(1,(len(list_years)-1)*12+2,3):\n",
    "        year_start=list_years[0]+ int(month/12)\n",
    "        month_start=month%12  \n",
    "        year_end=list_years[0]+ int(month+11-0.5)/12\n",
    "        month_end=1+(month+5-1)%12\n",
    "             \n",
    "     \n",
    "        if month_end in([2,4,6,9,11]):\n",
    "            day=30\n",
    "        else:\n",
    "            day=31\n",
    "        deb=str(year_start) + '-' + str(month_end) + '-1'\n",
    "        deb_new=time.mktime(datetime.datetime.strptime(deb, \"%Y-%m-%d\").timetuple())\n",
    "        if month==1:\n",
    "            list_time= np.append(deb_new,list_time)\n",
    "        else:\n",
    "            list_time=np.append(list_time,deb_new)\n"
   ]
  },
  {
   "cell_type": "code",
   "execution_count": null,
   "metadata": {},
   "outputs": [],
   "source": [
    "print list_time"
   ]
  },
  {
   "cell_type": "code",
   "execution_count": null,
   "metadata": {},
   "outputs": [],
   "source": [
    "\n",
    "with open('times_inst500.txt', 'w') as fp:\n",
    "    fp.write('\\n'.join('%s' % x for x in list_time))"
   ]
  }
 ],
 "metadata": {
  "anaconda-cloud": {},
  "kernelspec": {
   "display_name": "Python [conda env:jupyG]",
   "language": "python",
   "name": "conda-env-jupyG-py"
  },
  "language_info": {
   "codemirror_mode": {
    "name": "ipython",
    "version": 2
   },
   "file_extension": ".py",
   "mimetype": "text/x-python",
   "name": "python",
   "nbconvert_exporter": "python",
   "pygments_lexer": "ipython2",
   "version": "2.7.15"
  }
 },
 "nbformat": 4,
 "nbformat_minor": 1
}
