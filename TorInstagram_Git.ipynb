{
 "cells": [
  {
   "cell_type": "code",
   "execution_count": 1,
   "metadata": {},
   "outputs": [],
   "source": [
    "import shelve\n",
    "import gdbm\n",
    "mod = __import__('gdbm')\n",
    "import dumbdbm\n",
    "import pandas as pd\n",
    "from sklearn.feature_extraction import text\n",
    "from sklearn.feature_extraction.text import TfidfTransformer\n",
    "from sklearn import datasets, decomposition\n",
    "import numpy as np\n",
    "import gc\n",
    "from datetime import datetime\n",
    "import datetime as dt\n",
    "#datetime.strptime('2016-03-29','%Y-%d-%m')\n",
    "import dateparser\n",
    "from ipykernel import kernelapp as app\n",
    "import csv\n",
    "import matplotlib.pyplot as plt\n",
    "import matplotlib.dates as mdates\n",
    "from operator import itemgetter\n",
    "import folium\n",
    "from folium.plugins import HeatMap\n",
    "import Instalib as IL\n",
    "import math\n",
    "import re\n",
    "import string\n",
    "import emoji\n",
    "import pickle\n",
    "import scipy.io\n",
    "from sklearn.feature_extraction.text import CountVectorizer\n",
    "import nltk.stem\n",
    "import sktensor\n",
    "import geopy.distance\n",
    "from itertools import groupby\n",
    "import ncp\n",
    "from datetime import timedelta\n",
    "from dateutil.relativedelta import *\n",
    "import os"
   ]
  },
  {
   "cell_type": "markdown",
   "metadata": {},
   "source": [
    "# Open the file and have a first look"
   ]
  },
  {
   "cell_type": "markdown",
   "metadata": {},
   "source": [
    "Read the data and concatenate in a single DataFrame file, basic file format for pandas. It's a 2-D object, tabular file with labeled rows and columns, built from a dictionary or such. \n",
    "\n",
    "More info about it here: https://pandas.pydata.org/pandas-docs/stable/10min.html\n",
    "\n",
    "Make our life easier by matching the Torino labels with the Marseille ones and convert strings to datetime"
   ]
  },
  {
   "cell_type": "code",
   "execution_count": 178,
   "metadata": {},
   "outputs": [
    {
     "data": {
      "text/html": [
       "<div>\n",
       "<style scoped>\n",
       "    .dataframe tbody tr th:only-of-type {\n",
       "        vertical-align: middle;\n",
       "    }\n",
       "\n",
       "    .dataframe tbody tr th {\n",
       "        vertical-align: top;\n",
       "    }\n",
       "\n",
       "    .dataframe thead th {\n",
       "        text-align: right;\n",
       "    }\n",
       "</style>\n",
       "<table border=\"1\" class=\"dataframe\">\n",
       "  <thead>\n",
       "    <tr style=\"text-align: right;\">\n",
       "      <th></th>\n",
       "      <th>date</th>\n",
       "      <th>text</th>\n",
       "      <th>location_id</th>\n",
       "    </tr>\n",
       "  </thead>\n",
       "  <tbody>\n",
       "    <tr>\n",
       "      <th>0</th>\n",
       "      <td>2017-11-14 16:20:42</td>\n",
       "      <td>After great week to home of my Friend this sac...</td>\n",
       "      <td>135250610358325</td>\n",
       "    </tr>\n",
       "    <tr>\n",
       "      <th>1</th>\n",
       "      <td>2017-10-31 16:10:00</td>\n",
       "      <td>Fisrt Flower of my new style.. thanx Teresa.. ...</td>\n",
       "      <td>135250610358325</td>\n",
       "    </tr>\n",
       "    <tr>\n",
       "      <th>2</th>\n",
       "      <td>2017-10-16 15:22:37</td>\n",
       "      <td>This for new roses!! Thanx Simone!!#walterbian...</td>\n",
       "      <td>135250610358325</td>\n",
       "    </tr>\n",
       "    <tr>\n",
       "      <th>3</th>\n",
       "      <td>2017-10-05 15:40:03</td>\n",
       "      <td>New skull !! #walterbianco_wb #wbtattooartgall...</td>\n",
       "      <td>135250610358325</td>\n",
       "    </tr>\n",
       "    <tr>\n",
       "      <th>4</th>\n",
       "      <td>2017-10-03 16:13:43</td>\n",
       "      <td>Paint  acrilic biomech on sale  40cm X 30 cm o...</td>\n",
       "      <td>135250610358325</td>\n",
       "    </tr>\n",
       "  </tbody>\n",
       "</table>\n",
       "</div>"
      ],
      "text/plain": [
       "                  date                                               text  \\\n",
       "0  2017-11-14 16:20:42  After great week to home of my Friend this sac...   \n",
       "1  2017-10-31 16:10:00  Fisrt Flower of my new style.. thanx Teresa.. ...   \n",
       "2  2017-10-16 15:22:37  This for new roses!! Thanx Simone!!#walterbian...   \n",
       "3  2017-10-05 15:40:03  New skull !! #walterbianco_wb #wbtattooartgall...   \n",
       "4  2017-10-03 16:13:43  Paint  acrilic biomech on sale  40cm X 30 cm o...   \n",
       "\n",
       "       location_id  \n",
       "0  135250610358325  \n",
       "1  135250610358325  \n",
       "2  135250610358325  \n",
       "3  135250610358325  \n",
       "4  135250610358325  "
      ]
     },
     "execution_count": 178,
     "metadata": {},
     "output_type": "execute_result"
    }
   ],
   "source": [
    "df_new=pd.read_csv('/data/marcoq/instagram/torino/torino_posts.csv',lineterminator='\\n')\n",
    "df_new=df_new.rename(columns = {'caption':'text','taken_at_timestamp':'date'})\n",
    "df_new.head()"
   ]
  },
  {
   "cell_type": "code",
   "execution_count": 173,
   "metadata": {},
   "outputs": [],
   "source": [
    "list_dates, Histo = IL.N_posts(df_new, debug=False)\n",
    "Npostslog=[np.log10(H) for H in Histo]\n",
    "Nposts=[H for H in Histo]"
   ]
  },
  {
   "cell_type": "code",
   "execution_count": null,
   "metadata": {},
   "outputs": [],
   "source": [
    "if 'Figures' not in os.listdir('.') and False:\n",
    "    os.mkdir('Figures')\n",
    "    os.mkdir('Figures/Shape')\n",
    "    os.mkdir('Figures/Shape/Spatial')\n",
    "    os.mkdir('Figures/Shape/Temporal')\n",
    "plt.figure()\n",
    "plt.scatter(list_dates, Npostslog)\n",
    "plt.xticks(list_dates[0::15])\n",
    "plt.ylabel(r'$log_{10}$(#posts)')\n",
    "plt.xlabel('Timeline')\n",
    "plt.title(r'$log_{10}$ of the amount of insta posts per months')\n",
    "#plt.savefig('Figures/Shape/Temporal/Torino_logN.pdf')\n",
    "plt.show()\n",
    "plt.figure()\n",
    "plt.scatter(list_dates, Nposts)\n",
    "plt.xticks(list_dates[0::15])\n",
    "plt.ylabel('#posts)')\n",
    "plt.xlabel('Timeline')\n",
    "plt.title('Absolute amount of insta posts per months')\n",
    "#plt.savefig('Figures/Shape/Temporal/Torino_N.pdf')\n",
    "plt.show()"
   ]
  },
  {
   "cell_type": "code",
   "execution_count": 174,
   "metadata": {},
   "outputs": [
    {
     "data": {
      "text/html": [
       "<div>\n",
       "<style scoped>\n",
       "    .dataframe tbody tr th:only-of-type {\n",
       "        vertical-align: middle;\n",
       "    }\n",
       "\n",
       "    .dataframe tbody tr th {\n",
       "        vertical-align: top;\n",
       "    }\n",
       "\n",
       "    .dataframe thead th {\n",
       "        text-align: right;\n",
       "    }\n",
       "</style>\n",
       "<table border=\"1\" class=\"dataframe\">\n",
       "  <thead>\n",
       "    <tr style=\"text-align: right;\">\n",
       "      <th></th>\n",
       "      <th>id</th>\n",
       "      <th>name</th>\n",
       "      <th>lat</th>\n",
       "      <th>lon</th>\n",
       "    </tr>\n",
       "  </thead>\n",
       "  <tbody>\n",
       "    <tr>\n",
       "      <th>0</th>\n",
       "      <td>135250610358325</td>\n",
       "      <td>WB Tattoos Art Gallery</td>\n",
       "      <td>45.072270</td>\n",
       "      <td>7.693010</td>\n",
       "    </tr>\n",
       "    <tr>\n",
       "      <th>1</th>\n",
       "      <td>346586842349479</td>\n",
       "      <td>InQubatore Qulturale</td>\n",
       "      <td>45.133572</td>\n",
       "      <td>7.631137</td>\n",
       "    </tr>\n",
       "    <tr>\n",
       "      <th>2</th>\n",
       "      <td>328277161003275</td>\n",
       "      <td>Mixed By Luca Pain</td>\n",
       "      <td>45.081999</td>\n",
       "      <td>7.661826</td>\n",
       "    </tr>\n",
       "    <tr>\n",
       "      <th>3</th>\n",
       "      <td>1022295605</td>\n",
       "      <td>06565</td>\n",
       "      <td>45.063780</td>\n",
       "      <td>7.681740</td>\n",
       "    </tr>\n",
       "    <tr>\n",
       "      <th>4</th>\n",
       "      <td>127109984575725</td>\n",
       "      <td>Café Müller</td>\n",
       "      <td>45.061100</td>\n",
       "      <td>7.676030</td>\n",
       "    </tr>\n",
       "  </tbody>\n",
       "</table>\n",
       "</div>"
      ],
      "text/plain": [
       "                id                    name        lat       lon\n",
       "0  135250610358325  WB Tattoos Art Gallery  45.072270  7.693010\n",
       "1  346586842349479    InQubatore Qulturale  45.133572  7.631137\n",
       "2  328277161003275      Mixed By Luca Pain  45.081999  7.661826\n",
       "3       1022295605                   06565  45.063780  7.681740\n",
       "4  127109984575725             Café Müller  45.061100  7.676030"
      ]
     },
     "execution_count": 174,
     "metadata": {},
     "output_type": "execute_result"
    }
   ],
   "source": [
    "df_location_all=pd.read_csv('/data/marcoq/instagram/torino/torino_locations.csv', lineterminator='\\n')\n",
    "df_location_all=df_location_all.rename(columns = {'latitude':'lat','longitude':'lon', 'location_id':'id'})\n",
    "df_location_all.head()"
   ]
  },
  {
   "cell_type": "code",
   "execution_count": 175,
   "metadata": {},
   "outputs": [
    {
     "data": {
      "text/html": [
       "<div>\n",
       "<style scoped>\n",
       "    .dataframe tbody tr th:only-of-type {\n",
       "        vertical-align: middle;\n",
       "    }\n",
       "\n",
       "    .dataframe tbody tr th {\n",
       "        vertical-align: top;\n",
       "    }\n",
       "\n",
       "    .dataframe thead th {\n",
       "        text-align: right;\n",
       "    }\n",
       "</style>\n",
       "<table border=\"1\" class=\"dataframe\">\n",
       "  <thead>\n",
       "    <tr style=\"text-align: right;\">\n",
       "      <th></th>\n",
       "      <th>id</th>\n",
       "      <th>name</th>\n",
       "      <th>lat</th>\n",
       "      <th>lon</th>\n",
       "      <th>coord</th>\n",
       "    </tr>\n",
       "  </thead>\n",
       "  <tbody>\n",
       "    <tr>\n",
       "      <th>0</th>\n",
       "      <td>135250610358325</td>\n",
       "      <td>WB Tattoos Art Gallery</td>\n",
       "      <td>45.072270</td>\n",
       "      <td>7.693010</td>\n",
       "      <td>(45.07227, 7.69301)</td>\n",
       "    </tr>\n",
       "    <tr>\n",
       "      <th>1</th>\n",
       "      <td>346586842349479</td>\n",
       "      <td>InQubatore Qulturale</td>\n",
       "      <td>45.133572</td>\n",
       "      <td>7.631137</td>\n",
       "      <td>(45.1335721884, 7.631136775)</td>\n",
       "    </tr>\n",
       "    <tr>\n",
       "      <th>2</th>\n",
       "      <td>328277161003275</td>\n",
       "      <td>Mixed By Luca Pain</td>\n",
       "      <td>45.081999</td>\n",
       "      <td>7.661826</td>\n",
       "      <td>(45.081999413, 7.6618255282)</td>\n",
       "    </tr>\n",
       "    <tr>\n",
       "      <th>3</th>\n",
       "      <td>1022295605</td>\n",
       "      <td>06565</td>\n",
       "      <td>45.063780</td>\n",
       "      <td>7.681740</td>\n",
       "      <td>(45.06378, 7.68174)</td>\n",
       "    </tr>\n",
       "    <tr>\n",
       "      <th>4</th>\n",
       "      <td>127109984575725</td>\n",
       "      <td>Café Müller</td>\n",
       "      <td>45.061100</td>\n",
       "      <td>7.676030</td>\n",
       "      <td>(45.0611, 7.67603)</td>\n",
       "    </tr>\n",
       "  </tbody>\n",
       "</table>\n",
       "</div>"
      ],
      "text/plain": [
       "                id                    name        lat       lon  \\\n",
       "0  135250610358325  WB Tattoos Art Gallery  45.072270  7.693010   \n",
       "1  346586842349479    InQubatore Qulturale  45.133572  7.631137   \n",
       "2  328277161003275      Mixed By Luca Pain  45.081999  7.661826   \n",
       "3       1022295605                   06565  45.063780  7.681740   \n",
       "4  127109984575725             Café Müller  45.061100  7.676030   \n",
       "\n",
       "                          coord  \n",
       "0           (45.07227, 7.69301)  \n",
       "1  (45.1335721884, 7.631136775)  \n",
       "2  (45.081999413, 7.6618255282)  \n",
       "3           (45.06378, 7.68174)  \n",
       "4            (45.0611, 7.67603)  "
      ]
     },
     "execution_count": 175,
     "metadata": {},
     "output_type": "execute_result"
    }
   ],
   "source": [
    "#remember zip:\n",
    "zip([1,2,3],['a','b','c'])\n",
    "#it's a function.\n",
    "#make a new column 'coord' indexing (lat,lon) for each post\n",
    "df_location_all['coord'] = list(zip(df_location_all.lat,df_location_all.lon))\n",
    "df_location_all.head()"
   ]
  },
  {
   "cell_type": "code",
   "execution_count": 16,
   "metadata": {},
   "outputs": [],
   "source": [
    "#Heatmap per year\n",
    "TbyCoord=IL.time_coord(df_location_all, df_new)\n",
    "for year in range(2010,2019,1):\n",
    "    Coordinates=[]\n",
    "    for t in TbyCoord:\n",
    "        if t[0][0:4]==str(year):\n",
    "            Coordinates.append(t[1])\n",
    "    IL.geo_heatmap(Coordinates ,Nposts, save=False,filename='hm'+str(year))"
   ]
  },
  {
   "cell_type": "markdown",
   "metadata": {},
   "source": [
    "# Let's refine the DataFrame"
   ]
  },
  {
   "cell_type": "code",
   "execution_count": 17,
   "metadata": {},
   "outputs": [],
   "source": [
    "#link postID with its location\n",
    "dict_id_coord= dict(zip(df_location_all.id,df_location_all.coord))\n",
    "dict_id_name= dict(zip(df_location_all.id,df_location_all.name))\n",
    "dict_coord_name= dict(zip(df_location_all.coord,df_location_all.name))"
   ]
  },
  {
   "cell_type": "markdown",
   "metadata": {},
   "source": [
    "series.map() matches corresponding entries from two different series files. This is what x.map(y) does:"
   ]
  },
  {
   "cell_type": "code",
   "execution_count": 18,
   "metadata": {
    "collapsed": true
   },
   "outputs": [
    {
     "data": {
      "text/plain": [
       "one      1\n",
       "two      2\n",
       "three    3\n",
       "dtype: int64"
      ]
     },
     "execution_count": 18,
     "metadata": {},
     "output_type": "execute_result"
    }
   ],
   "source": [
    "x = pd.Series([1,2,3], index=['one', 'two', 'three'])\n",
    "x"
   ]
  },
  {
   "cell_type": "code",
   "execution_count": 19,
   "metadata": {
    "collapsed": true
   },
   "outputs": [
    {
     "data": {
      "text/plain": [
       "1    foo\n",
       "2    bar\n",
       "3    baz\n",
       "dtype: object"
      ]
     },
     "execution_count": 19,
     "metadata": {},
     "output_type": "execute_result"
    }
   ],
   "source": [
    "y = pd.Series(['foo', 'bar', 'baz'], index=[1,2,3])\n",
    "y"
   ]
  },
  {
   "cell_type": "code",
   "execution_count": 20,
   "metadata": {},
   "outputs": [
    {
     "data": {
      "text/plain": [
       "one      foo\n",
       "two      bar\n",
       "three    baz\n",
       "dtype: object"
      ]
     },
     "execution_count": 20,
     "metadata": {},
     "output_type": "execute_result"
    }
   ],
   "source": [
    "x.map(y)"
   ]
  },
  {
   "cell_type": "code",
   "execution_count": 24,
   "metadata": {},
   "outputs": [
    {
     "data": {
      "text/plain": [
       "3    foo\n",
       "1    bar\n",
       "2    baz\n",
       "dtype: object"
      ]
     },
     "execution_count": 24,
     "metadata": {},
     "output_type": "execute_result"
    }
   ],
   "source": [
    "z = pd.Series(['foo', 'bar', 'baz'], index=[3,1,2])\n",
    "z"
   ]
  },
  {
   "cell_type": "code",
   "execution_count": 25,
   "metadata": {},
   "outputs": [
    {
     "data": {
      "text/plain": [
       "one      bar\n",
       "two      baz\n",
       "three    foo\n",
       "dtype: object"
      ]
     },
     "execution_count": 25,
     "metadata": {},
     "output_type": "execute_result"
    }
   ],
   "source": [
    "x.map(z)"
   ]
  },
  {
   "cell_type": "code",
   "execution_count": 179,
   "metadata": {},
   "outputs": [],
   "source": [
    "#Adding a column 'coords' by mapping the coordinates to their location_id:\n",
    "df_new['coords'] = df_new['location_id'].map(dict_id_coord)\n",
    "# And a column 'name' by mapping the location ids to their associate name.\n",
    "df_new['name'] = df_new['location_id'].map(dict_id_name)\n",
    "\n",
    "#Create lat and lon columns by reading coords\n",
    "# Look here: https://pythonhow.com/accessing-dataframe-columns-rows-and-cells/\n",
    "df_new['lat']=[e[0] for e in df_new.loc[:,'coords']]\n",
    "df_new['lon']=[e[1] for e in df_new.loc[:,'coords']]\n",
    "\n",
    "# Drop duplicates\n",
    "df_new.drop_duplicates(keep='first')\n",
    "df_new.head()\n",
    "#needs to be done at the end for compatibility reasons\n",
    "# learn how to parse time here: https://www.tutorialspoint.com/python/time_strptime.htm\n",
    "\n",
    "df_new['date']=[datetime.strptime(t,'%Y-%m-%d %H:%M:%S') for t in list(df_new['date'])]"
   ]
  },
  {
   "cell_type": "code",
   "execution_count": null,
   "metadata": {},
   "outputs": [],
   "source": [
    "df_new.head()"
   ]
  },
  {
   "cell_type": "code",
   "execution_count": 68,
   "metadata": {},
   "outputs": [
    {
     "data": {
      "text/plain": [
       "date      datetime64[ns]\n",
       "text              object\n",
       "coords            object\n",
       "name              object\n",
       "lat              float64\n",
       "lon              float64\n",
       "dtype: object"
      ]
     },
     "execution_count": 68,
     "metadata": {},
     "output_type": "execute_result"
    }
   ],
   "source": [
    "df_new.dtypes"
   ]
  },
  {
   "cell_type": "markdown",
   "metadata": {},
   "source": [
    "### Checkpoint 1"
   ]
  },
  {
   "cell_type": "code",
   "execution_count": 182,
   "metadata": {},
   "outputs": [],
   "source": [
    "#pickle.dump(df_new, open('df_new_chkpt1.pkl', 'wb'))"
   ]
  },
  {
   "cell_type": "markdown",
   "metadata": {},
   "source": [
    "Build the frame and the grid. $$x_{min/max}=longitude_{min/max}$$ and conversely for y and latitude."
   ]
  },
  {
   "cell_type": "code",
   "execution_count": 69,
   "metadata": {
    "scrolled": true
   },
   "outputs": [
    {
     "data": {
      "text/plain": [
       "<module 'Instalib' from 'Instalib.pyc'>"
      ]
     },
     "execution_count": 69,
     "metadata": {},
     "output_type": "execute_result"
    }
   ],
   "source": [
    "imp.reload(IL)"
   ]
  },
  {
   "cell_type": "code",
   "execution_count": 183,
   "metadata": {},
   "outputs": [
    {
     "name": "stdout",
     "output_type": "stream",
     "text": [
      "(31.00000000000114, 31.000000000000007)\n"
     ]
    }
   ],
   "source": [
    "\n",
    "# Attention problème d'arrondi lors du passage de Coord à (lat,lon)\n",
    "step_m=0.5\n",
    "lat1,lat2,step_lat,lon1,lon2,step_lon,to_bin_lon,to_bin_lat = IL.build_grid(df_new,step_m)\n",
    "number_lats,number_lon,df_new=IL.add_grid_todf(df_new,to_bin_lat,to_bin_lon,step_lat,step_lon)\n",
    "print (number_lats, number_lon)\n"
   ]
  },
  {
   "cell_type": "markdown",
   "metadata": {},
   "source": [
    "### Checkpoint 2"
   ]
  },
  {
   "cell_type": "code",
   "execution_count": null,
   "metadata": {},
   "outputs": [],
   "source": [
    "#pickle.dump(df_new, open('df_new_chkpt2.pkl', 'wb'))\n",
    "#df_new=pd.read_pickle('df_new_chkpt2.pkl')"
   ]
  },
  {
   "cell_type": "markdown",
   "metadata": {},
   "source": [
    "# Time to clean the text\n",
    "\n",
    "But first make a copy before we do anything stupid"
   ]
  },
  {
   "cell_type": "code",
   "execution_count": 209,
   "metadata": {},
   "outputs": [],
   "source": [
    "df_new_save=df_new.copy()\n",
    "#df_new=df_new_save.copy()"
   ]
  },
  {
   "cell_type": "markdown",
   "metadata": {},
   "source": [
    "This methods works only on unicode text. So we need to use the function x.decode('utf-8') to convert all strings in the 'text' field to unicode objects."
   ]
  },
  {
   "cell_type": "code",
   "execution_count": 74,
   "metadata": {},
   "outputs": [
    {
     "name": "stdout",
     "output_type": "stream",
     "text": [
      "purple 🤖\n"
     ]
    }
   ],
   "source": [
    "text_0=df_new['text'][22][0:11].decode('utf-8')\n",
    "print text_0"
   ]
  },
  {
   "cell_type": "code",
   "execution_count": null,
   "metadata": {},
   "outputs": [],
   "source": [
    "emoji_pattern = re.compile(\"[\"\n",
    "        u\"\\U0001F600-\\U0001F64F\"  # emoticons\n",
    "        u\"\\U0001F300-\\U0001F5FF\"  # symbols & pictographs\n",
    "        u\"\\U0001F680-\\U0001F6FF\"  # transport & map symbols\n",
    "        u\"\\U0001F1E0-\\U0001F1FF\"  # flags (iOS)\n",
    "                           \"]+\", flags=re.UNICODE)\n",
    "#df_new['text_new2'] = df_new['text_new2'].map(lambda x: emoji_pattern.sub(r'', x))\n",
    "       \n",
    "#It works on unicode but not on a string:\n",
    "    \n",
    "text = u'This dog \\U0001f602'\n",
    "print(text) # with emoji\n",
    "print(emoji_pattern.sub(r'', text)) # no emoji\n",
    "\n",
    "text = 'This dog \\U0001f602'\n",
    "print(text) # with emoji\n",
    "print(emoji_pattern.sub(r'', text)) # no emoji\n",
    "\n",
    "print '\\n but some emojis still pass through... \\n'\n",
    "\n",
    "text=text_0\n",
    "print(text) # with emoji\n",
    "print(emoji_pattern.sub(r'', text)) # no emoji\n",
    "\n",
    "print(text) # with emoji\n",
    "print(emoji_pattern.sub(r'', text)) # no emoji\n"
   ]
  },
  {
   "cell_type": "markdown",
   "metadata": {},
   "source": [
    "Another way to deal with emoji would be to de-emojize them. They would then count as words, that can either be removed\n",
    "since they have the very peculiar following form :grinning_face: \n",
    "\n",
    "The difficulty here is identifying emojis in a text. Their classification is hard to decypher"
   ]
  },
  {
   "cell_type": "code",
   "execution_count": null,
   "metadata": {},
   "outputs": [],
   "source": [
    "print(text) # with emoji\n",
    "print emoji.demojize(text) # no emoji"
   ]
  },
  {
   "cell_type": "code",
   "execution_count": 302,
   "metadata": {},
   "outputs": [
    {
     "name": "stdout",
     "output_type": "stream",
     "text": [
      "223215 posts deleted in the process\n"
     ]
    },
    {
     "data": {
      "text/html": [
       "<div>\n",
       "<style scoped>\n",
       "    .dataframe tbody tr th:only-of-type {\n",
       "        vertical-align: middle;\n",
       "    }\n",
       "\n",
       "    .dataframe tbody tr th {\n",
       "        vertical-align: top;\n",
       "    }\n",
       "\n",
       "    .dataframe thead th {\n",
       "        text-align: right;\n",
       "    }\n",
       "</style>\n",
       "<table border=\"1\" class=\"dataframe\">\n",
       "  <thead>\n",
       "    <tr style=\"text-align: right;\">\n",
       "      <th></th>\n",
       "      <th>date</th>\n",
       "      <th>location_id</th>\n",
       "      <th>coords</th>\n",
       "      <th>name</th>\n",
       "      <th>lat</th>\n",
       "      <th>lon</th>\n",
       "      <th>latbin</th>\n",
       "      <th>lonbin</th>\n",
       "      <th>coordsbin</th>\n",
       "      <th>text</th>\n",
       "    </tr>\n",
       "  </thead>\n",
       "  <tbody>\n",
       "    <tr>\n",
       "      <th>0</th>\n",
       "      <td>2017-11-14 16:20:42</td>\n",
       "      <td>135250610358325</td>\n",
       "      <td>(45.07227, 7.69301)</td>\n",
       "      <td>WB Tattoos Art Gallery</td>\n",
       "      <td>45.07227</td>\n",
       "      <td>7.69301</td>\n",
       "      <td>45.072</td>\n",
       "      <td>7.691152</td>\n",
       "      <td>(45.072, 7.69115211839)</td>\n",
       "      <td>A   f   t   e   r       g   r   e   a   t  ...</td>\n",
       "    </tr>\n",
       "    <tr>\n",
       "      <th>1</th>\n",
       "      <td>2017-10-31 16:10:00</td>\n",
       "      <td>135250610358325</td>\n",
       "      <td>(45.07227, 7.69301)</td>\n",
       "      <td>WB Tattoos Art Gallery</td>\n",
       "      <td>45.07227</td>\n",
       "      <td>7.69301</td>\n",
       "      <td>45.072</td>\n",
       "      <td>7.691152</td>\n",
       "      <td>(45.072, 7.69115211839)</td>\n",
       "      <td>F   i   s   r   t       F   l   o   w   e  ...</td>\n",
       "    </tr>\n",
       "    <tr>\n",
       "      <th>2</th>\n",
       "      <td>2017-10-16 15:22:37</td>\n",
       "      <td>135250610358325</td>\n",
       "      <td>(45.07227, 7.69301)</td>\n",
       "      <td>WB Tattoos Art Gallery</td>\n",
       "      <td>45.07227</td>\n",
       "      <td>7.69301</td>\n",
       "      <td>45.072</td>\n",
       "      <td>7.691152</td>\n",
       "      <td>(45.072, 7.69115211839)</td>\n",
       "      <td>T   h   i   s       f   o   r       n   e  ...</td>\n",
       "    </tr>\n",
       "    <tr>\n",
       "      <th>3</th>\n",
       "      <td>2017-10-05 15:40:03</td>\n",
       "      <td>135250610358325</td>\n",
       "      <td>(45.07227, 7.69301)</td>\n",
       "      <td>WB Tattoos Art Gallery</td>\n",
       "      <td>45.07227</td>\n",
       "      <td>7.69301</td>\n",
       "      <td>45.072</td>\n",
       "      <td>7.691152</td>\n",
       "      <td>(45.072, 7.69115211839)</td>\n",
       "      <td>N   e   w       s   k   u   l   l          ...</td>\n",
       "    </tr>\n",
       "    <tr>\n",
       "      <th>4</th>\n",
       "      <td>2017-10-03 16:13:43</td>\n",
       "      <td>135250610358325</td>\n",
       "      <td>(45.07227, 7.69301)</td>\n",
       "      <td>WB Tattoos Art Gallery</td>\n",
       "      <td>45.07227</td>\n",
       "      <td>7.69301</td>\n",
       "      <td>45.072</td>\n",
       "      <td>7.691152</td>\n",
       "      <td>(45.072, 7.69115211839)</td>\n",
       "      <td>P   a   i   n   t           a   c   r   i  ...</td>\n",
       "    </tr>\n",
       "  </tbody>\n",
       "</table>\n",
       "</div>"
      ],
      "text/plain": [
       "                 date      location_id               coords  \\\n",
       "0 2017-11-14 16:20:42  135250610358325  (45.07227, 7.69301)   \n",
       "1 2017-10-31 16:10:00  135250610358325  (45.07227, 7.69301)   \n",
       "2 2017-10-16 15:22:37  135250610358325  (45.07227, 7.69301)   \n",
       "3 2017-10-05 15:40:03  135250610358325  (45.07227, 7.69301)   \n",
       "4 2017-10-03 16:13:43  135250610358325  (45.07227, 7.69301)   \n",
       "\n",
       "                     name       lat      lon  latbin    lonbin  \\\n",
       "0  WB Tattoos Art Gallery  45.07227  7.69301  45.072  7.691152   \n",
       "1  WB Tattoos Art Gallery  45.07227  7.69301  45.072  7.691152   \n",
       "2  WB Tattoos Art Gallery  45.07227  7.69301  45.072  7.691152   \n",
       "3  WB Tattoos Art Gallery  45.07227  7.69301  45.072  7.691152   \n",
       "4  WB Tattoos Art Gallery  45.07227  7.69301  45.072  7.691152   \n",
       "\n",
       "                 coordsbin                                               text  \n",
       "0  (45.072, 7.69115211839)     A   f   t   e   r       g   r   e   a   t  ...  \n",
       "1  (45.072, 7.69115211839)     F   i   s   r   t       F   l   o   w   e  ...  \n",
       "2  (45.072, 7.69115211839)     T   h   i   s       f   o   r       n   e  ...  \n",
       "3  (45.072, 7.69115211839)     N   e   w       s   k   u   l   l          ...  \n",
       "4  (45.072, 7.69115211839)     P   a   i   n   t           a   c   r   i  ...  "
      ]
     },
     "execution_count": 302,
     "metadata": {},
     "output_type": "execute_result"
    }
   ],
   "source": [
    "df_new=IL.text_processing(df_new)\n",
    "#df_new=df_new[['date','lat','lon','latbin','lonbin','coords','text_new','name']]\n",
    "df_new.drop(['text'],axis=1,inplace=True)\n",
    "df_new=df_new.rename(columns = {'text_new':'text'})\n",
    "df_new['coordsbin'] = list(zip(df_new.latbin,df_new.lonbin))\n",
    "print len(df_new_save.text.tolist()) - len(df_new.text.tolist()), 'posts deleted in the process'\n",
    "df_new.head()"
   ]
  },
  {
   "cell_type": "markdown",
   "metadata": {},
   "source": [
    "### Checkpoint 3"
   ]
  },
  {
   "cell_type": "code",
   "execution_count": null,
   "metadata": {
    "scrolled": true
   },
   "outputs": [],
   "source": [
    "#And pickle it\n",
    "#df_new.to_pickle('df_new_chkpt3.pkl')\n",
    "#df_new=pd.read_pickle('df_new_chkpt3.pkl')"
   ]
  },
  {
   "cell_type": "code",
   "execution_count": 214,
   "metadata": {},
   "outputs": [],
   "source": [
    "if True:\n",
    "    #In case I'm not loading this since the beginning\n",
    "    dict_coord_name= dict(zip(df_new.coords,df_new.name))\n",
    "    dict_name_coord= dict(zip(df_new.name,df_new.coords))\n",
    "    step_m=0.5\n",
    "    lat1,lat2,step_lat,lon1,lon2,step_lon,to_bin_lon,to_bin_lat = IL.build_grid(df_new,step_m)\n",
    "    number_lats,number_lon,df_new=IL.add_grid_todf(df_new,to_bin_lat,to_bin_lon,step_lat,step_lon)"
   ]
  },
  {
   "cell_type": "code",
   "execution_count": 215,
   "metadata": {
    "collapsed": true
   },
   "outputs": [
    {
     "data": {
      "text/html": [
       "<div>\n",
       "<style scoped>\n",
       "    .dataframe tbody tr th:only-of-type {\n",
       "        vertical-align: middle;\n",
       "    }\n",
       "\n",
       "    .dataframe tbody tr th {\n",
       "        vertical-align: top;\n",
       "    }\n",
       "\n",
       "    .dataframe thead th {\n",
       "        text-align: right;\n",
       "    }\n",
       "</style>\n",
       "<table border=\"1\" class=\"dataframe\">\n",
       "  <thead>\n",
       "    <tr style=\"text-align: right;\">\n",
       "      <th></th>\n",
       "      <th>date</th>\n",
       "      <th>location_id</th>\n",
       "      <th>coords</th>\n",
       "      <th>name</th>\n",
       "      <th>lat</th>\n",
       "      <th>lon</th>\n",
       "      <th>latbin</th>\n",
       "      <th>lonbin</th>\n",
       "      <th>text</th>\n",
       "      <th>coordsbin</th>\n",
       "    </tr>\n",
       "  </thead>\n",
       "  <tbody>\n",
       "    <tr>\n",
       "      <th>0</th>\n",
       "      <td>2017-11-14 16:20:42</td>\n",
       "      <td>135250610358325</td>\n",
       "      <td>(45.07227, 7.69301)</td>\n",
       "      <td>WB Tattoos Art Gallery</td>\n",
       "      <td>45.07227</td>\n",
       "      <td>7.69301</td>\n",
       "      <td>45.072</td>\n",
       "      <td>7.691152</td>\n",
       "      <td>After great week to home of my Friend this sac...</td>\n",
       "      <td>(45.072, 7.69115211839)</td>\n",
       "    </tr>\n",
       "    <tr>\n",
       "      <th>1</th>\n",
       "      <td>2017-10-31 16:10:00</td>\n",
       "      <td>135250610358325</td>\n",
       "      <td>(45.07227, 7.69301)</td>\n",
       "      <td>WB Tattoos Art Gallery</td>\n",
       "      <td>45.07227</td>\n",
       "      <td>7.69301</td>\n",
       "      <td>45.072</td>\n",
       "      <td>7.691152</td>\n",
       "      <td>Fisrt Flower of my new style thanx Teresa than...</td>\n",
       "      <td>(45.072, 7.69115211839)</td>\n",
       "    </tr>\n",
       "    <tr>\n",
       "      <th>2</th>\n",
       "      <td>2017-10-16 15:22:37</td>\n",
       "      <td>135250610358325</td>\n",
       "      <td>(45.07227, 7.69301)</td>\n",
       "      <td>WB Tattoos Art Gallery</td>\n",
       "      <td>45.07227</td>\n",
       "      <td>7.69301</td>\n",
       "      <td>45.072</td>\n",
       "      <td>7.691152</td>\n",
       "      <td>This for new roses Thanx Simonewalterbiancowb ...</td>\n",
       "      <td>(45.072, 7.69115211839)</td>\n",
       "    </tr>\n",
       "    <tr>\n",
       "      <th>3</th>\n",
       "      <td>2017-10-05 15:40:03</td>\n",
       "      <td>135250610358325</td>\n",
       "      <td>(45.07227, 7.69301)</td>\n",
       "      <td>WB Tattoos Art Gallery</td>\n",
       "      <td>45.07227</td>\n",
       "      <td>7.69301</td>\n",
       "      <td>45.072</td>\n",
       "      <td>7.691152</td>\n",
       "      <td>New skull  walterbiancowb wbtattooartgallery w...</td>\n",
       "      <td>(45.072, 7.69115211839)</td>\n",
       "    </tr>\n",
       "    <tr>\n",
       "      <th>4</th>\n",
       "      <td>2017-10-03 16:13:43</td>\n",
       "      <td>135250610358325</td>\n",
       "      <td>(45.07227, 7.69301)</td>\n",
       "      <td>WB Tattoos Art Gallery</td>\n",
       "      <td>45.07227</td>\n",
       "      <td>7.69301</td>\n",
       "      <td>45.072</td>\n",
       "      <td>7.691152</td>\n",
       "      <td>Paint  acrilic biomech on sale  cm X  cm origi...</td>\n",
       "      <td>(45.072, 7.69115211839)</td>\n",
       "    </tr>\n",
       "  </tbody>\n",
       "</table>\n",
       "</div>"
      ],
      "text/plain": [
       "                 date      location_id               coords  \\\n",
       "0 2017-11-14 16:20:42  135250610358325  (45.07227, 7.69301)   \n",
       "1 2017-10-31 16:10:00  135250610358325  (45.07227, 7.69301)   \n",
       "2 2017-10-16 15:22:37  135250610358325  (45.07227, 7.69301)   \n",
       "3 2017-10-05 15:40:03  135250610358325  (45.07227, 7.69301)   \n",
       "4 2017-10-03 16:13:43  135250610358325  (45.07227, 7.69301)   \n",
       "\n",
       "                     name       lat      lon  latbin    lonbin  \\\n",
       "0  WB Tattoos Art Gallery  45.07227  7.69301  45.072  7.691152   \n",
       "1  WB Tattoos Art Gallery  45.07227  7.69301  45.072  7.691152   \n",
       "2  WB Tattoos Art Gallery  45.07227  7.69301  45.072  7.691152   \n",
       "3  WB Tattoos Art Gallery  45.07227  7.69301  45.072  7.691152   \n",
       "4  WB Tattoos Art Gallery  45.07227  7.69301  45.072  7.691152   \n",
       "\n",
       "                                                text                coordsbin  \n",
       "0  After great week to home of my Friend this sac...  (45.072, 7.69115211839)  \n",
       "1  Fisrt Flower of my new style thanx Teresa than...  (45.072, 7.69115211839)  \n",
       "2  This for new roses Thanx Simonewalterbiancowb ...  (45.072, 7.69115211839)  \n",
       "3  New skull  walterbiancowb wbtattooartgallery w...  (45.072, 7.69115211839)  \n",
       "4  Paint  acrilic biomech on sale  cm X  cm origi...  (45.072, 7.69115211839)  "
      ]
     },
     "execution_count": 215,
     "metadata": {},
     "output_type": "execute_result"
    }
   ],
   "source": [
    "df_new.head()"
   ]
  },
  {
   "cell_type": "markdown",
   "metadata": {},
   "source": [
    "Learn about how groupby does not returns a dataframe but only groups the data IN ORDER TO APPLY SOME FUNCTION to it here: https://pandas.pydata.org/pandas-docs/stable/groupby.html"
   ]
  },
  {
   "cell_type": "code",
   "execution_count": 79,
   "metadata": {
    "collapsed": true
   },
   "outputs": [
    {
     "name": "stdout",
     "output_type": "stream",
     "text": [
      "BEFORE BINNING:\n",
      "391974  degenerate datapoints in the dataset.\n",
      "19 % of degenerate data\n",
      "AFTER BINNING:\n",
      "280837  degenerate datapoints in the dataset.\n",
      "13 % of degenerate data\n"
     ]
    }
   ],
   "source": [
    "imp.reload(IL)\n",
    "#Degenerate_loc: list of list of coordinates associated to a same place.\n",
    "#Degenerate_locbin: same with the bins instead of place coordinates.\n",
    "#Degenerate_names: list of places names having different coordinates.\n",
    "#Degenerate_namesbin: same but having different bins\n",
    "#Degenerate_freq: list of list of tuples: (coord1, freq1),(coord2, freq2) for each degenerated place.\n",
    "#Deg_names_dist: list of places names, each associated with their respective typical pairwise distance.\n",
    "\n",
    "Degenerate_loc, Degenerate_names, Degenerate_locbin, Degenerate_namesbin,Degenerate_freq=IL.name_id_degeneracy(df_new)     \n",
    "Deg_names_dist = IL.pairwise_distances(Degenerate_loc,Degenerate_names)"
   ]
  },
  {
   "cell_type": "code",
   "execution_count": 80,
   "metadata": {},
   "outputs": [
    {
     "name": "stdout",
     "output_type": "stream",
     "text": [
      "Allianz Stadium Curva Sud & [(45.108768700000006, 7.6410829), (45.0667, 7.7)] & 6.585742316054901 \\\\\n",
      "America Graffiti & [(45.110009999999996, 7.64554), (45.06393, 7.68537)] & 6.00480307112087 \\\\\n",
      "Auchan & [(45.119679999999995, 7.71397), (45.1137962, 7.6447269)] & 5.487598713112936 \\\\\n",
      "Brek & [(45.056673705600005, 7.612859129099999), (45.064369899999996, 7.679469999999999)] & 5.315783546116205 \\\\\n",
      "Bunet & [(45.06995, 7.68688), (45.06439, 7.649589999999999)] & 3.0010608244676797 \\\\\n",
      "Caffè Vergnano 1882 & [(45.06006, 7.68815), (45.07065, 7.67975), (45.06157, 7.68277)] & 0.947532803581852 \\\\\n",
      "Capatoast & [(45.06646, 7.693110000000001), (45.063359999999996, 7.6817)] & 0.9624019770660424 \\\\\n",
      "Carrefour Italia & [(45.053509000000005, 7.651069099999999), (45.0069299, 7.62398), (45.05775, 7.6609300000000005), (45.0661842149, 7.630446405700001), (45.1013008938, 7.591435110499999)] & 5.435169209717322 \\\\\n",
      "Collina Di Torino & [(45.01228384, 7.73264413), (45.05392, 7.69915)] & 5.326974771248154 \\\\\n",
      "Corso Unione Sovietica & [(45.02952, 7.673710000000001), (45.0193414, 7.580773799999999)] & 7.411441188400042 \\\\\n",
      "CrossFit Torino & [(45.1123749, 7.649830199999999), (45.05529, 7.67195)] & 6.578736349502036 \\\\\n",
      "Dallatte & [(45.0229, 7.64843), (45.03464, 7.66833)] & 2.0400209883184828 \\\\\n",
      "Decathlon Italia & [(45.0520544416, 7.618884911), (45.06277, 7.6803300000000005), (45.13783, 7.73198)] & 9.102324892765276 \\\\\n",
      "EXKi & [(45.06588, 7.684480000000001), (45.06607, 7.68094), (45.0741717, 7.662721), (45.070900099999996, 7.6834297000000005)] & 1.120887165044754 \\\\\n",
      "Eataly & [(45.067370000000004, 7.6839), (45.034909999999996, 7.6670300000000005)] & 3.8443801209985695 \\\\\n",
      "Fassoneria & [(45.065509999999996, 7.69032), (45.0762686736, 7.681434321699999)] & 1.3853549931287876 \\\\\n",
      "Flying Tiger Italia & [(45.074391534200004, 7.6761864482), (45.069579, 7.681922), (45.06364, 7.677219999999999), (45.0669539916, 7.6920612375)] & 1.0381267579581874 \\\\\n",
      "Fujiyama Ristorante Giapponese & [(45.05757, 7.67733), (45.06785, 7.7128)] & 3.0182175479128475 \\\\\n",
      "Gelateria La Romana & [(45.05229, 7.67922), (45.068867499999996, 7.6819553), (45.0458, 7.64394), (45.07342, 7.66585)] & 2.688080668294044 \\\\\n",
      "Gerla 1927 & [(45.0574018173, 7.6620870397), (45.06628, 7.66971)] & 1.1549784929837743 \\\\\n",
      "Giancarlo & [(45.0572133, 7.646631299999999), (45.06507, 7.69822)] & 4.156030885963382 \\\\\n",
      "Hashtag Abbigliamento & [(45.064946936999995, 7.694195509), (45.0649755315, 7.6820165827)] & 0.9591893502735124 \\\\\n",
      "Japs•cucinagiapponese & [(45.0664299, 7.68485), (45.04769, 7.67285), (45.05835, 7.6627)] & 1.8928066486143582 \\\\\n",
      "Juventus Stadium & [(45.109594444399995, 7.6412472222000005), (45.109334999999994, 7.6408), (45.06969, 7.70493), (45.109594, 7.641247), (45.109444, 7.641111)] & 2.693562550056063 \\\\\n",
      "LaPinseria.it & [(45.062290000000004, 7.698119999999999), (45.071000000000005, 7.683560000000001)] & 1.5006116437076968 \\\\\n",
      "Lego Store & [(45.0643816, 7.6802462), (45.0680132, 7.6902539)] & 0.8854895556363621 \\\\\n",
      "Lindt & [(45.0662882, 7.6827990999999995), (45.0549089, 7.6147155)] & 5.509611135909159 \\\\\n",
      "Linopassamilvino & [(45.10219, 7.66523), (45.06645, 7.684060000000001)] & 4.239561745864197 \\\\\n",
      "MAC Cosmetics & [(45.06604, 7.681539999999999), (45.0548799529, 7.6125512430999995), (45.07323, 7.679539999999999)] & 4.014785605665596 \\\\\n",
      "McDonald's & [(45.0548799529, 7.6125512430999995), (45.1216382361, 7.741509873099999)] & 12.574301866161916 \\\\\n",
      "MediaWorld & [(45.03164, 7.66683), (45.1002, 7.69915)] & 8.033216131235843 \\\\\n",
      "Murazzi & [(45.0667, 7.7), (45.0727356263, 7.668650234099999)] & 2.558327502560891 \\\\\n",
      "Old Wild West & [(45.0625, 7.679530000000001), (45.0875537249, 7.6679736901), (45.057033285699994, 7.612398292999999), (45.0284119, 7.6006198000000005)] & 5.471456968545795 \\\\\n",
      "Orange Palestre & [(45.13487, 7.76647), (45.0819832, 7.6274125), (45.05679, 7.63618), (45.106306200000006, 7.6717604999999995), (45.02332, 7.64187), (45.07315, 7.59437), (45.051368100000005, 7.674502599999999)] & 7.401963794416996 \\\\\n",
      "Ospedale Molinette & [(45.0667, 7.7), (45.0402559649, 7.6749609176)] & 3.539345656106944 \\\\\n",
      "Palestre Torino & [(45.070868703100004, 7.6539087296), (45.07203, 7.64037), (45.07229, 7.67324), (45.07291, 7.664960000000001), (45.052209999999995, 7.684819999999999)] & 2.121374643699654 \\\\\n",
      "Parco Del Valentino & [(45.0667, 7.7), (45.0555979, 7.6848755)] & 1.715039856273003 \\\\\n",
      "Parco Le Vallere & [(45.010509899999995, 7.67117), (45.01702, 7.669230000000001)] & 0.7394665687858385 \\\\\n",
      "Pearl'age Estetica Avanzata & [(45.076190000000004, 7.6652), (45.0643066069, 7.677705287899999)] & 1.647395466797491 \\\\\n",
      "Piazza Bodoni & [(45.0667, 7.7), (45.06327, 7.68455)] & 1.275115427446703 \\\\\n",
      "Piazza Castello & [(45.0707768953, 7.685123252), (45.078579336400004, 7.636950966000001)] & 3.891139696332791 \\\\\n",
      "Piazza Solferino & [(45.06855, 7.676666666699999), (45.083040000000004, 7.6899188999999994), (45.0692416452, 7.677364684), (45.0702, 7.6777), (45.068979999999996, 7.6775899999999995)] & 0.7965701626233818 \\\\\n",
      "Piazza Vittorio & [(45.0656709269, 7.694339735900001), (45.0842413402, 7.7304701552), (45.031975566999996, 7.641117013300001), (45.067788565200004, 7.6411835748)] & 5.6165391807626746 \\\\\n",
      "Ricreazione Coffee Cookies & Co & [(45.071290000000005, 7.693410000000001), (45.065740000000005, 7.679939999999999)] & 1.2270801799200772 \\\\\n",
      "Ristorante Lentini's & [(45.04182, 7.68398), (45.0318016, 7.6126027999999994)] & 5.73340283193189 \\\\\n",
      "Roadhouse Restaurant & [(45.136500051300004, 7.735783920199999), (45.03953, 7.670030000000001)] & 11.955423425264282 \\\\\n",
      "Spes Cioccolateria Artigiana & [(45.1027724, 7.6697894), (45.06645, 7.684060000000001)] & 4.190075742856982 \\\\\n",
      "Stadio Filadelfia & [(45.038309525600006, 7.6583338031), (45.0438, 7.64012), (45.03794, 7.6567300000000005)] & 1.0513589389446594 \\\\\n",
      "Taverna Greca & [(45.06505, 7.65095), (45.033716999999996, 7.66867269)] & 3.751597731213032 \\\\\n",
      "The Space Cinema & [(45.021464, 7.5940199999999995), (45.087484, 7.668498)] & 9.394179242702142 \\\\\n",
      "Torino & [(45.072768865, 7.6702275208), (45.0667859, 7.6921288), (45.0606489, 7.692784700000001), (45.0932508, 7.679447), (45.0692678024, 7.6836709345)] & 1.9761068437941698 \\\\\n",
      "Torino Comics & [(45.02939208310001, 7.6650238037000005), (45.029675615, 7.6637247689), (45.0177098984, 7.656738800199999)] & 0.9998664360320388 \\\\\n",
      "Torino Gran Madre & [(45.0815542733, 7.6324993533), (45.0621744, 7.699521043200001)] & 5.700368258707725 \\\\\n",
      "Torino Outlet Village & [(45.1286831, 7.7387352), (45.1283825815, 7.738920751799999), (45.12713, 7.73675), (45.1282905189, 7.737927824600001), (45.1293588491, 7.7399493185), (45.127674299999995, 7.7368213), (45.12844986020001, 7.7387754400999995), (45.126941598900004, 7.7364778519), (45.1282231627, 7.7373918365), (45.0667, 7.7)] & 1.6137330525419373 \\\\\n",
      "Torino Piazza San Carlo & [(45.0994206605, 7.698440323400001), (45.0681641279, 7.6828902086), (45.020185678100006, 7.6654116407)] & 6.123958570619454 \\\\\n",
      "Torino, Italy & [(45.06969, 7.70493), (45.062236455, 7.6805649137)] & 2.0900558100330624 \\\\\n",
      "Universita Degli Studi Di Torino & [(45.0643894615, 7.6905403755999995), (45.051133648400004, 7.680849161699999)] & 1.6591865657626248 \\\\\n",
      "Via Roma & [(45.029924458, 7.6680575612), (45.0667, 7.7), (45.066096162600005, 7.6816268204)] & 3.4692263726034334 \\\\\n",
      "Villa della Regina & [(45.0667, 7.7), (45.0583, 7.708239999999999)] & 1.1369449945975474 \\\\\n",
      "Wiener Haus & [(45.10054, 7.648460000000001), (45.03164, 7.66683)] & 7.792546605747063 \\\\\n",
      "60 places above this distance threshold in a list of  121\n"
     ]
    }
   ],
   "source": [
    "# How many places have associated coordinates further apart than an arbitrary threshold t?\n",
    "# What are those places and what are their locations?\n",
    "\n",
    "t=.7 #threshold in km\n",
    "ct=0\n",
    "for d in Deg_names_dist:\n",
    "    if any( e>t for e in d[1]):\n",
    "        ct+=1\n",
    "        print d[0], '&', Degenerate_loc[Deg_names_dist.index(d)],'&', np.mean(d[1]),'\\\\\\\\'\n",
    "print ct,'places above this distance threshold in a list of ', len(Deg_names_dist)"
   ]
  },
  {
   "cell_type": "code",
   "execution_count": 128,
   "metadata": {},
   "outputs": [
    {
     "name": "stdout",
     "output_type": "stream",
     "text": [
      "Allianz Stadium Curva Sud & 6.59 & [0.97, 0.03] \\\\\n",
      "America Graffiti & 6.0 & [0.85, 0.15] \\\\\n",
      "Brek & 5.32 & [0.9, 0.1] \\\\\n",
      "Collina Di Torino & 5.33 & [1.0, 0.0] \\\\\n",
      "Corso Unione Sovietica & 7.41 & [0.89, 0.11] \\\\\n",
      "Eataly & 3.84 & [0.87, 0.13] \\\\\n",
      "Fujiyama Ristorante Giapponese & 3.02 & [0.9500000000000001, 0.05] \\\\\n",
      "Gerla 1927 & 1.15 & [0.8300000000000001, 0.17] \\\\\n",
      "Giancarlo & 4.16 & [0.97, 0.03] \\\\\n",
      "Lindt & 5.51 & [0.91, 0.09] \\\\\n",
      "Murazzi & 2.56 & [1.0, 0.0] \\\\\n",
      "Ospedale Molinette & 3.54 & [0.81, 0.19] \\\\\n",
      "Piazza Castello & 3.89 & [1.0, 0.0] \\\\\n",
      "Piazza Solferino & 0.8 & [0.93, 0.06, 0.0, 0.0, 0.0, 0.0] \\\\\n",
      "Taverna Greca & 3.75 & [0.8300000000000001, 0.17] \\\\\n",
      "Torino & 1.98 & [0.96, 0.03, 0.01, 0.0, 0.0] \\\\\n",
      "Torino Outlet Village & 1.61 & [0.93, 0.04, 0.02, 0.01, 0.0, 0.0, 0.0, 0.0, 0.0, 0.0] \\\\\n",
      "Torino Piazza San Carlo & 6.12 & [0.85, 0.09, 0.06] \\\\\n",
      "Torino, Italy & 2.09 & [0.85, 0.15] \\\\\n",
      "Villa della Regina & 1.14 & [0.87, 0.13, 0.0] \\\\\n",
      "56 places above this distance threshold in a list of  121\n"
     ]
    }
   ],
   "source": [
    "# How many places have associated coordinates further apart than an arbitrary threshold t?\n",
    "# What are those places and what are their locations?\n",
    "\n",
    "t=1 #threshold in km\n",
    "ct=0\n",
    "for d in Deg_names_dist:\n",
    "    if any( e>t for e in d[1]):\n",
    "        ct+=1\n",
    "        frequencies=[float(e[1]) for e in Degenerate_freq[Deg_names_dist.index(d)]]\n",
    "        frequencies=[round(100*e/sum(frequencies))*0.01 for e in frequencies]\n",
    "        if float(max(frequencies))/(sum(frequencies))>.8:\n",
    "            print d[0],'&',.01*round(100*np.mean(d[1])),'&',sorted(frequencies)[::-1],'\\\\\\\\'\n",
    "print ct,'places above this distance threshold in a list of ', len(Deg_names_dist)"
   ]
  },
  {
   "cell_type": "code",
   "execution_count": null,
   "metadata": {},
   "outputs": [],
   "source": [
    "# All locations associated with a degenerated place\n",
    "Degloc_all=[]\n",
    "Degloc_copy=np.copy(Degenerate_loc)\n",
    "for p in Degloc_copy:\n",
    "    for d in p:\n",
    "        Degloc_all.append(d)\n",
    "        \n",
    "# Link the locations associated to a place in particular to visualise what it means.\n",
    "m = folium.Map(location=[np.mean([c[0] for c in Degloc_all]),np.mean([c[1] for c in Degloc_all])], zoom_start=12)\n",
    "#for p in Degloc_all:\n",
    " #   folium.Marker(p).add_to(m)\n",
    "for p in Degloc_copy:\n",
    "    p.append(p[0])\n",
    "    folium.PolyLine(locations=p).add_to(m)\n",
    "m\n",
    "#m.save('places_hiN.html')"
   ]
  },
  {
   "cell_type": "code",
   "execution_count": null,
   "metadata": {},
   "outputs": [],
   "source": [
    "N_fdate,dict_places_n=IL.first_apparition(df_new)"
   ]
  },
  {
   "cell_type": "code",
   "execution_count": 236,
   "metadata": {},
   "outputs": [
    {
     "data": {
      "image/png": "[encoded data removed]",
      "text/plain": [
       "<Figure size 432x288 with 1 Axes>"
      ]
     },
     "metadata": {
      "needs_background": "light"
     },
     "output_type": "display_data"
    }
   ],
   "source": [
    "plt.figure()\n",
    "plt.scatter([n[1] for n in N_fdate],[n[0] for n in N_fdate])\n",
    "plt.xlabel('date of first apparition')\n",
    "#plt.ylim(0,10000)\n",
    "plt.ylabel(r'$N_{occurences}$')\n",
    "plt.savefig('N_data_first_apparition.pdf')\n",
    "plt.show()"
   ]
  },
  {
   "cell_type": "code",
   "execution_count": 233,
   "metadata": {
    "collapsed": true
   },
   "outputs": [
    {
     "name": "stdout",
     "output_type": "stream",
     "text": [
      "Extreme outliers: \n",
      "\n",
      "Mole Antonelliana & 36016 \\\\\n",
      "Lingotto Fiere - Torino & 21362 \\\\\n",
      "Parco del Valentino & 33533 \\\\\n",
      "Monte dei Cappuccini, Turin & 23452 \\\\\n",
      "Torino Centro & 58361 \\\\\n",
      "Torino Porta Nuova & 20742 \\\\\n",
      "Piazza San Carlo & 32457 \\\\\n",
      "Pala Alpitour & 42589 \\\\\n",
      "Piazza Castello & 52846 \\\\\n",
      "Allianz Stadium & 45010 \\\\\n",
      "Piazza Vittorio Veneto & 33771 \\\\\n",
      "Venaria Reale & 25080 \\\\\n",
      "Museo Egizio, Torino & 24014 \\\\\n",
      "\n",
      "Outliers from the last years:\n",
      "Piano35 lounge bar & 4464 \\\\\n",
      "MILK Torino & 3515 \\\\\n",
      "GAM Torino & 4120 \\\\\n",
      "EDIT - Torino & 1658 \\\\\n",
      "Palazzo Madama, Turin & 4584 \\\\\n",
      "Museo Nazionale del Cinema di Torino & 6163 \\\\\n",
      "Museo Nazionale dell'Automobile & 1713 \\\\\n",
      "Torino Outlet Village & 2563 \\\\\n",
      "Juventus Stadium & 4065 \\\\\n",
      "Parco della Pellerina & 3943 \\\\\n"
     ]
    }
   ],
   "source": [
    "Outliers=[]\n",
    "# Who are the outliers of the two last years (The places with a number of posts too high)\n",
    "# But not extremely high.\n",
    "dict_coord_name= dict(zip(df_new.coords,df_new.location_id))\n",
    "dict_name_coord= dict(zip(df_new.location_id,df_new.coords))\n",
    "print 'Extreme outliers: \\n'\n",
    "for n in N_fdate:\n",
    "    if n[0]>20000:\n",
    "        print dict_id_name[n[2]], '&', n[0], '\\\\\\\\'\n",
    "        \n",
    "print '\\nOutliers from the last years:'\n",
    "for n in N_fdate:\n",
    "    if n[1].year>=2016:\n",
    "        if n[0]>=2000 and n[0]<10000:\n",
    "            Outliers.append((n[2],n[0]))\n",
    "            print dict_id_name[n[2]],'&', n[0], '\\\\\\\\'\n",
    "    if n[1].year>=2017:\n",
    "        if n[0]>=1500 and n [0]<2000:\n",
    "            Outliers.append((n[2],n[0]))\n",
    "            print dict_id_name[n[2]],'&', n[0], '\\\\\\\\'\n",
    "Outliers=[(e[0], e[1], dict_id_coord[e[0]]) for e in Outliers]"
   ]
  },
  {
   "cell_type": "code",
   "execution_count": 149,
   "metadata": {},
   "outputs": [],
   "source": [
    "Places_to_get=[]\n",
    "# How to access the points which are out of the general tendency (monuments, etc. ?)\n",
    "for k in dict_places_n.keys():\n",
    "    if dict_places_n[k]>10000:\n",
    "        Places_to_get.append([dict_name_coord[k],dict_places_n[k]])\n",
    "\n",
    "#Places_to_get is a list of [(lat,lon), N_post] for the places with a unusually high N_post."
   ]
  },
  {
   "cell_type": "code",
   "execution_count": null,
   "metadata": {},
   "outputs": [],
   "source": [
    "# Where are the places that gather so much posts, on a map?\n",
    "m = folium.Map(location=[np.mean([c[0][0] for c in Places_to_get]),np.mean([c[0][1] for c in Places_to_get])], zoom_start=12)\n",
    "for p in Places_to_get:\n",
    "    folium.Marker(p[0]).add_to(m)\n",
    "m\n",
    "#m.save('places_hiN.html')\n",
    "\n",
    "#And what are their time series?\n",
    "IL.plot_time_series(Places_to_get,dict_coord_name,df_new,'filename',False)"
   ]
  },
  {
   "cell_type": "code",
   "execution_count": null,
   "metadata": {
    "scrolled": false
   },
   "outputs": [],
   "source": [
    "df_new_index,df_new_nodup2=IL.indexed_dataframe(df_new,step_lon,step_lat,number_lats)"
   ]
  },
  {
   "cell_type": "code",
   "execution_count": 155,
   "metadata": {},
   "outputs": [
    {
     "name": "stdout",
     "output_type": "stream",
     "text": [
      "5818 different coords in the dataset\n",
      "518 different bins in the dataset\n"
     ]
    }
   ],
   "source": [
    "print len(set(df_new.coords.tolist())), 'different coords in the dataset'\n",
    "print len(set(df_new.coordsbin.tolist())), 'different bins in the dataset'"
   ]
  },
  {
   "cell_type": "code",
   "execution_count": 156,
   "metadata": {
    "collapsed": true
   },
   "outputs": [
    {
     "name": "stderr",
     "output_type": "stream",
     "text": [
      "/home/eartiges/miniconda3/envs/jupyG/lib/python2.7/site-packages/ipykernel_launcher.py:3: SettingWithCopyWarning: \n",
      "A value is trying to be set on a copy of a slice from a DataFrame.\n",
      "Try using .loc[row_indexer,col_indexer] = value instead\n",
      "\n",
      "See the caveats in the documentation: http://pandas.pydata.org/pandas-docs/stable/indexing.html#indexing-view-versus-copy\n",
      "  This is separate from the ipykernel package so we can avoid doing imports until\n",
      "/home/eartiges/miniconda3/envs/jupyG/lib/python2.7/site-packages/ipykernel_launcher.py:4: SettingWithCopyWarning: \n",
      "A value is trying to be set on a copy of a slice from a DataFrame.\n",
      "Try using .loc[row_indexer,col_indexer] = value instead\n",
      "\n",
      "See the caveats in the documentation: http://pandas.pydata.org/pandas-docs/stable/indexing.html#indexing-view-versus-copy\n",
      "  after removing the cwd from sys.path.\n",
      "/home/eartiges/miniconda3/envs/jupyG/lib/python2.7/site-packages/ipykernel_launcher.py:6: SettingWithCopyWarning: \n",
      "A value is trying to be set on a copy of a slice from a DataFrame.\n",
      "Try using .loc[row_indexer,col_indexer] = value instead\n",
      "\n",
      "See the caveats in the documentation: http://pandas.pydata.org/pandas-docs/stable/indexing.html#indexing-view-versus-copy\n",
      "  \n"
     ]
    }
   ],
   "source": [
    "#Make an index of only the years + months and text of posts\n",
    "df_new_index=df_new[['date','text','coordsbin']]\n",
    "df_new_index['date'] = pd.to_datetime(df_new_index['date'], errors='coerce')\n",
    "df_new_index['year_month'] = list(zip(df_new_index['date'].dt.year, df_new_index['date'].dt.month)) #add a month column\n",
    "yearmin=min([y[0] for y in df_new_index.year_month.tolist()])\n",
    "df_new_index['month_abs']=[(e[0]-yearmin)*12+e[1] for e in df_new_index.year_month]"
   ]
  },
  {
   "cell_type": "code",
   "execution_count": 162,
   "metadata": {},
   "outputs": [
    {
     "name": "stdout",
     "output_type": "stream",
     "text": [
      "(2037329, 5)\n",
      "2037329 posts in df_new_index\n",
      "among which 1874444 are unique\n"
     ]
    }
   ],
   "source": [
    "print df_new_index.shape\n",
    "print len(df_new_index.text.tolist()), 'posts in df_new_index'\n",
    "print 'among which',len(set(df_new_index.text.tolist())), 'are unique'"
   ]
  },
  {
   "cell_type": "markdown",
   "metadata": {},
   "source": [
    "'### Checkpoint 4"
   ]
  },
  {
   "cell_type": "code",
   "execution_count": 164,
   "metadata": {},
   "outputs": [],
   "source": [
    "#And pickle it\n",
    "#df_new_index.to_pickle('df_new_index_chkpt4.pkl')\n",
    "#df_new_index=pd.read_pickle('df_new_index_chkpt4.pkl')\n"
   ]
  },
  {
   "cell_type": "code",
   "execution_count": 165,
   "metadata": {},
   "outputs": [
    {
     "name": "stdout",
     "output_type": "stream",
     "text": [
      "[2010, 2011, 2012, 2013, 2014, 2015, 2016, 2017, 2018]\n",
      "[1, 2, 3, 4, 5, 6, 7, 8, 9, 10, 11, 12]\n"
     ]
    }
   ],
   "source": [
    "list_years=list(set([e[0] for e in df_new_index.year_month.tolist()]))\n",
    "list_months=list(set([e[1] for e in df_new_index.year_month.tolist()]))\n",
    "print sorted(list_years)\n",
    "print sorted(list_months)"
   ]
  },
  {
   "cell_type": "code",
   "execution_count": 166,
   "metadata": {},
   "outputs": [],
   "source": [
    "start=datetime(2010,10,1)\n",
    "stop=datetime(2018,12,12)\n",
    "flags=IL.TimeFlags(start,stop,'months',1)\n",
    "slices=[(f,f+relativedelta(months=1)) for f in flags]"
   ]
  },
  {
   "cell_type": "code",
   "execution_count": 167,
   "metadata": {
    "collapsed": true
   },
   "outputs": [
    {
     "name": "stdout",
     "output_type": "stream",
     "text": [
      "2010-10-01 2010-11-01 20\n"
     ]
    },
    {
     "name": "stderr",
     "output_type": "stream",
     "text": [
      "Instalib.py:542: SettingWithCopyWarning: \n",
      "A value is trying to be set on a copy of a slice from a DataFrame.\n",
      "Try using .loc[row_indexer,col_indexer] = value instead\n",
      "\n",
      "See the caveats in the documentation: http://pandas.pydata.org/pandas-docs/stable/indexing.html#indexing-view-versus-copy\n",
      "  df_sliced['text'] = df_sliced.groupby('coordsbin')['text'].transform(lambda x: ','.join(x))\n"
     ]
    },
    {
     "name": "stdout",
     "output_type": "stream",
     "text": [
      "2010-11-01 2010-12-01 39\n",
      "2010-12-01 2011-01-01 50\n",
      "2011-01-01 2011-02-01 47\n",
      "2011-02-01 2011-03-01 124\n",
      "2011-03-01 2011-04-01 165\n",
      "2011-04-01 2011-05-01 148\n",
      "2011-05-01 2011-06-01 173\n",
      "2011-06-01 2011-07-01 122\n",
      "2011-07-01 2011-08-01 142\n",
      "2011-08-01 2011-09-01 68\n",
      "2011-09-01 2011-10-01 138\n",
      "2011-10-01 2011-11-01 177\n",
      "2011-11-01 2011-12-01 206\n",
      "2011-12-01 2012-01-01 258\n",
      "2012-01-01 2012-02-01 269\n",
      "2012-02-01 2012-03-01 289\n",
      "2012-03-01 2012-04-01 397\n",
      "2012-04-01 2012-05-01 574\n",
      "2012-05-01 2012-06-01 918\n",
      "2012-06-01 2012-07-01 988\n",
      "2012-07-01 2012-08-01 871\n",
      "2012-08-01 2012-09-01 670\n",
      "2012-09-01 2012-10-01 1393\n",
      "2012-10-01 2012-11-01 1771\n",
      "2012-11-01 2012-12-01 1772\n",
      "2012-12-01 2013-01-01 1846\n",
      "2013-01-01 2013-02-01 1279\n",
      "2013-02-01 2013-03-01 1467\n",
      "2013-03-01 2013-04-01 1892\n",
      "2013-04-01 2013-05-01 2219\n",
      "2013-05-01 2013-06-01 2591\n",
      "2013-06-01 2013-07-01 2740\n",
      "2013-07-01 2013-08-01 2287\n",
      "2013-08-01 2013-09-01 1707\n",
      "2013-09-01 2013-10-01 2541\n",
      "2013-10-01 2013-11-01 2700\n",
      "2013-11-01 2013-12-01 3193\n",
      "2013-12-01 2014-01-01 2613\n",
      "2014-01-01 2014-02-01 2526\n",
      "2014-02-01 2014-03-01 2473\n",
      "2014-03-01 2014-04-01 4028\n",
      "2014-04-01 2014-05-01 4719\n",
      "2014-05-01 2014-06-01 7083\n",
      "2014-06-01 2014-07-01 5987\n",
      "2014-07-01 2014-08-01 6022\n",
      "2014-08-01 2014-09-01 3613\n",
      "2014-09-01 2014-10-01 6313\n",
      "2014-10-01 2014-11-01 8410\n",
      "2014-11-01 2014-12-01 10117\n",
      "2014-12-01 2015-01-01 9221\n",
      "2015-01-01 2015-02-01 8150\n",
      "2015-02-01 2015-03-01 8653\n",
      "2015-03-01 2015-04-01 10996\n",
      "2015-04-01 2015-05-01 11733\n",
      "2015-05-01 2015-06-01 14325\n",
      "2015-06-01 2015-07-01 12684\n",
      "2015-07-01 2015-08-01 10924\n",
      "2015-08-01 2015-09-01 8692\n",
      "2015-09-01 2015-10-01 18008\n",
      "2015-10-01 2015-11-01 21971\n",
      "2015-11-01 2015-12-01 29280\n",
      "2015-12-01 2016-01-01 26303\n",
      "2016-01-01 2016-02-01 24034\n",
      "2016-02-01 2016-03-01 25397\n",
      "2016-03-01 2016-04-01 30003\n",
      "2016-04-01 2016-05-01 32092\n",
      "2016-05-01 2016-06-01 41431\n",
      "2016-06-01 2016-07-01 36828\n",
      "2016-07-01 2016-08-01 39552\n",
      "2016-08-01 2016-09-01 21999\n",
      "2016-09-01 2016-10-01 46075\n",
      "2016-10-01 2016-11-01 58775\n",
      "2016-11-01 2016-12-01 67530\n",
      "2016-12-01 2017-01-01 55451\n",
      "2017-01-01 2017-02-01 49047\n",
      "2017-02-01 2017-03-01 49903\n",
      "2017-03-01 2017-04-01 76889\n",
      "2017-04-01 2017-05-01 64827\n",
      "2017-05-01 2017-06-01 70483\n",
      "2017-06-01 2017-07-01 65428\n",
      "2017-07-01 2017-08-01 64884\n",
      "2017-08-01 2017-09-01 40395\n",
      "2017-09-01 2017-10-01 71839\n",
      "2017-10-01 2017-11-01 96055\n",
      "2017-11-01 2017-12-01 105465\n",
      "2017-12-01 2018-01-01 96026\n",
      "2018-01-01 2018-02-01 76782\n",
      "2018-02-01 2018-03-01 76232\n",
      "2018-03-01 2018-04-01 81792\n",
      "2018-04-01 2018-05-01 76890\n",
      "2018-05-01 2018-06-01 535\n",
      "2018-06-01 2018-07-01 0\n",
      "ValueError('No objects to concatenate',)\n",
      "2018-07-01 2018-08-01 0\n",
      "ValueError('No objects to concatenate',)\n",
      "2018-08-01 2018-09-01 0\n",
      "ValueError('No objects to concatenate',)\n",
      "2018-09-01 2018-10-01 0\n",
      "ValueError('No objects to concatenate',)\n",
      "2018-10-01 2018-11-01 0\n",
      "ValueError('No objects to concatenate',)\n",
      "2018-11-01 2018-12-01 0\n",
      "ValueError('No objects to concatenate',)\n",
      "2018-12-01 2019-01-01 0\n",
      "ValueError('No objects to concatenate',)\n"
     ]
    },
    {
     "data": {
      "text/html": [
       "<div>\n",
       "<style scoped>\n",
       "    .dataframe tbody tr th:only-of-type {\n",
       "        vertical-align: middle;\n",
       "    }\n",
       "\n",
       "    .dataframe tbody tr th {\n",
       "        vertical-align: top;\n",
       "    }\n",
       "\n",
       "    .dataframe thead th {\n",
       "        text-align: right;\n",
       "    }\n",
       "</style>\n",
       "<table border=\"1\" class=\"dataframe\">\n",
       "  <thead>\n",
       "    <tr style=\"text-align: right;\">\n",
       "      <th></th>\n",
       "      <th>0</th>\n",
       "      <th>1</th>\n",
       "      <th>2</th>\n",
       "      <th>3</th>\n",
       "      <th>4</th>\n",
       "      <th>5</th>\n",
       "      <th>6</th>\n",
       "      <th>7</th>\n",
       "      <th>8</th>\n",
       "      <th>9</th>\n",
       "      <th>...</th>\n",
       "      <th>83</th>\n",
       "      <th>84</th>\n",
       "      <th>85</th>\n",
       "      <th>86</th>\n",
       "      <th>87</th>\n",
       "      <th>88</th>\n",
       "      <th>89</th>\n",
       "      <th>90</th>\n",
       "      <th>91</th>\n",
       "      <th>result</th>\n",
       "    </tr>\n",
       "    <tr>\n",
       "      <th>coordsbin</th>\n",
       "      <th></th>\n",
       "      <th></th>\n",
       "      <th></th>\n",
       "      <th></th>\n",
       "      <th></th>\n",
       "      <th></th>\n",
       "      <th></th>\n",
       "      <th></th>\n",
       "      <th></th>\n",
       "      <th></th>\n",
       "      <th></th>\n",
       "      <th></th>\n",
       "      <th></th>\n",
       "      <th></th>\n",
       "      <th></th>\n",
       "      <th></th>\n",
       "      <th></th>\n",
       "      <th></th>\n",
       "      <th></th>\n",
       "      <th></th>\n",
       "      <th></th>\n",
       "    </tr>\n",
       "  </thead>\n",
       "  <tbody>\n",
       "    <tr>\n",
       "      <th>(45.0045, 7.60194240037)</th>\n",
       "      <td></td>\n",
       "      <td></td>\n",
       "      <td></td>\n",
       "      <td></td>\n",
       "      <td></td>\n",
       "      <td></td>\n",
       "      <td></td>\n",
       "      <td></td>\n",
       "      <td></td>\n",
       "      <td></td>\n",
       "      <td>...</td>\n",
       "      <td>Quando ho scritto questo brano sognavo di camb...</td>\n",
       "      <td>Punti riflessi sulla mano \\nreflessologia rifl...</td>\n",
       "      <td>PORTA UN AMICOA e Noi ti Regaliamo un Trattame...</td>\n",
       "      <td></td>\n",
       "      <td></td>\n",
       "      <td></td>\n",
       "      <td></td>\n",
       "      <td></td>\n",
       "      <td></td>\n",
       "      <td>AppuntamentoFisso☀️💁🏻 Secondo step 💅🏻\\nEpilazi...</td>\n",
       "    </tr>\n",
       "    <tr>\n",
       "      <th>(45.0045, 7.62105876852)</th>\n",
       "      <td></td>\n",
       "      <td></td>\n",
       "      <td></td>\n",
       "      <td></td>\n",
       "      <td></td>\n",
       "      <td></td>\n",
       "      <td></td>\n",
       "      <td></td>\n",
       "      <td></td>\n",
       "      <td></td>\n",
       "      <td>...</td>\n",
       "      <td>❤💣❤💣,Today 🍬\\n\\nminions candy carrefour minion...</td>\n",
       "      <td>Finish,Laùra barbù FeG menatwork carrefour tor...</td>\n",
       "      <td>Montaggio sedute Catifa  di official per il nu...</td>\n",
       "      <td>Semplicemente leggero 🍣 🇮🇹 ❤️ instagood instag...</td>\n",
       "      <td>Love ❤ guscio gusciostore gusciostoreiviali iv...</td>\n",
       "      <td>nucleokids newcollection pe nucleo baby babybo...</td>\n",
       "      <td>\\nyngychy \\nT shirt €  🏀😎👊🏼👊🏼👊🏼,Viaspettiamo💎...</td>\n",
       "      <td>🌸Correndo 🏃🏽‍♀️💨Pausa spuntino  a lavoro ✔️ 👉🏻...</td>\n",
       "      <td></td>\n",
       "      <td>❤☀💎\\nmamma,secondaparte tegocalderon reaggaeto...</td>\n",
       "    </tr>\n",
       "    <tr>\n",
       "      <th>(45.0045, 7.64654725938)</th>\n",
       "      <td></td>\n",
       "      <td></td>\n",
       "      <td></td>\n",
       "      <td></td>\n",
       "      <td></td>\n",
       "      <td></td>\n",
       "      <td></td>\n",
       "      <td></td>\n",
       "      <td></td>\n",
       "      <td></td>\n",
       "      <td>...</td>\n",
       "      <td></td>\n",
       "      <td></td>\n",
       "      <td>Thank you all º Royal Cup Torino Turin champio...</td>\n",
       "      <td></td>\n",
       "      <td></td>\n",
       "      <td></td>\n",
       "      <td></td>\n",
       "      <td></td>\n",
       "      <td></td>\n",
       "      <td>Ci abbiamo provato almeno✌🏻️ Grandi ragazze se...</td>\n",
       "    </tr>\n",
       "    <tr>\n",
       "      <th>(45.0045, 7.6529193821)</th>\n",
       "      <td></td>\n",
       "      <td></td>\n",
       "      <td></td>\n",
       "      <td></td>\n",
       "      <td></td>\n",
       "      <td></td>\n",
       "      <td></td>\n",
       "      <td></td>\n",
       "      <td></td>\n",
       "      <td></td>\n",
       "      <td>...</td>\n",
       "      <td>SAMMOSSCH   escaperoom SAW la quarta stanza vi...</td>\n",
       "      <td>Halloween👻👹   I LOSERS😜nella nostra area selfi...</td>\n",
       "      <td>GLI SCOPPIATI  SAW la quarta stanza è aperta 🗝...</td>\n",
       "      <td>Enigmaticamente augura a TUTTI VOI un feliciss...</td>\n",
       "      <td>I LEONI 🗝🔓escaperoom Lipnotista minuti⏰ e tant...</td>\n",
       "      <td>ATLETICO GAUDENZIO escaperoom SAW🗝🔒 Avete cred...</td>\n",
       "      <td>LE PATONE  nellIPNOTISTA\\nLa mente è il luogo ...</td>\n",
       "      <td>I VENERDÌ   escaperoom SAW🗝🔒 Avete creduto che...</td>\n",
       "      <td></td>\n",
       "      <td>Buon  Aliiiiii ❤️🍹happybday happybirthday buon...</td>\n",
       "    </tr>\n",
       "    <tr>\n",
       "      <th>(45.0045, 7.65929150481)</th>\n",
       "      <td></td>\n",
       "      <td></td>\n",
       "      <td></td>\n",
       "      <td></td>\n",
       "      <td></td>\n",
       "      <td></td>\n",
       "      <td></td>\n",
       "      <td></td>\n",
       "      <td></td>\n",
       "      <td></td>\n",
       "      <td>...</td>\n",
       "      <td></td>\n",
       "      <td></td>\n",
       "      <td>Cucciolo di Monviso</td>\n",
       "      <td>Per noi fare memoria significa prima di tutto ...</td>\n",
       "      <td>Memoria\\n\\nPrima di partire per auschwitz gli ...</td>\n",
       "      <td>Hai mai sognato di scrivere cantare e registra...</td>\n",
       "      <td></td>\n",
       "      <td></td>\n",
       "      <td></td>\n",
       "      <td>Quando i colleghi ti viziano non è necessario ...</td>\n",
       "    </tr>\n",
       "  </tbody>\n",
       "</table>\n",
       "<p>5 rows × 93 columns</p>\n",
       "</div>"
      ],
      "text/plain": [
       "                         0 1 2 3 4 5 6 7 8 9  \\\n",
       "coordsbin                                      \n",
       "(45.0045, 7.60194240037)                       \n",
       "(45.0045, 7.62105876852)                       \n",
       "(45.0045, 7.64654725938)                       \n",
       "(45.0045, 7.6529193821)                        \n",
       "(45.0045, 7.65929150481)                       \n",
       "\n",
       "                                                ...                          \\\n",
       "coordsbin                                       ...                           \n",
       "(45.0045, 7.60194240037)                        ...                           \n",
       "(45.0045, 7.62105876852)                        ...                           \n",
       "(45.0045, 7.64654725938)                        ...                           \n",
       "(45.0045, 7.6529193821)                         ...                           \n",
       "(45.0045, 7.65929150481)                        ...                           \n",
       "\n",
       "                                                                         83  \\\n",
       "coordsbin                                                                     \n",
       "(45.0045, 7.60194240037)  Quando ho scritto questo brano sognavo di camb...   \n",
       "(45.0045, 7.62105876852)  ❤💣❤💣,Today 🍬\\n\\nminions candy carrefour minion...   \n",
       "(45.0045, 7.64654725938)                                                      \n",
       "(45.0045, 7.6529193821)   SAMMOSSCH   escaperoom SAW la quarta stanza vi...   \n",
       "(45.0045, 7.65929150481)                                                      \n",
       "\n",
       "                                                                         84  \\\n",
       "coordsbin                                                                     \n",
       "(45.0045, 7.60194240037)  Punti riflessi sulla mano \\nreflessologia rifl...   \n",
       "(45.0045, 7.62105876852)  Finish,Laùra barbù FeG menatwork carrefour tor...   \n",
       "(45.0045, 7.64654725938)                                                      \n",
       "(45.0045, 7.6529193821)   Halloween👻👹   I LOSERS😜nella nostra area selfi...   \n",
       "(45.0045, 7.65929150481)                                                      \n",
       "\n",
       "                                                                         85  \\\n",
       "coordsbin                                                                     \n",
       "(45.0045, 7.60194240037)  PORTA UN AMICOA e Noi ti Regaliamo un Trattame...   \n",
       "(45.0045, 7.62105876852)  Montaggio sedute Catifa  di official per il nu...   \n",
       "(45.0045, 7.64654725938)  Thank you all º Royal Cup Torino Turin champio...   \n",
       "(45.0045, 7.6529193821)   GLI SCOPPIATI  SAW la quarta stanza è aperta 🗝...   \n",
       "(45.0045, 7.65929150481)                                Cucciolo di Monviso   \n",
       "\n",
       "                                                                         86  \\\n",
       "coordsbin                                                                     \n",
       "(45.0045, 7.60194240037)                                                      \n",
       "(45.0045, 7.62105876852)  Semplicemente leggero 🍣 🇮🇹 ❤️ instagood instag...   \n",
       "(45.0045, 7.64654725938)                                                      \n",
       "(45.0045, 7.6529193821)   Enigmaticamente augura a TUTTI VOI un feliciss...   \n",
       "(45.0045, 7.65929150481)  Per noi fare memoria significa prima di tutto ...   \n",
       "\n",
       "                                                                         87  \\\n",
       "coordsbin                                                                     \n",
       "(45.0045, 7.60194240037)                                                      \n",
       "(45.0045, 7.62105876852)  Love ❤ guscio gusciostore gusciostoreiviali iv...   \n",
       "(45.0045, 7.64654725938)                                                      \n",
       "(45.0045, 7.6529193821)   I LEONI 🗝🔓escaperoom Lipnotista minuti⏰ e tant...   \n",
       "(45.0045, 7.65929150481)  Memoria\\n\\nPrima di partire per auschwitz gli ...   \n",
       "\n",
       "                                                                         88  \\\n",
       "coordsbin                                                                     \n",
       "(45.0045, 7.60194240037)                                                      \n",
       "(45.0045, 7.62105876852)  nucleokids newcollection pe nucleo baby babybo...   \n",
       "(45.0045, 7.64654725938)                                                      \n",
       "(45.0045, 7.6529193821)   ATLETICO GAUDENZIO escaperoom SAW🗝🔒 Avete cred...   \n",
       "(45.0045, 7.65929150481)  Hai mai sognato di scrivere cantare e registra...   \n",
       "\n",
       "                                                                         89  \\\n",
       "coordsbin                                                                     \n",
       "(45.0045, 7.60194240037)                                                      \n",
       "(45.0045, 7.62105876852)   \\nyngychy \\nT shirt €  🏀😎👊🏼👊🏼👊🏼,Viaspettiamo💎...   \n",
       "(45.0045, 7.64654725938)                                                      \n",
       "(45.0045, 7.6529193821)   LE PATONE  nellIPNOTISTA\\nLa mente è il luogo ...   \n",
       "(45.0045, 7.65929150481)                                                      \n",
       "\n",
       "                                                                         90  \\\n",
       "coordsbin                                                                     \n",
       "(45.0045, 7.60194240037)                                                      \n",
       "(45.0045, 7.62105876852)  🌸Correndo 🏃🏽‍♀️💨Pausa spuntino  a lavoro ✔️ 👉🏻...   \n",
       "(45.0045, 7.64654725938)                                                      \n",
       "(45.0045, 7.6529193821)   I VENERDÌ   escaperoom SAW🗝🔒 Avete creduto che...   \n",
       "(45.0045, 7.65929150481)                                                      \n",
       "\n",
       "                         91                                             result  \n",
       "coordsbin                                                                       \n",
       "(45.0045, 7.60194240037)     AppuntamentoFisso☀️💁🏻 Secondo step 💅🏻\\nEpilazi...  \n",
       "(45.0045, 7.62105876852)     ❤☀💎\\nmamma,secondaparte tegocalderon reaggaeto...  \n",
       "(45.0045, 7.64654725938)     Ci abbiamo provato almeno✌🏻️ Grandi ragazze se...  \n",
       "(45.0045, 7.6529193821)      Buon  Aliiiiii ❤️🍹happybday happybirthday buon...  \n",
       "(45.0045, 7.65929150481)     Quando i colleghi ti viziano non è necessario ...  \n",
       "\n",
       "[5 rows x 93 columns]"
      ]
     },
     "execution_count": 167,
     "metadata": {},
     "output_type": "execute_result"
    }
   ],
   "source": [
    "df_classified=IL.dataframe_classified(slices,df_new_index)\n",
    "df_classified.head()"
   ]
  },
  {
   "cell_type": "markdown",
   "metadata": {},
   "source": [
    "### Checkpoint 5"
   ]
  },
  {
   "cell_type": "code",
   "execution_count": 238,
   "metadata": {},
   "outputs": [],
   "source": [
    "#And pickle it\n",
    "#df_new.to_pickle('df_new_chkpt5.pkl')\n",
    "#df_new_index.to_pickle('df_new_index_chkpt5.pkl')\n",
    "#df_classified.to_pickle('df_classified_chkpt5.pkl')\n",
    "\n",
    "#df_new=pd.read_pickle('df_new_chkpt5.pkl')\n",
    "#df_new_index=pd.read_pickle('df_new_index_chkpt5.pkl')\n",
    "#df_classified=pd.read_pickle('df_classified_chkpt5.pkl')\n"
   ]
  },
  {
   "cell_type": "code",
   "execution_count": 245,
   "metadata": {
    "collapsed": true
   },
   "outputs": [
    {
     "name": "stdout",
     "output_type": "stream",
     "text": [
      "(31.00000000000114, 31.000000000000007)\n"
     ]
    },
    {
     "name": "stderr",
     "output_type": "stream",
     "text": [
      "/home/eartiges/miniconda3/envs/jupyG/lib/python2.7/site-packages/ipykernel_launcher.py:11: SettingWithCopyWarning: \n",
      "A value is trying to be set on a copy of a slice from a DataFrame.\n",
      "Try using .loc[row_indexer,col_indexer] = value instead\n",
      "\n",
      "See the caveats in the documentation: http://pandas.pydata.org/pandas-docs/stable/indexing.html#indexing-view-versus-copy\n",
      "  # This is added back by InteractiveShellApp.init_path()\n",
      "/home/eartiges/miniconda3/envs/jupyG/lib/python2.7/site-packages/ipykernel_launcher.py:12: SettingWithCopyWarning: \n",
      "A value is trying to be set on a copy of a slice from a DataFrame.\n",
      "Try using .loc[row_indexer,col_indexer] = value instead\n",
      "\n",
      "See the caveats in the documentation: http://pandas.pydata.org/pandas-docs/stable/indexing.html#indexing-view-versus-copy\n",
      "  if sys.path[0] == '':\n",
      "/home/eartiges/miniconda3/envs/jupyG/lib/python2.7/site-packages/ipykernel_launcher.py:14: SettingWithCopyWarning: \n",
      "A value is trying to be set on a copy of a slice from a DataFrame.\n",
      "Try using .loc[row_indexer,col_indexer] = value instead\n",
      "\n",
      "See the caveats in the documentation: http://pandas.pydata.org/pandas-docs/stable/indexing.html#indexing-view-versus-copy\n",
      "  \n"
     ]
    }
   ],
   "source": [
    "if 1:\n",
    "    lat1,lat2,step_lat,lon1,lon2,step_lon,to_bin_lon,to_bin_lat = IL.build_grid(df_new,step_m)\n",
    "    number_lats,number_lon,df_new=IL.add_grid_todf(df_new,to_bin_lat,to_bin_lon,step_lat,step_lon)\n",
    "    print (number_lats, number_lon)\n",
    "    #Make an index of only the years + months and text of posts\n",
    "    gc.collect()\n",
    "    list_date=list(set([e.date() for e in df_new.date.tolist()]))\n",
    "    list_years=list(set([e.year for e in list_date]))\n",
    "    list_months=list(set([e.month for e in list_date]))\n",
    "    df_new_index=df_new[['date','text','coordsbin']]\n",
    "    df_new_index['date'] = pd.to_datetime(df_new_index['date'], errors='coerce')\n",
    "    df_new_index['year_month'] = list(zip(df_new_index['date'].dt.year, df_new_index['date'].dt.month)) #add a month column\n",
    "    yearmin=min([y[0] for y in df_new_index.year_month.tolist()])\n",
    "    df_new_index['month_abs']=[(e[0]-yearmin)*12+e[1] for e in df_new_index.year_month]"
   ]
  },
  {
   "cell_type": "code",
   "execution_count": 243,
   "metadata": {},
   "outputs": [],
   "source": [
    "# Let's group the data by month and count how many coordsbin we have. \n",
    "\n",
    "# Group by month:\n",
    "count_Ncells_time=df_new_index[['month_abs','coordsbin']].set_index('coordsbin').groupby('month_abs')\n",
    "# Access the dictionary of groups (groups are the keys, coords are the values):\n",
    "dict_month_Ncells=count_Ncells_time.groups\n",
    "# For each month, let's count how many cells are filled.\n",
    "list_coords_Nposts=[]\n",
    "for month in dict_month_Ncells.keys():\n",
    "    coords=dict_month_Ncells[month]\n",
    "    # We want to keep only one occurence for each cell grid.\n",
    "    list_coords_Nposts.append((month, len(set(coords))))\n"
   ]
  },
  {
   "cell_type": "code",
   "execution_count": 249,
   "metadata": {},
   "outputs": [],
   "source": [
    "dates_Ncells=[IL.abs_to_yearmonth(m[0],list_years) for m in list_coords_Nposts]"
   ]
  },
  {
   "cell_type": "code",
   "execution_count": null,
   "metadata": {},
   "outputs": [],
   "source": [
    "for gridstep in [.5,1,3,5]:\n",
    "    plt.figure()\n",
    "    dates_Ncells_1, list_coords_Nposts_1 = IL.N_cells_info(df_new,gridstep)\n",
    "    plt.plot(dates_Ncells_1,[e[1] for e in list_coords_Nposts_1])\n",
    "    plt.xlabel('Month')\n",
    "    plt.ylabel(r'$N_{cells}$ filled')\n",
    "    plt.savefig('N_gridcells_step='+str(gridstep)+'.pdf')\n",
    "    plt.show()\n",
    "    \n",
    "    steplon=gridstep/(40000*math.cos((lat1+lat2)*math.pi/360)/360)\n",
    "    steplat=gridstep/(40000./360.)\n",
    "\n",
    "for gridstep in [.5,1,3,5]:\n",
    "    lng=lon1\n",
    "    lonbins=[lng]\n",
    "    while lng<lon2+steplon:\n",
    "        lng+=steplon\n",
    "        lonbins.append(lng)\n",
    "\n",
    "    lat=lat1\n",
    "    latbins=[lat]\n",
    "    while lat<lat2+steplat:\n",
    "        lat+=steplat\n",
    "        latbins.append(lat)\n",
    "    continue\n",
    "        # Link the locations associated to a place in particular to visualise what it means.\n",
    "    m = folium.Map(location=[np.mean(latbins),np.mean(lonbins)], zoom_start=12)\n",
    "    for lng in lonbins:\n",
    "        folium.PolyLine(locations=((min(latbins),lng),(max(latbins),lng)),weight=1).add_to(m)\n",
    "    for lat in latbins:\n",
    "        folium.PolyLine(locations=((lat,min(lonbins)),(lat,max(lonbins))),weight=1).add_to(m)\n",
    "    #m.save('grid_'+str(gridstep)+'.html') "
   ]
  },
  {
   "cell_type": "markdown",
   "metadata": {},
   "source": [
    "# Term vector building by NTF"
   ]
  },
  {
   "cell_type": "markdown",
   "metadata": {},
   "source": [
    "Stemming = removing all suffixes in the word to keep only its root.\n",
    "\n",
    "This part executes NMF on time slices of the data, to have an idea of what the output might be. It generates .mat files that can be used by matlab.\n",
    "\n",
    "More about NMF here: https://scikit-learn.org/stable/modules/decomposition.html#nmf"
   ]
  },
  {
   "cell_type": "code",
   "execution_count": 519,
   "metadata": {},
   "outputs": [
    {
     "name": "stderr",
     "output_type": "stream",
     "text": [
      "[nltk_data] Downloading package punkt to /home/eartiges/nltk_data...\n",
      "[nltk_data]   Package punkt is already up-to-date!\n"
     ]
    }
   ],
   "source": [
    "from nltk.corpus import stopwords\n",
    "from nltk.stem.snowball import FrenchStemmer\n",
    "import nltk.data #\n",
    "nltk.download('punkt')\n",
    "from nltk.stem.snowball import FrenchStemmer\n",
    "#Filter out the monuments?\n",
    "monuments=False\n",
    "if monuments:\n",
    "    all_stopwords=IL.all_stopwords.union(IL.words_monuments)\n",
    "else:\n",
    "    all_stopwords=IL.all_stopwords\n",
    "\n",
    "italian_stemmer = nltk.stem.SnowballStemmer('italian')\n",
    "list_reviews_all=df_classified.result.tolist()\n",
    "n_features=1000\n",
    "\n",
    "class StemmedCountVectorizer(CountVectorizer):\n",
    "    # This class is basically a CountVectorizer class that has been enhanced with a stemmer method.\n",
    "    def build_analyzer(self):\n",
    "        #Use super to access the method build_analyzer form the class CountVectorizer.\n",
    "        analyzer = super(StemmedCountVectorizer, self).build_analyzer()\n",
    "        return lambda doc: ([italian_stemmer.stem(w) for w in analyzer(doc)])\n",
    "\n",
    "#Build the vectorizer and the list of all words in the dataset\n",
    "#df_new=pd.read_pickle('Tor_instagram_2.pkl')\n",
    "vectorizer_s = StemmedCountVectorizer(max_df=0.95, max_features=n_features, analyzer=\"word\", stop_words=all_stopwords)     \n",
    "while '' in list_reviews_all:\n",
    "    list_reviews_all.remove('')\n",
    "while \"\" in list_reviews_all:\n",
    "    list_reviews_all.remove(\"\")"
   ]
  },
  {
   "cell_type": "markdown",
   "metadata": {},
   "source": [
    "More info about countvectorizer here: \n",
    "https://scikit-learn.org/stable/modules/generated/sklearn.feature_extraction.text.CountVectorizer.html\n",
    "\n",
    "And about TfIdf: \n",
    "https://scikit-learn.org/stable/modules/generated/sklearn.feature_extraction.text.TfidfTransformer.html\n",
    "\n",
    "And about NMF:\n",
    "https://scikit-learn.org/stable/modules/generated/sklearn.decomposition.NMF.html"
   ]
  },
  {
   "cell_type": "code",
   "execution_count": null,
   "metadata": {},
   "outputs": [],
   "source": [
    "#pickle.dump(df_classified, open('df_granularity.pkl','wb'))"
   ]
  },
  {
   "cell_type": "code",
   "execution_count": 521,
   "metadata": {},
   "outputs": [],
   "source": [
    "#counts = vectorizer_s.fit_transform(list_reviews_all)\n",
    "#pickle.dump(counts, open('counts_master.pkl','wb'))\n",
    "#pickle.dump(vectorizer_s, open('vec_s_master.pkl','wb'))\n",
    "#counts = pickle.load( open( 'counts_master.pkl', \"rb\" ) )\n",
    "vectorizer_s = pickle.load( open( 'vec_s_master.pkl', \"rb\" ) )"
   ]
  },
  {
   "cell_type": "code",
   "execution_count": 522,
   "metadata": {
    "collapsed": true
   },
   "outputs": [
    {
     "name": "stderr",
     "output_type": "stream",
     "text": [
      "[nltk_data] Downloading package punkt to /home/eartiges/nltk_data...\n",
      "[nltk_data]   Package punkt is already up-to-date!\n",
      "/home/eartiges/miniconda3/envs/jupyG/lib/python2.7/site-packages/sklearn/feature_extraction/text.py:300: UserWarning: Your stop_words may be inconsistent with your preprocessing. Tokenizing the stop words generated tokens ['lamiacitt', 'torino\\xc3'] not in stop_words.\n",
      "  'stop_words.' % sorted(inconsistent))\n"
     ]
    },
    {
     "name": "stdout",
     "output_type": "stream",
     "text": [
      "The threshold is 68856\n",
      "2017-06-01 00:00:00\n",
      "68856\n"
     ]
    },
    {
     "ename": "KeyboardInterrupt",
     "evalue": "",
     "output_type": "error",
     "traceback": [
      "\u001b[0;31m---------------------------------------------------------------------------\u001b[0m",
      "\u001b[0;31mKeyboardInterrupt\u001b[0m                         Traceback (most recent call last)",
      "\u001b[0;32m<ipython-input-522-e7fd3bc83548>\u001b[0m in \u001b[0;36m<module>\u001b[0;34m()\u001b[0m\n\u001b[1;32m      9\u001b[0m \u001b[0msampling\u001b[0m\u001b[0;34m=\u001b[0m\u001b[0mTrue\u001b[0m\u001b[0;34m\u001b[0m\u001b[0m\n\u001b[1;32m     10\u001b[0m \u001b[0;32mfor\u001b[0m \u001b[0msample_run\u001b[0m \u001b[0;32min\u001b[0m \u001b[0mxrange\u001b[0m\u001b[0;34m(\u001b[0m\u001b[0;36m1\u001b[0m\u001b[0;34m)\u001b[0m\u001b[0;34m:\u001b[0m\u001b[0;34m\u001b[0m\u001b[0m\n\u001b[0;32m---> 11\u001b[0;31m     \u001b[0mA\u001b[0m\u001b[0;34m,\u001b[0m\u001b[0mB\u001b[0m\u001b[0;34m,\u001b[0m\u001b[0mC\u001b[0m\u001b[0;34m,\u001b[0m\u001b[0mTermVectorsIndex\u001b[0m\u001b[0;34m,\u001b[0m\u001b[0mTermVectors\u001b[0m \u001b[0;34m=\u001b[0m \u001b[0mIL\u001b[0m\u001b[0;34m.\u001b[0m\u001b[0mNTF_sampling\u001b[0m\u001b[0;34m(\u001b[0m\u001b[0msampling\u001b[0m\u001b[0;34m,\u001b[0m\u001b[0mdf_classified\u001b[0m\u001b[0;34m,\u001b[0m\u001b[0mflags\u001b[0m\u001b[0;34m,\u001b[0m\u001b[0mstart\u001b[0m\u001b[0;34m,\u001b[0m\u001b[0mstop\u001b[0m\u001b[0;34m,\u001b[0m\u001b[0mvectorizer_new\u001b[0m\u001b[0;34m=\u001b[0m\u001b[0mvectorizer_new\u001b[0m\u001b[0;34m,\u001b[0m\u001b[0mvectorizer_s\u001b[0m\u001b[0;34m=\u001b[0m\u001b[0mvectorizer_s\u001b[0m\u001b[0;34m,\u001b[0m\u001b[0mn_topics\u001b[0m\u001b[0;34m=\u001b[0m\u001b[0mn_topics\u001b[0m\u001b[0;34m,\u001b[0m\u001b[0mn_features\u001b[0m\u001b[0;34m=\u001b[0m\u001b[0mn_features\u001b[0m\u001b[0;34m)\u001b[0m\u001b[0;34m\u001b[0m\u001b[0m\n\u001b[0m\u001b[1;32m     12\u001b[0m     \u001b[0;32mfor\u001b[0m \u001b[0mtvi\u001b[0m \u001b[0;32min\u001b[0m \u001b[0mTermVectorsIndex\u001b[0m\u001b[0;34m:\u001b[0m\u001b[0;34m\u001b[0m\u001b[0m\n\u001b[1;32m     13\u001b[0m         \u001b[0;32mprint\u001b[0m \u001b[0mTermVectorsIndex\u001b[0m\u001b[0;34m.\u001b[0m\u001b[0mindex\u001b[0m\u001b[0;34m(\u001b[0m\u001b[0mtvi\u001b[0m\u001b[0;34m)\u001b[0m\u001b[0;34m,\u001b[0m \u001b[0;34m[\u001b[0m\u001b[0mt\u001b[0m\u001b[0;34m[\u001b[0m\u001b[0;36m0\u001b[0m\u001b[0;34m]\u001b[0m \u001b[0;32mfor\u001b[0m \u001b[0mt\u001b[0m \u001b[0;32min\u001b[0m \u001b[0mtvi\u001b[0m\u001b[0;34m[\u001b[0m\u001b[0;36m0\u001b[0m\u001b[0;34m:\u001b[0m\u001b[0;36m8\u001b[0m\u001b[0;34m]\u001b[0m\u001b[0;34m]\u001b[0m\u001b[0;34m\u001b[0m\u001b[0m\n",
      "\u001b[0;32m/home/eartiges/Lagrange_Git/Instalib.pyc\u001b[0m in \u001b[0;36mNTF_sampling\u001b[0;34m(sampling, df_classified, flags, start, stop, vectorizer_new, vectorizer_s, n_topics, n_features)\u001b[0m\n\u001b[1;32m    628\u001b[0m         \u001b[0;31m#print 'tfidf done:'\u001b[0m\u001b[0;34m\u001b[0m\u001b[0;34m\u001b[0m\u001b[0m\n\u001b[1;32m    629\u001b[0m         \u001b[0;31m#print tfidf\u001b[0m\u001b[0;34m\u001b[0m\u001b[0;34m\u001b[0m\u001b[0m\n\u001b[0;32m--> 630\u001b[0;31m         \u001b[0mC\u001b[0m\u001b[0;34m,\u001b[0m\u001b[0mD\u001b[0m\u001b[0;34m=\u001b[0m\u001b[0mIL\u001b[0m\u001b[0;34m.\u001b[0m\u001b[0mread_CRS_totensor\u001b[0m\u001b[0;34m(\u001b[0m\u001b[0mtfidf\u001b[0m\u001b[0;34m,\u001b[0m\u001b[0mn_features\u001b[0m\u001b[0;34m,\u001b[0m\u001b[0msnapshots\u001b[0m\u001b[0;34m.\u001b[0m\u001b[0mindex\u001b[0m\u001b[0;34m(\u001b[0m\u001b[0mmonth\u001b[0m\u001b[0;34m)\u001b[0m\u001b[0;34m,\u001b[0m\u001b[0;36m10\u001b[0m\u001b[0;34m)\u001b[0m\u001b[0;34m\u001b[0m\u001b[0m\n\u001b[0m\u001b[1;32m    631\u001b[0m         \u001b[0;31m#print 'C,D'#, C,D\u001b[0m\u001b[0;34m\u001b[0m\u001b[0;34m\u001b[0m\u001b[0m\n\u001b[1;32m    632\u001b[0m         \u001b[0mCoord_CRS_global\u001b[0m\u001b[0;34m.\u001b[0m\u001b[0mappend\u001b[0m\u001b[0;34m(\u001b[0m\u001b[0mC\u001b[0m\u001b[0;34m)\u001b[0m\u001b[0;34m\u001b[0m\u001b[0m\n",
      "\u001b[0;32m/home/eartiges/Lagrange_Git/Instalib.pyc\u001b[0m in \u001b[0;36mread_CRS_totensor\u001b[0;34m(tfidf, n_features, timestamp, startmonth)\u001b[0m\n\u001b[1;32m    225\u001b[0m             \u001b[0ma\u001b[0m\u001b[0;34m=\u001b[0m\u001b[0mListIndices\u001b[0m\u001b[0;34m.\u001b[0m\u001b[0mpop\u001b[0m\u001b[0;34m(\u001b[0m\u001b[0;36m0\u001b[0m\u001b[0;34m)\u001b[0m\u001b[0;34m\u001b[0m\u001b[0m\n\u001b[1;32m    226\u001b[0m             \u001b[0;31m#value of the element\u001b[0m\u001b[0;34m\u001b[0m\u001b[0;34m\u001b[0m\u001b[0m\n\u001b[0;32m--> 227\u001b[0;31m             \u001b[0mb\u001b[0m\u001b[0;34m=\u001b[0m\u001b[0mDat\u001b[0m\u001b[0;34m.\u001b[0m\u001b[0mpop\u001b[0m\u001b[0;34m(\u001b[0m\u001b[0;36m0\u001b[0m\u001b[0;34m)\u001b[0m\u001b[0;34m\u001b[0m\u001b[0m\n\u001b[0m\u001b[1;32m    228\u001b[0m             \u001b[0;31m#store the coordinates: row, column and depth value\u001b[0m\u001b[0;34m\u001b[0m\u001b[0;34m\u001b[0m\u001b[0m\n\u001b[1;32m    229\u001b[0m             \u001b[0mcoord_CRS\u001b[0m\u001b[0;34m.\u001b[0m\u001b[0mappend\u001b[0m\u001b[0;34m(\u001b[0m\u001b[0;34m(\u001b[0m\u001b[0mi\u001b[0m\u001b[0;34m,\u001b[0m\u001b[0ma\u001b[0m\u001b[0;34m,\u001b[0m\u001b[0mtimestamp\u001b[0m\u001b[0;34m-\u001b[0m\u001b[0mstartmonth\u001b[0m\u001b[0;34m)\u001b[0m\u001b[0;34m)\u001b[0m\u001b[0;34m\u001b[0m\u001b[0m\n",
      "\u001b[0;31mKeyboardInterrupt\u001b[0m: "
     ]
    }
   ],
   "source": [
    "reload(IL)\n",
    "vectorizer_new = StemmedCountVectorizer(max_df=0.95, max_features=n_features, analyzer=\"word\", stop_words=all_stopwords,vocabulary=vectorizer_s.vocabulary_) \n",
    "voc_vector={k:v for v,k in vectorizer_s.vocabulary_.iteritems()}\n",
    "voc_serie=pd.Series(voc_vector)\n",
    "#F = open('termvectors_sampling_5topics.txt','a') \n",
    "start=80\n",
    "stop=90\n",
    "n_topics=10\n",
    "sampling=True\n",
    "for sample_run in xrange(1):\n",
    "    A,B,C,TermVectorsIndex,TermVectors = IL.NTF_sampling(sampling,df_classified,flags,start,stop,vectorizer_new=vectorizer_new,vectorizer_s=vectorizer_s,n_topics=n_topics,n_features=n_features)       \n",
    "    for tvi in TermVectorsIndex:\n",
    "        print TermVectorsIndex.index(tvi), [t[0] for t in tvi[0:8]]\n",
    "#        F.write(str([t[0] for t in tvi[0:10]]))\n",
    "#        F.write('\\n')\n",
    "#F.close()"
   ]
  },
  {
   "cell_type": "code",
   "execution_count": 500,
   "metadata": {
    "scrolled": true
   },
   "outputs": [
    {
     "data": {
      "image/png": "[encoded data removed]",
      "text/plain": [
       "<Figure size 720x288 with 1 Axes>"
      ]
     },
     "metadata": {
      "needs_background": "light"
     },
     "output_type": "display_data"
    }
   ],
   "source": [
    "#Topics definition\n",
    "plt.figure(figsize=(10,4))\n",
    "plt.pcolormesh(B.T)#, cmap=plt.cm.Greys)\n",
    "plt.xlim(0,B.shape[0])\n",
    "plt.yticks(np.arange(B.shape[1])+0.5, np.arange(1,B.shape[1]+1))\n",
    "#plt.savefig('Topic_definition_normalized.pdf')\n",
    "plt.show()\n",
    "\n",
    "#for tvi in TermVectorsIndex:\n",
    "    #print TermVectorsIndex.index(tvi), [t for t in tvi[0:3]]\n",
    "#    print TermVectorsIndex.index(tvi), [t[0] for t in tvi[0:5]]"
   ]
  },
  {
   "cell_type": "code",
   "execution_count": null,
   "metadata": {},
   "outputs": [],
   "source": [
    "CommonWords=set([])\n",
    "for t in TermVectors:\n",
    "    for t_other in TermVectors:\n",
    "        if t_other!=t:\n",
    "            for term in t.union(t_other):\n",
    "                CommonWords.add(term)"
   ]
  },
  {
   "cell_type": "code",
   "execution_count": null,
   "metadata": {},
   "outputs": [],
   "source": [
    "for t in TermVectors:\n",
    "    T=list(t)\n",
    "    print len(t)\n",
    "    for word in t:\n",
    "        if word in CommonWords:\n",
    "            T.remove(word)\n",
    "    t=set(T)\n",
    "    print len(T)"
   ]
  },
  {
   "cell_type": "code",
   "execution_count": 502,
   "metadata": {},
   "outputs": [
    {
     "name": "stdout",
     "output_type": "stream",
     "text": [
      "0 ['fashion', 'sempr', 'art', 'photography', 'music']\n",
      "1 ['summer', 'happy', 'torino\\xc3\\xa8lamiacitt', 'estat', 'relax']\n",
      "2 ['photography', 'tatto', 'sempr', 'music', 'art']\n",
      "3 ['fashion', 'photography', 'art', 'natur', 'sempr']\n",
      "4 ['night', 'iphones', 'sky', 'happy', 'day']\n",
      "5 ['torino\\xc3\\xa8lamiacitt', 'music', 'fashion', 'sempr', 'happy']\n",
      "6 ['autumn', 'halloween', 'autunn', 'fashion', 'happy']\n",
      "7 ['natal', 'christmas', 'winter', 'buon', 'xmas']\n",
      "8 ['happy', 'smil', 'fashion', 'torino\\xc3\\xa8lamiacitt', 'amazing']\n",
      "9 ['summer', 'happy', 'smil', 'self', 'amazing']\n"
     ]
    }
   ],
   "source": [
    "for tvi in TermVectorsIndex:\n",
    "    #print TermVectorsIndex.index(tvi), [t for t in tvi[0:3]]\n",
    "    print TermVectorsIndex.index(tvi), [t[0].encode('utf-8') for t in tvi[0:5]]"
   ]
  },
  {
   "cell_type": "code",
   "execution_count": 503,
   "metadata": {},
   "outputs": [
    {
     "data": {
      "image/png": "[encoded data removed]",
      "text/plain": [
       "<Figure size 720x288 with 1 Axes>"
      ]
     },
     "metadata": {
      "needs_background": "light"
     },
     "output_type": "display_data"
    },
    {
     "name": "stdout",
     "output_type": "stream",
     "text": [
      "9 [u'summer', u'happy', u'smil', u'self', u'amazing']\n",
      "8 [u'happy', u'smil', u'fashion', u'torino\\xe8lamiacitt', u'amazing']\n",
      "7 [u'natal', u'christmas', u'winter', u'buon', u'xmas']\n",
      "6 [u'autumn', u'halloween', u'autunn', u'fashion', u'happy']\n",
      "5 [u'torino\\xe8lamiacitt', u'music', u'fashion', u'sempr', u'happy']\n",
      "4 [u'night', u'iphones', u'sky', u'happy', u'day']\n",
      "3 [u'fashion', u'photography', u'art', u'natur', u'sempr']\n",
      "2 [u'photography', u'tatto', u'sempr', u'music', u'art']\n",
      "1 [u'summer', u'happy', u'torino\\xe8lamiacitt', u'estat', u'relax']\n",
      "0 [u'fashion', u'sempr', u'art', u'photography', u'music']\n"
     ]
    }
   ],
   "source": [
    "#Topics by bin\n",
    "plt.figure(figsize=(10,4))\n",
    "plt.pcolormesh(A.T)#, cmap=plt.cm.Greys)\n",
    "plt.xlim(0,A.shape[0])\n",
    "plt.yticks(np.arange(B.shape[1])+0.5, np.arange(0,B.shape[1]+1))\n",
    "#plt.savefig('Topic_bybin_normalized.pdf')\n",
    "plt.show()\n",
    "\n",
    "for tvi in TermVectorsIndex[::-1]:\n",
    "    #print TermVectorsIndex.index(tvi), [t for t in tvi[0:3]]\n",
    "    print TermVectorsIndex.index(tvi), [t[0] for t in tvi[0:5]]"
   ]
  },
  {
   "cell_type": "code",
   "execution_count": 421,
   "metadata": {
    "collapsed": true
   },
   "outputs": [
    {
     "name": "stdout",
     "output_type": "stream",
     "text": [
      "topic 0 [ 0.0 ; 0.24316938931778767 ]\n",
      "topic 1 [ 0.0 ; 0.3912705823290982 ]\n",
      "topic 2 [ 0.0 ; 0.1434327029009428 ]\n",
      "topic 3 [ 0.0 ; 0.30275403149775093 ]\n",
      "topic 4 [ 0.0 ; 0.1283863275871082 ]\n",
      "topic 5 [ 0.0 ; 0.16172198737061755 ]\n",
      "topic 6 [ 0.0 ; 0.1322671196470942 ]\n",
      "topic 7 [ 0.0 ; 0.06393980969112881 ]\n",
      "topic 8 [ 0.0 ; 0.312362598375197 ]\n",
      "topic 9 [ 0.0 ; 0.4056077966167093 ]\n",
      "topic 10 [ 0.0 ; 0.3663982497865567 ]\n",
      "topic 11 [ 0.0 ; 0.32173487511932697 ]\n",
      "topic 12 [ 0.0 ; 0.16466448147615748 ]\n",
      "topic 13 [ 0.0 ; 0.24637199856545042 ]\n",
      "topic 14 [ 0.0 ; 0.34556820124451876 ]\n"
     ]
    }
   ],
   "source": [
    "for index in range(0,len(A.T)):\n",
    "    row=A.T[index]\n",
    "    print 'topic',index, '[',min(row),';', max(row)*100,']'"
   ]
  },
  {
   "cell_type": "code",
   "execution_count": 504,
   "metadata": {},
   "outputs": [
    {
     "name": "stderr",
     "output_type": "stream",
     "text": [
      "[nltk_data] Downloading package punkt to /home/eartiges/nltk_data...\n",
      "[nltk_data]   Package punkt is already up-to-date!\n"
     ]
    },
    {
     "name": "stdout",
     "output_type": "stream",
     "text": [
      "Heatmaps_1701NTF created\n"
     ]
    }
   ],
   "source": [
    "reload(IL)\n",
    "#Geographical repartition of topics\n",
    "for index in range(0,len(A.T)):\n",
    "    Coordinates=list(df_classified.index)\n",
    "    row=A.T[index]\n",
    "    topic=''\n",
    "    for i in (1,2,3):\n",
    "        topic+='_'+TermVectorsIndex[index][i][0]\n",
    "    IL.geo_topic(row,Coordinates,index,topic=topic,save=True,folder='Heatmaps_1701NTF')"
   ]
  },
  {
   "cell_type": "code",
   "execution_count": 352,
   "metadata": {
    "collapsed": true
   },
   "outputs": [
    {
     "name": "stdout",
     "output_type": "stream",
     "text": [
      "14 [u'mol', u'night', u'buongiorn', u'immagin', u'murazz']\n",
      "13 [u'iphones', u'paratissim', u'streetphotography', u'ros', u'light']\n",
      "12 [u'iphon', u'iphones', u'photography', u'cool', u'th']\n",
      "11 [u'iphon', u'photography', u'phot', u'night', u'iphones']\n",
      "10 [u'plac', u'fot', u'phot', u'day', u'drawing']\n",
      "9 [u'color', u'sky', u'night', u'ciel', u'po']\n",
      "8 [u'iphones', u'streetphotography', u'paratissim', u'snow', u'iphon']\n",
      "7 [u'rain', u'buon', u'brav', u'port', u'amic']\n",
      "6 [u'iphones', u'piazz', u'bell', u'sky', u'street']\n",
      "5 [u'iphon', u'night', u'animal', u'churc', u'yellow']\n",
      "4 [u'sush', u'dolc', u'cas', u'ris', u'old']\n",
      "3 [u'san', u'streetphotography', u'luc', u'light', u'sunris']\n",
      "2 [u'sky', u'winter', u'ciel', u'cas', u'sunset']\n",
      "1 [u'sott', u'adess', u'mett', u'far', u'andar']\n",
      "0 [u'snow', u'nev', u'tre', u'winter', u'rom']\n"
     ]
    }
   ],
   "source": [
    "for tvi in TermVectorsIndex[::-1]:\n",
    "    #print TermVectorsIndex.index(tvi), [t for t in tvi[0:3]]\n",
    "    print TermVectorsIndex.index(tvi), [t[0] for t in tvi[0:5]]"
   ]
  },
  {
   "cell_type": "code",
   "execution_count": 505,
   "metadata": {},
   "outputs": [
    {
     "data": {
      "image/png": "[encoded data removed]",
      "text/plain": [
       "<Figure size 720x288 with 1 Axes>"
      ]
     },
     "metadata": {
      "needs_background": "light"
     },
     "output_type": "display_data"
    },
    {
     "name": "stdout",
     "output_type": "stream",
     "text": [
      "9 [u'summer', u'happy', u'smil', u'self', u'amazing']\n",
      "8 [u'happy', u'smil', u'fashion', u'torino\\xe8lamiacitt', u'amazing']\n",
      "7 [u'natal', u'christmas', u'winter', u'buon', u'xmas']\n",
      "6 [u'autumn', u'halloween', u'autunn', u'fashion', u'happy']\n",
      "5 [u'torino\\xe8lamiacitt', u'music', u'fashion', u'sempr', u'happy']\n",
      "4 [u'night', u'iphones', u'sky', u'happy', u'day']\n",
      "3 [u'fashion', u'photography', u'art', u'natur', u'sempr']\n",
      "2 [u'photography', u'tatto', u'sempr', u'music', u'art']\n",
      "1 [u'summer', u'happy', u'torino\\xe8lamiacitt', u'estat', u'relax']\n",
      "0 [u'fashion', u'sempr', u'art', u'photography', u'music']\n"
     ]
    }
   ],
   "source": [
    "#Topics Dynamics\n",
    "plt.figure(figsize=(10,4))\n",
    "plt.pcolormesh([c for c in C.T])#, cmap=plt.cm.Greys)\n",
    "#plt.xlim(0,len(C.T[0])-start)\n",
    "#plt.savefig('Topic_dynamic.pdf')\n",
    "plt.yticks(np.arange(n_topics)+0.5, np.arange(0,n_topics));\n",
    "#plt.xticks(flags[start:stop])\n",
    "plt.show()\n",
    "for tvi in TermVectorsIndex[::-1]:\n",
    "    #print TermVectorsIndex.index(tvi), [t for t in tvi[0:3]]\n",
    "    print TermVectorsIndex.index(tvi), [t[0] for t in tvi[0:5]]"
   ]
  },
  {
   "cell_type": "code",
   "execution_count": 507,
   "metadata": {},
   "outputs": [
    {
     "data": {
      "image/png": "[encoded data removed]",
      "text/plain": [
       "<Figure size 432x288 with 1 Axes>"
      ]
     },
     "metadata": {
      "needs_background": "light"
     },
     "output_type": "display_data"
    },
    {
     "data": {
      "image/png": "[encoded data removed]",
      "text/plain": [
       "<Figure size 432x288 with 1 Axes>"
      ]
     },
     "metadata": {
      "needs_background": "light"
     },
     "output_type": "display_data"
    },
    {
     "data": {
      "image/png": "[encoded data removed]",
      "text/plain": [
       "<Figure size 432x288 with 1 Axes>"
      ]
     },
     "metadata": {
      "needs_background": "light"
     },
     "output_type": "display_data"
    },
    {
     "data": {
      "image/png": "[encoded data removed]",
      "text/plain": [
       "<Figure size 432x288 with 1 Axes>"
      ]
     },
     "metadata": {
      "needs_background": "light"
     },
     "output_type": "display_data"
    },
    {
     "data": {
      "image/png": "[encoded data removed]",
      "text/plain": [
       "<Figure size 432x288 with 1 Axes>"
      ]
     },
     "metadata": {
      "needs_background": "light"
     },
     "output_type": "display_data"
    },
    {
     "data": {
      "image/png": "[encoded data removed]",
      "text/plain": [
       "<Figure size 432x288 with 1 Axes>"
      ]
     },
     "metadata": {
      "needs_background": "light"
     },
     "output_type": "display_data"
    },
    {
     "data": {
      "image/png": "[encoded data removed]",
      "text/plain": [
       "<Figure size 432x288 with 1 Axes>"
      ]
     },
     "metadata": {
      "needs_background": "light"
     },
     "output_type": "display_data"
    },
    {
     "data": {
      "image/png": "[encoded data removed]",
      "text/plain": [
       "<Figure size 432x288 with 1 Axes>"
      ]
     },
     "metadata": {
      "needs_background": "light"
     },
     "output_type": "display_data"
    },
    {
     "data": {
      "image/png": "[encoded data removed]",
      "text/plain": [
       "<Figure size 432x288 with 1 Axes>"
      ]
     },
     "metadata": {
      "needs_background": "light"
     },
     "output_type": "display_data"
    },
    {
     "data": {
      "image/png": "[encoded data removed]",
      "text/plain": [
       "<Figure size 432x288 with 1 Axes>"
      ]
     },
     "metadata": {
      "needs_background": "light"
     },
     "output_type": "display_data"
    }
   ],
   "source": [
    "for index in range(0, len(C.T)):\n",
    "    row=C.T[index]\n",
    "    topic=''\n",
    "    for i in (0,1,2):\n",
    "        topic+=TermVectorsIndex[index][i][0]+'_'\n",
    "    topic=topic.strip('_')\n",
    "    plt.figure()\n",
    "    plt.plot(flags[start:stop], row)\n",
    "    plt.xticks(flags[start:stop][::4])\n",
    "    plt.title('relative intensity of topic '+topic+' in a global monthly timeline')\n",
    "    if True:\n",
    "        if 'sample_timelines' not in os.listdir('.'):\n",
    "            os.mkdir('sample_timelines')\n",
    "        plt.savefig('sample_timelines/plot_topic'+topic+'.pdf')\n",
    "    plt.show()"
   ]
  },
  {
   "cell_type": "code",
   "execution_count": null,
   "metadata": {},
   "outputs": [],
   "source": [
    "dfa = pd.DataFrame(A).groupby(voc_serie).sum()\n",
    "#dfa = dfa[dfa.index!='teachers']"
   ]
  },
  {
   "cell_type": "code",
   "execution_count": null,
   "metadata": {},
   "outputs": [],
   "source": [
    "dfa"
   ]
  },
  {
   "cell_type": "code",
   "execution_count": null,
   "metadata": {},
   "outputs": [],
   "source": [
    "plt.figure(figsize=(10,4))\n",
    "plt.pcolormesh(C.T)#, cmap=plt.cm.Greys)\n",
    "plt.xlim(0,C.shape[0])\n",
    "plt.yticks(np.arange(14)+0.5, np.arange(1,15));"
   ]
  },
  {
   "cell_type": "code",
   "execution_count": null,
   "metadata": {},
   "outputs": [],
   "source": [
    "import scipy.io\n",
    "from sklearn.feature_extraction.text import TfidfTransformer\n",
    "from scipy.io import savemat\n",
    "n_features=1000\n",
    "n_topics=10\n",
    "\n",
    "list_reviews_all=df_new['text'].tolist()\n",
    "counts = vectorizer_s.fit_transform(list_reviews_all)\n",
    "vectorizer_new = CountVectorizer(max_df=0.95, max_features=n_features,stop_words=all_stopwords_add,vocabulary=vectorizer_s.vocabulary_)\n",
    "ct=0\n",
    "\n",
    "# For each month in the dataset, get a snapshot view of the NMF tensor:\n",
    "for month in range(1,(len(list_years)-1)*12+2,3):\n",
    "    \n",
    "    year_start=list_years[0]+ int(month/12)\n",
    "    month_start=month%12  \n",
    "    year_end=list_years[0]+ int(month+11-0.5)/12\n",
    "    month_end=1+(month+11-1)%12\n",
    "    \n",
    "    try:\n",
    "        list_reviews_rest=dataframe_collection[str(year_start) + '-' + str(month_start)]['text'].tolist()\n",
    "    except KeyError:\n",
    "        continue\n",
    "        \n",
    "    # Learn the vocabulary dictionary and return term-document matrix.\n",
    "    counts = vectorizer_new.fit_transform(list_reviews_rest)\n",
    "    \n",
    "    #Transform a count matrix to a normalized tf-idf representation. \n",
    "    #(mainly =Terms with frequencies too hi or lo are removed)\n",
    "    tfidf = TfidfTransformer().fit_transform(counts)\n",
    "    \n",
    "    #Save the data in matlab friendly format\n",
    "    savemat('Inst500Matr' + str(ct), {'tfidf':tfidf})\n",
    "    \n",
    "    \n",
    "    nmf = decomposition.NMF(n_components=n_topics)\n",
    "    \n",
    "    #We are looking for two matrices whose product approximates tfidf.\n",
    "    \n",
    "    # Learn the model (parameters etc.). I.e \"take a look at what we have\". returns nothing.\n",
    "    W = nmf.fit(tfidf)\n",
    "    \n",
    "    # dictionary (factorization matrix)\n",
    "    H = nmf.components_\n",
    "    \n",
    "    # Extracts the data and performs NMF on the tfidf-treated dataset. \n",
    "    # Returns the matrix W (the weight matrix), to be multiplied by the matrix H (dictionary) to get target tfidf.\n",
    "    X2 = nmf.fit_transform(tfidf)\n",
    "    ct=ct+1\n",
    "    feature_names = vectorizer_new.get_feature_names()\n",
    "    print month\n",
    "    for i,text_topic in enumerate(X2.T):\n",
    "        \n",
    "        # i.e -> i, [content of column i of X2]\n",
    "        # i-th topic named text_topic\n",
    "        # Why sort them backwards?\n",
    "        text_top = text_topic.argsort()[:-21:-1]\n",
    "        word_top = nmf.components_[i].argsort()[:-11:-1]\n",
    "        \n",
    "        # For each text topic in the NMF resulting list, print the weight vector and the term vector.\n",
    "        print [nmf.components_[i,k] for k in nmf.components_[i].argsort()[:-11:-1]]\n",
    "        print [\", \".join([feature_names[i] for i in word_top])]\n",
    "        \n",
    "        # print the amount of non-zero components in the weight vector\n",
    "        l=[text_topic[i] for i in text_top]\n",
    "        print np.count_nonzero(l)\n",
    "            "
   ]
  },
  {
   "cell_type": "code",
   "execution_count": null,
   "metadata": {},
   "outputs": [],
   "source": [
    ">>> import numpy as np\n",
    ">>> X = np.array([[1, 1], [2, 1], [3, 1.2], [4, 1], [5, 0.8], [6, 1]])\n",
    ">>> from sklearn.decomposition import NMF\n",
    ">>> model = NMF(n_components=2, init='random', random_state=0)\n",
    ">>> W = model.fit_transform(X)\n",
    ">>> H = model.components_"
   ]
  },
  {
   "cell_type": "code",
   "execution_count": null,
   "metadata": {},
   "outputs": [],
   "source": [
    "X"
   ]
  },
  {
   "cell_type": "code",
   "execution_count": null,
   "metadata": {},
   "outputs": [],
   "source": [
    "for i, t in enumerate(X):\n",
    "    print i,t"
   ]
  },
  {
   "cell_type": "code",
   "execution_count": null,
   "metadata": {},
   "outputs": [],
   "source": [
    "print feature_names"
   ]
  },
  {
   "cell_type": "code",
   "execution_count": null,
   "metadata": {},
   "outputs": [],
   "source": [
    "#save the feature names in a csv file\n",
    "type(feature_names)\n",
    "import io\n",
    "\n",
    "f = io.open('test_inst_Torino.csv', 'w', encoding='utf8')\n",
    "for item in feature_names:\n",
    "    print item\n",
    "    f.write(\"%s\\n\" % item)"
   ]
  },
  {
   "cell_type": "code",
   "execution_count": null,
   "metadata": {},
   "outputs": [],
   "source": [
    "#Boundaries of the map\n",
    "print (df_new['lonbin'].min()-step_lon/2., df_new['latbin'].min()-step_lat/2., df_new['lonbin'].max()+step_lon/2., df_new['latbin'].max()+step_lat/2)"
   ]
  },
  {
   "cell_type": "code",
   "execution_count": null,
   "metadata": {},
   "outputs": [],
   "source": [
    "len(df_new_nodup_cells['n'].unique())\n",
    "list_rc=df_new_nodup2_cells['n'].tolist()\n",
    "with open('n_inst500.txt', 'w') as fp:\n",
    "    fp.write('\\n'.join('%s' % x for x in list_rc))"
   ]
  },
  {
   "cell_type": "code",
   "execution_count": null,
   "metadata": {},
   "outputs": [],
   "source": [
    "list_rc"
   ]
  },
  {
   "cell_type": "code",
   "execution_count": null,
   "metadata": {},
   "outputs": [],
   "source": [
    "df_new_nodup2_cells"
   ]
  },
  {
   "cell_type": "code",
   "execution_count": null,
   "metadata": {},
   "outputs": [],
   "source": [
    "df_new_nodup2_cells.head()"
   ]
  },
  {
   "cell_type": "code",
   "execution_count": null,
   "metadata": {},
   "outputs": [],
   "source": [
    "import time\n",
    "import datetime\n",
    "list_time=[]\n",
    "for month in range(1,(len(list_years)-1)*12+2,3):\n",
    "        year_start=list_years[0]+ int(month/12)\n",
    "        month_start=month%12  \n",
    "        year_end=list_years[0]+ int(month+11-0.5)/12\n",
    "        month_end=1+(month+5-1)%12\n",
    "             \n",
    "     \n",
    "        if month_end in([2,4,6,9,11]):\n",
    "            day=30\n",
    "        else:\n",
    "            day=31\n",
    "        deb=str(year_start) + '-' + str(month_end) + '-1'\n",
    "        deb_new=time.mktime(datetime.datetime.strptime(deb, \"%Y-%m-%d\").timetuple())\n",
    "        if month==1:\n",
    "            list_time= np.append(deb_new,list_time)\n",
    "        else:\n",
    "            list_time=np.append(list_time,deb_new)\n"
   ]
  },
  {
   "cell_type": "code",
   "execution_count": null,
   "metadata": {},
   "outputs": [],
   "source": [
    "print list_time"
   ]
  },
  {
   "cell_type": "code",
   "execution_count": null,
   "metadata": {},
   "outputs": [],
   "source": [
    "\n",
    "with open('times_inst500.txt', 'w') as fp:\n",
    "    fp.write('\\n'.join('%s' % x for x in list_time))"
   ]
  }
 ],
 "metadata": {
  "anaconda-cloud": {},
  "kernelspec": {
   "display_name": "Python [conda env:jupyG]",
   "language": "python",
   "name": "conda-env-jupyG-py"
  },
  "language_info": {
   "codemirror_mode": {
    "name": "ipython",
    "version": 2
   },
   "file_extension": ".py",
   "mimetype": "text/x-python",
   "name": "python",
   "nbconvert_exporter": "python",
   "pygments_lexer": "ipython2",
   "version": "2.7.15"
  }
 },
 "nbformat": 4,
 "nbformat_minor": 1
}
