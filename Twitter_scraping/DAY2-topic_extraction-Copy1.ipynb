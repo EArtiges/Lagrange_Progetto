{
 "cells": [
  {
   "cell_type": "markdown",
   "metadata": {},
   "source": [
    "# Data Science & Advanced Analytics <br> Text Analysis & Topic Modelling\n",
    "\n",
    "### André Panisson <br> Laetitia Gauvin \n",
    "#### ISI Foundation\n",
    "---"
   ]
  },
  {
   "cell_type": "code",
   "execution_count": 1,
   "metadata": {},
   "outputs": [
    {
     "name": "stdout",
     "output_type": "stream",
     "text": [
      "Populating the interactive namespace from numpy and matplotlib\n"
     ]
    }
   ],
   "source": [
    "%pylab inline\n",
    "\n",
    "from datetime import datetime\n",
    "from dateutil import parser\n",
    "import json\n",
    "import time\n",
    "import gzip\n",
    "import pandas as pd"
   ]
  },
  {
   "cell_type": "markdown",
   "metadata": {},
   "source": [
    "# 1. Data Collection"
   ]
  },
  {
   "cell_type": "markdown",
   "metadata": {},
   "source": [
    "Let's start by collecting some tweets.\n",
    "\n",
    "We will connect to the Twitter Search API using **twithon**. You can find more about twithon in the [Github repository](https://github.com/ryanmcgrath/twython).\n",
    "Another implementation of the Twitter APIs for Python programmers is [tweepy](https://github.com/tweepy/tweepy)."
   ]
  },
  {
   "cell_type": "code",
   "execution_count": 2,
   "metadata": {},
   "outputs": [],
   "source": [
    "import twython"
   ]
  },
  {
   "cell_type": "markdown",
   "metadata": {},
   "source": [
    "In order to connect to the Twitter APIs, you need an API key and an API secret. You can get them in the [Twitter Dev site](https://dev.twitter.com/)."
   ]
  },
  {
   "cell_type": "code",
   "execution_count": 3,
   "metadata": {},
   "outputs": [],
   "source": [
    "APP_KEY = 'ZIvxV0lZJnQI2FOuEqi0zzQqU'\n",
    "APP_SECRET = '28z7HZuCNX71NMc5TO8ga3woravEt5wFsvm7Z2Q7LERBpoSCno'\n",
    "\n",
    "twitter = twython.Twython(APP_KEY, APP_SECRET, oauth_version=2)\n",
    "ACCESS_TOKEN = twitter.obtain_access_token()\n",
    "\n",
    "twitter = twython.Twython(APP_KEY, access_token=ACCESS_TOKEN)"
   ]
  },
  {
   "cell_type": "markdown",
   "metadata": {},
   "source": [
    "The search API takes one very important parameter: the query (**q**). In the next example, we search for some tweets using the keyword **sotu**. The result is an object in **json** format, parsed as a dictionary. You can access the list of statuses in the `'statuses'` key. For each status, you can access the fields as a key/value dictionary, or you can print the entire status using `json.dumps`."
   ]
  },
  {
   "cell_type": "code",
   "execution_count": 7,
   "metadata": {},
   "outputs": [],
   "source": [
    "from twython import TwythonRateLimitError"
   ]
  },
  {
   "cell_type": "code",
   "execution_count": 10,
   "metadata": {
    "collapsed": true
   },
   "outputs": [
    {
     "name": "stdout",
     "output_type": "stream",
     "text": [
      "1\n",
      "2\n",
      "3\n",
      "4\n",
      "6\n",
      "7\n",
      "8\n",
      "9\n",
      "10\n"
     ]
    }
   ],
   "source": [
    "i=0\n",
    "while(True):\n",
    "    i+=1\n",
    "    if i==5:\n",
    "        continue\n",
    "    print(i)\n",
    "    if i==10:\n",
    "        break"
   ]
  },
  {
   "cell_type": "code",
   "execution_count": 8,
   "metadata": {
    "collapsed": true
   },
   "outputs": [
    {
     "name": "stdout",
     "output_type": "stream",
     "text": [
      "ok\n"
     ]
    },
    {
     "ename": "NameError",
     "evalue": "name 'result' is not defined",
     "output_type": "error",
     "traceback": [
      "\u001b[0;31m---------------------------------------------------------------------------\u001b[0m",
      "\u001b[0;31mNameError\u001b[0m                                 Traceback (most recent call last)",
      "\u001b[0;32m<ipython-input-8-4f3e3696200d>\u001b[0m in \u001b[0;36m<module>\u001b[0;34m\u001b[0m\n\u001b[1;32m      3\u001b[0m \u001b[0;32mexcept\u001b[0m \u001b[0mTwythonRateLimitError\u001b[0m\u001b[0;34m:\u001b[0m\u001b[0;34m\u001b[0m\u001b[0;34m\u001b[0m\u001b[0m\n\u001b[1;32m      4\u001b[0m     \u001b[0mprint\u001b[0m\u001b[0;34m(\u001b[0m\u001b[0;34m'ok'\u001b[0m\u001b[0;34m)\u001b[0m\u001b[0;34m\u001b[0m\u001b[0;34m\u001b[0m\u001b[0m\n\u001b[0;32m----> 5\u001b[0;31m \u001b[0mstatus\u001b[0m \u001b[0;34m=\u001b[0m \u001b[0mresult\u001b[0m\u001b[0;34m[\u001b[0m\u001b[0;34m'statuses'\u001b[0m\u001b[0;34m]\u001b[0m\u001b[0;34m[\u001b[0m\u001b[0;36m0\u001b[0m\u001b[0;34m]\u001b[0m\u001b[0;34m\u001b[0m\u001b[0;34m\u001b[0m\u001b[0m\n\u001b[0m\u001b[1;32m      6\u001b[0m \u001b[0mprint\u001b[0m \u001b[0;34m(\u001b[0m\u001b[0mstatus\u001b[0m\u001b[0;34m[\u001b[0m\u001b[0;34m\"id\"\u001b[0m\u001b[0;34m]\u001b[0m\u001b[0;34m)\u001b[0m\u001b[0;34m\u001b[0m\u001b[0;34m\u001b[0m\u001b[0m\n\u001b[1;32m      7\u001b[0m \u001b[0mprint\u001b[0m \u001b[0;34m(\u001b[0m\u001b[0mjson\u001b[0m\u001b[0;34m.\u001b[0m\u001b[0mdumps\u001b[0m\u001b[0;34m(\u001b[0m\u001b[0mstatus\u001b[0m\u001b[0;34m,\u001b[0m \u001b[0mindent\u001b[0m\u001b[0;34m=\u001b[0m\u001b[0;36m2\u001b[0m\u001b[0;34m)\u001b[0m\u001b[0;34m)\u001b[0m\u001b[0;34m\u001b[0m\u001b[0;34m\u001b[0m\u001b[0m\n",
      "\u001b[0;31mNameError\u001b[0m: name 'result' is not defined"
     ]
    }
   ],
   "source": [
    "try:\n",
    "    result = twitter.search(q='#torino', count=10)\n",
    "except TwythonRateLimitError:\n",
    "    print('ok')\n",
    "status = result['statuses'][0]\n",
    "print (status[\"id\"])\n",
    "print (json.dumps(status, indent=2))"
   ]
  },
  {
   "cell_type": "markdown",
   "metadata": {},
   "source": [
    "The next example is a crawler that searches for all tweets with the keyword **sotu**, in reverse time order. We start from the last status (using the last status id as the value for the parameter **max_id**) and keep searching and updating the max_id until we arrive to **date_start**.\n",
    "\n",
    "If we exceed the rate limit, we sleep the amount of time necessary to reset the rate limit, and start searching again. You can find more about the rate limit status in the [REST API documentation](https://dev.twitter.com/docs/api/1.1/get/application/rate_limit_status).\n",
    "\n",
    "During the crawling process, we add all statuses to a list."
   ]
  },
  {
   "cell_type": "code",
   "execution_count": 6,
   "metadata": {},
   "outputs": [],
   "source": [
    "date_start = parser.parse('2019-02-01 00:00:00+00:00')"
   ]
  },
  {
   "cell_type": "code",
   "execution_count": 7,
   "metadata": {
    "collapsed": true
   },
   "outputs": [
    {
     "name": "stdout",
     "output_type": "stream",
     "text": [
      "1095353131846770688\n",
      "{\n",
      "  \"created_at\": \"Tue Feb 12 16:05:11 +0000 2019\",\n",
      "  \"id\": 1095353131846770688,\n",
      "  \"id_str\": \"1095353131846770688\",\n",
      "  \"text\": \"Trovati nei deserti della Namibia tracce di antichi ghiacciai.  Non c\\u2019\\u00e8 mai nessuno e nessuno le aveva viste.\\u2026 https://t.co/wdaqfmzM6H\",\n",
      "  \"truncated\": true,\n",
      "  \"entities\": {\n",
      "    \"hashtags\": [],\n",
      "    \"symbols\": [],\n",
      "    \"user_mentions\": [],\n",
      "    \"urls\": [\n",
      "      {\n",
      "        \"url\": \"https://t.co/wdaqfmzM6H\",\n",
      "        \"expanded_url\": \"https://twitter.com/i/web/status/1095353131846770688\",\n",
      "        \"display_url\": \"twitter.com/i/web/status/1\\u2026\",\n",
      "        \"indices\": [\n",
      "          111,\n",
      "          134\n",
      "        ]\n",
      "      }\n",
      "    ]\n",
      "  },\n",
      "  \"metadata\": {\n",
      "    \"iso_language_code\": \"it\",\n",
      "    \"result_type\": \"recent\"\n",
      "  },\n",
      "  \"source\": \"<a href=\\\"http://twitter.com\\\" rel=\\\"nofollow\\\">Twitter Web Client</a>\",\n",
      "  \"in_reply_to_status_id\": null,\n",
      "  \"in_reply_to_status_id_str\": null,\n",
      "  \"in_reply_to_user_id\": null,\n",
      "  \"in_reply_to_user_id_str\": null,\n",
      "  \"in_reply_to_screen_name\": null,\n",
      "  \"user\": {\n",
      "    \"id\": 250644922,\n",
      "    \"id_str\": \"250644922\",\n",
      "    \"name\": \"Livio Cepollina\",\n",
      "    \"screen_name\": \"ilpensologo\",\n",
      "    \"location\": \"Torino\",\n",
      "    \"description\": \"giornalista scrittore ferramentologo e gadgetologo per clientele elitarie. Amo le persone educate, odio i cafoni e tutti i cirimimmi.\",\n",
      "    \"url\": \"http://t.co/g6vV0Ow7Hg\",\n",
      "    \"entities\": {\n",
      "      \"url\": {\n",
      "        \"urls\": [\n",
      "          {\n",
      "            \"url\": \"http://t.co/g6vV0Ow7Hg\",\n",
      "            \"expanded_url\": \"http://www.ilpensologo.it\",\n",
      "            \"display_url\": \"ilpensologo.it\",\n",
      "            \"indices\": [\n",
      "              0,\n",
      "              22\n",
      "            ]\n",
      "          }\n",
      "        ]\n",
      "      },\n",
      "      \"description\": {\n",
      "        \"urls\": []\n",
      "      }\n",
      "    },\n",
      "    \"protected\": false,\n",
      "    \"followers_count\": 299,\n",
      "    \"friends_count\": 777,\n",
      "    \"listed_count\": 13,\n",
      "    \"created_at\": \"Fri Feb 11 14:21:50 +0000 2011\",\n",
      "    \"favourites_count\": 123,\n",
      "    \"utc_offset\": null,\n",
      "    \"time_zone\": null,\n",
      "    \"geo_enabled\": false,\n",
      "    \"verified\": false,\n",
      "    \"statuses_count\": 19486,\n",
      "    \"lang\": \"it\",\n",
      "    \"contributors_enabled\": false,\n",
      "    \"is_translator\": false,\n",
      "    \"is_translation_enabled\": false,\n",
      "    \"profile_background_color\": \"C0DEED\",\n",
      "    \"profile_background_image_url\": \"http://abs.twimg.com/images/themes/theme1/bg.png\",\n",
      "    \"profile_background_image_url_https\": \"https://abs.twimg.com/images/themes/theme1/bg.png\",\n",
      "    \"profile_background_tile\": false,\n",
      "    \"profile_image_url\": \"http://pbs.twimg.com/profile_images/790264957581586432/V8Y8P-6G_normal.jpg\",\n",
      "    \"profile_image_url_https\": \"https://pbs.twimg.com/profile_images/790264957581586432/V8Y8P-6G_normal.jpg\",\n",
      "    \"profile_banner_url\": \"https://pbs.twimg.com/profile_banners/250644922/1492532207\",\n",
      "    \"profile_link_color\": \"1DA1F2\",\n",
      "    \"profile_sidebar_border_color\": \"C0DEED\",\n",
      "    \"profile_sidebar_fill_color\": \"DDEEF6\",\n",
      "    \"profile_text_color\": \"333333\",\n",
      "    \"profile_use_background_image\": true,\n",
      "    \"has_extended_profile\": false,\n",
      "    \"default_profile\": true,\n",
      "    \"default_profile_image\": false,\n",
      "    \"following\": null,\n",
      "    \"follow_request_sent\": null,\n",
      "    \"notifications\": null,\n",
      "    \"translator_type\": \"none\"\n",
      "  },\n",
      "  \"geo\": null,\n",
      "  \"coordinates\": null,\n",
      "  \"place\": null,\n",
      "  \"contributors\": null,\n",
      "  \"is_quote_status\": false,\n",
      "  \"retweet_count\": 0,\n",
      "  \"favorite_count\": 1,\n",
      "  \"favorited\": false,\n",
      "  \"retweeted\": false,\n",
      "  \"lang\": \"it\"\n",
      "}\n"
     ]
    }
   ],
   "source": [
    "result = twitter.search(q='#torino', count=10)\n",
    "status = result['statuses'][0]\n",
    "print (status[\"id\"])\n",
    "print (json.dumps(status, indent=2))\n",
    "# we search for tweets in reverse order, starting from max_id, until created_at is less than date_start\n",
    "date_start = parser.parse('2019-02-01 00:00:00+00:00')\n",
    "max_id = status[\"id\"]\n",
    "query = '#torino'\n",
    "statuses = []"
   ]
  },
  {
   "cell_type": "code",
   "execution_count": null,
   "metadata": {},
   "outputs": [
    {
     "name": "stdout",
     "output_type": "stream",
     "text": [
      "Searching with parameters:  {'q': '#sansalvario', 'count': 100, 'max_id': None, 'bounding_box': '7.672325,45.050224,7.684212,45.054893'}\n"
     ]
    }
   ],
   "source": [
    "searching = True\n",
    "last_id=None\n",
    "while (searching):\n",
    "    # check for rate limit\n",
    "    #rate_limit_status = twitter.get_application_rate_limit_status()['resources']['search']['/search/tweets']\n",
    "    #remaining = rate_limit_status['remaining']\n",
    "    time.sleep(.2)\n",
    "    #if remaining == 0:\n",
    "    #    tts = rate_limit_status['reset'] - time.time() + 10\n",
    "    #    time.sleep(tts)\n",
    "    # bounding_box='7.672325,45.050224,7.684212,45.054893'\n",
    "    search_parameters = dict(q=\"#sansalvario\" , count = 100, max_id = last_id,bounding_box='7.672325,45.050224,7.684212,45.054893')\n",
    "    print (\"Searching with parameters: \", search_parameters)\n",
    "    # search for tweets\n",
    "    result = twitter.search(**search_parameters)\n",
    "    print(len(result['statuses']), 'tweets collected.')\n",
    "    # add the statuses to a list\n",
    "    for status in result['statuses']:\n",
    "        created_at = parser.parse(status['created_at'])\n",
    "        if created_at < date_start:\n",
    "            # if created_at is less than date_start, stop searching\n",
    "            searching = False\n",
    "            break\n",
    "        statuses.append(status)\n",
    "        last_result = status\n",
    "    print ('Last date returned: ', created_at)\n",
    "    \n",
    "    # update max_id\n",
    "    last_id = int(last_result['id_str']) - 1"
   ]
  },
  {
   "cell_type": "markdown",
   "metadata": {},
   "source": [
    "To finish the data collection step, we save the data to a compressed file."
   ]
  },
  {
   "cell_type": "code",
   "execution_count": 10,
   "metadata": {},
   "outputs": [],
   "source": [
    "with gzip.open('torino_2019.json.gz', 'wt') as gf:\n",
    "    for status in statuses:\n",
    "        gf.write(json.dumps(status) + \"\\n\")"
   ]
  },
  {
   "cell_type": "markdown",
   "metadata": {},
   "source": [
    "### Load the collected data"
   ]
  },
  {
   "cell_type": "code",
   "execution_count": 13,
   "metadata": {},
   "outputs": [],
   "source": [
    "statuses = []\n",
    "ct=0\n",
    "with gzip.open('torino_2019.json.gz', 'rt') as gf:\n",
    "    for line in gf:\n",
    "        ct+=1\n",
    "        statuses.append(json.loads(line))\n",
    "        if ct==10:\n",
    "            break"
   ]
  },
  {
   "cell_type": "markdown",
   "metadata": {},
   "source": [
    "Next, we extract some information that could be of our interest. For each status, we create a tuple of `(status_id, text, rt, created_at, lang, user_id)`, and we create a Data Frame with the list of tuples that we created."
   ]
  },
  {
   "cell_type": "code",
   "execution_count": 20,
   "metadata": {},
   "outputs": [],
   "source": [
    "ID = set([s['user']['id'] for s in statuses])"
   ]
  },
  {
   "cell_type": "code",
   "execution_count": 16,
   "metadata": {},
   "outputs": [],
   "source": [
    "date_start = parser.parse('2000-02-01 00:00:00+00:00')"
   ]
  },
  {
   "cell_type": "code",
   "execution_count": 18,
   "metadata": {
    "collapsed": true
   },
   "outputs": [
    {
     "name": "stdout",
     "output_type": "stream",
     "text": [
      "starting to scrape user 2752406530 timeline\n",
      "23 tweets collected.\n",
      "Last date returned:  2014-08-27 09:16:32+00:00\n",
      "0 tweets collected.\n",
      "starting to scrape user 288311375 timeline\n",
      "200 tweets collected.\n",
      "Last date returned:  2019-02-05 20:39:27+00:00\n",
      "199 tweets collected.\n",
      "Last date returned:  2018-12-31 12:32:24+00:00\n",
      "200 tweets collected.\n",
      "Last date returned:  2018-10-27 00:37:25+00:00\n",
      "200 tweets collected.\n",
      "Last date returned:  2018-09-02 06:43:34+00:00\n",
      "199 tweets collected.\n",
      "Last date returned:  2018-07-21 06:53:14+00:00\n",
      "197 tweets collected.\n",
      "Last date returned:  2018-05-06 11:25:47+00:00\n",
      "197 tweets collected.\n",
      "Last date returned:  2018-02-10 20:44:05+00:00\n",
      "200 tweets collected.\n",
      "Last date returned:  2018-01-16 21:50:33+00:00\n",
      "197 tweets collected.\n",
      "Last date returned:  2017-10-08 10:52:24+00:00\n",
      "198 tweets collected.\n",
      "Last date returned:  2017-09-03 21:28:56+00:00\n",
      "198 tweets collected.\n",
      "Last date returned:  2017-08-11 10:41:10+00:00\n",
      "196 tweets collected.\n",
      "Last date returned:  2017-06-25 18:41:37+00:00\n",
      "200 tweets collected.\n",
      "Last date returned:  2017-06-07 22:16:19+00:00\n",
      "200 tweets collected.\n",
      "Last date returned:  2017-05-01 11:19:19+00:00\n",
      "200 tweets collected.\n",
      "Last date returned:  2017-03-29 21:03:45+00:00\n",
      "199 tweets collected.\n",
      "Last date returned:  2017-03-05 14:55:34+00:00\n",
      "40 tweets collected.\n",
      "Last date returned:  2017-02-19 17:46:40+00:00\n",
      "0 tweets collected.\n",
      "starting to scrape user 26516085 timeline\n",
      "200 tweets collected.\n",
      "Last date returned:  2017-04-04 18:26:57+00:00\n",
      "200 tweets collected.\n",
      "Last date returned:  2016-10-27 16:53:26+00:00\n",
      "200 tweets collected.\n",
      "Last date returned:  2016-08-02 09:52:12+00:00\n",
      "200 tweets collected.\n",
      "Last date returned:  2016-05-20 09:17:11+00:00\n",
      "200 tweets collected.\n",
      "Last date returned:  2016-02-09 13:50:23+00:00\n",
      "200 tweets collected.\n",
      "Last date returned:  2015-10-21 12:03:51+00:00\n",
      "200 tweets collected.\n",
      "Last date returned:  2015-05-19 14:14:32+00:00\n",
      "198 tweets collected.\n",
      "Last date returned:  2015-03-10 13:20:49+00:00\n",
      "200 tweets collected.\n",
      "Last date returned:  2014-12-31 19:43:51+00:00\n",
      "200 tweets collected.\n",
      "Last date returned:  2014-10-23 13:00:52+00:00\n",
      "200 tweets collected.\n",
      "Last date returned:  2014-08-31 07:56:57+00:00\n",
      "198 tweets collected.\n",
      "Last date returned:  2014-07-03 20:31:29+00:00\n",
      "200 tweets collected.\n",
      "Last date returned:  2014-06-08 12:29:06+00:00\n",
      "200 tweets collected.\n",
      "Last date returned:  2014-05-08 20:55:18+00:00\n",
      "200 tweets collected.\n",
      "Last date returned:  2014-04-11 20:57:20+00:00\n",
      "199 tweets collected.\n",
      "Last date returned:  2014-03-22 17:40:29+00:00\n",
      "29 tweets collected.\n",
      "Last date returned:  2014-03-19 15:13:02+00:00\n",
      "0 tweets collected.\n"
     ]
    }
   ],
   "source": [
    "DF_users={}\n",
    "for user_ID in ID:\n",
    "    searching = True\n",
    "    last_id=None\n",
    "    statuses=[]\n",
    "    print('starting to scrape user {} timeline'.format(user_ID))\n",
    "    while (searching):\n",
    "        time.sleep(.2)\n",
    "        result = twitter.get_user_timeline(id = user_ID, count = 200, include_rts = True, max_id=last_id)\n",
    "\n",
    "        print(len(result), 'tweets collected.')\n",
    "        if len(result) == 0:\n",
    "            break\n",
    "        # add the statuses to a list\n",
    "        for status in result:\n",
    "            created_at = parser.parse(status['created_at'])\n",
    "            if created_at < date_start:\n",
    "                # if created_at is less than date_start, stop searching\n",
    "                searching = False\n",
    "                break\n",
    "            statuses.append(status)\n",
    "            last_result = status\n",
    "        print ('Last date returned: ', created_at)\n",
    "\n",
    "        # update max_id\n",
    "        last_id = int(last_result['id_str']) - 1\n",
    "        \n",
    "    tweets = []\n",
    "    \n",
    "    for status in statuses:      \n",
    "        rt = 'retweeted_status' in status\n",
    "        text = status['retweeted_status']['text'] if rt else status['text']\n",
    "        try:\n",
    "            loc=status['retweeted_status']['location']+'*rt' if not status['location'] else status['location'][0]+'*tweet'\n",
    "        except KeyError:\n",
    "            loc=status['user']['location']\n",
    "        tweets.append((np.uint64(status['id_str']),\n",
    "                       text,\n",
    "                       rt,\n",
    "                       status['created_at'],\n",
    "                       status['lang'],loc,\n",
    "                       np.uint64(status['user']['id_str'])))\n",
    "    df = pd.DataFrame(tweets,\n",
    "                  columns=['status_id', 'text', 'rt', 'created_at', 'lang', 'location','user_id',])\n",
    "    df = df.set_index('status_id')\n",
    "    df.created_at = pd.to_datetime(df.created_at)\n",
    "    DF_users[user_ID]=df"
   ]
  },
  {
   "cell_type": "code",
   "execution_count": 25,
   "metadata": {},
   "outputs": [],
   "source": [
    "tweets = []\n",
    "\n",
    "for status in statuses:      \n",
    "    rt = 'retweeted_status' in status\n",
    "    text = status['retweeted_status']['text'] if rt else status['text']\n",
    "    try:\n",
    "        loc=status['retweeted_status']['location']+'*rt' if not status['location'] else status['location'][0]+'*tweet'\n",
    "    except KeyError:\n",
    "        loc=status['user']['location']+'*user'\n",
    "    tweets.append((np.uint64(status['id_str']),\n",
    "                   text,\n",
    "                   rt,\n",
    "                   status['created_at'],\n",
    "                   status['lang'],loc,\n",
    "                   np.uint64(status['user']['id_str'])))"
   ]
  },
  {
   "cell_type": "markdown",
   "metadata": {},
   "source": [
    "We will use a Pandas dataframe to represent the features extracted from the raw Twitter objects."
   ]
  },
  {
   "cell_type": "code",
   "execution_count": 26,
   "metadata": {},
   "outputs": [
    {
     "data": {
      "text/html": [
       "<div>\n",
       "<style scoped>\n",
       "    .dataframe tbody tr th:only-of-type {\n",
       "        vertical-align: middle;\n",
       "    }\n",
       "\n",
       "    .dataframe tbody tr th {\n",
       "        vertical-align: top;\n",
       "    }\n",
       "\n",
       "    .dataframe thead th {\n",
       "        text-align: right;\n",
       "    }\n",
       "</style>\n",
       "<table border=\"1\" class=\"dataframe\">\n",
       "  <thead>\n",
       "    <tr style=\"text-align: right;\">\n",
       "      <th></th>\n",
       "      <th>text</th>\n",
       "      <th>rt</th>\n",
       "      <th>created_at</th>\n",
       "      <th>lang</th>\n",
       "      <th>location</th>\n",
       "      <th>user_id</th>\n",
       "    </tr>\n",
       "    <tr>\n",
       "      <th>status_id</th>\n",
       "      <th></th>\n",
       "      <th></th>\n",
       "      <th></th>\n",
       "      <th></th>\n",
       "      <th></th>\n",
       "      <th></th>\n",
       "    </tr>\n",
       "  </thead>\n",
       "  <tbody>\n",
       "    <tr>\n",
       "      <th>1095324019597983744</th>\n",
       "      <td>Ecco la mia intervista per @orizzontescuola, s...</td>\n",
       "      <td>True</td>\n",
       "      <td>2019-02-12 14:09:31+00:00</td>\n",
       "      <td>it</td>\n",
       "      <td>*user</td>\n",
       "      <td>1367973715</td>\n",
       "    </tr>\n",
       "    <tr>\n",
       "      <th>1095323996848037888</th>\n",
       "      <td>Decretone, 1.600 emendamenti. M5s: “Ampliare r...</td>\n",
       "      <td>True</td>\n",
       "      <td>2019-02-12 14:09:25+00:00</td>\n",
       "      <td>it</td>\n",
       "      <td>*user</td>\n",
       "      <td>1367973715</td>\n",
       "    </tr>\n",
       "    <tr>\n",
       "      <th>1095323941877567488</th>\n",
       "      <td>La sintesi dell'analisi costi-benefici del #TA...</td>\n",
       "      <td>True</td>\n",
       "      <td>2019-02-12 14:09:12+00:00</td>\n",
       "      <td>it</td>\n",
       "      <td>*user</td>\n",
       "      <td>1367973715</td>\n",
       "    </tr>\n",
       "    <tr>\n",
       "      <th>1095323873938235392</th>\n",
       "      <td>Il #Tav è un'opera inutile, a confermarlo l’an...</td>\n",
       "      <td>True</td>\n",
       "      <td>2019-02-12 14:08:56+00:00</td>\n",
       "      <td>it</td>\n",
       "      <td>*user</td>\n",
       "      <td>1367973715</td>\n",
       "    </tr>\n",
       "    <tr>\n",
       "      <th>1095323762612977664</th>\n",
       "      <td>A me del totonomi in vista della amministrativ...</td>\n",
       "      <td>True</td>\n",
       "      <td>2019-02-12 14:08:29+00:00</td>\n",
       "      <td>it</td>\n",
       "      <td>*user</td>\n",
       "      <td>1367973715</td>\n",
       "    </tr>\n",
       "  </tbody>\n",
       "</table>\n",
       "</div>"
      ],
      "text/plain": [
       "                                                                  text    rt  \\\n",
       "status_id                                                                      \n",
       "1095324019597983744  Ecco la mia intervista per @orizzontescuola, s...  True   \n",
       "1095323996848037888  Decretone, 1.600 emendamenti. M5s: “Ampliare r...  True   \n",
       "1095323941877567488  La sintesi dell'analisi costi-benefici del #TA...  True   \n",
       "1095323873938235392  Il #Tav è un'opera inutile, a confermarlo l’an...  True   \n",
       "1095323762612977664  A me del totonomi in vista della amministrativ...  True   \n",
       "\n",
       "                                   created_at lang location     user_id  \n",
       "status_id                                                                \n",
       "1095324019597983744 2019-02-12 14:09:31+00:00   it    *user  1367973715  \n",
       "1095323996848037888 2019-02-12 14:09:25+00:00   it    *user  1367973715  \n",
       "1095323941877567488 2019-02-12 14:09:12+00:00   it    *user  1367973715  \n",
       "1095323873938235392 2019-02-12 14:08:56+00:00   it    *user  1367973715  \n",
       "1095323762612977664 2019-02-12 14:08:29+00:00   it    *user  1367973715  "
      ]
     },
     "execution_count": 26,
     "metadata": {},
     "output_type": "execute_result"
    }
   ],
   "source": [
    "df = pd.DataFrame(tweets,\n",
    "                  columns=['status_id', 'text', 'rt', 'created_at', 'lang', 'location','user_id',])\n",
    "df = df.set_index('status_id')\n",
    "df.created_at = pd.to_datetime(df.created_at)\n",
    "df.head()"
   ]
  },
  {
   "cell_type": "code",
   "execution_count": 159,
   "metadata": {},
   "outputs": [
    {
     "data": {
      "text/plain": [
       "<matplotlib.axes._subplots.AxesSubplot at 0x7f1922853c88>"
      ]
     },
     "execution_count": 159,
     "metadata": {},
     "output_type": "execute_result"
    },
    {
     "data": {
      "image/png": "[encoded data removed]",
      "text/plain": [
       "<Figure size 432x288 with 1 Axes>"
      ]
     },
     "metadata": {
      "needs_background": "light"
     },
     "output_type": "display_data"
    }
   ],
   "source": [
    "df.groupby(pd.Grouper(key='created_at', freq='h')).size().plot()"
   ]
  },
  {
   "cell_type": "markdown",
   "metadata": {},
   "source": [
    "# 2. Text Pre-processing"
   ]
  },
  {
   "cell_type": "code",
   "execution_count": 10,
   "metadata": {},
   "outputs": [
    {
     "data": {
      "text/html": [
       "<div>\n",
       "<style scoped>\n",
       "    .dataframe tbody tr th:only-of-type {\n",
       "        vertical-align: middle;\n",
       "    }\n",
       "\n",
       "    .dataframe tbody tr th {\n",
       "        vertical-align: top;\n",
       "    }\n",
       "\n",
       "    .dataframe thead th {\n",
       "        text-align: right;\n",
       "    }\n",
       "</style>\n",
       "<table border=\"1\" class=\"dataframe\">\n",
       "  <thead>\n",
       "    <tr style=\"text-align: right;\">\n",
       "      <th></th>\n",
       "      <th>text</th>\n",
       "      <th>rt</th>\n",
       "      <th>created_at</th>\n",
       "      <th>lang</th>\n",
       "      <th>user_id</th>\n",
       "    </tr>\n",
       "    <tr>\n",
       "      <th>status_id</th>\n",
       "      <th></th>\n",
       "      <th></th>\n",
       "      <th></th>\n",
       "      <th></th>\n",
       "      <th></th>\n",
       "    </tr>\n",
       "  </thead>\n",
       "  <tbody>\n",
       "    <tr>\n",
       "      <th>1092475601942925312</th>\n",
       "      <td>#SOTU #SOTUBingo I made this at work today bec...</td>\n",
       "      <td>False</td>\n",
       "      <td>2019-02-04 17:30:55</td>\n",
       "      <td>en</td>\n",
       "      <td>921516124277272576</td>\n",
       "    </tr>\n",
       "    <tr>\n",
       "      <th>1092475575845834752</th>\n",
       "      <td>5 Themes For @realDonaldTrump's #SOTU:\\n- Safe...</td>\n",
       "      <td>True</td>\n",
       "      <td>2019-02-04 17:30:49</td>\n",
       "      <td>en</td>\n",
       "      <td>226997507</td>\n",
       "    </tr>\n",
       "    <tr>\n",
       "      <th>1092475571119013890</th>\n",
       "      <td>I was privileged this morning to be on a confe...</td>\n",
       "      <td>True</td>\n",
       "      <td>2019-02-04 17:30:48</td>\n",
       "      <td>en</td>\n",
       "      <td>2961331005</td>\n",
       "    </tr>\n",
       "    <tr>\n",
       "      <th>1092475570141712384</th>\n",
       "      <td>🤔 It’s illegal to enter 🇺🇸 illegally It’s ille...</td>\n",
       "      <td>False</td>\n",
       "      <td>2019-02-04 17:30:47</td>\n",
       "      <td>en</td>\n",
       "      <td>1471615951</td>\n",
       "    </tr>\n",
       "    <tr>\n",
       "      <th>1092475566849060864</th>\n",
       "      <td>Pledge to skip Trump, and watch the #SOTU resp...</td>\n",
       "      <td>True</td>\n",
       "      <td>2019-02-04 17:30:47</td>\n",
       "      <td>en</td>\n",
       "      <td>1083516312234520576</td>\n",
       "    </tr>\n",
       "  </tbody>\n",
       "</table>\n",
       "</div>"
      ],
      "text/plain": [
       "                                                                  text     rt  \\\n",
       "status_id                                                                       \n",
       "1092475601942925312  #SOTU #SOTUBingo I made this at work today bec...  False   \n",
       "1092475575845834752  5 Themes For @realDonaldTrump's #SOTU:\\n- Safe...   True   \n",
       "1092475571119013890  I was privileged this morning to be on a confe...   True   \n",
       "1092475570141712384  🤔 It’s illegal to enter 🇺🇸 illegally It’s ille...  False   \n",
       "1092475566849060864  Pledge to skip Trump, and watch the #SOTU resp...   True   \n",
       "\n",
       "                             created_at lang              user_id  \n",
       "status_id                                                          \n",
       "1092475601942925312 2019-02-04 17:30:55   en   921516124277272576  \n",
       "1092475575845834752 2019-02-04 17:30:49   en            226997507  \n",
       "1092475571119013890 2019-02-04 17:30:48   en           2961331005  \n",
       "1092475570141712384 2019-02-04 17:30:47   en           1471615951  \n",
       "1092475566849060864 2019-02-04 17:30:47   en  1083516312234520576  "
      ]
     },
     "execution_count": 10,
     "metadata": {},
     "output_type": "execute_result"
    }
   ],
   "source": [
    "df = df[(df.created_at > '2019-02-01 00:00:00') & (df.created_at < '2019-02-05 00:00:00')]\n",
    "df.head()"
   ]
  },
  {
   "cell_type": "code",
   "execution_count": 51,
   "metadata": {},
   "outputs": [
    {
     "data": {
      "text/plain": [
       "(62700, 5)"
      ]
     },
     "execution_count": 51,
     "metadata": {},
     "output_type": "execute_result"
    }
   ],
   "source": [
    "df.shape"
   ]
  },
  {
   "cell_type": "code",
   "execution_count": 53,
   "metadata": {},
   "outputs": [],
   "source": [
    "df = df[df.rt == False]"
   ]
  },
  {
   "cell_type": "code",
   "execution_count": 54,
   "metadata": {},
   "outputs": [
    {
     "data": {
      "text/plain": [
       "(8466, 5)"
      ]
     },
     "execution_count": 54,
     "metadata": {},
     "output_type": "execute_result"
    }
   ],
   "source": [
    "df.shape"
   ]
  },
  {
   "cell_type": "code",
   "execution_count": 55,
   "metadata": {},
   "outputs": [
    {
     "data": {
      "image/png": "[encoded data removed]",
      "text/plain": [
       "<Figure size 432x288 with 1 Axes>"
      ]
     },
     "metadata": {},
     "output_type": "display_data"
    }
   ],
   "source": [
    "df.groupby(pd.Grouper(key='created_at', freq='h')).size().plot()\n",
    "plt.ylabel('nr of #sotu tweets / h');"
   ]
  },
  {
   "cell_type": "markdown",
   "metadata": {},
   "source": [
    "Next, we create a list of **stop words**. Stop words are extremely common words that don't help in text classification since they occur frequently in the language."
   ]
  },
  {
   "cell_type": "code",
   "execution_count": 56,
   "metadata": {},
   "outputs": [],
   "source": [
    "from sklearn.feature_extraction import stop_words\n",
    "stopwords = set(stop_words.ENGLISH_STOP_WORDS)\n",
    "\n",
    "stopwords.update(['http', 've', 'wa', 'got', 'lt', 'gt', 'rt', 'retweet', 'wasn', 'doing', 'ha', 'oh',\n",
    "    'amp', 'gotta', 'jeah', 'make', 'going', 'like', 'haha', 'great', 'don', 'really', 'im', \n",
    "    'did', 'didn', 'let', 'll', 'u', 'yes', 'lol', 'wouldn', 'sotu'])"
   ]
  },
  {
   "cell_type": "markdown",
   "metadata": {},
   "source": [
    "In the next step, we create the main tools to process the text: a **tokenizer** and a **lemmatizer**.\n",
    "\n",
    "The **WordNetLemmatizer** from **nltk** is able to determine the **lemma** for a given word. The lemma is the canonical form of a set of words (e.g., the lemma \"go\" represents the inflected forms \"go\", \"goes\", \"going\", \"went\", and \"gone\"). By grouping together the different inflected forms of a word, they can be analysed as a single term. By default, the method `lemmatize` finds out the lemma for nouns. In order to find out the lemma for adjectives and verbs, we call `lemmatize` with different parameters.\n",
    "\n",
    "The **tokenizer** is the function that splits the text in different words (or tokens) and returns a list of words. In our example, we don't return directly the words, but the lemmatized form of each word.\n",
    "\n",
    "Finally, the **analyzer** is the function that returns the list of terms for each document. Each term can be a lemmatized word, or, in the case of this specific analyzer, can be also a bigram or a trigram. The parameter **ngram_range** defines the sizes of n-grams to be included in the terms list.\n",
    "\n",
    "For example, the following analyzer will return this list of terms for the phrase `'it rains cats and dogs'`:\n",
    "\n",
    "```python\n",
    ">>> analyzer('it rains cats and dogs')\n",
    "[u'rain', u'cat', u'dog', u'rain cat', u'cat dog', u'rain cat dog']\n",
    "```"
   ]
  },
  {
   "cell_type": "code",
   "execution_count": 57,
   "metadata": {},
   "outputs": [],
   "source": [
    "from sklearn.feature_extraction import text\n",
    "import re\n",
    "#from nltk.stem.wordnet import WordNetLemmatizer\n",
    "\n",
    "token_pattern = re.compile(r\"(?u)\\b\\w\\w+\\b\")\n",
    "# lemmatizer = WordNetLemmatizer()\n",
    "\n",
    "def lemmatize(w):\n",
    "    return w\n",
    "    l = lemmatizer.lemmatize(w)\n",
    "    if l == w:\n",
    "        l = lemmatizer.lemmatize(w, 'a')\n",
    "    if l == w:\n",
    "        l = lemmatizer.lemmatize(w, 'v')\n",
    "    return l\n",
    "\n",
    "def tokenizer(doc):\n",
    "    return [lemmatize(w) for w in token_pattern.findall(doc) if len(w) > 1]\n",
    "\n",
    "vectorizer = text.CountVectorizer(max_df=0.95,\n",
    "                                  max_features=100000,\n",
    "                                  stop_words=stopwords,\n",
    "                                  ngram_range=(1,3),\n",
    "                                  tokenizer=tokenizer)\n",
    "\n",
    "analyzer = vectorizer.build_analyzer()"
   ]
  },
  {
   "cell_type": "markdown",
   "metadata": {},
   "source": [
    "Next, we use a `Counter` to count the occurrences of each term in our dataset."
   ]
  },
  {
   "cell_type": "code",
   "execution_count": 58,
   "metadata": {},
   "outputs": [],
   "source": [
    "from collections import Counter\n",
    "term_counts = Counter()\n",
    "\n",
    "for doc in df.text.values:\n",
    "    term_count_current = Counter(analyzer(doc))\n",
    "    term_counts.update(term_count_current)"
   ]
  },
  {
   "cell_type": "code",
   "execution_count": 59,
   "metadata": {},
   "outputs": [
    {
     "data": {
      "text/plain": [
       "[('https', 7121),\n",
       " ('trump', 1573),\n",
       " ('realdonaldtrump', 1244),\n",
       " ('state', 689),\n",
       " ('watch', 637),\n",
       " ('union', 619),\n",
       " ('state union', 598),\n",
       " ('president', 581),\n",
       " ('potus', 509),\n",
       " ('address', 484),\n",
       " ('staceyabrams', 454),\n",
       " ('democrats', 409),\n",
       " ('tomorrow', 369),\n",
       " ('speakerpelosi', 337),\n",
       " ('response', 334),\n",
       " ('tuesday', 325),\n",
       " ('just', 293),\n",
       " ('maga', 283),\n",
       " ('watching', 271),\n",
       " ('speech', 262)]"
      ]
     },
     "execution_count": 59,
     "metadata": {},
     "output_type": "execute_result"
    }
   ],
   "source": [
    "term_counts.most_common(20)"
   ]
  },
  {
   "cell_type": "markdown",
   "metadata": {},
   "source": [
    "The number of terms in present in the dataset is in the order of millions. However, not all terms are important, and the more terms we use, the topic extraction will be slower. We limit our set of terms to the list of the top 100k terms, sorted by number of occurrences."
   ]
  },
  {
   "cell_type": "code",
   "execution_count": 60,
   "metadata": {},
   "outputs": [],
   "source": [
    "max_features = 100000\n",
    "term_counts = Counter(dict(term_counts.most_common(max_features)))"
   ]
  },
  {
   "cell_type": "markdown",
   "metadata": {},
   "source": [
    "With these terms, we create our vocabulary."
   ]
  },
  {
   "cell_type": "code",
   "execution_count": 61,
   "metadata": {},
   "outputs": [],
   "source": [
    "terms = set(t for t, tc in term_counts.most_common(max_features))\n",
    "vocabulary = dict(((t, i) for i, t in enumerate(sorted(terms))))"
   ]
  },
  {
   "cell_type": "markdown",
   "metadata": {},
   "source": [
    "## From Text Messages to Feature Vectors\n",
    "We need to transform our text data into feature vectors, numerical representations which are suitable for performing statistical analysis. The most common way to do this is to apply a bag-of-words approach where the frequency of an occurrence of a word becomes a feature for our classifier.\n",
    "\n",
    "We use the vocabulary created in the previous step to extract the **document-term matrix** `C`."
   ]
  },
  {
   "cell_type": "code",
   "execution_count": 62,
   "metadata": {},
   "outputs": [],
   "source": [
    "vectorizer = text.CountVectorizer(vocabulary=vocabulary, \n",
    "                                  stop_words=stopwords, \n",
    "                                  ngram_range=(1,3), \n",
    "                                  tokenizer=tokenizer)\n",
    "\n",
    "C = vectorizer.fit_transform(df.text.values)"
   ]
  },
  {
   "cell_type": "code",
   "execution_count": 63,
   "metadata": {},
   "outputs": [
    {
     "data": {
      "text/plain": [
       "<8466x100000 sparse matrix of type '<class 'numpy.int64'>'\n",
       "\twith 192053 stored elements in Compressed Sparse Row format>"
      ]
     },
     "execution_count": 63,
     "metadata": {},
     "output_type": "execute_result"
    }
   ],
   "source": [
    "C"
   ]
  },
  {
   "cell_type": "markdown",
   "metadata": {},
   "source": [
    "### Term Frequency-Inverse Document Frequency\n",
    "\n",
    "We want to consider the relative importance of particular words, so we'll use term frequency–inverse document frequency as a weighting factor. This will control for the fact that some words are more \"spamy\" than others.\n",
    "\n",
    "### Mathematical details\n",
    "\n",
    "tf–idf is the product of two statistics, term frequency and inverse document\n",
    "frequency. Various ways for determining the exact values of both statistics\n",
    "exist. In the case of the '''term frequency''' tf(''t'',''d''), the simplest\n",
    "choice is to use the ''raw frequency'' of a term in a document, i.e. the\n",
    "number of times that term ''t'' occurs in document ''d''. If we denote the raw\n",
    "frequency of ''t'' by f(''t'',''d''), then the simple tf scheme is\n",
    "tf(''t'',''d'') = f(''t'',''d''). Other possibilities\n",
    "include:\n",
    "\n",
    "  * boolean_data_type \"frequencies\": tf(''t'',''d'') = 1 if ''t'' occurs in ''d'' and 0 otherwise; \n",
    "  * logarithmically scaled frequency: tf(''t'',''d'') = log (f(''t'',''d'') + 1); \n",
    "  * augmented frequency, to prevent a bias towards longer documents, e.g. raw frequency divided by the maximum raw frequency of any term in the document: $$\\mathrm{tf}(t,d) = 0.5 + \\frac{0.5 \\times \\mathrm{f}(t, d)}{\\max\\{\\mathrm{f}(w, d):w \\in d\\}}$$\n",
    "\n",
    "The '''inverse document frequency''' is a measure of whether the term is\n",
    "common or rare across all documents. It is obtained by dividing the total\n",
    "number of documents by the number of documents containing the\n",
    "term, and then taking the logarithm of that quotient.\n",
    "\n",
    "$$\\mathrm{idf}(t, D) = \\log \\frac{|D|}{|\\{d \\in D: t \\in d\\}|}$$\n",
    "\n",
    "with\n",
    "\n",
    "  * $|D|$: cardinality of D, or the total number of documents in the corpus \n",
    "  * $|\\{d \\in D: t \\in d\\}|$ : number of documents where the term $t$ appears (i.e., $\\mathrm{tf}(t,d) eq 0$). If the term is not in the corpus, this will lead to a division-by-zero. It is therefore common to adjust the formula to $1 + |\\{d \\in D: t \\in d\\}|$. \n",
    "\n",
    "Mathematically the base of the log function does not matter and constitutes a\n",
    "constant multiplicative factor towards the overall result.\n",
    "\n",
    "Then tf–idf is calculated as\n",
    "\n",
    "$$\\mathrm{tfidf}(t,d,D) = \\mathrm{tf}(t,d) \\times \\mathrm{idf}(t, D)$$"
   ]
  },
  {
   "cell_type": "code",
   "execution_count": 64,
   "metadata": {},
   "outputs": [],
   "source": [
    "from sklearn.feature_extraction import text\n",
    "tfidf = text.TfidfTransformer()\n",
    "X = tfidf.fit_transform(C)"
   ]
  },
  {
   "cell_type": "code",
   "execution_count": 65,
   "metadata": {},
   "outputs": [
    {
     "data": {
      "text/plain": [
       "<8466x100000 sparse matrix of type '<class 'numpy.float64'>'\n",
       "\twith 192053 stored elements in Compressed Sparse Row format>"
      ]
     },
     "execution_count": 65,
     "metadata": {},
     "output_type": "execute_result"
    }
   ],
   "source": [
    "X"
   ]
  },
  {
   "cell_type": "markdown",
   "metadata": {},
   "source": [
    "Finally, we can save the **vocabulary** and **X** variables to be used in the next steps."
   ]
  },
  {
   "cell_type": "markdown",
   "metadata": {},
   "source": [
    "# Topic Extraction"
   ]
  },
  {
   "cell_type": "markdown",
   "metadata": {},
   "source": [
    "## 3. Matrix factorization (20 components)\n",
    "\n",
    "Let's start by loading the data produced in the previous steps:"
   ]
  },
  {
   "cell_type": "markdown",
   "metadata": {},
   "source": [
    "We have a matrix $X \\in \\mathbb{R}^{N \\times D}$, where $N$ is the number of status messages and $D$ is the number of terms in the vocabulary. The variable _vocabulary_ contains, for each index, the term associated to that index.\n",
    "\n",
    "Next, we use Nonnegative Matrix Factorization to factorize the matrix $X \\in \\mathbb{R}^{N \\times D}$ in two matrices, $W \\in \\mathbb{R}^{N \\times R}$ and $H \\in \\mathbb{R}^{R \\times D}$, where $R$ is the number of components that we want to extract - in this example, **20 components**."
   ]
  },
  {
   "cell_type": "code",
   "execution_count": 66,
   "metadata": {},
   "outputs": [],
   "source": [
    "from sklearn import decomposition\n",
    "\n",
    "nr_components = 20\n",
    "\n",
    "nmf = decomposition.NMF(n_components=nr_components, max_iter=20)\n",
    "W = nmf.fit_transform(X)\n",
    "H = nmf.components_"
   ]
  },
  {
   "cell_type": "code",
   "execution_count": 43,
   "metadata": {},
   "outputs": [
    {
     "data": {
      "text/plain": [
       "array([31349, 49169, 18957, ..., 28948, 28974, 48149])"
      ]
     },
     "execution_count": 43,
     "metadata": {},
     "output_type": "execute_result"
    }
   ],
   "source": [
    "W[:, 0].argsort()"
   ]
  },
  {
   "cell_type": "markdown",
   "metadata": {},
   "source": [
    "## Stream Matrix\n",
    "\n",
    "The **stream matrix** is a matrix $A \\in \\mathbb{R}^{R \\times T}$, where $R$ is the number of components and $T$ is the number of intervals. Since we want to show the activity of each component in every hour, the stream matrix is a matrix with one column for each hour interval.\n",
    "\n",
    "We populate the activity of each component using the values in the matrix $W$. We select just the rows of $W$ that refer to a given interval, and populate the activities of each component for the given interval.\n",
    "\n",
    "The resulting stream matrix is plotted with `pcolormesh`, and we can see that most of the components start with a high activity peak followed by an activity decay."
   ]
  },
  {
   "cell_type": "code",
   "execution_count": 69,
   "metadata": {},
   "outputs": [
    {
     "data": {
      "image/png": "[encoded data removed]",
      "text/plain": [
       "<Figure size 576x432 with 1 Axes>"
      ]
     },
     "metadata": {},
     "output_type": "display_data"
    }
   ],
   "source": [
    "periods = np.arange('2019-02-01', '2019-02-05', dtype='datetime64[h]')\n",
    "A = zeros((nr_components, periods.shape[0]))\n",
    "\n",
    "for t, (mn_start, mn_end) in enumerate(zip(periods, periods + np.timedelta64(1, 'h'))):\n",
    "    mask = (df.created_at > mn_start) & (df.created_at <= mn_end)\n",
    "    W_minute = W[mask.values]\n",
    "    \n",
    "    for i in range(nr_components):\n",
    "        A[i, t] = W_minute[:, i].sum()\n",
    "\n",
    "plt.figure(figsize=(8,6))\n",
    "plt.pcolormesh(A, cmap=cm.gray_r)\n",
    "plt.ylim(0, A.shape[0])\n",
    "plt.xlim(0, A.shape[1])\n",
    "plt.yticks(np.arange(A.shape[0]))\n",
    "plt.xticks(np.arange(0, A.shape[1], 12), periods[::12], rotation=20);"
   ]
  },
  {
   "cell_type": "markdown",
   "metadata": {},
   "source": [
    "For each component vector in $W$ (i.e., for each column of $W$), we can sort the weights of the component vector and select the row of $W$ with the highest weight for the component. If we go back to the list of status messages, we can select the corresponding status message for the row, which is the most representative status message for the component."
   ]
  },
  {
   "cell_type": "code",
   "execution_count": 67,
   "metadata": {},
   "outputs": [
    {
     "name": "stdout",
     "output_type": "stream",
     "text": [
      "Topic 0\n",
      "status_id\n",
      "1092563305175105537    President @realDonaldTrump: Please use the Sta...\n",
      "1092563477108019201    President @realDonaldTrump: Please use the Sta...\n",
      "1092567995510124545    President @realDonaldTrump: Please use the Sta...\n",
      "1092565462087598082    President @realDonaldTrump: Please use the Sta...\n",
      "1092560969530773508    President @realDonaldTrump: Please use the Sta...\n",
      "Name: text, dtype: object\n",
      "**********\n",
      "Topic 1\n",
      "status_id\n",
      "1092524592462266369    Pledge to skip Trump, and watch the #SOTU resp...\n",
      "1092559890940186624    Pledge to skip Trump, and watch the #SOTU resp...\n",
      "1092519412102500355    Pledge to skip Trump, and watch the #SOTU resp...\n",
      "1092559499448045568    Pledge to skip Trump, and watch the #SOTU resp...\n",
      "1092503598859239424    Pledge to skip Trump, and watch the #SOTU resp...\n",
      "Name: text, dtype: object\n",
      "**********\n",
      "Topic 2\n",
      "status_id\n",
      "1092490319281745922    Watch @TheRealHublife's broadcast: Ralph North...\n",
      "1092559774791749637    Watch @TheRealHublife's broadcast: Ralph North...\n",
      "1092494686852390915    Watch @TheRealHublife's broadcast: Ralph North...\n",
      "1092482839357153280    Watch @TheRealHublife's broadcast: Ralph North...\n",
      "1092479290409656322    Watch @TheRealHublife's broadcast: Ralph North...\n",
      "Name: text, dtype: object\n",
      "**********\n",
      "Topic 3\n",
      "status_id\n",
      "1091151223334621185    Sign the petition: Not one Democrat should att...\n",
      "1091162804508192768    Sign the petition: Not one Democrat should att...\n",
      "1091246578982113281    Sign the petition: Not one Democrat should att...\n",
      "1091227512452071424    Sign the petition: Not one Democrat should att...\n",
      "1091257461754023936    Sign the petition: Not one Democrat should att...\n",
      "Name: text, dtype: object\n",
      "**********\n",
      "Topic 4\n",
      "status_id\n",
      "1092510627841613831                   #SOTU https://t.co/hVTeMaNqfy\n",
      "1092569305835802624                   #SOTU https://t.co/s8tICgnP8Y\n",
      "1092488962692780032                   #SOTU https://t.co/P3bHu66FXh\n",
      "1092570945225658368                   #SOTU https://t.co/X6lRDCnKAB\n",
      "1092508849016397824    Oh really???\\nhttps://t.co/vdyQEzhHYS\\n#SOTU\n",
      "Name: text, dtype: object\n",
      "**********\n",
      "Topic 5\n",
      "status_id\n",
      "1092515687258411008    Tell Democrats: Don't give Trump an audience f...\n",
      "1091143397203685376    Tell Democrats: Don't give Trump an audience f...\n",
      "1091894104714342400    Tell Democrats: Don't give Trump an audience f...\n",
      "1091430393658724353    Tell Democrats: Don't give #Trump an audience ...\n",
      "1091823937640714240    Tell Democrats: Don't give Trump an audience f...\n",
      "Name: text, dtype: object\n",
      "**********\n",
      "Topic 6\n",
      "status_id\n",
      "1092505107004964864    #FollowTheWhiteRabbit #QAnon #GreatAwakening #...\n",
      "1092489094507024384    #FollowTheWhiteRabbit #QAnon #GreatAwakening #...\n",
      "1091343801413582848    #FollowTheWhiteRabbit #QAnon #GreatAwakening #...\n",
      "1091691725221814272    #FollowTheWhiteRabbit #QAnon #GreatAwakening #...\n",
      "1091222669289082880    #FollowTheWhiteRabbit #QAnon #GreatAwakening #...\n",
      "Name: text, dtype: object\n",
      "**********\n",
      "Topic 7\n",
      "status_id\n",
      "1092572227881582592    #SOTU @POTUS  @VP @HawleyMO @RepHartzler @RoyB...\n",
      "1092572259749892098    #SOTU @POTUS  @VP @HawleyMO @RepHartzler @RoyB...\n",
      "1092572364347527168    #SOTU @POTUS  @VP @HawleyMO @RepHartzler @RoyB...\n",
      "1092571467819171841    #SOTU @POTUS  @VP @HawleyMO @RepHartzler @RoyB...\n",
      "1092572819597209601    #SOTU @POTUS  @VP @HawleyMO @RepHartzler @RoyB...\n",
      "Name: text, dtype: object\n",
      "**********\n",
      "Topic 8\n",
      "status_id\n",
      "1092479777611661317     State Of The Union #SOTU https://t.co/JFP4Riz9Jo\n",
      "1092517457003274247    Opinion | The state of the union is petrified ...\n",
      "1092525959943782401    “What To Expect From The State Of The Union” h...\n",
      "1092479162105950208    Trump will give his State of the Union address...\n",
      "1092509328580448256    @washingtonpost Can we skip the State of the U...\n",
      "Name: text, dtype: object\n",
      "**********\n",
      "Topic 9\n",
      "status_id\n",
      "1092105508960514051    What a powerful sermon at #Church this morning...\n",
      "1092105320971886592    What a powerful sermon at #Church this morning...\n",
      "1092098058253463552    What a powerful sermon at #Church this morning...\n",
      "1092079431869452288    What a powerful sermon at #Church this morning...\n",
      "1092073895153274880    What a powerful sermon at #Church this morning...\n",
      "Name: text, dtype: object\n",
      "**********\n",
      "Topic 10\n",
      "status_id\n",
      "1092462447645114368    #TuesdayThoughts #WednesdayMotivation #Thursda...\n",
      "1092462345111113729    #TuesdayThoughts #WednesdayMotivation #Thursda...\n",
      "1092462530885230593    #TuesdayThoughts #WednesdayMotivation #Thursda...\n",
      "1092462592579252224    #TuesdayThoughts #WednesdayMotivation #Thursda...\n",
      "1092462133969932289    #TuesdayThoughts #WednesdayMotivation #Thursda...\n",
      "Name: text, dtype: object\n",
      "**********\n",
      "Topic 11\n",
      "status_id\n",
      "1092485448117702656    Let's keep this in mind tomorrow night. #SOTU ...\n",
      "1092524464120754180    I think we'll see @missbala tomorrow night, in...\n",
      "1092500704634331137    #PoliticalNerds We will be LIVE during the #SO...\n",
      "1092568807799959552    Tomorrow night for the #SOTU I will be at the ...\n",
      "1092519904895483906             Tomorrow's #SOTU https://t.co/OcAa6okGfF\n",
      "Name: text, dtype: object\n",
      "**********\n",
      "Topic 12\n",
      "status_id\n",
      "1091915808673026050    @thebestcloser @lauraloomer @RealJamesWoods #D...\n",
      "1091920382548983808    @thebestcloser @lauraloomer @RealJamesWoods #D...\n",
      "1091911396600832001    @thebestcloser @lauraloomer @RealJamesWoods #D...\n",
      "1091917199328059392    @thebestcloser @lauraloomer @RealJamesWoods #D...\n",
      "1091919353157742599    @thebestcloser @lauraloomer @RealJamesWoods #D...\n",
      "Name: text, dtype: object\n",
      "**********\n",
      "Topic 13\n",
      "status_id\n",
      "1092142729126129664    My family and friends will be watching to grea...\n",
      "1092142842166808577    My family and friends will be watching to grea...\n",
      "1092142486347280385    My family and friends will be watching to grea...\n",
      "1092142076387573761    My family and friends will be watching to grea...\n",
      "1092151267114340354    My #family and #friends will be watching the g...\n",
      "Name: text, dtype: object\n",
      "**********\n",
      "Topic 14\n",
      "status_id\n",
      "1092527149427376128    Decades of failure #NancyPelosi Supports OPEN ...\n",
      "1092525956772835328    Decades of failure #NancyPelosi Supports OPEN ...\n",
      "1092524990946332673    Decades of failure #NancyPelosi Supports OPEN ...\n",
      "1092525308601872392    Decades of failure #NancyPelosi Supports OPEN ...\n",
      "1092527175637655552    Decades of failure #NancyPelosi Supports OPEN ...\n",
      "Name: text, dtype: object\n",
      "**********\n",
      "Topic 15\n",
      "status_id\n",
      "1091371765471809536    Could there be a starker contrast?\\n\\nPresiden...\n",
      "1091668930551341056    Could there be a starker contrast?\\n\\nPresiden...\n",
      "1091371124766720000    Could there be a starker contrast?\\n\\nPresiden...\n",
      "1091369788394352642    Could there be a starker contrast?\\n\\nPresiden...\n",
      "1091389410690695171    Could there be a starker contrast?\\n\\nPresiden...\n",
      "Name: text, dtype: object\n",
      "**********\n",
      "Topic 16\n",
      "status_id\n",
      "1092565706896564225       @realDonaldTrump https://t.co/XrfphjDB3e #SOTU\n",
      "1092493682392137728       @realDonaldTrump #SOTU https://t.co/ERRTNOvDXU\n",
      "1092493004026335233    @DeplorableRay @realDonaldTrump If @TheDemocra...\n",
      "1092485639805767681    @GOP @realDonaldTrump Yes #SOTU #BuildAWallCri...\n",
      "1092472862756069376                          @GOP @realDonaldTrump #SOTU\n",
      "Name: text, dtype: object\n",
      "**********\n",
      "Topic 17\n",
      "status_id\n",
      "1092496818468864000    8 things to know about @staceyabrams—No. 8:  S...\n",
      "1092533036506337281    8 things to know about @staceyabrams—No. 8:  S...\n",
      "1091700187997847552    8 things to know about @staceyabrams—No. 8:  S...\n",
      "1092534073078222850    8 things to know about @staceyabrams—No. 8:  S...\n",
      "1091729496237953024    8 things to know about @staceyabrams—No. 8:  S...\n",
      "Name: text, dtype: object\n",
      "**********\n",
      "Topic 18\n",
      "status_id\n",
      "1091158897862287360    Trump will use the #SOTU to spread lies and ha...\n",
      "1091145943062175744    Trump will use the #SOTU to spread lies and ha...\n",
      "1091833755080294401    Trump will use the #SOTU to spread lies and ha...\n",
      "1091534134227406849    Trump will use the #SOTU to spread lies and ha...\n",
      "1091434176375447552    Trump will use the #SOTU to spread lies and ha...\n",
      "Name: text, dtype: object\n",
      "**********\n",
      "Topic 19\n",
      "status_id\n",
      "1092048964390666241    Americans, now babies killed daily at the hand...\n",
      "1092049727670112257    Americans, now babies, killed daily at the han...\n",
      "1092050648995164160    Americans, now #babies, killed daily at the ha...\n",
      "1092049468709634051    Americans, now babies, killed daily at the han...\n",
      "1092047653695881217    Americans and babies killed daily at the hands...\n",
      "Name: text, dtype: object\n",
      "**********\n"
     ]
    }
   ],
   "source": [
    "for c in range(nr_components):\n",
    "    print('Topic', c)\n",
    "    print(df.text.iloc[W[:, c].argsort()[:-6:-1]].replace('\\n', ' '))\n",
    "    print('*'*10)"
   ]
  },
  {
   "cell_type": "markdown",
   "metadata": {},
   "source": [
    "By selecting the top weights in each row of the matrix $H$, we can assess the top terms that define each component:"
   ]
  },
  {
   "cell_type": "code",
   "execution_count": 68,
   "metadata": {},
   "outputs": [
    {
     "name": "stdout",
     "output_type": "stream",
     "text": [
      "0 ['state union lowering', 'lowering', 'rx costs', 'union lowering rx']\n",
      "1 ['watch response', 'watch response staceyabrams', 'staceyabrams instead', 'response staceyabrams instead']\n",
      "2 ['grand wizard', 'northam promoted', 'northam promoted grand', 'promoted grand']\n",
      "3 ['democrat attend', 'democrat attend trump', 'attend trump', 'attend trump https']\n",
      "4 ['https', 'trump', 'maga', 'guest']\n",
      "5 ['tell democrats', 'trump audience', 'trump audience lies', 'audience lies skip']\n",
      "6 ['qanon', 'followthewhiterabbit qanon greatawakening', 'qanon qarmy maga', 'followthewhiterabbit']\n",
      "7 ['vp hawleymo', 'vp hawleymo rephartzler', 'hawleymo rephartzler', 'hawleymo']\n",
      "8 ['state', 'union', 'state union', 'union address']\n",
      "9 ['powerful sermon church', 'sermon', 'sermon church', 'powerful sermon']\n",
      "10 ['tuesdaythoughts wednesdaymotivation', 'thursdaymotivation questiontime', 'marr', 'wednesdaymotivation']\n",
      "11 ['tomorrow', 'night', 'tomorrow night', 'watch']\n",
      "12 ['drainthedeepstate closingtime', 'closingtime', 'drainthedeepstate', 'closingtime golive']\n",
      "13 ['watching', 'greatest president', 'watching greatest president', 'watching greatest']\n",
      "14 ['open borders', 'open', 'supports open', 'supports open borders']\n",
      "15 ['trump', 'president trump', 'president', 'border']\n",
      "16 ['realdonaldtrump', 'potus', 'realdonaldtrump https', 'potus realdonaldtrump']\n",
      "17 ['know', 'staceyabrams', 'know staceyabrams', 'things know staceyabrams']\n",
      "18 ['home', 'stay home', 'needed', 'stay']\n",
      "19 ['democrats', 'radical', 'radical democrats', 'americans']\n"
     ]
    }
   ],
   "source": [
    "vocabulary_idx = dict((v,k) for k,v in vocabulary.items())\n",
    "for c in range(nr_components):\n",
    "    print (c, [vocabulary_idx[idx] for idx in H[c].argsort()[:-5:-1]])"
   ]
  },
  {
   "cell_type": "markdown",
   "metadata": {},
   "source": [
    "# Matrix Factorization (40 components)\n",
    "\n",
    "In the next steps, we will reproduce the same steps described previously to factorize the matrix $X$, but we will use **40 components** and not 20.\n",
    "\n",
    "Since we are selecting a higher number of components, the matrix factorization takes a longer time to end."
   ]
  },
  {
   "cell_type": "code",
   "execution_count": 70,
   "metadata": {},
   "outputs": [],
   "source": [
    "from sklearn import decomposition\n",
    "\n",
    "nr_components = 40\n",
    "\n",
    "nmf = decomposition.NMF(n_components=nr_components, max_iter=20)\n",
    "W = nmf.fit_transform(X)\n",
    "H = nmf.components_"
   ]
  },
  {
   "cell_type": "markdown",
   "metadata": {},
   "source": [
    "## Stream Matrix\n",
    "\n",
    "Again, we produce a **stream matrix** - a matrix $A \\in \\mathbb{R}^{R \\times T}$, where $R$ is the number of components and $T$ is the number of intervals, representing the activity of each component in each interval."
   ]
  },
  {
   "cell_type": "code",
   "execution_count": 71,
   "metadata": {},
   "outputs": [
    {
     "data": {
      "image/png": "[encoded data removed]",
      "text/plain": [
       "<Figure size 576x864 with 1 Axes>"
      ]
     },
     "metadata": {},
     "output_type": "display_data"
    }
   ],
   "source": [
    "periods = np.arange('2019-02-01', '2019-02-05', dtype='datetime64[h]')\n",
    "A = zeros((nr_components, periods.shape[0]))\n",
    "\n",
    "for t, (mn_start, mn_end) in enumerate(zip(periods, periods + np.timedelta64(1, 'h'))):\n",
    "    mask = (df.created_at > mn_start) & (df.created_at <= mn_end)\n",
    "    W_minute = W[mask.values]\n",
    "    \n",
    "    for i in range(nr_components):\n",
    "        A[i, t] = W_minute[:, i].sum()\n",
    "\n",
    "plt.figure(figsize=(8,12))\n",
    "plt.pcolormesh(A, cmap=cm.gray_r)\n",
    "plt.ylim(0, A.shape[0])\n",
    "plt.xlim(0, A.shape[1])\n",
    "plt.yticks(np.arange(A.shape[0]))\n",
    "plt.xticks(np.arange(0, A.shape[1], 12), periods[::12], rotation=20);"
   ]
  },
  {
   "cell_type": "markdown",
   "metadata": {},
   "source": [
    "This plot shows that, even extracting a higher number of components, some of the components - the ones with highest activity - are the same as the ones extracted with less components. This means that we can increase the number of components to have a more rich list of components, but a small number of components (e.g. 20) is already sufficient to have an idea of the components that have the highest activity.\n",
    "\n",
    "This behaviour is due to the fact that the activity of the different components are very heterogeneous. If we plot the activity of the different components in decreasing order, we'll se a broad curve, where most of the activity is related to a small number of components:"
   ]
  },
  {
   "cell_type": "code",
   "execution_count": 72,
   "metadata": {},
   "outputs": [
    {
     "data": {
      "text/plain": [
       "[<matplotlib.lines.Line2D at 0x14b24aba8>]"
      ]
     },
     "execution_count": 72,
     "metadata": {},
     "output_type": "execute_result"
    },
    {
     "data": {
      "image/png": "[encoded data removed]",
      "text/plain": [
       "<Figure size 432x288 with 1 Axes>"
      ]
     },
     "metadata": {},
     "output_type": "display_data"
    }
   ],
   "source": [
    "plot(np.sort(W.sum(axis=0))[::-1])"
   ]
  },
  {
   "cell_type": "markdown",
   "metadata": {},
   "source": [
    "Again, for each component vector in $W$ (i.e., for each column of $W$), we can sort the weights of the component vector and select the row of $W$ with the highest weight for the component. If we go back to the list of status messages, we can select the corresponding status message for the row, which is the most representative status message for the component."
   ]
  },
  {
   "cell_type": "code",
   "execution_count": 73,
   "metadata": {},
   "outputs": [
    {
     "name": "stdout",
     "output_type": "stream",
     "text": [
      "Topic 0\n",
      "President @realDonaldTrump: Please use the State of the Union to make lowering Rx costs a top priority. It's outrag… https://t.co/oXcUbggUuq\n",
      "**********\n",
      "Topic 1\n",
      "Pledge to skip Trump, and watch the #SOTU response from @staceyabrams instead! #AbramsAddress https://t.co/8LQrdgtoRq\n",
      "**********\n",
      "Topic 2\n",
      "Watch @TheRealHublife's broadcast: Ralph Northam Promoted to Grand Wizard, Superbowl Hangover and #SOTU Eve w/ Auth… https://t.co/J7QilSwc4d\n",
      "**********\n",
      "Topic 3\n",
      "Sign the petition: Not one Democrat should attend Trump's #SOTU https://t.co/0hGKrph7s9 #ResistTrump via @CREDOMobile\n",
      "**********\n",
      "Topic 4\n",
      "#SOTU https://t.co/vRBjwvT79v\n",
      "**********\n",
      "Topic 5\n",
      "Tell Democrats: Don't give Trump an audience for his lies. Skip the #SOTU. https://t.co/gOG1ptzE9I #ResistTrump via @CREDOMobile\n",
      "**********\n",
      "Topic 6\n",
      "#FollowTheWhiteRabbit #QAnon #GreatAwakening #SpyGate #WalkAway #QAnon #QArmy #MAGA  #SOTU    #SuperBowl… https://t.co/BRzqWdZaMY\n",
      "**********\n",
      "Topic 7\n",
      "#SOTU @POTUS  @VP @HawleyMO @RepHartzler @RoyBlunt @LindseyGrahamSC @SpeakerPelosi @senatemajldr @PressSec… https://t.co/jDKmsicLgc\n",
      "**********\n",
      "Topic 8\n",
      "State Of The Union #SOTU https://t.co/JFP4Riz9Jo\n",
      "**********\n",
      "Topic 9\n",
      "What a powerful sermon at #Church this morning.   #Pastor went after the Governor of #NY and #Pelosi for the new ra… https://t.co/2iUjzsuxSP\n",
      "**********\n",
      "Topic 10\n",
      "#TuesdayThoughts #WednesdayMotivation #ThursdayMotivation #questiontime #Marr #redBubble #Redbubbleartist… https://t.co/rgRbbKQiWj\n",
      "**********\n",
      "Topic 11\n",
      "Let's keep this in mind tomorrow night. #SOTU https://t.co/xLbp8iCI5A\n",
      "**********\n",
      "Topic 12\n",
      "@thebestcloser @lauraloomer @RealJamesWoods #DrainTheDeepState #ClosingTime #GoLive #CloserNation #CloserMovement… https://t.co/lTJhnfBYnN\n",
      "**********\n",
      "Topic 13\n",
      "My family and friends will be watching to greatest #President in USA #history.    #SOTU🇺🇸  #TuesdayThoughts https://t.co/Mjgo5aTOr2\n",
      "**********\n",
      "Topic 14\n",
      "Decades of failure #NancyPelosi Supports OPEN BORDERS, ‘Doesn’t Mind Human Trafficking or Americans overdosing on D… https://t.co/3s78HUjIcd\n",
      "**********\n",
      "Topic 15\n",
      "Could there be a starker contrast?  President #Trump and GOP fighting to secure border.  Meanwhile, Dems pick extre… https://t.co/GXuwuVMRhm\n",
      "**********\n",
      "Topic 16\n",
      "@realDonaldTrump #SOTU https://t.co/ERRTNOvDXU\n",
      "**********\n",
      "Topic 17\n",
      "8 things to know about @staceyabrams—No. 8:  She's a \"romance\" novelist. #SOTU https://t.co/6XTFnW2rby via @LRacheldG @DailySignal\n",
      "**********\n",
      "Topic 18\n",
      "Trump will use the #SOTU to spread lies and hate. Democrats should stay home. (signatures needed)… https://t.co/5fxNOy9wXC\n",
      "**********\n",
      "Topic 19\n",
      "Americans, now babies, killed daily at the hands of incompetent evil radical #democrats. From abortion, to #heroin… https://t.co/BfZJbHnbfn\n",
      "**********\n",
      "Topic 20\n",
      "\"THE *#REAL*DONALD JOHN 🧢#TRUMP\": 1.*THE #TELEPROMPTER TRUMP? 2.*THE #TWITTER TRUMP?   #SOTU #SOTU2019: #A #UNITER… https://t.co/1vWfTy1Qzy\n",
      "**********\n",
      "Topic 21\n",
      "My #SOTU guest? @hperik712\n",
      "**********\n",
      "Topic 22\n",
      "No, I am not watching the #SOTU are you?\n",
      "**********\n",
      "Topic 23\n",
      "Let’s not watch the #SOTU live. Please. Can we all agree to not watch it?\n",
      "**********\n",
      "Topic 24\n",
      "@RepWexton @POTUS #SOTU\n",
      "**********\n",
      "Topic 25\n",
      "CONGRESSWOMAN #Democrat #IlhanOmar.  \"White #men are disgusting.   They can't comprehend Islam and disrespect Allah… https://t.co/HKDnDlEvbw\n",
      "**********\n",
      "Topic 26\n",
      "Have the #ICEbus waiting for them at the end of the #SOTU address . . . https://t.co/0cnImmsMyy\n",
      "**********\n",
      "Topic 27\n",
      "Here's a look ahead about what Stacey Abrams may discuss in her #SOTU response. https://t.co/Ey6VPa0rmb\n",
      "**********\n",
      "Topic 28\n",
      "#SOTU #MAGA https://t.co/fYCJmrI3yH\n",
      "**********\n",
      "Topic 29\n",
      "@ICEgov PLEASE BE AT THE #SOTU\n",
      "**********\n",
      "Topic 30\n",
      "@realDonaldTrump: declare the National Emergency at #SOTU\n",
      "**********\n",
      "Topic 31\n",
      "Alyssa_Milano: Tuesday is the #SOTU. And Tuesday I will be sharing with you all the tools you need to use YOUR plat… https://t.co/fLd8irWtNU\n",
      "**********\n",
      "Topic 32\n",
      "RT WhiteHouse: Want to be among the first to know who the special guests will be at this year’s #SOTU? Sign up for… https://t.co/VYaNq93u9I\n",
      "**********\n",
      "Topic 33\n",
      "The US #Congress should be focusing on serving US citizens. It should not be a platform for Democrat radicals… https://t.co/GkAVkZDfSq\n",
      "**********\n",
      "Topic 34\n",
      "@AJEnglish #SOTU2019 #sotu https://t.co/plt4wqHIeE\n",
      "**********\n",
      "Topic 35\n",
      "And I'll be done in time for the #SOTU. https://t.co/hv1Iu8hpCC\n",
      "**********\n",
      "Topic 36\n",
      "MJ bumpers @tylercralle matched today's political discourse. Looking forward to #SOTU analysis Tuesday. #Homework\n",
      "**********\n",
      "Topic 37\n",
      "Alexandria Ocasio-Cortez is bringing the activist who confronted Jeff Flake to the #SOTU.  https://t.co/brtQ4G8Jnk https://t.co/aZxDNsotB8\n",
      "**********\n",
      "Topic 38\n",
      "#SOTU   #SuperBowl 🇺🇸 https://t.co/mcPtzFntZl\n",
      "**********\n",
      "Topic 39\n",
      "What do I have to do to get an invite to the #SOTU???\n",
      "**********\n"
     ]
    }
   ],
   "source": [
    "for c in range(nr_components):\n",
    "    print('Topic', c)\n",
    "    print(df.text.iloc[W[:, c].argsort()[-1]].replace('\\n', ' '))\n",
    "    print('*'*10)"
   ]
  },
  {
   "cell_type": "markdown",
   "metadata": {},
   "source": [
    "And finally we select the top weights in each row of the matrix $H$ to assess the top terms that define each component:"
   ]
  },
  {
   "cell_type": "code",
   "execution_count": 74,
   "metadata": {},
   "outputs": [
    {
     "name": "stdout",
     "output_type": "stream",
     "text": [
      "0 ['lowering', 'rx costs', 'state union lowering', 'lowering rx costs']\n",
      "1 ['watch response staceyabrams', 'staceyabrams instead', 'response staceyabrams instead', 'pledge skip']\n",
      "2 ['promoted grand', 'northam promoted grand', 'grand wizard', 'northam promoted']\n",
      "3 ['democrat attend', 'democrat attend trump', 'attend trump', 'attend trump https']\n",
      "4 ['https', 'stateoftheunion', 'new', 'good']\n",
      "5 ['tell democrats', 'audience lies', 'lies skip', 'audience lies skip']\n",
      "6 ['qanon', 'followthewhiterabbit qanon greatawakening', 'greatawakening spygate walkaway', 'qanon greatawakening spygate']\n",
      "7 ['rephartzler', 'vp hawleymo', 'hawleymo rephartzler', 'royblunt']\n",
      "8 ['state', 'union', 'state union', 'union https']\n",
      "9 ['powerful sermon', 'powerful sermon church', 'sermon', 'sermon church']\n",
      "10 ['redbubble redbubbleartist https', 'wednesdaymotivation thursdaymotivation', 'redbubbleartist https', 'redbubbleartist']\n",
      "11 ['tomorrow', 'night', 'tomorrow night', 'tomorrow https']\n",
      "12 ['drainthedeepstate closingtime', 'closingtime', 'drainthedeepstate', 'golive closernation closermovement']\n",
      "13 ['watching greatest president', 'watching greatest', 'greatest president', 'history']\n",
      "14 ['open borders', 'open', 'supports open', 'supports open borders']\n",
      "15 ['dems', 'secure border', 'secure', 'border dems']\n",
      "16 ['realdonaldtrump', 'realdonaldtrump https', 'gop realdonaldtrump', 'gop']\n",
      "17 ['know staceyabrams', 'things know staceyabrams', 'things know', 'romance']\n",
      "18 ['home', 'stay home', 'stay', 'needed']\n",
      "19 ['democrats', 'radical', 'radical democrats', 'killed daily']\n",
      "20 ['trump', 'president', 'president trump', 'trump https']\n",
      "21 ['guest', 'guest https', 'bring', 'guest list']\n",
      "22 ['watching', 'watching https', 'won', 'won watching']\n",
      "23 ['watch', 'watch https', 'listen', 'watch trump']\n",
      "24 ['potus', 'potus realdonaldtrump', 'potus https', 'wait']\n",
      "25 ['disgusting', 'white men disgusting', 'disgusting comprehend', 'ilhanomar white men']\n",
      "26 ['address', 'union address', 'address https', 'state union address']\n",
      "27 ['response', 'staceyabrams', 'abrams', 'stacey']\n",
      "28 ['maga', 'maga https', 'mondaymotivation', 'rbg']\n",
      "29 ['icegov', 'illegal', 'arrest', 'illegals']\n",
      "30 ['emergency', 'national', 'national emergency', 'declare']\n",
      "31 ['tuesday', 'alyssa_milano', 'tools', 'alyssa_milano tuesday']\n",
      "32 ['want', 'know', 'whitehouse', 'guests']\n",
      "33 ['congress', 'citizens', 'focusing', 'congress focusing']\n",
      "34 ['sotu2019', 'sotu2019 https', 'stateoftheunion', 'stateoftheunionaddress']\n",
      "35 ['just', 'time', 'rbg', 'just time']\n",
      "36 ['forward', 'looking', 'looking forward', 'look']\n",
      "37 ['cortez', 'ocasio', 'ocasio cortez', 'alexandria ocasio']\n",
      "38 ['superbowl', 'superbowl https', 'https avdqha6lyv', 'avdqha6lyv']\n",
      "39 ['speakerpelosi', 'invite', 'boycott', 'housedemocrats']\n"
     ]
    }
   ],
   "source": [
    "vocabulary_idx = dict((v,k) for k,v in vocabulary.items())\n",
    "for c in range(nr_components):\n",
    "    print (c, [vocabulary_idx[idx] for idx in H[c].argsort()[:-5:-1]])"
   ]
  },
  {
   "cell_type": "markdown",
   "metadata": {},
   "source": [
    "# Agglomerative Matrix Factorization\n",
    "\n",
    "In the previous examples, we extracted a single pair of matrices $W$ and $H$ for the matrix $X$. In the Agglomerative Matrix Factorization, we will extract a pair of matrices $W^{(t)}$ and $H^{(t)}$ for each interval $t$. We can also reduce the number of components extracted in each interval to 10, since the amount of messages to analyze in each interval is smaller than the full dataset, and we expect to have activity in a smaller number of components in each interval.\n",
    "\n",
    "Since the amount of data in each interval is less and the number of components is also smaller, the time to process all intervals is less than the time to factorize the full matrix $X$. Also, another advantage of this method, is that the factorization of the intervals can be processed in parallel."
   ]
  },
  {
   "cell_type": "code",
   "execution_count": 83,
   "metadata": {},
   "outputs": [
    {
     "ename": "IndexError",
     "evalue": "boolean index did not match indexed array along dimension 0; dimension is 8466 but corresponding boolean dimension is 62816",
     "output_type": "error",
     "traceback": [
      "\u001b[0;31m---------------------------------------------------------------------------\u001b[0m",
      "\u001b[0;31mIndexError\u001b[0m                                Traceback (most recent call last)",
      "\u001b[0;32m<ipython-input-83-be4fb8333977>\u001b[0m in \u001b[0;36m<module>\u001b[0;34m()\u001b[0m\n\u001b[1;32m     17\u001b[0m         \u001b[0;32mcontinue\u001b[0m\u001b[0;34m\u001b[0m\u001b[0m\n\u001b[1;32m     18\u001b[0m     \u001b[0mtweets\u001b[0m\u001b[0;34m.\u001b[0m\u001b[0mappend\u001b[0m\u001b[0;34m(\u001b[0m\u001b[0mdf\u001b[0m\u001b[0;34m.\u001b[0m\u001b[0mtext\u001b[0m\u001b[0;34m[\u001b[0m\u001b[0mmask\u001b[0m\u001b[0;34m]\u001b[0m\u001b[0;34m.\u001b[0m\u001b[0mvalues\u001b[0m\u001b[0;34m)\u001b[0m\u001b[0;34m\u001b[0m\u001b[0m\n\u001b[0;32m---> 19\u001b[0;31m     \u001b[0midxs_interval\u001b[0m \u001b[0;34m=\u001b[0m \u001b[0midxs\u001b[0m\u001b[0;34m[\u001b[0m\u001b[0mmask\u001b[0m\u001b[0;34m.\u001b[0m\u001b[0mvalues\u001b[0m\u001b[0;34m]\u001b[0m\u001b[0;34m\u001b[0m\u001b[0m\n\u001b[0m\u001b[1;32m     20\u001b[0m \u001b[0;34m\u001b[0m\u001b[0m\n\u001b[1;32m     21\u001b[0m     \u001b[0mX_interval\u001b[0m \u001b[0;34m=\u001b[0m \u001b[0mX\u001b[0m\u001b[0;34m[\u001b[0m\u001b[0midxs_interval\u001b[0m\u001b[0;34m,\u001b[0m \u001b[0;34m:\u001b[0m\u001b[0;34m]\u001b[0m\u001b[0;34m\u001b[0m\u001b[0m\n",
      "\u001b[0;31mIndexError\u001b[0m: boolean index did not match indexed array along dimension 0; dimension is 8466 but corresponding boolean dimension is 62816"
     ]
    }
   ],
   "source": [
    "from sklearn import decomposition\n",
    "nr_components = 10\n",
    "\n",
    "W_list = []\n",
    "H_list = []\n",
    "\n",
    "tweets = []\n",
    "\n",
    "periods = np.arange('2019-02-01', '2019-02-05', dtype='datetime64[h]')\n",
    "idxs = arange(X.shape[0])\n",
    "\n",
    "for mn_start, mn_end in zip(periods, periods + np.timedelta64(1, 'h')):\n",
    "    mask = (df.created_at > mn_start) & (df.created_at <= mn_end)\n",
    "    if mask.sum() == 0:\n",
    "        #W_list.append(np.zeros((1, nr_components)))\n",
    "        #H_list.append(np.zeros((10, X.shape[1])))\n",
    "        continue\n",
    "    tweets.append(df.text[mask].values)\n",
    "    idxs_interval = idxs[mask.values]\n",
    "    \n",
    "    X_interval = X[idxs_interval, :]\n",
    "    nmf = decomposition.NMF(n_components=nr_components, max_iter=20)\n",
    "    W_interval = nmf.fit_transform(X_interval)\n",
    "    H_interval = nmf.components_\n",
    "    \n",
    "    W_list.append(W_interval)\n",
    "    H_list.append(H_interval)"
   ]
  },
  {
   "cell_type": "markdown",
   "metadata": {},
   "source": [
    "Each interval produced a set of 10 different components. Now, we have to connect the components in interval $t$ with their similar components in interval $t+1$. Also, if in a given interval we extracted 10 components but some of them are very similar, we can aggregate the similar component in a single component.\n",
    "\n",
    "All this complex aggregation can be easily achieved if we threat every component as an independent component and use agglomerative clustering (e.g., using **hierarchical clustering** available in `scipy`) to find out the hierarchy of similar clusters. Since we don't want two components that are too different from each other in the same cluster, we will use the method **complete** to compute the distance between two clusters. This method compares two different clusters by comparing the cosine distance between the farthest point of each cluster. "
   ]
  },
  {
   "cell_type": "code",
   "execution_count": 76,
   "metadata": {},
   "outputs": [],
   "source": [
    "from scipy.cluster.hierarchy import linkage, fcluster,inconsistent,leaves_list\n",
    "\n",
    "F = numpy.concatenate(H_list)\n",
    "Z = linkage(F, method='complete', metric='cosine')"
   ]
  },
  {
   "cell_type": "markdown",
   "metadata": {},
   "source": [
    "Plotting the **dendrogram**, we can have an idea of the hierarchy of components."
   ]
  },
  {
   "cell_type": "code",
   "execution_count": 77,
   "metadata": {},
   "outputs": [
    {
     "data": {
      "image/png": "[encoded data removed]",
      "text/plain": [
       "<Figure size 2400x800 with 1 Axes>"
      ]
     },
     "metadata": {},
     "output_type": "display_data"
    }
   ],
   "source": [
    "from scipy.cluster.hierarchy import dendrogram\n",
    "figure(num=None, figsize=(30, 10), dpi=80, facecolor='w', edgecolor='k')\n",
    "dend = dendrogram(Z)"
   ]
  },
  {
   "cell_type": "code",
   "execution_count": null,
   "metadata": {},
   "outputs": [],
   "source": [
    "nr_intervals =  len(H_list)"
   ]
  },
  {
   "cell_type": "markdown",
   "metadata": {},
   "source": [
    "Before calculating the stream matrix with the different clusters of components, we need to calculate the weight of each component separately. These weights are represented in a matrix $A$ as follows:"
   ]
  },
  {
   "cell_type": "code",
   "execution_count": null,
   "metadata": {},
   "outputs": [],
   "source": [
    "# Calculate the weight matrix A for each component for each interval\n",
    "A = np.zeros((nr_intervals, nr_components))\n",
    "for i in range(nr_intervals):\n",
    "    ns = np.sum(W_list[i], axis=1) + 0.0001\n",
    "    for j in range(nr_components):\n",
    "        normed = sum(W_list[i].T[j]/ns)\n",
    "        A[i,j] = normed"
   ]
  },
  {
   "cell_type": "markdown",
   "metadata": {},
   "source": [
    "Using this agglomerative method, we can extract hundreds of clusters that can refer to single events. We start with a high number of components (65 intervals, 10 components per interval) and we can tune the number of clusters by, for example, looking at the dendrogram and choosing a proper cut. Let's start by cutting the dendrogram at 0.8."
   ]
  },
  {
   "cell_type": "code",
   "execution_count": null,
   "metadata": {},
   "outputs": [],
   "source": [
    "clusterdata = fcluster(Z, 0.8, criterion='distance')\n",
    "clusterdata.max()"
   ]
  },
  {
   "cell_type": "markdown",
   "metadata": {},
   "source": [
    "From the weights of each component, we calculate the weight of each cluster as a matrix $M$. The weight of each cluster is the sum of the weights of the components it is composed."
   ]
  },
  {
   "cell_type": "code",
   "execution_count": null,
   "metadata": {},
   "outputs": [],
   "source": [
    "from scipy.cluster.hierarchy import leaves_list\n",
    "\n",
    "# maxclust = 50\n",
    "# clusterdata = fcluster(Z, maxclust, criterion='maxclust')\n",
    "\n",
    "clusterdata = fcluster(Z, 0.8, criterion='distance')\n",
    "clusterdata.max()\n",
    "\n",
    "M = np.zeros((clusterdata.max(), nr_intervals))\n",
    "leaveslist = leaves_list(Z)\n",
    "\n",
    "def from_idx(k):\n",
    "    i = int(k)%nr_components\n",
    "    j = int(k/nr_components)\n",
    "    return i,j\n",
    "\n",
    "for i in leaveslist:\n",
    "    \n",
    "    cid = clusterdata[i]-1\n",
    "    j,t = from_idx(i)\n",
    "    M[cid,t] += A[t,j]"
   ]
  },
  {
   "cell_type": "markdown",
   "metadata": {},
   "source": [
    "The matrix $M$ is the stream matrix that will be used in the visualization."
   ]
  },
  {
   "cell_type": "code",
   "execution_count": null,
   "metadata": {},
   "outputs": [],
   "source": [
    "plt.figure(figsize=(8,12))\n",
    "plt.pcolormesh(M, cmap=cm.gray_r)\n",
    "plt.ylim(0, M.shape[0])\n",
    "plt.xlim(0, M.shape[1])\n",
    "plt.yticks(np.arange(0, M.shape[0], 5))\n",
    "plt.xticks(np.arange(0, M.shape[1], 12), periods[::12], rotation=20);"
   ]
  },
  {
   "cell_type": "code",
   "execution_count": null,
   "metadata": {},
   "outputs": [],
   "source": []
  }
 ],
 "metadata": {
  "kernelspec": {
   "display_name": "Python 3",
   "language": "python",
   "name": "python3"
  },
  "language_info": {
   "codemirror_mode": {
    "name": "ipython",
    "version": 3
   },
   "file_extension": ".py",
   "mimetype": "text/x-python",
   "name": "python",
   "nbconvert_exporter": "python",
   "pygments_lexer": "ipython3",
   "version": "3.6.8"
  }
 },
 "nbformat": 4,
 "nbformat_minor": 1
}
