{
 "cells": [
  {
   "cell_type": "code",
   "execution_count": 1,
   "metadata": {},
   "outputs": [],
   "source": [
    "from datetime import datetime\n",
    "from dateutil import parser\n",
    "import json\n",
    "import time\n",
    "import gzip\n",
    "import pandas as pd\n",
    "import twython\n",
    "from twython import TwythonRateLimitError\n",
    "import Twitter_scraping as scraper\n",
    "import string\n",
    "import pickle as pkl\n",
    "import numpy as np\n",
    "from requests.exceptions import Timeout, ConnectionError\n",
    "from requests.packages.urllib3.exceptions import ReadTimeoutError\n",
    "import importlib\n",
    "\n",
    "import logging\n",
    "logging.basicConfig(filename='Twitter.log',level=logging.DEBUG)\n",
    "\n",
    "APP_KEY = 'ZIvxV0lZJnQI2FOuEqi0zzQqU'\n",
    "APP_SECRET = '28z7HZuCNX71NMc5TO8ga3woravEt5wFsvm7Z2Q7LERBpoSCno'\n",
    "twitter = twython.Twython(APP_KEY, APP_SECRET, oauth_version=2)\n",
    "ACCESS_TOKEN = twitter.obtain_access_token()\n",
    "twitter = twython.Twython(APP_KEY, access_token=ACCESS_TOKEN)"
   ]
  },
  {
   "cell_type": "code",
   "execution_count": 2,
   "metadata": {},
   "outputs": [],
   "source": [
    "Grid=pkl.load(open('../Results/2019-02-05_8_5000_diy_word2vec/pickle/Grid.pkl', 'rb'))\n",
    "latitudes=set([g[0] for g in Grid])\n",
    "longitudes=set([g[1] for g in Grid])\n",
    "delta_lat=max(latitudes)-min(latitudes)\n",
    "delta_lon=max(longitudes)-min(longitudes)\n",
    "\n",
    "Grid=[]\n",
    "for lat in sorted(latitudes):\n",
    "    g=[]\n",
    "    for lon in sorted(longitudes):\n",
    "        g.append((lat,lon))\n",
    "    Grid.append(g)\n",
    "grid_str=[['['+str(g[1])+' '+str(g[0])+' ' +str(g[1]+delta_lon)+' '+str(g[0]+delta_lat)+']' for g in G] for G in Grid]"
   ]
  },
  {
   "cell_type": "code",
   "execution_count": 3,
   "metadata": {},
   "outputs": [],
   "source": [
    "geo_center=','.join(grid_str[int(len(grid_str)/2)][int(len(grid_str[0])/2)].strip('[]').split(' ')[0:2][::-1])+',10km'"
   ]
  },
  {
   "cell_type": "code",
   "execution_count": 4,
   "metadata": {},
   "outputs": [
    {
     "data": {
      "text/plain": [
       "'45.071999999999996,7.672035750244399,10km'"
      ]
     },
     "execution_count": 4,
     "metadata": {},
     "output_type": "execute_result"
    }
   ],
   "source": [
    "geo_center"
   ]
  },
  {
   "cell_type": "code",
   "execution_count": 5,
   "metadata": {},
   "outputs": [],
   "source": [
    "search_parameters = dict(q='' , count = 100, max_id = None, geocode=geo_center)"
   ]
  },
  {
   "cell_type": "code",
   "execution_count": 6,
   "metadata": {},
   "outputs": [],
   "source": [
    "result=twitter.search(**search_parameters)"
   ]
  },
  {
   "cell_type": "code",
   "execution_count": 14,
   "metadata": {},
   "outputs": [],
   "source": [
    "user_ID='1102512439453761537'\n",
    "date_start = parser.parse('2000-02-01 00:00:00+00:00')"
   ]
  },
  {
   "cell_type": "code",
   "execution_count": 20,
   "metadata": {},
   "outputs": [
    {
     "ename": "AttributeError",
     "evalue": "'Twython' object has no attribute 'followers'",
     "output_type": "error",
     "traceback": [
      "\u001b[0;31m---------------------------------------------------------------------------\u001b[0m",
      "\u001b[0;31mAttributeError\u001b[0m                            Traceback (most recent call last)",
      "\u001b[0;32m<ipython-input-20-c6720c5647bf>\u001b[0m in \u001b[0;36m<module>\u001b[0;34m\u001b[0m\n\u001b[0;32m----> 1\u001b[0;31m \u001b[0mresult\u001b[0m\u001b[0;34m=\u001b[0m\u001b[0mtwitter\u001b[0m\u001b[0;34m.\u001b[0m\u001b[0mfollowers\u001b[0m\u001b[0;34m.\u001b[0m\u001b[0mids\u001b[0m\u001b[0;34m(\u001b[0m\u001b[0muser_ID\u001b[0m\u001b[0;34m)\u001b[0m\u001b[0;34m\u001b[0m\u001b[0;34m\u001b[0m\u001b[0m\n\u001b[0m",
      "\u001b[0;31mAttributeError\u001b[0m: 'Twython' object has no attribute 'followers'"
     ]
    }
   ],
   "source": [
    "result=twitter.followers.ids(user_ID)"
   ]
  },
  {
   "cell_type": "code",
   "execution_count": 20,
   "metadata": {},
   "outputs": [
    {
     "data": {
      "text/plain": [
       "True"
      ]
     },
     "execution_count": 20,
     "metadata": {},
     "output_type": "execute_result"
    }
   ],
   "source": [
    "result['statuses'][0]['place']['name']=='Turin'"
   ]
  },
  {
   "cell_type": "code",
   "execution_count": 33,
   "metadata": {
    "collapsed": true
   },
   "outputs": [
    {
     "data": {
      "text/plain": [
       "{'created_at': 'Thu Feb 28 09:12:58 +0000 2019',\n",
       " 'id': 1101047599325478912,\n",
       " 'id_str': '1101047599325478912',\n",
       " 'text': 'RT @Co3Project: RECONSIDERING BLOCKCHAIN: Séminaire organisé par l’IRI en partenariat avec Michel Bauwens et le projet européen CO3 #CO3pro…',\n",
       " 'truncated': False,\n",
       " 'entities': {'hashtags': [],\n",
       "  'symbols': [],\n",
       "  'user_mentions': [{'screen_name': 'Co3Project',\n",
       "    'name': 'CO3 Project',\n",
       "    'id': 1073519715484688384,\n",
       "    'id_str': '1073519715484688384',\n",
       "    'indices': [3, 14]}],\n",
       "  'urls': []},\n",
       " 'metadata': {'iso_language_code': 'fr', 'result_type': 'recent'},\n",
       " 'source': '<a href=\"http://twitter.com/download/iphone\" rel=\"nofollow\">Twitter for iPhone</a>',\n",
       " 'in_reply_to_status_id': None,\n",
       " 'in_reply_to_status_id_str': None,\n",
       " 'in_reply_to_user_id': None,\n",
       " 'in_reply_to_user_id_str': None,\n",
       " 'in_reply_to_screen_name': None,\n",
       " 'user': {'id': 292575853,\n",
       "  'id_str': '292575853',\n",
       "  'name': 'fAntonella',\n",
       "  'screen_name': 'fant0nella',\n",
       "  'location': '',\n",
       "  'description': 'More Human Centred than Designer.',\n",
       "  'url': None,\n",
       "  'entities': {'description': {'urls': []}},\n",
       "  'protected': False,\n",
       "  'followers_count': 133,\n",
       "  'friends_count': 446,\n",
       "  'listed_count': 17,\n",
       "  'created_at': 'Tue May 03 21:43:50 +0000 2011',\n",
       "  'favourites_count': 1201,\n",
       "  'utc_offset': None,\n",
       "  'time_zone': None,\n",
       "  'geo_enabled': False,\n",
       "  'verified': False,\n",
       "  'statuses_count': 912,\n",
       "  'lang': 'en-gb',\n",
       "  'contributors_enabled': False,\n",
       "  'is_translator': False,\n",
       "  'is_translation_enabled': False,\n",
       "  'profile_background_color': 'C6E2EE',\n",
       "  'profile_background_image_url': 'http://abs.twimg.com/images/themes/theme2/bg.gif',\n",
       "  'profile_background_image_url_https': 'https://abs.twimg.com/images/themes/theme2/bg.gif',\n",
       "  'profile_background_tile': False,\n",
       "  'profile_image_url': 'http://pbs.twimg.com/profile_images/1418897719/frisi_NY_normal.JPG',\n",
       "  'profile_image_url_https': 'https://pbs.twimg.com/profile_images/1418897719/frisi_NY_normal.JPG',\n",
       "  'profile_banner_url': 'https://pbs.twimg.com/profile_banners/292575853/1361629406',\n",
       "  'profile_link_color': 'FAB81E',\n",
       "  'profile_sidebar_border_color': 'FFFFFF',\n",
       "  'profile_sidebar_fill_color': 'DAECF4',\n",
       "  'profile_text_color': '663B12',\n",
       "  'profile_use_background_image': True,\n",
       "  'has_extended_profile': False,\n",
       "  'default_profile': False,\n",
       "  'default_profile_image': False,\n",
       "  'following': None,\n",
       "  'follow_request_sent': None,\n",
       "  'notifications': None,\n",
       "  'translator_type': 'none'},\n",
       " 'geo': None,\n",
       " 'coordinates': None,\n",
       " 'place': None,\n",
       " 'contributors': None,\n",
       " 'retweeted_status': {'created_at': 'Wed Feb 20 15:18:14 +0000 2019',\n",
       "  'id': 1098240416124751872,\n",
       "  'id_str': '1098240416124751872',\n",
       "  'text': 'RECONSIDERING BLOCKCHAIN: Séminaire organisé par l’IRI en partenariat avec Michel Bauwens et le projet européen CO3… https://t.co/JI2f9B0yio',\n",
       "  'truncated': True,\n",
       "  'entities': {'hashtags': [],\n",
       "   'symbols': [],\n",
       "   'user_mentions': [],\n",
       "   'urls': [{'url': 'https://t.co/JI2f9B0yio',\n",
       "     'expanded_url': 'https://twitter.com/i/web/status/1098240416124751872',\n",
       "     'display_url': 'twitter.com/i/web/status/1…',\n",
       "     'indices': [117, 140]}]},\n",
       "  'metadata': {'iso_language_code': 'fr', 'result_type': 'recent'},\n",
       "  'source': '<a href=\"http://twitter.com\" rel=\"nofollow\">Twitter Web Client</a>',\n",
       "  'in_reply_to_status_id': None,\n",
       "  'in_reply_to_status_id_str': None,\n",
       "  'in_reply_to_user_id': None,\n",
       "  'in_reply_to_user_id_str': None,\n",
       "  'in_reply_to_screen_name': None,\n",
       "  'user': {'id': 1073519715484688384,\n",
       "   'id_str': '1073519715484688384',\n",
       "   'name': 'CO3 Project',\n",
       "   'screen_name': 'Co3Project',\n",
       "   'location': 'Torino, Piemonte',\n",
       "   'description': 'CO3 project, Digital disruptive technologies to co-create, co-produce and co-manage public services along with citizens #H2020',\n",
       "   'url': None,\n",
       "   'entities': {'description': {'urls': []}},\n",
       "   'protected': False,\n",
       "   'followers_count': 51,\n",
       "   'friends_count': 35,\n",
       "   'listed_count': 0,\n",
       "   'created_at': 'Fri Dec 14 10:06:59 +0000 2018',\n",
       "   'favourites_count': 24,\n",
       "   'utc_offset': None,\n",
       "   'time_zone': None,\n",
       "   'geo_enabled': False,\n",
       "   'verified': False,\n",
       "   'statuses_count': 32,\n",
       "   'lang': 'en',\n",
       "   'contributors_enabled': False,\n",
       "   'is_translator': False,\n",
       "   'is_translation_enabled': False,\n",
       "   'profile_background_color': '000000',\n",
       "   'profile_background_image_url': 'http://abs.twimg.com/images/themes/theme1/bg.png',\n",
       "   'profile_background_image_url_https': 'https://abs.twimg.com/images/themes/theme1/bg.png',\n",
       "   'profile_background_tile': False,\n",
       "   'profile_image_url': 'http://pbs.twimg.com/profile_images/1091052375039795200/bIl5z8bq_normal.jpg',\n",
       "   'profile_image_url_https': 'https://pbs.twimg.com/profile_images/1091052375039795200/bIl5z8bq_normal.jpg',\n",
       "   'profile_banner_url': 'https://pbs.twimg.com/profile_banners/1073519715484688384/1547649675',\n",
       "   'profile_link_color': 'ABB8C2',\n",
       "   'profile_sidebar_border_color': '000000',\n",
       "   'profile_sidebar_fill_color': '000000',\n",
       "   'profile_text_color': '000000',\n",
       "   'profile_use_background_image': False,\n",
       "   'has_extended_profile': False,\n",
       "   'default_profile': False,\n",
       "   'default_profile_image': False,\n",
       "   'following': None,\n",
       "   'follow_request_sent': None,\n",
       "   'notifications': None,\n",
       "   'translator_type': 'none'},\n",
       "  'geo': None,\n",
       "  'coordinates': None,\n",
       "  'place': None,\n",
       "  'contributors': None,\n",
       "  'is_quote_status': False,\n",
       "  'retweet_count': 5,\n",
       "  'favorite_count': 8,\n",
       "  'favorited': False,\n",
       "  'retweeted': False,\n",
       "  'possibly_sensitive': False,\n",
       "  'lang': 'fr'},\n",
       " 'is_quote_status': False,\n",
       " 'retweet_count': 5,\n",
       " 'favorite_count': 0,\n",
       " 'favorited': False,\n",
       " 'retweeted': False,\n",
       " 'lang': 'fr'}"
      ]
     },
     "execution_count": 33,
     "metadata": {},
     "output_type": "execute_result"
    }
   ],
   "source": [
    "for r in result['statuses']:\n",
    "    try:\n",
    "        if r['place']['name']=='Turin':\n",
    "            pass\n",
    "        else:\n",
    "            print(r)\n",
    "    except TypeError:\n",
    "        break\n",
    "r"
   ]
  },
  {
   "cell_type": "code",
   "execution_count": 78,
   "metadata": {
    "collapsed": true
   },
   "outputs": [
    {
     "name": "stdout",
     "output_type": "stream",
     "text": [
      "Starting to query tweets\n",
      "Searching with parameters:  {'q': 'torino', 'count': 100, 'max_id': None, 'bounding_box': ['[7.576453909502152 45.00449999999999 7.767617590986647 45.1395]', '[7.582826032218302 45.00449999999999 7.773989713702797 45.1395]', '[7.589198154934451 45.00449999999999 7.780361836418946 45.1395]', '[7.595570277650601 45.00449999999999 7.786733959135096 45.1395]', '[7.601942400366751 45.00449999999999 7.793106081851246 45.1395]', '[7.608314523082901 45.00449999999999 7.799478204567396 45.1395]', '[7.6146866457990505 45.00449999999999 7.8058503272835456 45.1395]', '[7.6210587685152005 45.00449999999999 7.8122224499996955 45.1395]', '[7.62743089123135 45.00449999999999 7.8185945727158455 45.1395]', '[7.6338030139475 45.00449999999999 7.824966695431995 45.1395]', '[7.6401751366636494 45.00449999999999 7.8313388181481445 45.1395]', '[7.646547259379799 45.00449999999999 7.837710940864294 45.1395]', '[7.652919382095949 45.00449999999999 7.844083063580444 45.1395]', '[7.659291504812099 45.00449999999999 7.850455186296594 45.1395]', '[7.665663627528249 45.00449999999999 7.856827309012744 45.1395]', '[7.672035750244399 45.00449999999999 7.863199431728894 45.1395]', '[7.678407872960549 45.00449999999999 7.869571554445044 45.1395]', '[7.684779995676698 45.00449999999999 7.875943677161193 45.1395]', '[7.691152118392848 45.00449999999999 7.882315799877343 45.1395]', '[7.697524241108998 45.00449999999999 7.888687922593493 45.1395]', '[7.703896363825148 45.00449999999999 7.895060045309643 45.1395]', '[7.710268486541298 45.00449999999999 7.901432168025793 45.1395]', '[7.716640609257448 45.00449999999999 7.907804290741943 45.1395]', '[7.723012731973598 45.00449999999999 7.914176413458093 45.1395]', '[7.729384854689748 45.00449999999999 7.920548536174243 45.1395]', '[7.735756977405897 45.00449999999999 7.926920658890392 45.1395]', '[7.742129100122047 45.00449999999999 7.933292781606542 45.1395]', '[7.748501222838197 45.00449999999999 7.939664904322692 45.1395]', '[7.754873345554347 45.00449999999999 7.946037027038842 45.1395]', '[7.761245468270497 45.00449999999999 7.952409149754992 45.1395]', '[7.767617590986647 45.00449999999999 7.958781272471142 45.1395]']}\n",
      "100\n",
      "Searching with parameters:  {'q': 'torino', 'count': 100, 'max_id': 1100355401441259519, 'bounding_box': ['[7.576453909502152 45.00449999999999 7.767617590986647 45.1395]', '[7.582826032218302 45.00449999999999 7.773989713702797 45.1395]', '[7.589198154934451 45.00449999999999 7.780361836418946 45.1395]', '[7.595570277650601 45.00449999999999 7.786733959135096 45.1395]', '[7.601942400366751 45.00449999999999 7.793106081851246 45.1395]', '[7.608314523082901 45.00449999999999 7.799478204567396 45.1395]', '[7.6146866457990505 45.00449999999999 7.8058503272835456 45.1395]', '[7.6210587685152005 45.00449999999999 7.8122224499996955 45.1395]', '[7.62743089123135 45.00449999999999 7.8185945727158455 45.1395]', '[7.6338030139475 45.00449999999999 7.824966695431995 45.1395]', '[7.6401751366636494 45.00449999999999 7.8313388181481445 45.1395]', '[7.646547259379799 45.00449999999999 7.837710940864294 45.1395]', '[7.652919382095949 45.00449999999999 7.844083063580444 45.1395]', '[7.659291504812099 45.00449999999999 7.850455186296594 45.1395]', '[7.665663627528249 45.00449999999999 7.856827309012744 45.1395]', '[7.672035750244399 45.00449999999999 7.863199431728894 45.1395]', '[7.678407872960549 45.00449999999999 7.869571554445044 45.1395]', '[7.684779995676698 45.00449999999999 7.875943677161193 45.1395]', '[7.691152118392848 45.00449999999999 7.882315799877343 45.1395]', '[7.697524241108998 45.00449999999999 7.888687922593493 45.1395]', '[7.703896363825148 45.00449999999999 7.895060045309643 45.1395]', '[7.710268486541298 45.00449999999999 7.901432168025793 45.1395]', '[7.716640609257448 45.00449999999999 7.907804290741943 45.1395]', '[7.723012731973598 45.00449999999999 7.914176413458093 45.1395]', '[7.729384854689748 45.00449999999999 7.920548536174243 45.1395]', '[7.735756977405897 45.00449999999999 7.926920658890392 45.1395]', '[7.742129100122047 45.00449999999999 7.933292781606542 45.1395]', '[7.748501222838197 45.00449999999999 7.939664904322692 45.1395]', '[7.754873345554347 45.00449999999999 7.946037027038842 45.1395]', '[7.761245468270497 45.00449999999999 7.952409149754992 45.1395]', '[7.767617590986647 45.00449999999999 7.958781272471142 45.1395]']}\n",
      "100\n",
      "Searching with parameters:  {'q': 'torino', 'count': 100, 'max_id': 1100351223335505919, 'bounding_box': ['[7.576453909502152 45.00449999999999 7.767617590986647 45.1395]', '[7.582826032218302 45.00449999999999 7.773989713702797 45.1395]', '[7.589198154934451 45.00449999999999 7.780361836418946 45.1395]', '[7.595570277650601 45.00449999999999 7.786733959135096 45.1395]', '[7.601942400366751 45.00449999999999 7.793106081851246 45.1395]', '[7.608314523082901 45.00449999999999 7.799478204567396 45.1395]', '[7.6146866457990505 45.00449999999999 7.8058503272835456 45.1395]', '[7.6210587685152005 45.00449999999999 7.8122224499996955 45.1395]', '[7.62743089123135 45.00449999999999 7.8185945727158455 45.1395]', '[7.6338030139475 45.00449999999999 7.824966695431995 45.1395]', '[7.6401751366636494 45.00449999999999 7.8313388181481445 45.1395]', '[7.646547259379799 45.00449999999999 7.837710940864294 45.1395]', '[7.652919382095949 45.00449999999999 7.844083063580444 45.1395]', '[7.659291504812099 45.00449999999999 7.850455186296594 45.1395]', '[7.665663627528249 45.00449999999999 7.856827309012744 45.1395]', '[7.672035750244399 45.00449999999999 7.863199431728894 45.1395]', '[7.678407872960549 45.00449999999999 7.869571554445044 45.1395]', '[7.684779995676698 45.00449999999999 7.875943677161193 45.1395]', '[7.691152118392848 45.00449999999999 7.882315799877343 45.1395]', '[7.697524241108998 45.00449999999999 7.888687922593493 45.1395]', '[7.703896363825148 45.00449999999999 7.895060045309643 45.1395]', '[7.710268486541298 45.00449999999999 7.901432168025793 45.1395]', '[7.716640609257448 45.00449999999999 7.907804290741943 45.1395]', '[7.723012731973598 45.00449999999999 7.914176413458093 45.1395]', '[7.729384854689748 45.00449999999999 7.920548536174243 45.1395]', '[7.735756977405897 45.00449999999999 7.926920658890392 45.1395]', '[7.742129100122047 45.00449999999999 7.933292781606542 45.1395]', '[7.748501222838197 45.00449999999999 7.939664904322692 45.1395]', '[7.754873345554347 45.00449999999999 7.946037027038842 45.1395]', '[7.761245468270497 45.00449999999999 7.952409149754992 45.1395]', '[7.767617590986647 45.00449999999999 7.958781272471142 45.1395]']}\n",
      "100\n",
      "Searching with parameters:  {'q': 'torino', 'count': 100, 'max_id': 1100347903955124223, 'bounding_box': ['[7.576453909502152 45.00449999999999 7.767617590986647 45.1395]', '[7.582826032218302 45.00449999999999 7.773989713702797 45.1395]', '[7.589198154934451 45.00449999999999 7.780361836418946 45.1395]', '[7.595570277650601 45.00449999999999 7.786733959135096 45.1395]', '[7.601942400366751 45.00449999999999 7.793106081851246 45.1395]', '[7.608314523082901 45.00449999999999 7.799478204567396 45.1395]', '[7.6146866457990505 45.00449999999999 7.8058503272835456 45.1395]', '[7.6210587685152005 45.00449999999999 7.8122224499996955 45.1395]', '[7.62743089123135 45.00449999999999 7.8185945727158455 45.1395]', '[7.6338030139475 45.00449999999999 7.824966695431995 45.1395]', '[7.6401751366636494 45.00449999999999 7.8313388181481445 45.1395]', '[7.646547259379799 45.00449999999999 7.837710940864294 45.1395]', '[7.652919382095949 45.00449999999999 7.844083063580444 45.1395]', '[7.659291504812099 45.00449999999999 7.850455186296594 45.1395]', '[7.665663627528249 45.00449999999999 7.856827309012744 45.1395]', '[7.672035750244399 45.00449999999999 7.863199431728894 45.1395]', '[7.678407872960549 45.00449999999999 7.869571554445044 45.1395]', '[7.684779995676698 45.00449999999999 7.875943677161193 45.1395]', '[7.691152118392848 45.00449999999999 7.882315799877343 45.1395]', '[7.697524241108998 45.00449999999999 7.888687922593493 45.1395]', '[7.703896363825148 45.00449999999999 7.895060045309643 45.1395]', '[7.710268486541298 45.00449999999999 7.901432168025793 45.1395]', '[7.716640609257448 45.00449999999999 7.907804290741943 45.1395]', '[7.723012731973598 45.00449999999999 7.914176413458093 45.1395]', '[7.729384854689748 45.00449999999999 7.920548536174243 45.1395]', '[7.735756977405897 45.00449999999999 7.926920658890392 45.1395]', '[7.742129100122047 45.00449999999999 7.933292781606542 45.1395]', '[7.748501222838197 45.00449999999999 7.939664904322692 45.1395]', '[7.754873345554347 45.00449999999999 7.946037027038842 45.1395]', '[7.761245468270497 45.00449999999999 7.952409149754992 45.1395]', '[7.767617590986647 45.00449999999999 7.958781272471142 45.1395]']}\n"
     ]
    },
    {
     "ename": "KeyboardInterrupt",
     "evalue": "",
     "output_type": "error",
     "traceback": [
      "\u001b[0;31m---------------------------------------------------------------------------\u001b[0m",
      "\u001b[0;31mKeyboardInterrupt\u001b[0m                         Traceback (most recent call last)",
      "\u001b[0;32m~/Lagrange_Git/Twitter_scraping/Twitter_scraping.py\u001b[0m in \u001b[0;36mquery_by_word\u001b[0;34m(search_parameters, twitter)\u001b[0m\n\u001b[1;32m     26\u001b[0m         \u001b[0;32mtry\u001b[0m\u001b[0;34m:\u001b[0m\u001b[0;34m\u001b[0m\u001b[0;34m\u001b[0m\u001b[0m\n\u001b[0;32m---> 27\u001b[0;31m             \u001b[0mresult\u001b[0m \u001b[0;34m=\u001b[0m \u001b[0mtwitter\u001b[0m\u001b[0;34m.\u001b[0m\u001b[0msearch\u001b[0m\u001b[0;34m(\u001b[0m\u001b[0;34m**\u001b[0m\u001b[0msearch_parameters\u001b[0m\u001b[0;34m)\u001b[0m\u001b[0;34m\u001b[0m\u001b[0;34m\u001b[0m\u001b[0m\n\u001b[0m\u001b[1;32m     28\u001b[0m         \u001b[0;32mexcept\u001b[0m \u001b[0mTwythonRateLimitError\u001b[0m\u001b[0;34m:\u001b[0m\u001b[0;34m\u001b[0m\u001b[0;34m\u001b[0m\u001b[0m\n",
      "\u001b[0;32m~/.local/lib/python3.6/site-packages/twython/endpoints.py\u001b[0m in \u001b[0;36msearch\u001b[0;34m(self, **params)\u001b[0m\n\u001b[1;32m    292\u001b[0m         \"\"\"\n\u001b[0;32m--> 293\u001b[0;31m         \u001b[0;32mreturn\u001b[0m \u001b[0mself\u001b[0m\u001b[0;34m.\u001b[0m\u001b[0mget\u001b[0m\u001b[0;34m(\u001b[0m\u001b[0;34m'search/tweets'\u001b[0m\u001b[0;34m,\u001b[0m \u001b[0mparams\u001b[0m\u001b[0;34m=\u001b[0m\u001b[0mparams\u001b[0m\u001b[0;34m)\u001b[0m\u001b[0;34m\u001b[0m\u001b[0;34m\u001b[0m\u001b[0m\n\u001b[0m\u001b[1;32m    294\u001b[0m     \u001b[0msearch\u001b[0m\u001b[0;34m.\u001b[0m\u001b[0miter_mode\u001b[0m \u001b[0;34m=\u001b[0m \u001b[0;34m'id'\u001b[0m\u001b[0;34m\u001b[0m\u001b[0;34m\u001b[0m\u001b[0m\n",
      "\u001b[0;32m~/.local/lib/python3.6/site-packages/twython/api.py\u001b[0m in \u001b[0;36mget\u001b[0;34m(self, endpoint, params, version)\u001b[0m\n\u001b[1;32m    269\u001b[0m         \u001b[0;34m\"\"\"Shortcut for GET requests via :class:`request`\"\"\"\u001b[0m\u001b[0;34m\u001b[0m\u001b[0;34m\u001b[0m\u001b[0m\n\u001b[0;32m--> 270\u001b[0;31m         \u001b[0;32mreturn\u001b[0m \u001b[0mself\u001b[0m\u001b[0;34m.\u001b[0m\u001b[0mrequest\u001b[0m\u001b[0;34m(\u001b[0m\u001b[0mendpoint\u001b[0m\u001b[0;34m,\u001b[0m \u001b[0mparams\u001b[0m\u001b[0;34m=\u001b[0m\u001b[0mparams\u001b[0m\u001b[0;34m,\u001b[0m \u001b[0mversion\u001b[0m\u001b[0;34m=\u001b[0m\u001b[0mversion\u001b[0m\u001b[0;34m)\u001b[0m\u001b[0;34m\u001b[0m\u001b[0;34m\u001b[0m\u001b[0m\n\u001b[0m\u001b[1;32m    271\u001b[0m \u001b[0;34m\u001b[0m\u001b[0m\n",
      "\u001b[0;32m~/.local/lib/python3.6/site-packages/twython/api.py\u001b[0m in \u001b[0;36mrequest\u001b[0;34m(self, endpoint, method, params, version)\u001b[0m\n\u001b[1;32m    263\u001b[0m         content = self._request(url, method=method, params=params,\n\u001b[0;32m--> 264\u001b[0;31m                                 api_call=url)\n\u001b[0m\u001b[1;32m    265\u001b[0m \u001b[0;34m\u001b[0m\u001b[0m\n",
      "\u001b[0;32m~/.local/lib/python3.6/site-packages/twython/api.py\u001b[0m in \u001b[0;36m_request\u001b[0;34m(self, url, method, params, api_call)\u001b[0m\n\u001b[1;32m    163\u001b[0m         \u001b[0;32mtry\u001b[0m\u001b[0;34m:\u001b[0m\u001b[0;34m\u001b[0m\u001b[0;34m\u001b[0m\u001b[0m\n\u001b[0;32m--> 164\u001b[0;31m             \u001b[0mresponse\u001b[0m \u001b[0;34m=\u001b[0m \u001b[0mfunc\u001b[0m\u001b[0;34m(\u001b[0m\u001b[0murl\u001b[0m\u001b[0;34m,\u001b[0m \u001b[0;34m**\u001b[0m\u001b[0mrequests_args\u001b[0m\u001b[0;34m)\u001b[0m\u001b[0;34m\u001b[0m\u001b[0;34m\u001b[0m\u001b[0m\n\u001b[0m\u001b[1;32m    165\u001b[0m         \u001b[0;32mexcept\u001b[0m \u001b[0mrequests\u001b[0m\u001b[0;34m.\u001b[0m\u001b[0mRequestException\u001b[0m \u001b[0;32mas\u001b[0m \u001b[0me\u001b[0m\u001b[0;34m:\u001b[0m\u001b[0;34m\u001b[0m\u001b[0;34m\u001b[0m\u001b[0m\n",
      "\u001b[0;32m~/.local/lib/python3.6/site-packages/requests/sessions.py\u001b[0m in \u001b[0;36mget\u001b[0;34m(self, url, **kwargs)\u001b[0m\n\u001b[1;32m    545\u001b[0m         \u001b[0mkwargs\u001b[0m\u001b[0;34m.\u001b[0m\u001b[0msetdefault\u001b[0m\u001b[0;34m(\u001b[0m\u001b[0;34m'allow_redirects'\u001b[0m\u001b[0;34m,\u001b[0m \u001b[0;32mTrue\u001b[0m\u001b[0;34m)\u001b[0m\u001b[0;34m\u001b[0m\u001b[0;34m\u001b[0m\u001b[0m\n\u001b[0;32m--> 546\u001b[0;31m         \u001b[0;32mreturn\u001b[0m \u001b[0mself\u001b[0m\u001b[0;34m.\u001b[0m\u001b[0mrequest\u001b[0m\u001b[0;34m(\u001b[0m\u001b[0;34m'GET'\u001b[0m\u001b[0;34m,\u001b[0m \u001b[0murl\u001b[0m\u001b[0;34m,\u001b[0m \u001b[0;34m**\u001b[0m\u001b[0mkwargs\u001b[0m\u001b[0;34m)\u001b[0m\u001b[0;34m\u001b[0m\u001b[0;34m\u001b[0m\u001b[0m\n\u001b[0m\u001b[1;32m    547\u001b[0m \u001b[0;34m\u001b[0m\u001b[0m\n",
      "\u001b[0;32m~/.local/lib/python3.6/site-packages/requests/sessions.py\u001b[0m in \u001b[0;36mrequest\u001b[0;34m(self, method, url, params, data, headers, cookies, files, auth, timeout, allow_redirects, proxies, hooks, stream, verify, cert, json)\u001b[0m\n\u001b[1;32m    532\u001b[0m         \u001b[0msend_kwargs\u001b[0m\u001b[0;34m.\u001b[0m\u001b[0mupdate\u001b[0m\u001b[0;34m(\u001b[0m\u001b[0msettings\u001b[0m\u001b[0;34m)\u001b[0m\u001b[0;34m\u001b[0m\u001b[0;34m\u001b[0m\u001b[0m\n\u001b[0;32m--> 533\u001b[0;31m         \u001b[0mresp\u001b[0m \u001b[0;34m=\u001b[0m \u001b[0mself\u001b[0m\u001b[0;34m.\u001b[0m\u001b[0msend\u001b[0m\u001b[0;34m(\u001b[0m\u001b[0mprep\u001b[0m\u001b[0;34m,\u001b[0m \u001b[0;34m**\u001b[0m\u001b[0msend_kwargs\u001b[0m\u001b[0;34m)\u001b[0m\u001b[0;34m\u001b[0m\u001b[0;34m\u001b[0m\u001b[0m\n\u001b[0m\u001b[1;32m    534\u001b[0m \u001b[0;34m\u001b[0m\u001b[0m\n",
      "\u001b[0;32m~/.local/lib/python3.6/site-packages/requests/sessions.py\u001b[0m in \u001b[0;36msend\u001b[0;34m(self, request, **kwargs)\u001b[0m\n\u001b[1;32m    645\u001b[0m         \u001b[0;31m# Send the request\u001b[0m\u001b[0;34m\u001b[0m\u001b[0;34m\u001b[0m\u001b[0;34m\u001b[0m\u001b[0m\n\u001b[0;32m--> 646\u001b[0;31m         \u001b[0mr\u001b[0m \u001b[0;34m=\u001b[0m \u001b[0madapter\u001b[0m\u001b[0;34m.\u001b[0m\u001b[0msend\u001b[0m\u001b[0;34m(\u001b[0m\u001b[0mrequest\u001b[0m\u001b[0;34m,\u001b[0m \u001b[0;34m**\u001b[0m\u001b[0mkwargs\u001b[0m\u001b[0;34m)\u001b[0m\u001b[0;34m\u001b[0m\u001b[0;34m\u001b[0m\u001b[0m\n\u001b[0m\u001b[1;32m    647\u001b[0m \u001b[0;34m\u001b[0m\u001b[0m\n",
      "\u001b[0;32m~/.local/lib/python3.6/site-packages/requests/adapters.py\u001b[0m in \u001b[0;36msend\u001b[0;34m(self, request, stream, timeout, verify, cert, proxies)\u001b[0m\n\u001b[1;32m    448\u001b[0m                     \u001b[0mretries\u001b[0m\u001b[0;34m=\u001b[0m\u001b[0mself\u001b[0m\u001b[0;34m.\u001b[0m\u001b[0mmax_retries\u001b[0m\u001b[0;34m,\u001b[0m\u001b[0;34m\u001b[0m\u001b[0;34m\u001b[0m\u001b[0m\n\u001b[0;32m--> 449\u001b[0;31m                     \u001b[0mtimeout\u001b[0m\u001b[0;34m=\u001b[0m\u001b[0mtimeout\u001b[0m\u001b[0;34m\u001b[0m\u001b[0;34m\u001b[0m\u001b[0m\n\u001b[0m\u001b[1;32m    450\u001b[0m                 )\n",
      "\u001b[0;32m~/.local/lib/python3.6/site-packages/urllib3/connectionpool.py\u001b[0m in \u001b[0;36murlopen\u001b[0;34m(self, method, url, body, headers, retries, redirect, assert_same_host, timeout, pool_timeout, release_conn, chunked, body_pos, **response_kw)\u001b[0m\n\u001b[1;32m    542\u001b[0m \u001b[0;34m\u001b[0m\u001b[0m\n\u001b[0;32m--> 543\u001b[0;31m         \u001b[0;32mif\u001b[0m \u001b[0;32mnot\u001b[0m \u001b[0misinstance\u001b[0m\u001b[0;34m(\u001b[0m\u001b[0mretries\u001b[0m\u001b[0;34m,\u001b[0m \u001b[0mRetry\u001b[0m\u001b[0;34m)\u001b[0m\u001b[0;34m:\u001b[0m\u001b[0;34m\u001b[0m\u001b[0;34m\u001b[0m\u001b[0m\n\u001b[0m\u001b[1;32m    544\u001b[0m             \u001b[0mretries\u001b[0m \u001b[0;34m=\u001b[0m \u001b[0mRetry\u001b[0m\u001b[0;34m.\u001b[0m\u001b[0mfrom_int\u001b[0m\u001b[0;34m(\u001b[0m\u001b[0mretries\u001b[0m\u001b[0;34m,\u001b[0m \u001b[0mredirect\u001b[0m\u001b[0;34m=\u001b[0m\u001b[0mredirect\u001b[0m\u001b[0;34m,\u001b[0m \u001b[0mdefault\u001b[0m\u001b[0;34m=\u001b[0m\u001b[0mself\u001b[0m\u001b[0;34m.\u001b[0m\u001b[0mretries\u001b[0m\u001b[0;34m)\u001b[0m\u001b[0;34m\u001b[0m\u001b[0;34m\u001b[0m\u001b[0m\n",
      "\u001b[0;31mKeyboardInterrupt\u001b[0m: ",
      "\nDuring handling of the above exception, another exception occurred:\n",
      "\u001b[0;31mKeyboardInterrupt\u001b[0m                         Traceback (most recent call last)",
      "\u001b[0;32m<ipython-input-78-c63f8a1d5784>\u001b[0m in \u001b[0;36m<module>\u001b[0;34m\u001b[0m\n\u001b[1;32m      2\u001b[0m \u001b[0msearch_parameters\u001b[0m \u001b[0;34m=\u001b[0m \u001b[0mdict\u001b[0m\u001b[0;34m(\u001b[0m\u001b[0mq\u001b[0m\u001b[0;34m=\u001b[0m\u001b[0;34m'torino'\u001b[0m \u001b[0;34m,\u001b[0m \u001b[0mcount\u001b[0m \u001b[0;34m=\u001b[0m \u001b[0;36m100\u001b[0m\u001b[0;34m,\u001b[0m \u001b[0mmax_id\u001b[0m \u001b[0;34m=\u001b[0m \u001b[0;32mNone\u001b[0m\u001b[0;34m,\u001b[0m \u001b[0mbounding_box\u001b[0m\u001b[0;34m=\u001b[0m\u001b[0mgrid_str\u001b[0m\u001b[0;34m[\u001b[0m\u001b[0;36m0\u001b[0m\u001b[0;34m]\u001b[0m\u001b[0;34m)\u001b[0m\u001b[0;34m\u001b[0m\u001b[0;34m\u001b[0m\u001b[0m\n\u001b[1;32m      3\u001b[0m \u001b[0mprint\u001b[0m\u001b[0;34m(\u001b[0m\u001b[0;34m\"Starting to query tweets\"\u001b[0m\u001b[0;34m)\u001b[0m\u001b[0;34m\u001b[0m\u001b[0;34m\u001b[0m\u001b[0m\n\u001b[0;32m----> 4\u001b[0;31m \u001b[0mT_tot\u001b[0m\u001b[0;34m=\u001b[0m\u001b[0mscraper\u001b[0m\u001b[0;34m.\u001b[0m\u001b[0mquery_by_word\u001b[0m\u001b[0;34m(\u001b[0m\u001b[0msearch_parameters\u001b[0m\u001b[0;34m,\u001b[0m \u001b[0mtwitter\u001b[0m\u001b[0;34m)\u001b[0m\u001b[0;34m\u001b[0m\u001b[0;34m\u001b[0m\u001b[0m\n\u001b[0m",
      "\u001b[0;32m~/Lagrange_Git/Twitter_scraping/Twitter_scraping.py\u001b[0m in \u001b[0;36mquery_by_word\u001b[0;34m(search_parameters, twitter)\u001b[0m\n\u001b[1;32m     33\u001b[0m             \u001b[0;32mcontinue\u001b[0m\u001b[0;34m\u001b[0m\u001b[0;34m\u001b[0m\u001b[0m\n\u001b[1;32m     34\u001b[0m         \u001b[0;32mexcept\u001b[0m \u001b[0mBaseException\u001b[0m\u001b[0;34m:\u001b[0m\u001b[0;34m\u001b[0m\u001b[0;34m\u001b[0m\u001b[0m\n\u001b[0;32m---> 35\u001b[0;31m             \u001b[0mtime\u001b[0m\u001b[0;34m.\u001b[0m\u001b[0msleep\u001b[0m\u001b[0;34m(\u001b[0m\u001b[0;36m60\u001b[0m\u001b[0;34m)\u001b[0m\u001b[0;34m\u001b[0m\u001b[0;34m\u001b[0m\u001b[0m\n\u001b[0m\u001b[1;32m     36\u001b[0m             \u001b[0;32mcontinue\u001b[0m\u001b[0;34m\u001b[0m\u001b[0;34m\u001b[0m\u001b[0m\n\u001b[1;32m     37\u001b[0m         \u001b[0;31m# add the statuses to a list\u001b[0m\u001b[0;34m\u001b[0m\u001b[0;34m\u001b[0m\u001b[0;34m\u001b[0m\u001b[0m\n",
      "\u001b[0;31mKeyboardInterrupt\u001b[0m: "
     ]
    }
   ],
   "source": [
    "importlib.reload(scraper)\n",
    "search_parameters = dict(q='torino' , count = 100, max_id = None, bounding_box=grid_str[0][0])\n",
    "print(\"Starting to query tweets\")\n",
    "T_tot=scraper.query_by_word(search_parameters, twitter)"
   ]
  },
  {
   "cell_type": "code",
   "execution_count": 179,
   "metadata": {},
   "outputs": [
    {
     "data": {
      "text/plain": [
       "'[7.576453909502152 45.00449999999999 7.767617590986647 45.1395]'"
      ]
     },
     "execution_count": 179,
     "metadata": {},
     "output_type": "execute_result"
    }
   ],
   "source": [
    "grid_str[0][0]"
   ]
  },
  {
   "cell_type": "code",
   "execution_count": 6,
   "metadata": {},
   "outputs": [],
   "source": [
    "import yweather"
   ]
  },
  {
   "cell_type": "code",
   "execution_count": 7,
   "metadata": {},
   "outputs": [
    {
     "data": {
      "text/plain": [
       "'725003'"
      ]
     },
     "execution_count": 7,
     "metadata": {},
     "output_type": "execute_result"
    }
   ],
   "source": [
    "client = yweather.Client()\n",
    "client.fetch_woeid('Torino')"
   ]
  },
  {
   "cell_type": "code",
   "execution_count": 8,
   "metadata": {},
   "outputs": [],
   "source": [
    "search_parameters = dict(id=client.fetch_woeid('Torino'))\n",
    "result=twitter.get_place_trends(**search_parameters)"
   ]
  },
  {
   "cell_type": "code",
   "execution_count": 224,
   "metadata": {
    "collapsed": true
   },
   "outputs": [
    {
     "data": {
      "text/plain": [
       "[{'trends': [{'name': 'Sardegna',\n",
       "    'url': 'http://twitter.com/search?q=Sardegna',\n",
       "    'promoted_content': None,\n",
       "    'query': 'Sardegna',\n",
       "    'tweet_volume': 34163},\n",
       "   {'name': '#F1Testing',\n",
       "    'url': 'http://twitter.com/search?q=%23F1Testing',\n",
       "    'promoted_content': None,\n",
       "    'query': '%23F1Testing',\n",
       "    'tweet_volume': 17690},\n",
       "   {'name': '#Oscars',\n",
       "    'url': 'http://twitter.com/search?q=%23Oscars',\n",
       "    'promoted_content': None,\n",
       "    'query': '%23Oscars',\n",
       "    'tweet_volume': 738801},\n",
       "   {'name': '#25febbraio',\n",
       "    'url': 'http://twitter.com/search?q=%2325febbraio',\n",
       "    'promoted_content': None,\n",
       "    'query': '%2325febbraio',\n",
       "    'tweet_volume': None},\n",
       "   {'name': '#MarkHollis',\n",
       "    'url': 'http://twitter.com/search?q=%23MarkHollis',\n",
       "    'promoted_content': None,\n",
       "    'query': '%23MarkHollis',\n",
       "    'tweet_volume': 18475},\n",
       "   {'name': '#LaStagioneDellaCaccia',\n",
       "    'url': 'http://twitter.com/search?q=%23LaStagioneDellaCaccia',\n",
       "    'promoted_content': None,\n",
       "    'query': '%23LaStagioneDellaCaccia',\n",
       "    'tweet_volume': None},\n",
       "   {'name': 'Manuel',\n",
       "    'url': 'http://twitter.com/search?q=Manuel',\n",
       "    'promoted_content': None,\n",
       "    'query': 'Manuel',\n",
       "    'tweet_volume': 64893},\n",
       "   {'name': 'Giudice Sportivo',\n",
       "    'url': 'http://twitter.com/search?q=%22Giudice+Sportivo%22',\n",
       "    'promoted_content': None,\n",
       "    'query': '%22Giudice+Sportivo%22',\n",
       "    'tweet_volume': None},\n",
       "   {'name': 'Pippi Calzelunghe',\n",
       "    'url': 'http://twitter.com/search?q=%22Pippi+Calzelunghe%22',\n",
       "    'promoted_content': None,\n",
       "    'query': '%22Pippi+Calzelunghe%22',\n",
       "    'tweet_volume': None},\n",
       "   {'name': 'Sonia',\n",
       "    'url': 'http://twitter.com/search?q=Sonia',\n",
       "    'promoted_content': None,\n",
       "    'query': 'Sonia',\n",
       "    'tweet_volume': 21872},\n",
       "   {'name': 'rudy',\n",
       "    'url': 'http://twitter.com/search?q=rudy',\n",
       "    'promoted_content': None,\n",
       "    'query': 'rudy',\n",
       "    'tweet_volume': None},\n",
       "   {'name': 'Pakistan',\n",
       "    'url': 'http://twitter.com/search?q=Pakistan',\n",
       "    'promoted_content': None,\n",
       "    'query': 'Pakistan',\n",
       "    'tweet_volume': 1091493},\n",
       "   {'name': 'la celentano',\n",
       "    'url': 'http://twitter.com/search?q=%22la+celentano%22',\n",
       "    'promoted_content': None,\n",
       "    'query': '%22la+celentano%22',\n",
       "    'tweet_volume': None},\n",
       "   {'name': 'Zerbi',\n",
       "    'url': 'http://twitter.com/search?q=Zerbi',\n",
       "    'promoted_content': None,\n",
       "    'query': 'Zerbi',\n",
       "    'tweet_volume': None},\n",
       "   {'name': 'Yemen',\n",
       "    'url': 'http://twitter.com/search?q=Yemen',\n",
       "    'promoted_content': None,\n",
       "    'query': 'Yemen',\n",
       "    'tweet_volume': 127895},\n",
       "   {'name': 'Talk Talk',\n",
       "    'url': 'http://twitter.com/search?q=%22Talk+Talk%22',\n",
       "    'promoted_content': None,\n",
       "    'query': '%22Talk+Talk%22',\n",
       "    'tweet_volume': 42126},\n",
       "   {'name': 'Lady Gaga',\n",
       "    'url': 'http://twitter.com/search?q=%22Lady+Gaga%22',\n",
       "    'promoted_content': None,\n",
       "    'query': '%22Lady+Gaga%22',\n",
       "    'tweet_volume': 423917},\n",
       "   {'name': 'Pell',\n",
       "    'url': 'http://twitter.com/search?q=Pell',\n",
       "    'promoted_content': None,\n",
       "    'query': 'Pell',\n",
       "    'tweet_volume': 134579},\n",
       "   {'name': '#Shadowhunters',\n",
       "    'url': 'http://twitter.com/search?q=%23Shadowhunters',\n",
       "    'promoted_content': None,\n",
       "    'query': '%23Shadowhunters',\n",
       "    'tweet_volume': 103014},\n",
       "   {'name': '#FiorentinaInter',\n",
       "    'url': 'http://twitter.com/search?q=%23FiorentinaInter',\n",
       "    'promoted_content': None,\n",
       "    'query': '%23FiorentinaInter',\n",
       "    'tweet_volume': None},\n",
       "   {'name': '#Mogol',\n",
       "    'url': 'http://twitter.com/search?q=%23Mogol',\n",
       "    'promoted_content': None,\n",
       "    'query': '%23Mogol',\n",
       "    'tweet_volume': None},\n",
       "   {'name': '#Cacciari',\n",
       "    'url': 'http://twitter.com/search?q=%23Cacciari',\n",
       "    'promoted_content': None,\n",
       "    'query': '%23Cacciari',\n",
       "    'tweet_volume': None},\n",
       "   {'name': '#PensieriFugaci',\n",
       "    'url': 'http://twitter.com/search?q=%23PensieriFugaci',\n",
       "    'promoted_content': None,\n",
       "    'query': '%23PensieriFugaci',\n",
       "    'tweet_volume': None},\n",
       "   {'name': '#Pioli',\n",
       "    'url': 'http://twitter.com/search?q=%23Pioli',\n",
       "    'promoted_content': None,\n",
       "    'query': '%23Pioli',\n",
       "    'tweet_volume': None},\n",
       "   {'name': '#HAPPYTENDAY',\n",
       "    'url': 'http://twitter.com/search?q=%23HAPPYTENDAY',\n",
       "    'promoted_content': None,\n",
       "    'query': '%23HAPPYTENDAY',\n",
       "    'tweet_volume': 315661},\n",
       "   {'name': '#siae',\n",
       "    'url': 'http://twitter.com/search?q=%23siae',\n",
       "    'promoted_content': None,\n",
       "    'query': '%23siae',\n",
       "    'tweet_volume': None},\n",
       "   {'name': '#SialDirittodiDifesa',\n",
       "    'url': 'http://twitter.com/search?q=%23SialDirittodiDifesa',\n",
       "    'promoted_content': None,\n",
       "    'query': '%23SialDirittodiDifesa',\n",
       "    'tweet_volume': None},\n",
       "   {'name': '#Rozzano',\n",
       "    'url': 'http://twitter.com/search?q=%23Rozzano',\n",
       "    'promoted_content': None,\n",
       "    'query': '%23Rozzano',\n",
       "    'tweet_volume': None},\n",
       "   {'name': '#radiosovranista',\n",
       "    'url': 'http://twitter.com/search?q=%23radiosovranista',\n",
       "    'promoted_content': None,\n",
       "    'query': '%23radiosovranista',\n",
       "    'tweet_volume': None},\n",
       "   {'name': '#amiciditwitter',\n",
       "    'url': 'http://twitter.com/search?q=%23amiciditwitter',\n",
       "    'promoted_content': None,\n",
       "    'query': '%23amiciditwitter',\n",
       "    'tweet_volume': None},\n",
       "   {'name': '#Saccone',\n",
       "    'url': 'http://twitter.com/search?q=%23Saccone',\n",
       "    'promoted_content': None,\n",
       "    'query': '%23Saccone',\n",
       "    'tweet_volume': None},\n",
       "   {'name': '#DdlPillon',\n",
       "    'url': 'http://twitter.com/search?q=%23DdlPillon',\n",
       "    'promoted_content': None,\n",
       "    'query': '%23DdlPillon',\n",
       "    'tweet_volume': None},\n",
       "   {'name': '#tagadala7',\n",
       "    'url': 'http://twitter.com/search?q=%23tagadala7',\n",
       "    'promoted_content': None,\n",
       "    'query': '%23tagadala7',\n",
       "    'tweet_volume': None},\n",
       "   {'name': '#26Feb',\n",
       "    'url': 'http://twitter.com/search?q=%2326Feb',\n",
       "    'promoted_content': None,\n",
       "    'query': '%2326Feb',\n",
       "    'tweet_volume': 97865},\n",
       "   {'name': '#Vinatzer',\n",
       "    'url': 'http://twitter.com/search?q=%23Vinatzer',\n",
       "    'promoted_content': None,\n",
       "    'query': '%23Vinatzer',\n",
       "    'tweet_volume': None},\n",
       "   {'name': '#vienidame',\n",
       "    'url': 'http://twitter.com/search?q=%23vienidame',\n",
       "    'promoted_content': None,\n",
       "    'query': '%23vienidame',\n",
       "    'tweet_volume': None},\n",
       "   {'name': '#FiorentinaAtalanta',\n",
       "    'url': 'http://twitter.com/search?q=%23FiorentinaAtalanta',\n",
       "    'promoted_content': None,\n",
       "    'query': '%23FiorentinaAtalanta',\n",
       "    'tweet_volume': None},\n",
       "   {'name': '#IoVadoAlMuseo',\n",
       "    'url': 'http://twitter.com/search?q=%23IoVadoAlMuseo',\n",
       "    'promoted_content': None,\n",
       "    'query': '%23IoVadoAlMuseo',\n",
       "    'tweet_volume': None},\n",
       "   {'name': '#Vietnam',\n",
       "    'url': 'http://twitter.com/search?q=%23Vietnam',\n",
       "    'promoted_content': None,\n",
       "    'query': '%23Vietnam',\n",
       "    'tweet_volume': None},\n",
       "   {'name': '#InvestInHumanity',\n",
       "    'url': 'http://twitter.com/search?q=%23InvestInHumanity',\n",
       "    'promoted_content': None,\n",
       "    'query': '%23InvestInHumanity',\n",
       "    'tweet_volume': None},\n",
       "   {'name': '#conilverboAMMETTERE',\n",
       "    'url': 'http://twitter.com/search?q=%23conilverboAMMETTERE',\n",
       "    'promoted_content': None,\n",
       "    'query': '%23conilverboAMMETTERE',\n",
       "    'tweet_volume': None},\n",
       "   {'name': '#TalkTalk',\n",
       "    'url': 'http://twitter.com/search?q=%23TalkTalk',\n",
       "    'promoted_content': None,\n",
       "    'query': '%23TalkTalk',\n",
       "    'tweet_volume': 15011},\n",
       "   {'name': '#maratonamentana',\n",
       "    'url': 'http://twitter.com/search?q=%23maratonamentana',\n",
       "    'promoted_content': None,\n",
       "    'query': '%23maratonamentana',\n",
       "    'tweet_volume': None},\n",
       "   {'name': '#Abisso',\n",
       "    'url': 'http://twitter.com/search?q=%23Abisso',\n",
       "    'promoted_content': None,\n",
       "    'query': '%23Abisso',\n",
       "    'tweet_volume': None},\n",
       "   {'name': '#LazioMilan',\n",
       "    'url': 'http://twitter.com/search?q=%23LazioMilan',\n",
       "    'promoted_content': None,\n",
       "    'query': '%23LazioMilan',\n",
       "    'tweet_volume': None},\n",
       "   {'name': '#ATEEZinMilan',\n",
       "    'url': 'http://twitter.com/search?q=%23ATEEZinMilan',\n",
       "    'promoted_content': None,\n",
       "    'query': '%23ATEEZinMilan',\n",
       "    'tweet_volume': None},\n",
       "   {'name': '#Alemanno',\n",
       "    'url': 'http://twitter.com/search?q=%23Alemanno',\n",
       "    'promoted_content': None,\n",
       "    'query': '%23Alemanno',\n",
       "    'tweet_volume': None},\n",
       "   {'name': '#Alligator1stwin',\n",
       "    'url': 'http://twitter.com/search?q=%23Alligator1stwin',\n",
       "    'promoted_content': None,\n",
       "    'query': '%23Alligator1stwin',\n",
       "    'tweet_volume': 201801},\n",
       "   {'name': '#tria',\n",
       "    'url': 'http://twitter.com/search?q=%23tria',\n",
       "    'promoted_content': None,\n",
       "    'query': '%23tria',\n",
       "    'tweet_volume': None},\n",
       "   {'name': '#quartarepubblica',\n",
       "    'url': 'http://twitter.com/search?q=%23quartarepubblica',\n",
       "    'promoted_content': None,\n",
       "    'query': '%23quartarepubblica',\n",
       "    'tweet_volume': None}],\n",
       "  'as_of': '2019-02-26T17:32:25Z',\n",
       "  'created_at': '2019-02-26T17:28:13Z',\n",
       "  'locations': [{'name': 'Turin', 'woeid': 725003}]}]"
      ]
     },
     "execution_count": 224,
     "metadata": {},
     "output_type": "execute_result"
    }
   ],
   "source": [
    "result"
   ]
  },
  {
   "cell_type": "code",
   "execution_count": null,
   "metadata": {},
   "outputs": [],
   "source": []
  },
  {
   "cell_type": "code",
   "execution_count": 80,
   "metadata": {},
   "outputs": [
    {
     "name": "stdout",
     "output_type": "stream",
     "text": [
      "100\n",
      "100 tweets collected.\n"
     ]
    }
   ],
   "source": [
    "statuses=[]\n",
    "print(len(result['statuses']))\n",
    "for status in result['statuses']:\n",
    "    try:\n",
    "        status['query_loc']=search_parameters['geocode']\n",
    "        status['user']['query_loc']=search_parameters['geocode']\n",
    "    except KeyError:\n",
    "        status['query_loc']=search_parameters['bounding_box']\n",
    "        status['user']['query_loc']=search_parameters['bounding_box']\n",
    "    statuses.append(status)\n",
    "    last_result = status\n",
    "# update max_id\n",
    "last_id = int(last_result['id_str']) - 1\n",
    "search_parameters['max_id']=last_id\n",
    "print(len(statuses), \"tweets collected.\")"
   ]
  },
  {
   "cell_type": "code",
   "execution_count": 171,
   "metadata": {},
   "outputs": [
    {
     "data": {
      "text/plain": [
       "<module 'Twitter_scraping' from '/home/eartiges/Lagrange_Git/Twitter_scraping/Twitter_scraping.py'>"
      ]
     },
     "execution_count": 171,
     "metadata": {},
     "output_type": "execute_result"
    }
   ],
   "source": [
    "importlib.reload(scraper)"
   ]
  },
  {
   "cell_type": "code",
   "execution_count": 218,
   "metadata": {},
   "outputs": [
    {
     "name": "stdout",
     "output_type": "stream",
     "text": [
      "queries\n",
      "Starting to query tweets\n",
      "Searching with parameters:  {'q': 'cenisia', 'count': 100, 'max_id': None, 'point_radius': '7.576453909502152 45.00449999999999  100km'}\n",
      "10\n",
      "10 tweets collected.\n"
     ]
    }
   ],
   "source": [
    "print('queries')\n",
    "# Run the queries we want on the grid we choose\n",
    "statuses_all=[]\n",
    "user_loc_dict={}\n",
    "for query in ['cenisia']:\n",
    "    statuses=[]\n",
    "    try:\n",
    "        search_parameters = dict(q=query , count = 100, max_id = last_id, geocode='7.576453909502152 45.00449999999999  100km')\n",
    "        print(\"Starting to query tweets\")\n",
    "        Tweets_tot=scraper.query_by_word(search_parameters, twitter)\n",
    "        statuses+=Tweets_tot\n",
    "    except (ReadTimeoutError, ConnectionError, ConnectionResetError, TwythonRateLimitError,OSError) as exc:\n",
    "        logging.exception(\"message\")\n",
    "        continue        \n",
    "    break\n",
    "    #Tweets_tot contains all the interesting tweets.\n",
    "    Tweets_Tot=[s['id_str'] for s in Tweets_tot]\n",
    "    Tweets_cell=[]\n",
    "    for col_g in grid_str:\n",
    "        Tweets_row=[]\n",
    "        for row_g in col_g:\n",
    "            last_id=None\n",
    "            try:\n",
    "                search_parameters = dict(q=query , count = 100, max_id = last_id, bounding_box=row_g)\n",
    "                print(\"Starting to query tweets\")\n",
    "                Tweets_here=scraper.query_by_word(search_parameters, twitter)\n",
    "                statuses+=Tweets_here\n",
    "            except (ReadTimeoutError, ConnectionError, ConnectionResetError, TwythonRateLimitError,OSError) as exc:\n",
    "                logging.exception(\"message\")\n",
    "                continue        \n",
    "            #Let's keep only the ids that are in the global box but not in the current mask.\n",
    "            Tweets_row.append([s['id_str'] for s in Tweets_tot if s['id_str'] not in Tweets_here])\n",
    "        Tweets_cell.append(Tweets_row)\n",
    "        break"
   ]
  },
  {
   "cell_type": "code",
   "execution_count": 204,
   "metadata": {
    "collapsed": true
   },
   "outputs": [
    {
     "data": {
      "text/plain": [
       "{'created_at': 'Sun Feb 24 17:54:59 +0000 2019',\n",
       " 'id': 1099729418426159104,\n",
       " 'id_str': '1099729418426159104',\n",
       " 'text': 'RT @JuventusFCYouth: Risultati #JuventusYouth\\n📍 #Under 11 - Juventus-Vanchiglia 3-3 (Viani, Gargallo, Giacchino)📍#Under10, Cenisia-Juve 0-5…',\n",
       " 'truncated': False,\n",
       " 'entities': {'hashtags': [{'text': 'JuventusYouth', 'indices': [31, 45]},\n",
       "   {'text': 'Under', 'indices': [48, 54]},\n",
       "   {'text': 'Under10', 'indices': [113, 121]}],\n",
       "  'symbols': [],\n",
       "  'user_mentions': [{'screen_name': 'JuventusFCYouth',\n",
       "    'name': 'JuventusFC Youth',\n",
       "    'id': 770259734083543040,\n",
       "    'id_str': '770259734083543040',\n",
       "    'indices': [3, 19]}],\n",
       "  'urls': []},\n",
       " 'metadata': {'iso_language_code': 'it', 'result_type': 'recent'},\n",
       " 'source': '<a href=\"https://mobile.twitter.com\" rel=\"nofollow\">Twitter Web App</a>',\n",
       " 'in_reply_to_status_id': None,\n",
       " 'in_reply_to_status_id_str': None,\n",
       " 'in_reply_to_user_id': None,\n",
       " 'in_reply_to_user_id_str': None,\n",
       " 'in_reply_to_screen_name': None,\n",
       " 'user': {'id': 966772875641450497,\n",
       "  'id_str': '966772875641450497',\n",
       "  'name': 'francesco',\n",
       "  'screen_name': 'frances69914865',\n",
       "  'location': '',\n",
       "  'description': '',\n",
       "  'url': None,\n",
       "  'entities': {'description': {'urls': []}},\n",
       "  'protected': False,\n",
       "  'followers_count': 163,\n",
       "  'friends_count': 5001,\n",
       "  'listed_count': 1,\n",
       "  'created_at': 'Thu Feb 22 20:33:10 +0000 2018',\n",
       "  'favourites_count': 10388,\n",
       "  'utc_offset': None,\n",
       "  'time_zone': None,\n",
       "  'geo_enabled': False,\n",
       "  'verified': False,\n",
       "  'statuses_count': 9057,\n",
       "  'lang': 'it',\n",
       "  'contributors_enabled': False,\n",
       "  'is_translator': False,\n",
       "  'is_translation_enabled': False,\n",
       "  'profile_background_color': 'F5F8FA',\n",
       "  'profile_background_image_url': None,\n",
       "  'profile_background_image_url_https': None,\n",
       "  'profile_background_tile': False,\n",
       "  'profile_image_url': 'http://pbs.twimg.com/profile_images/1042909599697969152/C7LUJM2b_normal.jpg',\n",
       "  'profile_image_url_https': 'https://pbs.twimg.com/profile_images/1042909599697969152/C7LUJM2b_normal.jpg',\n",
       "  'profile_banner_url': 'https://pbs.twimg.com/profile_banners/966772875641450497/1537484042',\n",
       "  'profile_link_color': '1DA1F2',\n",
       "  'profile_sidebar_border_color': 'C0DEED',\n",
       "  'profile_sidebar_fill_color': 'DDEEF6',\n",
       "  'profile_text_color': '333333',\n",
       "  'profile_use_background_image': True,\n",
       "  'has_extended_profile': True,\n",
       "  'default_profile': True,\n",
       "  'default_profile_image': False,\n",
       "  'following': None,\n",
       "  'follow_request_sent': None,\n",
       "  'notifications': None,\n",
       "  'translator_type': 'none',\n",
       "  'query_loc': '[7.652919382095949 45.00449999999999 7.844083063580444 45.1395]'},\n",
       " 'geo': None,\n",
       " 'coordinates': None,\n",
       " 'place': None,\n",
       " 'contributors': None,\n",
       " 'retweeted_status': {'created_at': 'Sun Feb 24 15:33:12 +0000 2019',\n",
       "  'id': 1099693733572943872,\n",
       "  'id_str': '1099693733572943872',\n",
       "  'text': 'Risultati #JuventusYouth\\n📍 #Under 11 - Juventus-Vanchiglia 3-3 (Viani, Gargallo, Giacchino)📍#Under10, Cenisia-Juve… https://t.co/TVpcgvl7MT',\n",
       "  'truncated': True,\n",
       "  'entities': {'hashtags': [{'text': 'JuventusYouth', 'indices': [10, 24]},\n",
       "    {'text': 'Under', 'indices': [27, 33]},\n",
       "    {'text': 'Under10', 'indices': [92, 100]}],\n",
       "   'symbols': [],\n",
       "   'user_mentions': [],\n",
       "   'urls': [{'url': 'https://t.co/TVpcgvl7MT',\n",
       "     'expanded_url': 'https://twitter.com/i/web/status/1099693733572943872',\n",
       "     'display_url': 'twitter.com/i/web/status/1…',\n",
       "     'indices': [116, 139]}]},\n",
       "  'metadata': {'iso_language_code': 'it', 'result_type': 'recent'},\n",
       "  'source': '<a href=\"https://www.hootsuite.com\" rel=\"nofollow\">Hootsuite Inc.</a>',\n",
       "  'in_reply_to_status_id': None,\n",
       "  'in_reply_to_status_id_str': None,\n",
       "  'in_reply_to_user_id': None,\n",
       "  'in_reply_to_user_id_str': None,\n",
       "  'in_reply_to_screen_name': None,\n",
       "  'user': {'id': 770259734083543040,\n",
       "   'id_str': '770259734083543040',\n",
       "   'name': 'JuventusFC Youth',\n",
       "   'screen_name': 'JuventusFCYouth',\n",
       "   'location': 'Turin, Piedmont',\n",
       "   'description': 'Account Ufficiale delle squadre giovanili della Juventus Football Club seguiteci anche su @Juventusfc e @juventusfcen',\n",
       "   'url': 'https://t.co/vTHifXFea6',\n",
       "   'entities': {'url': {'urls': [{'url': 'https://t.co/vTHifXFea6',\n",
       "       'expanded_url': 'http://www.juventus.com',\n",
       "       'display_url': 'juventus.com',\n",
       "       'indices': [0, 23]}]},\n",
       "    'description': {'urls': []}},\n",
       "   'protected': False,\n",
       "   'followers_count': 28095,\n",
       "   'friends_count': 29,\n",
       "   'listed_count': 152,\n",
       "   'created_at': 'Mon Aug 29 14:00:06 +0000 2016',\n",
       "   'favourites_count': 66,\n",
       "   'utc_offset': None,\n",
       "   'time_zone': None,\n",
       "   'geo_enabled': False,\n",
       "   'verified': True,\n",
       "   'statuses_count': 5083,\n",
       "   'lang': 'en',\n",
       "   'contributors_enabled': False,\n",
       "   'is_translator': False,\n",
       "   'is_translation_enabled': False,\n",
       "   'profile_background_color': 'F5F8FA',\n",
       "   'profile_background_image_url': None,\n",
       "   'profile_background_image_url_https': None,\n",
       "   'profile_background_tile': False,\n",
       "   'profile_image_url': 'http://pbs.twimg.com/profile_images/880913073258811392/ddhQYDD5_normal.jpg',\n",
       "   'profile_image_url_https': 'https://pbs.twimg.com/profile_images/880913073258811392/ddhQYDD5_normal.jpg',\n",
       "   'profile_banner_url': 'https://pbs.twimg.com/profile_banners/770259734083543040/1551032486',\n",
       "   'profile_link_color': '1DA1F2',\n",
       "   'profile_sidebar_border_color': 'C0DEED',\n",
       "   'profile_sidebar_fill_color': 'DDEEF6',\n",
       "   'profile_text_color': '333333',\n",
       "   'profile_use_background_image': True,\n",
       "   'has_extended_profile': False,\n",
       "   'default_profile': True,\n",
       "   'default_profile_image': False,\n",
       "   'following': None,\n",
       "   'follow_request_sent': None,\n",
       "   'notifications': None,\n",
       "   'translator_type': 'none'},\n",
       "  'geo': None,\n",
       "  'coordinates': None,\n",
       "  'place': None,\n",
       "  'contributors': None,\n",
       "  'is_quote_status': False,\n",
       "  'retweet_count': 8,\n",
       "  'favorite_count': 33,\n",
       "  'favorited': False,\n",
       "  'retweeted': False,\n",
       "  'lang': 'it'},\n",
       " 'is_quote_status': False,\n",
       " 'retweet_count': 8,\n",
       " 'favorite_count': 0,\n",
       " 'favorited': False,\n",
       " 'retweeted': False,\n",
       " 'lang': 'it',\n",
       " 'query_loc': '[7.652919382095949 45.00449999999999 7.844083063580444 45.1395]'}"
      ]
     },
     "execution_count": 204,
     "metadata": {},
     "output_type": "execute_result"
    }
   ],
   "source": [
    "Tweets_here[0]"
   ]
  },
  {
   "cell_type": "code",
   "execution_count": 131,
   "metadata": {},
   "outputs": [],
   "source": [
    "Tweet_cell_vf=[[set(t[i]) for t in Tweets_cell] for i in range(len(Tweets_cell[0]))]"
   ]
  },
  {
   "cell_type": "code",
   "execution_count": 132,
   "metadata": {},
   "outputs": [],
   "source": [
    "Tweet_cell_vf=[[set()]+t for t in Tweet_cell_vf]"
   ]
  },
  {
   "cell_type": "code",
   "execution_count": 133,
   "metadata": {},
   "outputs": [],
   "source": [
    "Tweet_cell_vf=[[t[i]-t[i+1] for i in range(len(t)-1)]+t[-1:] for t in Tweet_cell_vf]"
   ]
  },
  {
   "cell_type": "code",
   "execution_count": 138,
   "metadata": {},
   "outputs": [],
   "source": [
    "Tweets_cell_2=[[t[1:][i] for t in Tweet_cell_vf] for i in range(len(Tweet_cell_vf[0][1:]))]"
   ]
  },
  {
   "cell_type": "code",
   "execution_count": null,
   "metadata": {},
   "outputs": [],
   "source": [
    "Tweet_cell_vf=[[set(t[i]) for t in Tweets_cell] for i in range(len(Tweets_cell[0]))]\n",
    "Tweets_cell_vf=[[set()]+t for t in Tweets_cell_vf]\n",
    "Tweets_cell_vf=[[t[i]-t[i+1] for i in range(len(t)-1)]+t[-1:] for t in Tweets_cell_vf]\n",
    "Tweets_cell=[[t[i] for t in Tweet_cells_vf] for i in range(len(Tweets_cell_vf[0]))]"
   ]
  },
  {
   "cell_type": "code",
   "execution_count": 140,
   "metadata": {},
   "outputs": [],
   "source": [
    "dict_id_loc={}\n",
    "for c,col_g in enumerate(grid_str):\n",
    "    for r,row_g in enumerate(col_g):\n",
    "        for id_str in Tweets_cell_2[c][r]:\n",
    "            dict_id_loc[id_str]=[row_g]"
   ]
  },
  {
   "cell_type": "code",
   "execution_count": 210,
   "metadata": {},
   "outputs": [
    {
     "data": {
      "text/plain": [
       "False"
      ]
     },
     "execution_count": 210,
     "metadata": {},
     "output_type": "execute_result"
    }
   ],
   "source": [
    "set(dict_id_loc.keys())==set(Tweets_row[0])"
   ]
  },
  {
   "cell_type": "code",
   "execution_count": null,
   "metadata": {},
   "outputs": [],
   "source": [
    "    statuses_all+=statuses\n",
    "    print('filtering')\n",
    "    # For all the tweets we got, keep only the interesting info\n",
    "    tweets=[]\n",
    "    for status in statuses:\n",
    "        rt = 'retweeted_status' in status\n",
    "        text = status['retweeted_status']['text'] if rt else status['text']\n",
    "        status['geo'] = status['retweeted_status']['geo'] if rt else status['geo']\n",
    "        try:\n",
    "            loc=status['geo']['coordinates'] if status['geo'] else status['query_loc']\n",
    "            loc=','.join([str(i) for i in [loc]])\n",
    "        except KeyError:\n",
    "            loc=status['query_loc']\n",
    "        tweets.append((np.uint64(status['id_str']),\n",
    "                       text,\n",
    "                       rt,\n",
    "                       status['created_at'],\n",
    "                       status['lang'],loc,\n",
    "                       np.uint64(status['user']['id_str'])))\n",
    "\n",
    "    print('making/pickling dataframe')\n",
    "    # Store everything in a dataset and pickle it\n",
    "    df = pd.DataFrame(tweets,\n",
    "                  columns=['status_id', 'text', 'rt', 'created_at', 'lang', 'location','user_id',])\n",
    "    df = df.set_index('status_id')\n",
    "    df.created_at = pd.to_datetime(df.created_at)\n",
    "    df.to_pickle('DF/dataframe_query_{}.pkl'.format(query))\n",
    "\n",
    "    print('list of users')\n",
    "    #Make a list of users and build their spatial profiles\n",
    "    user_loc=[e for e in zip(df.user_id.tolist(), df.location.tolist())]\n",
    "    for e in user_loc:\n",
    "        if not e[0] in user_loc_dict:\n",
    "            user_loc_dict[e[0]]=[e[1]]\n",
    "        else: \n",
    "            user_loc_dict[e[0]].append(e[1])"
   ]
  },
  {
   "cell_type": "code",
   "execution_count": null,
   "metadata": {},
   "outputs": [],
   "source": []
  },
  {
   "cell_type": "code",
   "execution_count": 228,
   "metadata": {},
   "outputs": [],
   "source": [
    "import tweepy\n",
    "\n",
    "auth = tweepy.OAuthHandler(APP_KEY, APP_SECRET)\n",
    "#auth.set_access_token(access_token, access_token_secret)\n",
    "\n",
    "api = tweepy.API(auth)\n",
    "\n",
    "query = 'python'\n",
    "max_tweets = 100\n",
    "searched_tweets = [status for status in tweepy.Cursor(api.search, q=query).items(max_tweets)]"
   ]
  },
  {
   "cell_type": "code",
   "execution_count": 238,
   "metadata": {},
   "outputs": [],
   "source": [
    "bbox=grid_str[0][0]"
   ]
  },
  {
   "cell_type": "code",
   "execution_count": 254,
   "metadata": {},
   "outputs": [],
   "source": [
    "pt_rad='7.576453909502152 45.00449999999999 .1km'"
   ]
  },
  {
   "cell_type": "code",
   "execution_count": 258,
   "metadata": {},
   "outputs": [],
   "source": [
    "A=[s for s in tweepy.Cursor(api.search, q='torino' , bounding_box=bbox).items(10)]"
   ]
  },
  {
   "cell_type": "code",
   "execution_count": 259,
   "metadata": {},
   "outputs": [],
   "source": [
    "B=[s for s in tweepy.Cursor(api.search, q='torino', point_radius=pt_rad).items(10)]\n",
    "C=[s for s in tweepy.Cursor(api.search, q='torino', geocode=pt_rad).items(10)]\n"
   ]
  },
  {
   "cell_type": "code",
   "execution_count": 260,
   "metadata": {},
   "outputs": [
    {
     "data": {
      "text/plain": [
       "True"
      ]
     },
     "execution_count": 260,
     "metadata": {},
     "output_type": "execute_result"
    }
   ],
   "source": [
    "A==B"
   ]
  },
  {
   "cell_type": "code",
   "execution_count": 262,
   "metadata": {},
   "outputs": [
    {
     "data": {
      "text/plain": [
       "False"
      ]
     },
     "execution_count": 262,
     "metadata": {},
     "output_type": "execute_result"
    }
   ],
   "source": [
    "B==C"
   ]
  },
  {
   "cell_type": "code",
   "execution_count": 263,
   "metadata": {},
   "outputs": [
    {
     "data": {
      "text/plain": [
       "16"
      ]
     },
     "execution_count": 263,
     "metadata": {},
     "output_type": "execute_result"
    }
   ],
   "source": [
    "len(['torino','san salvario','nizza','porta nuova','piazza castello','mole','vanchiglia','vanchiglietta','lingotto','san donato','borgo crimea','bordo po','santa rita','mirafiori','crocetta','cenisia'])"
   ]
  },
  {
   "cell_type": "code",
   "execution_count": null,
   "metadata": {},
   "outputs": [],
   "source": []
  }
 ],
 "metadata": {
  "kernelspec": {
   "display_name": "Python 3",
   "language": "python",
   "name": "python3"
  },
  "language_info": {
   "codemirror_mode": {
    "name": "ipython",
    "version": 3
   },
   "file_extension": ".py",
   "mimetype": "text/x-python",
   "name": "python",
   "nbconvert_exporter": "python",
   "pygments_lexer": "ipython3",
   "version": "3.6.8"
  }
 },
 "nbformat": 4,
 "nbformat_minor": 2
}
