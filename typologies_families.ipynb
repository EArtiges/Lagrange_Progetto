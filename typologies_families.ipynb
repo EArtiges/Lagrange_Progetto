{
 "cells": [
  {
   "cell_type": "code",
   "execution_count": 34,
   "metadata": {},
   "outputs": [],
   "source": [
    "import tabula\n",
    "from tabula import read_pdf\n",
    "import os\n",
    "import pandas as pd\n",
    "import tika\n",
    "from tika import parser\n",
    "import string\n",
    "import pickle as pkl\n",
    "import matplotlib.pyplot as plt"
   ]
  },
  {
   "cell_type": "code",
   "execution_count": 35,
   "metadata": {},
   "outputs": [],
   "source": [
    "df_2008=read_pdf('typo_famiglie/D12008.pdf')"
   ]
  },
  {
   "cell_type": "code",
   "execution_count": 36,
   "metadata": {},
   "outputs": [
    {
     "data": {
      "text/html": [
       "<div>\n",
       "<style scoped>\n",
       "    .dataframe tbody tr th:only-of-type {\n",
       "        vertical-align: middle;\n",
       "    }\n",
       "\n",
       "    .dataframe tbody tr th {\n",
       "        vertical-align: top;\n",
       "    }\n",
       "\n",
       "    .dataframe thead th {\n",
       "        text-align: right;\n",
       "    }\n",
       "</style>\n",
       "<table border=\"1\" class=\"dataframe\">\n",
       "  <thead>\n",
       "    <tr style=\"text-align: right;\">\n",
       "      <th></th>\n",
       "      <th>Unnamed: 0</th>\n",
       "      <th>Unnamed: 1</th>\n",
       "      <th>Tipologia famiglia</th>\n",
       "      <th>Unnamed: 3</th>\n",
       "      <th>Unnamed: 4</th>\n",
       "    </tr>\n",
       "  </thead>\n",
       "  <tbody>\n",
       "    <tr>\n",
       "      <th>0</th>\n",
       "      <td>circoscrizione</td>\n",
       "      <td>Coppie con figli</td>\n",
       "      <td>Coppie senza figliMonogenitori</td>\n",
       "      <td>Persone sole</td>\n",
       "      <td>Altre tipologie  Totale famiglie</td>\n",
       "    </tr>\n",
       "    <tr>\n",
       "      <th>1</th>\n",
       "      <td>1</td>\n",
       "      <td>6.851</td>\n",
       "      <td>5.534 3.996</td>\n",
       "      <td>23.777</td>\n",
       "      <td>3.394 43.552</td>\n",
       "    </tr>\n",
       "    <tr>\n",
       "      <th>2</th>\n",
       "      <td>2</td>\n",
       "      <td>11.468</td>\n",
       "      <td>10.553 4.673</td>\n",
       "      <td>19.363</td>\n",
       "      <td>4.093 50.150</td>\n",
       "    </tr>\n",
       "    <tr>\n",
       "      <th>3</th>\n",
       "      <td>3</td>\n",
       "      <td>14.282</td>\n",
       "      <td>11.795 5.674</td>\n",
       "      <td>27.643</td>\n",
       "      <td>5.756 65.150</td>\n",
       "    </tr>\n",
       "    <tr>\n",
       "      <th>4</th>\n",
       "      <td>4</td>\n",
       "      <td>10.366</td>\n",
       "      <td>8.225 4.459</td>\n",
       "      <td>20.742</td>\n",
       "      <td>4.690 48.482</td>\n",
       "    </tr>\n",
       "  </tbody>\n",
       "</table>\n",
       "</div>"
      ],
      "text/plain": [
       "       Unnamed: 0        Unnamed: 1              Tipologia famiglia  \\\n",
       "0  circoscrizione  Coppie con figli  Coppie senza figliMonogenitori   \n",
       "1               1             6.851                     5.534 3.996   \n",
       "2               2            11.468                    10.553 4.673   \n",
       "3               3            14.282                    11.795 5.674   \n",
       "4               4            10.366                     8.225 4.459   \n",
       "\n",
       "     Unnamed: 3                        Unnamed: 4  \n",
       "0  Persone sole  Altre tipologie  Totale famiglie  \n",
       "1        23.777                      3.394 43.552  \n",
       "2        19.363                      4.093 50.150  \n",
       "3        27.643                      5.756 65.150  \n",
       "4        20.742                      4.690 48.482  "
      ]
     },
     "execution_count": 36,
     "metadata": {},
     "output_type": "execute_result"
    }
   ],
   "source": [
    "df_2008.head()"
   ]
  },
  {
   "cell_type": "code",
   "execution_count": null,
   "metadata": {},
   "outputs": [],
   "source": []
  }
 ],
 "metadata": {
  "kernelspec": {
   "display_name": "Python 2",
   "language": "python",
   "name": "python2"
  },
  "language_info": {
   "codemirror_mode": {
    "name": "ipython",
    "version": 2
   },
   "file_extension": ".py",
   "mimetype": "text/x-python",
   "name": "python",
   "nbconvert_exporter": "python",
   "pygments_lexer": "ipython2",
   "version": "2.7.15rc1"
  }
 },
 "nbformat": 4,
 "nbformat_minor": 2
}
